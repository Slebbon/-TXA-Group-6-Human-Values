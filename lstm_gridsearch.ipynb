{
 "cells": [
  {
   "cell_type": "code",
   "execution_count": 2,
   "metadata": {},
   "outputs": [],
   "source": [
    "%store -r input_w2v\n",
    "# from undersampling_w2v.ipynb"
   ]
  },
  {
   "cell_type": "code",
   "execution_count": 3,
   "metadata": {},
   "outputs": [],
   "source": [
    "%store -r w2v_df_labels\n",
    "# from undersampling_w2v.ipynb"
   ]
  },
  {
   "cell_type": "code",
   "execution_count": 4,
   "metadata": {},
   "outputs": [],
   "source": [
    "%store -r y_val\n",
    "# from preprocessing_validation.ipynb"
   ]
  },
  {
   "cell_type": "code",
   "execution_count": 5,
   "metadata": {},
   "outputs": [],
   "source": [
    "%store -r val_w2v_vectors\n",
    "# from preprocessing_validation.ipynb"
   ]
  },
  {
   "cell_type": "code",
   "execution_count": 6,
   "metadata": {},
   "outputs": [
    {
     "data": {
      "text/html": [
       "<div>\n",
       "<style scoped>\n",
       "    .dataframe tbody tr th:only-of-type {\n",
       "        vertical-align: middle;\n",
       "    }\n",
       "\n",
       "    .dataframe tbody tr th {\n",
       "        vertical-align: top;\n",
       "    }\n",
       "\n",
       "    .dataframe thead th {\n",
       "        text-align: right;\n",
       "    }\n",
       "</style>\n",
       "<table border=\"1\" class=\"dataframe\">\n",
       "  <thead>\n",
       "    <tr style=\"text-align: right;\">\n",
       "      <th></th>\n",
       "      <th>Argument ID</th>\n",
       "      <th>Openness to change</th>\n",
       "      <th>Self-Enhancement</th>\n",
       "      <th>Conservation</th>\n",
       "      <th>Self-Transcendence</th>\n",
       "      <th>labels</th>\n",
       "    </tr>\n",
       "  </thead>\n",
       "  <tbody>\n",
       "    <tr>\n",
       "      <th>0</th>\n",
       "      <td>A01002</td>\n",
       "      <td>0</td>\n",
       "      <td>0</td>\n",
       "      <td>1</td>\n",
       "      <td>0</td>\n",
       "      <td>[0.0, 0.0, 1.0, 0.0]</td>\n",
       "    </tr>\n",
       "    <tr>\n",
       "      <th>1</th>\n",
       "      <td>A01005</td>\n",
       "      <td>0</td>\n",
       "      <td>0</td>\n",
       "      <td>1</td>\n",
       "      <td>0</td>\n",
       "      <td>[0.0, 0.0, 1.0, 0.0]</td>\n",
       "    </tr>\n",
       "    <tr>\n",
       "      <th>2</th>\n",
       "      <td>A01006</td>\n",
       "      <td>0</td>\n",
       "      <td>1</td>\n",
       "      <td>1</td>\n",
       "      <td>0</td>\n",
       "      <td>[0.0, 0.5, 0.5, 0.0]</td>\n",
       "    </tr>\n",
       "    <tr>\n",
       "      <th>3</th>\n",
       "      <td>A01007</td>\n",
       "      <td>0</td>\n",
       "      <td>0</td>\n",
       "      <td>2</td>\n",
       "      <td>1</td>\n",
       "      <td>[0.0, 0.0, 0.6666666666666666, 0.3333333333333...</td>\n",
       "    </tr>\n",
       "    <tr>\n",
       "      <th>4</th>\n",
       "      <td>A01008</td>\n",
       "      <td>0</td>\n",
       "      <td>0</td>\n",
       "      <td>1</td>\n",
       "      <td>2</td>\n",
       "      <td>[0.0, 0.0, 0.3333333333333333, 0.6666666666666...</td>\n",
       "    </tr>\n",
       "    <tr>\n",
       "      <th>...</th>\n",
       "      <td>...</td>\n",
       "      <td>...</td>\n",
       "      <td>...</td>\n",
       "      <td>...</td>\n",
       "      <td>...</td>\n",
       "      <td>...</td>\n",
       "    </tr>\n",
       "    <tr>\n",
       "      <th>5383</th>\n",
       "      <td>E08005</td>\n",
       "      <td>0</td>\n",
       "      <td>1</td>\n",
       "      <td>2</td>\n",
       "      <td>1</td>\n",
       "      <td>[0.0, 0.25, 0.5, 0.25]</td>\n",
       "    </tr>\n",
       "    <tr>\n",
       "      <th>5384</th>\n",
       "      <td>E08008</td>\n",
       "      <td>0</td>\n",
       "      <td>1</td>\n",
       "      <td>1</td>\n",
       "      <td>1</td>\n",
       "      <td>[0.0, 0.3333333333333333, 0.3333333333333333, ...</td>\n",
       "    </tr>\n",
       "    <tr>\n",
       "      <th>5385</th>\n",
       "      <td>E08009</td>\n",
       "      <td>0</td>\n",
       "      <td>1</td>\n",
       "      <td>1</td>\n",
       "      <td>0</td>\n",
       "      <td>[0.0, 0.5, 0.5, 0.0]</td>\n",
       "    </tr>\n",
       "    <tr>\n",
       "      <th>5387</th>\n",
       "      <td>E08016</td>\n",
       "      <td>0</td>\n",
       "      <td>2</td>\n",
       "      <td>1</td>\n",
       "      <td>1</td>\n",
       "      <td>[0.0, 0.5, 0.25, 0.25]</td>\n",
       "    </tr>\n",
       "    <tr>\n",
       "      <th>5391</th>\n",
       "      <td>E08020</td>\n",
       "      <td>1</td>\n",
       "      <td>1</td>\n",
       "      <td>1</td>\n",
       "      <td>1</td>\n",
       "      <td>[0.25, 0.25, 0.25, 0.25]</td>\n",
       "    </tr>\n",
       "  </tbody>\n",
       "</table>\n",
       "<p>2770 rows × 6 columns</p>\n",
       "</div>"
      ],
      "text/plain": [
       "     Argument ID  Openness to change  Self-Enhancement  Conservation   \n",
       "0         A01002                   0                 0             1  \\\n",
       "1         A01005                   0                 0             1   \n",
       "2         A01006                   0                 1             1   \n",
       "3         A01007                   0                 0             2   \n",
       "4         A01008                   0                 0             1   \n",
       "...          ...                 ...               ...           ...   \n",
       "5383      E08005                   0                 1             2   \n",
       "5384      E08008                   0                 1             1   \n",
       "5385      E08009                   0                 1             1   \n",
       "5387      E08016                   0                 2             1   \n",
       "5391      E08020                   1                 1             1   \n",
       "\n",
       "      Self-Transcendence                                             labels  \n",
       "0                      0                               [0.0, 0.0, 1.0, 0.0]  \n",
       "1                      0                               [0.0, 0.0, 1.0, 0.0]  \n",
       "2                      0                               [0.0, 0.5, 0.5, 0.0]  \n",
       "3                      1  [0.0, 0.0, 0.6666666666666666, 0.3333333333333...  \n",
       "4                      2  [0.0, 0.0, 0.3333333333333333, 0.6666666666666...  \n",
       "...                  ...                                                ...  \n",
       "5383                   1                             [0.0, 0.25, 0.5, 0.25]  \n",
       "5384                   1  [0.0, 0.3333333333333333, 0.3333333333333333, ...  \n",
       "5385                   0                               [0.0, 0.5, 0.5, 0.0]  \n",
       "5387                   1                             [0.0, 0.5, 0.25, 0.25]  \n",
       "5391                   1                           [0.25, 0.25, 0.25, 0.25]  \n",
       "\n",
       "[2770 rows x 6 columns]"
      ]
     },
     "execution_count": 6,
     "metadata": {},
     "output_type": "execute_result"
    }
   ],
   "source": [
    "w2v_df_labels"
   ]
  },
  {
   "cell_type": "code",
   "execution_count": 7,
   "metadata": {},
   "outputs": [
    {
     "name": "stdout",
     "output_type": "stream",
     "text": [
      "WARNING:tensorflow:From c:\\Users\\cate9\\AppData\\Local\\Programs\\Python\\Python311\\Lib\\site-packages\\keras\\src\\losses.py:2976: The name tf.losses.sparse_softmax_cross_entropy is deprecated. Please use tf.compat.v1.losses.sparse_softmax_cross_entropy instead.\n",
      "\n"
     ]
    }
   ],
   "source": [
    "from keras.models import Sequential\n",
    "from keras.layers import Dense, Dropout, LSTM, Embedding\n",
    "from keras.utils import pad_sequences\n",
    "import numpy as np"
   ]
  },
  {
   "cell_type": "code",
   "execution_count": 8,
   "metadata": {},
   "outputs": [
    {
     "name": "stdout",
     "output_type": "stream",
     "text": [
      "163 147\n"
     ]
    }
   ],
   "source": [
    "# this max_len variable will help pad the train and validation set\n",
    "max_len_val = max(len(arg) for arg in val_w2v_vectors)\n",
    "max_len_train = max(len(arg) for arg in input_w2v)  \n",
    "print(max_len_val, max_len_train)"
   ]
  },
  {
   "cell_type": "code",
   "execution_count": 9,
   "metadata": {},
   "outputs": [],
   "source": [
    "# we choose the highest max_len so that we don't lose information\n",
    "max_len = 163"
   ]
  },
  {
   "cell_type": "code",
   "execution_count": 10,
   "metadata": {},
   "outputs": [],
   "source": [
    "# we pad the train and validation set and create the labels for training\n",
    "X_train = pad_sequences(input_w2v, maxlen=max_len)\n",
    "X_val = pad_sequences(val_w2v_vectors, max_len)\n",
    "train_labels = [row.labels for id, row in w2v_df_labels.iterrows()]"
   ]
  },
  {
   "cell_type": "code",
   "execution_count": 11,
   "metadata": {},
   "outputs": [],
   "source": [
    "# to implement our classification problem (that is multi-class and multi-label) we will use binary crossentropy with a sigmoid activation\n",
    "# function in the last layer: now we transform pur probabilities labels in \"binary\" labels.\n",
    "y_train = []\n",
    "for label in train_labels:\n",
    "    new_label = []\n",
    "    for value in label:\n",
    "        if value > 0:\n",
    "            new_label.append(1)\n",
    "        else:\n",
    "            new_label.append(0)\n",
    "    y_train.append(new_label)\n"
   ]
  },
  {
   "cell_type": "code",
   "execution_count": 12,
   "metadata": {},
   "outputs": [],
   "source": [
    "# we tranform our y_train in an array\n",
    "y_train = np.array(y_train)"
   ]
  },
  {
   "cell_type": "code",
   "execution_count": 13,
   "metadata": {},
   "outputs": [
    {
     "data": {
      "text/plain": [
       "array([[0, 0, 1, 0],\n",
       "       [0, 0, 1, 0],\n",
       "       [0, 1, 1, 0],\n",
       "       ...,\n",
       "       [0, 1, 1, 0],\n",
       "       [0, 1, 1, 1],\n",
       "       [1, 1, 1, 1]])"
      ]
     },
     "execution_count": 13,
     "metadata": {},
     "output_type": "execute_result"
    }
   ],
   "source": [
    "y_train"
   ]
  },
  {
   "cell_type": "code",
   "execution_count": 14,
   "metadata": {},
   "outputs": [
    {
     "name": "stdout",
     "output_type": "stream",
     "text": [
      "150 150\n"
     ]
    }
   ],
   "source": [
    "# we make sure the train and validation set have the same embedding dimension and we set it as the variable \"emb_len\"\n",
    "print(len(X_train[0][0]), len(X_val[0][0]))\n",
    "emb_len = len(X_val[0][0])"
   ]
  },
  {
   "cell_type": "code",
   "execution_count": 15,
   "metadata": {},
   "outputs": [],
   "source": [
    "# using early stopping to make sure we don't overfit the small dataset\n",
    "from keras.callbacks import EarlyStopping\n",
    "\n",
    "# define early stopping callback\n",
    "early_stopping = EarlyStopping(monitor='val_loss', patience=10, verbose=1, mode='min', restore_best_weights=True)"
   ]
  },
  {
   "cell_type": "code",
   "execution_count": 16,
   "metadata": {},
   "outputs": [
    {
     "data": {
      "text/plain": [
       "(1576, 163, 150)"
      ]
     },
     "execution_count": 16,
     "metadata": {},
     "output_type": "execute_result"
    }
   ],
   "source": [
    "X_val.shape"
   ]
  },
  {
   "cell_type": "code",
   "execution_count": 17,
   "metadata": {},
   "outputs": [
    {
     "data": {
      "text/plain": [
       "(1576, 4)"
      ]
     },
     "execution_count": 17,
     "metadata": {},
     "output_type": "execute_result"
    }
   ],
   "source": [
    "y_val.shape"
   ]
  },
  {
   "cell_type": "code",
   "execution_count": 18,
   "metadata": {},
   "outputs": [
    {
     "data": {
      "text/plain": [
       "(2770, 4)"
      ]
     },
     "execution_count": 18,
     "metadata": {},
     "output_type": "execute_result"
    }
   ],
   "source": [
    "y_train.shape"
   ]
  },
  {
   "cell_type": "code",
   "execution_count": 19,
   "metadata": {},
   "outputs": [
    {
     "data": {
      "text/plain": [
       "(2770, 163, 150)"
      ]
     },
     "execution_count": 19,
     "metadata": {},
     "output_type": "execute_result"
    }
   ],
   "source": [
    "X_train.shape"
   ]
  },
  {
   "cell_type": "code",
   "execution_count": 20,
   "metadata": {},
   "outputs": [],
   "source": [
    "from sklearn.metrics import classification_report\n",
    "from sklearn.metrics import accuracy_score"
   ]
  },
  {
   "cell_type": "code",
   "execution_count": 169,
   "metadata": {},
   "outputs": [
    {
     "name": "stdout",
     "output_type": "stream",
     "text": [
      "Epoch 1/10\n",
      "44/44 [==============================] - 29s 573ms/step - loss: 0.6578 - accuracy: 0.0913 - val_loss: 0.6648 - val_accuracy: 0.2989\n",
      "Epoch 2/10\n",
      "44/44 [==============================] - 26s 602ms/step - loss: 0.6290 - accuracy: 0.1787 - val_loss: 0.6676 - val_accuracy: 0.2576\n",
      "Epoch 3/10\n",
      "44/44 [==============================] - 26s 601ms/step - loss: 0.6102 - accuracy: 0.3101 - val_loss: 0.6791 - val_accuracy: 0.2195\n",
      "Epoch 4/10\n",
      "44/44 [==============================] - 27s 612ms/step - loss: 0.5957 - accuracy: 0.3996 - val_loss: 0.6797 - val_accuracy: 0.1466\n",
      "Epoch 5/10\n",
      "44/44 [==============================] - 27s 611ms/step - loss: 2307436032.0000 - accuracy: 0.4329 - val_loss: 17001851387904.0000 - val_accuracy: 0.3896\n",
      "Epoch 6/10\n",
      "44/44 [==============================] - 26s 598ms/step - loss: 116543459426304.0000 - accuracy: 0.3329 - val_loss: 804246912.0000 - val_accuracy: 0.1485\n",
      "Epoch 7/10\n",
      "44/44 [==============================] - 26s 599ms/step - loss: 2323.1443 - accuracy: 0.3227 - val_loss: 216606048.0000 - val_accuracy: 0.1447\n",
      "Epoch 8/10\n",
      "44/44 [==============================] - 26s 600ms/step - loss: 120341.8125 - accuracy: 0.3227 - val_loss: 116235448.0000 - val_accuracy: 0.1504\n",
      "Epoch 9/10\n",
      "44/44 [==============================] - 27s 609ms/step - loss: 2550.0161 - accuracy: 0.3040 - val_loss: 52241568.0000 - val_accuracy: 0.1440\n",
      "Epoch 10/10\n",
      "44/44 [==============================] - 27s 608ms/step - loss: 28230.6074 - accuracy: 0.3076 - val_loss: 148644016.0000 - val_accuracy: 0.1345\n",
      "50/50 [==============================] - 4s 63ms/step\n",
      "              precision    recall  f1-score   support\n",
      "\n",
      "           0       0.38      0.49      0.43       614\n",
      "           1       0.42      0.86      0.56       660\n",
      "           2       0.75      0.99      0.85      1181\n",
      "           3       0.76      0.98      0.86      1204\n",
      "\n",
      "   micro avg       0.61      0.88      0.72      3659\n",
      "   macro avg       0.58      0.83      0.68      3659\n",
      "weighted avg       0.63      0.88      0.73      3659\n",
      " samples avg       0.62      0.88      0.70      3659\n",
      "\n"
     ]
    },
    {
     "data": {
      "text/plain": [
       "0.12436548223350254"
      ]
     },
     "execution_count": 169,
     "metadata": {},
     "output_type": "execute_result"
    }
   ],
   "source": [
    "# we first tried different architectures and found out the one with two layers of LSTM and no layer of dropout was the best one\n",
    "\n",
    "# we create a threshold to convert probabilities given by the sigmoid activation function in binary prediction for our classification report\n",
    "threshold = 0.5\n",
    "\n",
    "model = Sequential()\n",
    "model.add(LSTM(100, dropout= 0.3, return_sequences=True, recurrent_dropout= 0.3, input_shape = (max_len, emb_len), activation=\"relu\"))\n",
    "model.add(Dropout(0.3))\n",
    "model.add(LSTM(50, dropout=0.3, recurrent_dropout=0.3, activation=\"relu\"))\n",
    "model.add(Dropout(0.3))\n",
    "model.add(Dense(4, activation='sigmoid'))\n",
    "\n",
    "# compile the model\n",
    "model.compile(loss='binary_crossentropy', optimizer=\"adam\", metrics=\"accuracy\")\n",
    "\n",
    "history = model.fit(X_train, y_train,\n",
    "        epochs=10,\n",
    "        validation_data=(X_val, y_val),\n",
    "        batch_size=64,\n",
    "        verbose=1,\n",
    "        callbacks=[early_stopping])\n",
    "\n",
    "y_pred_probs = model.predict(X_val)\n",
    "\n",
    "# convert probabilities to binary predictions\n",
    "y_pred_binary = (y_pred_probs > threshold).astype(int)\n",
    "\n",
    "# print classification report\n",
    "print(classification_report(y_val, y_pred_binary))\n",
    "\n",
    "# calculate and return accuracy or other primary metric\n",
    "accuracy = accuracy_score(y_val, y_pred_binary)\n",
    "# this accuracy is less indicative since it computes subset accuracy: the set of labels predicted for a sample must exactly match the corresponding set of labels in y_true.\n",
    "accuracy"
   ]
  },
  {
   "cell_type": "code",
   "execution_count": null,
   "metadata": {},
   "outputs": [
    {
     "data": {
      "image/png": "[encoded data removed]",
      "text/plain": [
       "<Figure size 640x480 with 1 Axes>"
      ]
     },
     "metadata": {},
     "output_type": "display_data"
    }
   ],
   "source": [
    "#plot training loss and validation loss\n",
    "plt.plot(history.history[\"loss\"], label = \"training loss\")\n",
    "plt.plot(history.history[\"val_loss\"], label = \"validation loss\")\n",
    "plt.xlabel(\"Epoch\")\n",
    "plt.ylabel(\"Loss\")\n",
    "plt.title(\"Training and validation loss over epochs\")\n",
    "plt.legend()\n",
    "plt.show()"
   ]
  },
  {
   "cell_type": "code",
   "execution_count": 21,
   "metadata": {},
   "outputs": [],
   "source": [
    "import tensorflow as tf"
   ]
  },
  {
   "cell_type": "code",
   "execution_count": 51,
   "metadata": {},
   "outputs": [],
   "source": [
    "# we first define a function that will be a scheduler and will permit to our learning rate to decrease over epochs\n",
    "def scheduler(epoch, lr):\n",
    "    if epoch < 3:\n",
    "        return lr\n",
    "    else:\n",
    "        return lr * tf.math.exp(-0.1)"
   ]
  },
  {
   "cell_type": "code",
   "execution_count": 23,
   "metadata": {},
   "outputs": [],
   "source": [
    "# we now implement our optimizer, chosen in the gridsearch part\n",
    "from keras.optimizers import Adam"
   ]
  },
  {
   "cell_type": "code",
   "execution_count": 24,
   "metadata": {},
   "outputs": [],
   "source": [
    "from keras.callbacks import LearningRateScheduler"
   ]
  },
  {
   "cell_type": "code",
   "execution_count": 25,
   "metadata": {},
   "outputs": [],
   "source": [
    "gridsearch = {\n",
    "    \"batch\" : [32, 64, 128],\n",
    "    \"dropout\" : [0.3],\n",
    "    \"optimizer\" : [\"adam\", \"adagrad\"],\n",
    "}"
   ]
  },
  {
   "cell_type": "code",
   "execution_count": 388,
   "metadata": {},
   "outputs": [],
   "source": [
    "def train_evaluate_lstm(params, X_train, X_val, y_train, y_val): \n",
    "        \"\"\"Function that trains an lstm model given a list of params, a training set and \n",
    "        a validation set with their respective labels. It returns the mean of the validation\n",
    "        accuracy.\"\"\"\n",
    "\n",
    "        initial_lr = 0.001  # the default starting learning rate for Adam and Adagrad\n",
    " \n",
    "        patience = 10  \n",
    "\n",
    "        # the learning rate scheduler takes as input a function that returns the desired learning rate for a given epoch\n",
    "        lr_scheduler = LearningRateScheduler(lambda epoch: scheduler(epoch, initial_lr)) \n",
    "\n",
    "        early_stopping = EarlyStopping(monitor='val_loss', patience=patience, verbose=1, restore_best_weights=True)\n",
    "\n",
    "        threshold = 0.5\n",
    "\n",
    "        model = Sequential()\n",
    "        model.add(LSTM(100, dropout= 0.3, return_sequences=True, recurrent_dropout= 0.3, input_shape = (max_len, emb_len), activation=\"relu\"))\n",
    "        model.add(Dropout(0.3))\n",
    "        model.add(LSTM(50, dropout=0.3, recurrent_dropout=0.3, activation=\"relu\"))\n",
    "        model.add(Dropout(0.3))\n",
    "        model.add(Dense(4, activation='sigmoid'))\n",
    "\n",
    "        # compile the model\n",
    "        model.compile(loss='binary_crossentropy', optimizer=params[\"optimizer\"], metrics=['accuracy'])\n",
    "\n",
    "        history = model.fit(X_train, y_train,\n",
    "                epochs=50,\n",
    "                validation_data=(X_val, y_val),\n",
    "                batch_size=params[\"batch\"],\n",
    "                verbose=1,\n",
    "                callbacks=[early_stopping, lr_scheduler])\n",
    "\n",
    "        y_pred_probs = model.predict(X_val)\n",
    "\n",
    "        # convert probabilities to binary predictions\n",
    "        y_pred_binary = (y_pred_probs > threshold).astype(int)\n",
    "\n",
    "        # print classification report\n",
    "        print(\"Parameters:\", params)\n",
    "        print(classification_report(y_val, y_pred_binary))\n",
    "\n",
    "        # calculate and return accuracy or other primary metric\n",
    "        accuracy = accuracy_score(y_val, y_pred_binary)\n",
    "        return accuracy"
   ]
  },
  {
   "cell_type": "code",
   "execution_count": 389,
   "metadata": {},
   "outputs": [
    {
     "name": "stderr",
     "output_type": "stream",
     "text": [
      "  0%|          | 0/6 [00:00<?, ?it/s]"
     ]
    },
    {
     "name": "stdout",
     "output_type": "stream",
     "text": [
      "Epoch 1/50\n",
      "87/87 [==============================] - 40s 419ms/step - loss: 0.6389 - accuracy: 0.2509 - val_loss: 0.6784 - val_accuracy: 0.2684 - lr: 0.0010\n",
      "Epoch 2/50\n",
      "87/87 [==============================] - 31s 360ms/step - loss: 0.5999 - accuracy: 0.4108 - val_loss: 0.6856 - val_accuracy: 0.1624 - lr: 0.0010\n",
      "Epoch 3/50\n",
      "87/87 [==============================] - 31s 357ms/step - loss: 0.5845 - accuracy: 0.4671 - val_loss: 0.7064 - val_accuracy: 0.1885 - lr: 0.0010\n",
      "Epoch 4/50\n",
      "87/87 [==============================] - 31s 358ms/step - loss: 0.5691 - accuracy: 0.4610 - val_loss: 0.7106 - val_accuracy: 0.1732 - lr: 0.0010\n",
      "Epoch 5/50\n",
      "87/87 [==============================] - 31s 357ms/step - loss: 0.5598 - accuracy: 0.4747 - val_loss: 0.7120 - val_accuracy: 0.1732 - lr: 0.0010\n",
      "Epoch 6/50\n",
      "87/87 [==============================] - 31s 355ms/step - loss: 0.5393 - accuracy: 0.4726 - val_loss: 0.7260 - val_accuracy: 0.1751 - lr: 0.0010\n",
      "Epoch 7/50\n",
      "87/87 [==============================] - 31s 355ms/step - loss: 0.5304 - accuracy: 0.4415 - val_loss: 0.7345 - val_accuracy: 0.1777 - lr: 9.0484e-04\n",
      "Epoch 8/50\n",
      "87/87 [==============================] - 31s 357ms/step - loss: 0.5232 - accuracy: 0.4455 - val_loss: 0.9113 - val_accuracy: 0.1897 - lr: 9.0484e-04\n",
      "Epoch 9/50\n",
      "87/87 [==============================] - 31s 362ms/step - loss: 0.5095 - accuracy: 0.4791 - val_loss: 0.7848 - val_accuracy: 0.2024 - lr: 9.0484e-04\n",
      "Epoch 10/50\n",
      "87/87 [==============================] - 32s 368ms/step - loss: 0.5015 - accuracy: 0.4679 - val_loss: 0.7448 - val_accuracy: 0.2221 - lr: 9.0484e-04\n",
      "Epoch 11/50\n",
      "87/87 [==============================] - ETA: 0s - loss: 0.4908 - accuracy: 0.4668Restoring model weights from the end of the best epoch: 1.\n",
      "87/87 [==============================] - 32s 367ms/step - loss: 0.4908 - accuracy: 0.4668 - val_loss: 0.7521 - val_accuracy: 0.1815 - lr: 9.0484e-04\n",
      "Epoch 11: early stopping\n",
      "50/50 [==============================] - 6s 113ms/step\n"
     ]
    },
    {
     "name": "stderr",
     "output_type": "stream",
     "text": [
      " 17%|█▋        | 1/6 [05:58<29:54, 358.95s/it]"
     ]
    },
    {
     "name": "stdout",
     "output_type": "stream",
     "text": [
      "Parameters: {'batch': 32, 'dropout': 0.3, 'optimizer': 'adam'}\n",
      "              precision    recall  f1-score   support\n",
      "\n",
      "           0       0.37      0.43      0.40       614\n",
      "           1       0.42      0.93      0.58       660\n",
      "           2       0.75      1.00      0.86      1181\n",
      "           3       0.76      1.00      0.87      1204\n",
      "\n",
      "   micro avg       0.61      0.89      0.73      3659\n",
      "   macro avg       0.58      0.84      0.67      3659\n",
      "weighted avg       0.63      0.89      0.73      3659\n",
      " samples avg       0.62      0.90      0.71      3659\n",
      "\n",
      "Epoch 1/50\n",
      "87/87 [==============================] - 36s 375ms/step - loss: 0.6998 - accuracy: 0.2755 - val_loss: 0.6931 - val_accuracy: 0.2278 - lr: 0.0010\n",
      "Epoch 2/50\n",
      "87/87 [==============================] - 30s 346ms/step - loss: 0.6974 - accuracy: 0.2664 - val_loss: 0.6910 - val_accuracy: 0.2284 - lr: 0.0010\n",
      "Epoch 3/50\n",
      "87/87 [==============================] - 30s 348ms/step - loss: 0.6945 - accuracy: 0.2628 - val_loss: 0.6892 - val_accuracy: 0.2291 - lr: 0.0010\n",
      "Epoch 4/50\n",
      "87/87 [==============================] - 30s 347ms/step - loss: 0.6928 - accuracy: 0.2430 - val_loss: 0.6876 - val_accuracy: 0.2253 - lr: 0.0010\n",
      "Epoch 5/50\n",
      "87/87 [==============================] - 30s 346ms/step - loss: 0.6897 - accuracy: 0.2531 - val_loss: 0.6860 - val_accuracy: 0.2246 - lr: 0.0010\n",
      "Epoch 6/50\n",
      "87/87 [==============================] - 30s 350ms/step - loss: 0.6872 - accuracy: 0.2361 - val_loss: 0.6847 - val_accuracy: 0.2272 - lr: 0.0010\n",
      "Epoch 7/50\n",
      "87/87 [==============================] - 30s 342ms/step - loss: 0.6859 - accuracy: 0.2292 - val_loss: 0.6835 - val_accuracy: 0.2335 - lr: 9.0484e-04\n",
      "Epoch 8/50\n",
      "87/87 [==============================] - 30s 342ms/step - loss: 0.6843 - accuracy: 0.2332 - val_loss: 0.6823 - val_accuracy: 0.2367 - lr: 9.0484e-04\n",
      "Epoch 9/50\n",
      "87/87 [==============================] - 30s 342ms/step - loss: 0.6831 - accuracy: 0.2119 - val_loss: 0.6813 - val_accuracy: 0.2373 - lr: 9.0484e-04\n",
      "Epoch 10/50\n",
      "87/87 [==============================] - 30s 340ms/step - loss: 0.6807 - accuracy: 0.2097 - val_loss: 0.6803 - val_accuracy: 0.2360 - lr: 9.0484e-04\n",
      "Epoch 11/50\n",
      "87/87 [==============================] - 30s 342ms/step - loss: 0.6794 - accuracy: 0.2112 - val_loss: 0.6793 - val_accuracy: 0.2379 - lr: 9.0484e-04\n",
      "Epoch 12/50\n",
      "87/87 [==============================] - 31s 353ms/step - loss: 0.6783 - accuracy: 0.1975 - val_loss: 0.6783 - val_accuracy: 0.2392 - lr: 9.0484e-04\n",
      "Epoch 13/50\n",
      "87/87 [==============================] - 30s 347ms/step - loss: 0.6765 - accuracy: 0.1960 - val_loss: 0.6774 - val_accuracy: 0.2373 - lr: 9.0484e-04\n",
      "Epoch 14/50\n",
      "87/87 [==============================] - 30s 349ms/step - loss: 0.6751 - accuracy: 0.1964 - val_loss: 0.6765 - val_accuracy: 0.2437 - lr: 9.0484e-04\n",
      "Epoch 15/50\n",
      "87/87 [==============================] - 30s 349ms/step - loss: 0.6744 - accuracy: 0.1960 - val_loss: 0.6756 - val_accuracy: 0.2468 - lr: 9.0484e-04\n",
      "Epoch 16/50\n",
      "87/87 [==============================] - 30s 349ms/step - loss: 0.6735 - accuracy: 0.1848 - val_loss: 0.6747 - val_accuracy: 0.2462 - lr: 9.0484e-04\n",
      "Epoch 17/50\n",
      "87/87 [==============================] - 30s 348ms/step - loss: 0.6724 - accuracy: 0.1776 - val_loss: 0.6739 - val_accuracy: 0.2494 - lr: 9.0484e-04\n",
      "Epoch 18/50\n",
      "87/87 [==============================] - 30s 349ms/step - loss: 0.6701 - accuracy: 0.1708 - val_loss: 0.6731 - val_accuracy: 0.2494 - lr: 9.0484e-04\n",
      "Epoch 19/50\n",
      "87/87 [==============================] - 30s 348ms/step - loss: 0.6677 - accuracy: 0.1686 - val_loss: 0.6723 - val_accuracy: 0.2513 - lr: 9.0484e-04\n",
      "Epoch 20/50\n",
      "87/87 [==============================] - 30s 351ms/step - loss: 0.6693 - accuracy: 0.1646 - val_loss: 0.6716 - val_accuracy: 0.2500 - lr: 9.0484e-04\n",
      "Epoch 21/50\n",
      "87/87 [==============================] - 31s 357ms/step - loss: 0.6670 - accuracy: 0.1581 - val_loss: 0.6708 - val_accuracy: 0.2513 - lr: 9.0484e-04\n",
      "Epoch 22/50\n",
      "87/87 [==============================] - 31s 360ms/step - loss: 0.6662 - accuracy: 0.1643 - val_loss: 0.6701 - val_accuracy: 0.2532 - lr: 9.0484e-04\n",
      "Epoch 23/50\n",
      "87/87 [==============================] - 31s 355ms/step - loss: 0.6646 - accuracy: 0.1339 - val_loss: 0.6694 - val_accuracy: 0.2525 - lr: 9.0484e-04\n",
      "Epoch 24/50\n",
      "87/87 [==============================] - 31s 356ms/step - loss: 0.6644 - accuracy: 0.1505 - val_loss: 0.6688 - val_accuracy: 0.2532 - lr: 9.0484e-04\n",
      "Epoch 25/50\n",
      "87/87 [==============================] - 31s 357ms/step - loss: 0.6619 - accuracy: 0.1523 - val_loss: 0.6681 - val_accuracy: 0.2557 - lr: 9.0484e-04\n",
      "Epoch 26/50\n",
      "87/87 [==============================] - 31s 356ms/step - loss: 0.6632 - accuracy: 0.1444 - val_loss: 0.6675 - val_accuracy: 0.2576 - lr: 9.0484e-04\n",
      "Epoch 27/50\n",
      "87/87 [==============================] - 31s 356ms/step - loss: 0.6604 - accuracy: 0.1466 - val_loss: 0.6669 - val_accuracy: 0.2589 - lr: 9.0484e-04\n",
      "Epoch 28/50\n",
      "87/87 [==============================] - 31s 357ms/step - loss: 0.6605 - accuracy: 0.1245 - val_loss: 0.6663 - val_accuracy: 0.2576 - lr: 9.0484e-04\n",
      "Epoch 29/50\n",
      "87/87 [==============================] - 31s 358ms/step - loss: 0.6601 - accuracy: 0.1235 - val_loss: 0.6658 - val_accuracy: 0.2563 - lr: 9.0484e-04\n",
      "Epoch 30/50\n",
      "87/87 [==============================] - 31s 357ms/step - loss: 0.6578 - accuracy: 0.1318 - val_loss: 0.6653 - val_accuracy: 0.2544 - lr: 9.0484e-04\n",
      "Epoch 31/50\n",
      "87/87 [==============================] - 31s 357ms/step - loss: 0.6586 - accuracy: 0.1256 - val_loss: 0.6648 - val_accuracy: 0.2557 - lr: 9.0484e-04\n",
      "Epoch 32/50\n",
      "87/87 [==============================] - 31s 356ms/step - loss: 0.6570 - accuracy: 0.1321 - val_loss: 0.6643 - val_accuracy: 0.2563 - lr: 9.0484e-04\n",
      "Epoch 33/50\n",
      "87/87 [==============================] - 30s 351ms/step - loss: 0.6562 - accuracy: 0.1220 - val_loss: 0.6639 - val_accuracy: 0.2570 - lr: 9.0484e-04\n",
      "Epoch 34/50\n",
      "87/87 [==============================] - 30s 349ms/step - loss: 0.6558 - accuracy: 0.1137 - val_loss: 0.6635 - val_accuracy: 0.2582 - lr: 9.0484e-04\n",
      "Epoch 35/50\n",
      "87/87 [==============================] - 31s 357ms/step - loss: 0.6544 - accuracy: 0.1152 - val_loss: 0.6631 - val_accuracy: 0.2582 - lr: 9.0484e-04\n",
      "Epoch 36/50\n",
      "87/87 [==============================] - 31s 357ms/step - loss: 0.6547 - accuracy: 0.1116 - val_loss: 0.6628 - val_accuracy: 0.2576 - lr: 9.0484e-04\n",
      "Epoch 37/50\n",
      "87/87 [==============================] - 30s 350ms/step - loss: 0.6547 - accuracy: 0.1119 - val_loss: 0.6624 - val_accuracy: 0.2576 - lr: 9.0484e-04\n",
      "Epoch 38/50\n",
      "87/87 [==============================] - 30s 349ms/step - loss: 0.6539 - accuracy: 0.1144 - val_loss: 0.6621 - val_accuracy: 0.2595 - lr: 9.0484e-04\n",
      "Epoch 39/50\n",
      "87/87 [==============================] - 30s 349ms/step - loss: 0.6531 - accuracy: 0.1087 - val_loss: 0.6619 - val_accuracy: 0.2602 - lr: 9.0484e-04\n",
      "Epoch 40/50\n",
      "87/87 [==============================] - 30s 350ms/step - loss: 0.6522 - accuracy: 0.1108 - val_loss: 0.6617 - val_accuracy: 0.2627 - lr: 9.0484e-04\n",
      "Epoch 41/50\n",
      "87/87 [==============================] - 30s 350ms/step - loss: 0.6518 - accuracy: 0.1072 - val_loss: 0.6614 - val_accuracy: 0.2640 - lr: 9.0484e-04\n",
      "Epoch 42/50\n",
      "87/87 [==============================] - 30s 350ms/step - loss: 0.6502 - accuracy: 0.1108 - val_loss: 0.6612 - val_accuracy: 0.2646 - lr: 9.0484e-04\n",
      "Epoch 43/50\n",
      "87/87 [==============================] - 31s 354ms/step - loss: 0.6519 - accuracy: 0.1011 - val_loss: 0.6610 - val_accuracy: 0.2646 - lr: 9.0484e-04\n",
      "Epoch 44/50\n",
      "87/87 [==============================] - 31s 356ms/step - loss: 0.6511 - accuracy: 0.1079 - val_loss: 0.6609 - val_accuracy: 0.2659 - lr: 9.0484e-04\n",
      "Epoch 45/50\n",
      "87/87 [==============================] - 31s 356ms/step - loss: 0.6505 - accuracy: 0.1011 - val_loss: 0.6607 - val_accuracy: 0.2690 - lr: 9.0484e-04\n",
      "Epoch 46/50\n",
      "87/87 [==============================] - 31s 358ms/step - loss: 0.6505 - accuracy: 0.1011 - val_loss: 0.6606 - val_accuracy: 0.2690 - lr: 9.0484e-04\n",
      "Epoch 47/50\n",
      "87/87 [==============================] - 31s 356ms/step - loss: 0.6498 - accuracy: 0.0989 - val_loss: 0.6605 - val_accuracy: 0.2703 - lr: 9.0484e-04\n",
      "Epoch 48/50\n",
      "87/87 [==============================] - 31s 355ms/step - loss: 0.6486 - accuracy: 0.0978 - val_loss: 0.6605 - val_accuracy: 0.2703 - lr: 9.0484e-04\n",
      "Epoch 49/50\n",
      "87/87 [==============================] - 31s 355ms/step - loss: 0.6496 - accuracy: 0.0996 - val_loss: 0.6604 - val_accuracy: 0.2703 - lr: 9.0484e-04\n",
      "Epoch 50/50\n",
      "87/87 [==============================] - 31s 354ms/step - loss: 0.6486 - accuracy: 0.1000 - val_loss: 0.6603 - val_accuracy: 0.2709 - lr: 9.0484e-04\n",
      "50/50 [==============================] - 6s 116ms/step\n"
     ]
    },
    {
     "name": "stderr",
     "output_type": "stream",
     "text": [
      " 33%|███▎      | 2/6 [31:37<1:10:11, 1052.76s/it]"
     ]
    },
    {
     "name": "stdout",
     "output_type": "stream",
     "text": [
      "Parameters: {'batch': 32, 'dropout': 0.3, 'optimizer': 'adagrad'}\n",
      "              precision    recall  f1-score   support\n",
      "\n",
      "           0       0.39      1.00      0.56       614\n",
      "           1       0.42      1.00      0.59       660\n",
      "           2       0.75      1.00      0.86      1181\n",
      "           3       0.76      1.00      0.87      1204\n",
      "\n",
      "   micro avg       0.58      1.00      0.73      3659\n",
      "   macro avg       0.58      1.00      0.72      3659\n",
      "weighted avg       0.63      1.00      0.76      3659\n",
      " samples avg       0.58      1.00      0.71      3659\n",
      "\n",
      "Epoch 1/50\n",
      "44/44 [==============================] - 42s 873ms/step - loss: 0.6760 - accuracy: 0.1560 - val_loss: 0.6723 - val_accuracy: 0.2627 - lr: 0.0010\n",
      "Epoch 2/50\n",
      "44/44 [==============================] - 39s 894ms/step - loss: 0.6488 - accuracy: 0.1097 - val_loss: 0.6685 - val_accuracy: 0.2367 - lr: 0.0010\n",
      "Epoch 3/50\n",
      "44/44 [==============================] - 39s 892ms/step - loss: 0.6454 - accuracy: 0.1069 - val_loss: 0.6663 - val_accuracy: 0.2291 - lr: 0.0010\n",
      "Epoch 4/50\n",
      "44/44 [==============================] - 39s 890ms/step - loss: 0.6430 - accuracy: 0.0848 - val_loss: 0.6646 - val_accuracy: 0.2329 - lr: 0.0010\n",
      "Epoch 5/50\n",
      "44/44 [==============================] - 39s 887ms/step - loss: 0.6408 - accuracy: 0.0884 - val_loss: 0.6631 - val_accuracy: 0.2088 - lr: 0.0010\n",
      "Epoch 6/50\n",
      "44/44 [==============================] - 39s 891ms/step - loss: 0.6409 - accuracy: 0.0744 - val_loss: 0.6630 - val_accuracy: 0.2043 - lr: 0.0010\n",
      "Epoch 7/50\n",
      "44/44 [==============================] - 39s 891ms/step - loss: 0.6393 - accuracy: 0.0877 - val_loss: 0.6627 - val_accuracy: 0.2024 - lr: 9.0484e-04\n",
      "Epoch 8/50\n",
      "44/44 [==============================] - 39s 892ms/step - loss: 0.6382 - accuracy: 0.0852 - val_loss: 0.6625 - val_accuracy: 0.2024 - lr: 9.0484e-04\n",
      "Epoch 9/50\n",
      "44/44 [==============================] - 39s 896ms/step - loss: 0.6389 - accuracy: 0.0866 - val_loss: 0.6621 - val_accuracy: 0.1834 - lr: 9.0484e-04\n",
      "Epoch 10/50\n",
      "44/44 [==============================] - 39s 897ms/step - loss: 0.6401 - accuracy: 0.0910 - val_loss: 0.6626 - val_accuracy: 0.1865 - lr: 9.0484e-04\n",
      "Epoch 11/50\n",
      "44/44 [==============================] - 39s 894ms/step - loss: 0.6374 - accuracy: 0.0924 - val_loss: 0.6628 - val_accuracy: 0.2024 - lr: 9.0484e-04\n",
      "Epoch 12/50\n",
      "44/44 [==============================] - 40s 912ms/step - loss: 0.6385 - accuracy: 0.0913 - val_loss: 0.6623 - val_accuracy: 0.2069 - lr: 9.0484e-04\n",
      "Epoch 13/50\n",
      "44/44 [==============================] - 40s 911ms/step - loss: 0.6374 - accuracy: 0.0935 - val_loss: 0.6631 - val_accuracy: 0.2049 - lr: 9.0484e-04\n",
      "Epoch 14/50\n",
      "44/44 [==============================] - 39s 886ms/step - loss: 0.6374 - accuracy: 0.1004 - val_loss: 0.6626 - val_accuracy: 0.1929 - lr: 9.0484e-04\n",
      "Epoch 15/50\n",
      "44/44 [==============================] - 39s 878ms/step - loss: 0.6374 - accuracy: 0.1025 - val_loss: 0.6626 - val_accuracy: 0.2100 - lr: 9.0484e-04\n",
      "Epoch 16/50\n",
      "44/44 [==============================] - 38s 877ms/step - loss: 0.6353 - accuracy: 0.0975 - val_loss: 0.6628 - val_accuracy: 0.2094 - lr: 9.0484e-04\n",
      "Epoch 17/50\n",
      "44/44 [==============================] - 39s 879ms/step - loss: 0.6373 - accuracy: 0.1040 - val_loss: 0.6627 - val_accuracy: 0.2056 - lr: 9.0484e-04\n",
      "Epoch 18/50\n",
      "44/44 [==============================] - 39s 880ms/step - loss: 0.6359 - accuracy: 0.1184 - val_loss: 0.6634 - val_accuracy: 0.2011 - lr: 9.0484e-04\n",
      "Epoch 19/50\n",
      "44/44 [==============================] - ETA: 0s - loss: 0.6366 - accuracy: 0.1242Restoring model weights from the end of the best epoch: 9.\n",
      "44/44 [==============================] - 39s 879ms/step - loss: 0.6366 - accuracy: 0.1242 - val_loss: 0.6641 - val_accuracy: 0.2088 - lr: 9.0484e-04\n",
      "Epoch 19: early stopping\n",
      "50/50 [==============================] - 7s 140ms/step\n",
      "Parameters: {'batch': 64, 'dropout': 0.3, 'optimizer': 'adam'}\n",
      "              precision    recall  f1-score   support\n",
      "\n",
      "           0       0.39      1.00      0.56       614\n",
      "           1       0.42      1.00      0.59       660\n",
      "           2       0.75      1.00      0.86      1181\n",
      "           3       0.76      1.00      0.87      1204\n",
      "\n",
      "   micro avg       0.58      1.00      0.73      3659\n",
      "   macro avg       0.58      1.00      0.72      3659\n",
      "weighted avg       0.63      1.00      0.76      3659\n",
      " samples avg       0.58      1.00      0.71      3659\n",
      "\n"
     ]
    },
    {
     "name": "stderr",
     "output_type": "stream",
     "text": [
      " 50%|█████     | 3/6 [44:11<45:48, 916.21s/it]   "
     ]
    },
    {
     "name": "stdout",
     "output_type": "stream",
     "text": [
      "Epoch 1/50\n",
      "44/44 [==============================] - 44s 925ms/step - loss: 0.6858 - accuracy: 0.3155 - val_loss: 0.6931 - val_accuracy: 0.3020 - lr: 0.0010\n",
      "Epoch 2/50\n",
      "44/44 [==============================] - 43s 984ms/step - loss: 0.6847 - accuracy: 0.3116 - val_loss: 0.6923 - val_accuracy: 0.2963 - lr: 0.0010\n",
      "Epoch 3/50\n",
      "44/44 [==============================] - 43s 989ms/step - loss: 0.6823 - accuracy: 0.3191 - val_loss: 0.6916 - val_accuracy: 0.2906 - lr: 0.0010\n",
      "Epoch 4/50\n",
      "44/44 [==============================] - 43s 990ms/step - loss: 0.6828 - accuracy: 0.3173 - val_loss: 0.6909 - val_accuracy: 0.2881 - lr: 0.0010\n",
      "Epoch 5/50\n",
      "44/44 [==============================] - 43s 990ms/step - loss: 0.6815 - accuracy: 0.3051 - val_loss: 0.6902 - val_accuracy: 0.2849 - lr: 0.0010\n",
      "Epoch 6/50\n",
      "44/44 [==============================] - 44s 996ms/step - loss: 0.6805 - accuracy: 0.3022 - val_loss: 0.6896 - val_accuracy: 0.2824 - lr: 0.0010\n",
      "Epoch 7/50\n",
      "44/44 [==============================] - 44s 992ms/step - loss: 0.6793 - accuracy: 0.3097 - val_loss: 0.6891 - val_accuracy: 0.2760 - lr: 9.0484e-04\n",
      "Epoch 8/50\n",
      "44/44 [==============================] - 44s 996ms/step - loss: 0.6792 - accuracy: 0.3022 - val_loss: 0.6886 - val_accuracy: 0.2728 - lr: 9.0484e-04\n",
      "Epoch 9/50\n",
      "44/44 [==============================] - 44s 992ms/step - loss: 0.6785 - accuracy: 0.2924 - val_loss: 0.6881 - val_accuracy: 0.2684 - lr: 9.0484e-04\n",
      "Epoch 10/50\n",
      "44/44 [==============================] - 44s 995ms/step - loss: 0.6767 - accuracy: 0.2906 - val_loss: 0.6876 - val_accuracy: 0.2716 - lr: 9.0484e-04\n",
      "Epoch 11/50\n",
      "44/44 [==============================] - 44s 994ms/step - loss: 0.6766 - accuracy: 0.2787 - val_loss: 0.6871 - val_accuracy: 0.2716 - lr: 9.0484e-04\n",
      "Epoch 12/50\n",
      "44/44 [==============================] - 44s 992ms/step - loss: 0.6758 - accuracy: 0.2838 - val_loss: 0.6867 - val_accuracy: 0.2665 - lr: 9.0484e-04\n",
      "Epoch 13/50\n",
      "44/44 [==============================] - 43s 990ms/step - loss: 0.6759 - accuracy: 0.2859 - val_loss: 0.6862 - val_accuracy: 0.2659 - lr: 9.0484e-04\n",
      "Epoch 14/50\n",
      "44/44 [==============================] - 44s 994ms/step - loss: 0.6748 - accuracy: 0.2718 - val_loss: 0.6858 - val_accuracy: 0.2646 - lr: 9.0484e-04\n",
      "Epoch 15/50\n",
      "44/44 [==============================] - 43s 988ms/step - loss: 0.6746 - accuracy: 0.2491 - val_loss: 0.6853 - val_accuracy: 0.2614 - lr: 9.0484e-04\n",
      "Epoch 16/50\n",
      "44/44 [==============================] - 43s 987ms/step - loss: 0.6732 - accuracy: 0.2708 - val_loss: 0.6849 - val_accuracy: 0.2614 - lr: 9.0484e-04\n",
      "Epoch 17/50\n",
      "44/44 [==============================] - 43s 988ms/step - loss: 0.6734 - accuracy: 0.2635 - val_loss: 0.6845 - val_accuracy: 0.2608 - lr: 9.0484e-04\n",
      "Epoch 18/50\n",
      "44/44 [==============================] - 43s 990ms/step - loss: 0.6721 - accuracy: 0.2646 - val_loss: 0.6841 - val_accuracy: 0.2602 - lr: 9.0484e-04\n",
      "Epoch 19/50\n",
      "44/44 [==============================] - 43s 989ms/step - loss: 0.6718 - accuracy: 0.2588 - val_loss: 0.6837 - val_accuracy: 0.2582 - lr: 9.0484e-04\n",
      "Epoch 20/50\n",
      "44/44 [==============================] - 43s 990ms/step - loss: 0.6703 - accuracy: 0.2531 - val_loss: 0.6833 - val_accuracy: 0.2551 - lr: 9.0484e-04\n",
      "Epoch 21/50\n",
      "44/44 [==============================] - 43s 988ms/step - loss: 0.6707 - accuracy: 0.2534 - val_loss: 0.6829 - val_accuracy: 0.2532 - lr: 9.0484e-04\n",
      "Epoch 22/50\n",
      "44/44 [==============================] - 43s 988ms/step - loss: 0.6708 - accuracy: 0.2545 - val_loss: 0.6825 - val_accuracy: 0.2513 - lr: 9.0484e-04\n",
      "Epoch 23/50\n",
      "44/44 [==============================] - 43s 991ms/step - loss: 0.6693 - accuracy: 0.2469 - val_loss: 0.6822 - val_accuracy: 0.2475 - lr: 9.0484e-04\n",
      "Epoch 24/50\n",
      "44/44 [==============================] - 43s 988ms/step - loss: 0.6693 - accuracy: 0.2451 - val_loss: 0.6818 - val_accuracy: 0.2475 - lr: 9.0484e-04\n",
      "Epoch 25/50\n",
      "44/44 [==============================] - 43s 990ms/step - loss: 0.6690 - accuracy: 0.2433 - val_loss: 0.6814 - val_accuracy: 0.2462 - lr: 9.0484e-04\n",
      "Epoch 26/50\n",
      "44/44 [==============================] - 43s 989ms/step - loss: 0.6676 - accuracy: 0.2361 - val_loss: 0.6811 - val_accuracy: 0.2424 - lr: 9.0484e-04\n",
      "Epoch 27/50\n",
      "44/44 [==============================] - 43s 990ms/step - loss: 0.6672 - accuracy: 0.2292 - val_loss: 0.6807 - val_accuracy: 0.2418 - lr: 9.0484e-04\n",
      "Epoch 28/50\n",
      "44/44 [==============================] - 43s 991ms/step - loss: 0.6674 - accuracy: 0.2144 - val_loss: 0.6804 - val_accuracy: 0.2405 - lr: 9.0484e-04\n",
      "Epoch 29/50\n",
      "44/44 [==============================] - 43s 988ms/step - loss: 0.6662 - accuracy: 0.2264 - val_loss: 0.6800 - val_accuracy: 0.2405 - lr: 9.0484e-04\n",
      "Epoch 30/50\n",
      "44/44 [==============================] - 43s 990ms/step - loss: 0.6665 - accuracy: 0.2047 - val_loss: 0.6797 - val_accuracy: 0.2386 - lr: 9.0484e-04\n",
      "Epoch 31/50\n",
      "44/44 [==============================] - 43s 991ms/step - loss: 0.6655 - accuracy: 0.2245 - val_loss: 0.6793 - val_accuracy: 0.2373 - lr: 9.0484e-04\n",
      "Epoch 32/50\n",
      "44/44 [==============================] - 43s 990ms/step - loss: 0.6650 - accuracy: 0.2329 - val_loss: 0.6789 - val_accuracy: 0.2373 - lr: 9.0484e-04\n",
      "Epoch 33/50\n",
      "44/44 [==============================] - 44s 992ms/step - loss: 0.6642 - accuracy: 0.2152 - val_loss: 0.6786 - val_accuracy: 0.2367 - lr: 9.0484e-04\n",
      "Epoch 34/50\n",
      "44/44 [==============================] - 43s 989ms/step - loss: 0.6638 - accuracy: 0.2224 - val_loss: 0.6783 - val_accuracy: 0.2367 - lr: 9.0484e-04\n",
      "Epoch 35/50\n",
      "44/44 [==============================] - 44s 1s/step - loss: 0.6633 - accuracy: 0.2191 - val_loss: 0.6780 - val_accuracy: 0.2360 - lr: 9.0484e-04\n",
      "Epoch 36/50\n",
      "44/44 [==============================] - 44s 996ms/step - loss: 0.6625 - accuracy: 0.2004 - val_loss: 0.6776 - val_accuracy: 0.2329 - lr: 9.0484e-04\n",
      "Epoch 37/50\n",
      "44/44 [==============================] - 44s 996ms/step - loss: 0.6619 - accuracy: 0.2022 - val_loss: 0.6773 - val_accuracy: 0.2316 - lr: 9.0484e-04\n",
      "Epoch 38/50\n",
      "44/44 [==============================] - 43s 990ms/step - loss: 0.6611 - accuracy: 0.2065 - val_loss: 0.6770 - val_accuracy: 0.2310 - lr: 9.0484e-04\n",
      "Epoch 39/50\n",
      "44/44 [==============================] - 43s 988ms/step - loss: 0.6612 - accuracy: 0.1982 - val_loss: 0.6766 - val_accuracy: 0.2322 - lr: 9.0484e-04\n",
      "Epoch 40/50\n",
      "44/44 [==============================] - 43s 988ms/step - loss: 0.6612 - accuracy: 0.1975 - val_loss: 0.6763 - val_accuracy: 0.2322 - lr: 9.0484e-04\n",
      "Epoch 41/50\n",
      "44/44 [==============================] - 44s 993ms/step - loss: 0.6609 - accuracy: 0.1877 - val_loss: 0.6760 - val_accuracy: 0.2341 - lr: 9.0484e-04\n",
      "Epoch 42/50\n",
      "44/44 [==============================] - 43s 989ms/step - loss: 0.6605 - accuracy: 0.1971 - val_loss: 0.6757 - val_accuracy: 0.2360 - lr: 9.0484e-04\n",
      "Epoch 43/50\n",
      "44/44 [==============================] - 44s 992ms/step - loss: 0.6600 - accuracy: 0.1975 - val_loss: 0.6754 - val_accuracy: 0.2348 - lr: 9.0484e-04\n",
      "Epoch 44/50\n",
      "44/44 [==============================] - 43s 989ms/step - loss: 0.6592 - accuracy: 0.1870 - val_loss: 0.6752 - val_accuracy: 0.2354 - lr: 9.0484e-04\n",
      "Epoch 45/50\n",
      "44/44 [==============================] - 43s 991ms/step - loss: 0.6583 - accuracy: 0.1975 - val_loss: 0.6749 - val_accuracy: 0.2360 - lr: 9.0484e-04\n",
      "Epoch 46/50\n",
      "44/44 [==============================] - 44s 995ms/step - loss: 0.6577 - accuracy: 0.1848 - val_loss: 0.6746 - val_accuracy: 0.2316 - lr: 9.0484e-04\n",
      "Epoch 47/50\n",
      "44/44 [==============================] - 44s 992ms/step - loss: 0.6579 - accuracy: 0.1852 - val_loss: 0.6743 - val_accuracy: 0.2341 - lr: 9.0484e-04\n",
      "Epoch 48/50\n",
      "44/44 [==============================] - 44s 993ms/step - loss: 0.6572 - accuracy: 0.1780 - val_loss: 0.6740 - val_accuracy: 0.2335 - lr: 9.0484e-04\n",
      "Epoch 49/50\n",
      "44/44 [==============================] - 44s 993ms/step - loss: 0.6572 - accuracy: 0.1664 - val_loss: 0.6738 - val_accuracy: 0.2341 - lr: 9.0484e-04\n",
      "Epoch 50/50\n",
      "44/44 [==============================] - 44s 995ms/step - loss: 0.6567 - accuracy: 0.1690 - val_loss: 0.6735 - val_accuracy: 0.2354 - lr: 9.0484e-04\n",
      "50/50 [==============================] - 8s 159ms/step\n"
     ]
    },
    {
     "name": "stderr",
     "output_type": "stream",
     "text": [
      " 67%|██████▋   | 4/6 [1:20:35<47:13, 1416.94s/it]"
     ]
    },
    {
     "name": "stdout",
     "output_type": "stream",
     "text": [
      "Parameters: {'batch': 64, 'dropout': 0.3, 'optimizer': 'adagrad'}\n",
      "              precision    recall  f1-score   support\n",
      "\n",
      "           0       0.39      1.00      0.56       614\n",
      "           1       0.42      1.00      0.59       660\n",
      "           2       0.75      1.00      0.86      1181\n",
      "           3       0.76      1.00      0.87      1204\n",
      "\n",
      "   micro avg       0.58      1.00      0.73      3659\n",
      "   macro avg       0.58      1.00      0.72      3659\n",
      "weighted avg       0.63      1.00      0.76      3659\n",
      " samples avg       0.58      1.00      0.71      3659\n",
      "\n",
      "Epoch 1/50\n",
      "22/22 [==============================] - 56s 2s/step - loss: 0.6542 - accuracy: 0.1422 - val_loss: 0.6682 - val_accuracy: 0.1929 - lr: 0.0010\n",
      "Epoch 2/50\n",
      "22/22 [==============================] - 53s 2s/step - loss: 0.6187 - accuracy: 0.2892 - val_loss: 0.6783 - val_accuracy: 0.2405 - lr: 0.0010\n",
      "Epoch 3/50\n",
      "22/22 [==============================] - 52s 2s/step - loss: 0.6500 - accuracy: 0.3321 - val_loss: 0.6802 - val_accuracy: 0.1796 - lr: 0.0010\n",
      "Epoch 4/50\n",
      "22/22 [==============================] - 52s 2s/step - loss: 0.6171 - accuracy: 0.3722 - val_loss: 0.6790 - val_accuracy: 0.1688 - lr: 0.0010\n",
      "Epoch 5/50\n",
      "22/22 [==============================] - 53s 2s/step - loss: 0.6164 - accuracy: 0.3523 - val_loss: 0.6766 - val_accuracy: 0.1764 - lr: 0.0010\n",
      "Epoch 6/50\n",
      "22/22 [==============================] - 52s 2s/step - loss: 0.6162 - accuracy: 0.3325 - val_loss: 0.6750 - val_accuracy: 0.1796 - lr: 0.0010\n",
      "Epoch 7/50\n",
      "22/22 [==============================] - 52s 2s/step - loss: 0.6132 - accuracy: 0.3332 - val_loss: 0.6745 - val_accuracy: 0.1872 - lr: 9.0484e-04\n",
      "Epoch 8/50\n",
      "22/22 [==============================] - 52s 2s/step - loss: 0.6094 - accuracy: 0.3343 - val_loss: 0.6745 - val_accuracy: 0.1846 - lr: 9.0484e-04\n",
      "Epoch 9/50\n",
      "22/22 [==============================] - 52s 2s/step - loss: 0.6093 - accuracy: 0.3339 - val_loss: 0.6746 - val_accuracy: 0.1846 - lr: 9.0484e-04\n",
      "Epoch 10/50\n",
      "22/22 [==============================] - 52s 2s/step - loss: 0.6077 - accuracy: 0.3292 - val_loss: 0.6749 - val_accuracy: 0.1865 - lr: 9.0484e-04\n",
      "Epoch 11/50\n",
      "22/22 [==============================] - ETA: 0s - loss: 0.6093 - accuracy: 0.3336Restoring model weights from the end of the best epoch: 1.\n",
      "22/22 [==============================] - 52s 2s/step - loss: 0.6093 - accuracy: 0.3336 - val_loss: 0.6751 - val_accuracy: 0.1878 - lr: 9.0484e-04\n",
      "Epoch 11: early stopping\n",
      "50/50 [==============================] - 8s 159ms/step\n"
     ]
    },
    {
     "name": "stderr",
     "output_type": "stream",
     "text": [
      " 83%|████████▎ | 5/6 [1:30:24<18:38, 1118.20s/it]"
     ]
    },
    {
     "name": "stdout",
     "output_type": "stream",
     "text": [
      "Parameters: {'batch': 128, 'dropout': 0.3, 'optimizer': 'adam'}\n",
      "              precision    recall  f1-score   support\n",
      "\n",
      "           0       0.38      0.81      0.52       614\n",
      "           1       0.42      0.92      0.57       660\n",
      "           2       0.75      1.00      0.86      1181\n",
      "           3       0.76      1.00      0.87      1204\n",
      "\n",
      "   micro avg       0.59      0.95      0.73      3659\n",
      "   macro avg       0.58      0.93      0.70      3659\n",
      "weighted avg       0.63      0.95      0.75      3659\n",
      " samples avg       0.59      0.96      0.71      3659\n",
      "\n",
      "Epoch 1/50\n",
      "22/22 [==============================] - 55s 2s/step - loss: 0.6967 - accuracy: 0.3271 - val_loss: 0.6993 - val_accuracy: 0.3458 - lr: 0.0010\n",
      "Epoch 2/50\n",
      "22/22 [==============================] - 51s 2s/step - loss: 0.6961 - accuracy: 0.3253 - val_loss: 0.6988 - val_accuracy: 0.3420 - lr: 0.0010\n",
      "Epoch 3/50\n",
      "22/22 [==============================] - 51s 2s/step - loss: 0.6954 - accuracy: 0.3256 - val_loss: 0.6983 - val_accuracy: 0.3401 - lr: 0.0010\n",
      "Epoch 4/50\n",
      "22/22 [==============================] - 52s 2s/step - loss: 0.6954 - accuracy: 0.3220 - val_loss: 0.6978 - val_accuracy: 0.3414 - lr: 0.0010\n",
      "Epoch 5/50\n",
      "22/22 [==============================] - 52s 2s/step - loss: 0.6944 - accuracy: 0.3072 - val_loss: 0.6973 - val_accuracy: 0.3401 - lr: 0.0010\n",
      "Epoch 6/50\n",
      "22/22 [==============================] - 52s 2s/step - loss: 0.6946 - accuracy: 0.3105 - val_loss: 0.6969 - val_accuracy: 0.3407 - lr: 0.0010\n",
      "Epoch 7/50\n",
      "22/22 [==============================] - 52s 2s/step - loss: 0.6938 - accuracy: 0.2953 - val_loss: 0.6966 - val_accuracy: 0.3388 - lr: 9.0484e-04\n",
      "Epoch 8/50\n",
      "22/22 [==============================] - 52s 2s/step - loss: 0.6933 - accuracy: 0.2975 - val_loss: 0.6962 - val_accuracy: 0.3350 - lr: 9.0484e-04\n",
      "Epoch 9/50\n",
      "22/22 [==============================] - 51s 2s/step - loss: 0.6916 - accuracy: 0.2913 - val_loss: 0.6958 - val_accuracy: 0.3331 - lr: 9.0484e-04\n",
      "Epoch 10/50\n",
      "22/22 [==============================] - 51s 2s/step - loss: 0.6918 - accuracy: 0.2913 - val_loss: 0.6955 - val_accuracy: 0.3306 - lr: 9.0484e-04\n",
      "Epoch 11/50\n",
      "22/22 [==============================] - 52s 2s/step - loss: 0.6921 - accuracy: 0.2791 - val_loss: 0.6952 - val_accuracy: 0.3299 - lr: 9.0484e-04\n",
      "Epoch 12/50\n",
      "22/22 [==============================] - 52s 2s/step - loss: 0.6912 - accuracy: 0.2668 - val_loss: 0.6948 - val_accuracy: 0.3268 - lr: 9.0484e-04\n",
      "Epoch 13/50\n",
      "22/22 [==============================] - 51s 2s/step - loss: 0.6908 - accuracy: 0.2628 - val_loss: 0.6945 - val_accuracy: 0.3242 - lr: 9.0484e-04\n",
      "Epoch 14/50\n",
      "22/22 [==============================] - 52s 2s/step - loss: 0.6906 - accuracy: 0.2773 - val_loss: 0.6942 - val_accuracy: 0.3236 - lr: 9.0484e-04\n",
      "Epoch 15/50\n",
      "22/22 [==============================] - 51s 2s/step - loss: 0.6909 - accuracy: 0.2809 - val_loss: 0.6939 - val_accuracy: 0.3223 - lr: 9.0484e-04\n",
      "Epoch 16/50\n",
      "22/22 [==============================] - 52s 2s/step - loss: 0.6896 - accuracy: 0.2740 - val_loss: 0.6936 - val_accuracy: 0.3261 - lr: 9.0484e-04\n",
      "Epoch 17/50\n",
      "22/22 [==============================] - 51s 2s/step - loss: 0.6899 - accuracy: 0.2531 - val_loss: 0.6933 - val_accuracy: 0.3268 - lr: 9.0484e-04\n",
      "Epoch 18/50\n",
      "22/22 [==============================] - 51s 2s/step - loss: 0.6890 - accuracy: 0.2704 - val_loss: 0.6930 - val_accuracy: 0.3236 - lr: 9.0484e-04\n",
      "Epoch 19/50\n",
      "22/22 [==============================] - 52s 2s/step - loss: 0.6885 - accuracy: 0.2422 - val_loss: 0.6928 - val_accuracy: 0.3261 - lr: 9.0484e-04\n",
      "Epoch 20/50\n",
      "22/22 [==============================] - 52s 2s/step - loss: 0.6885 - accuracy: 0.2740 - val_loss: 0.6925 - val_accuracy: 0.3255 - lr: 9.0484e-04\n",
      "Epoch 21/50\n",
      "22/22 [==============================] - 51s 2s/step - loss: 0.6881 - accuracy: 0.2509 - val_loss: 0.6922 - val_accuracy: 0.3217 - lr: 9.0484e-04\n",
      "Epoch 22/50\n",
      "22/22 [==============================] - 52s 2s/step - loss: 0.6869 - accuracy: 0.2671 - val_loss: 0.6919 - val_accuracy: 0.3198 - lr: 9.0484e-04\n",
      "Epoch 23/50\n",
      "22/22 [==============================] - 52s 2s/step - loss: 0.6866 - accuracy: 0.2422 - val_loss: 0.6917 - val_accuracy: 0.3223 - lr: 9.0484e-04\n",
      "Epoch 24/50\n",
      "22/22 [==============================] - 52s 2s/step - loss: 0.6865 - accuracy: 0.2549 - val_loss: 0.6914 - val_accuracy: 0.3185 - lr: 9.0484e-04\n",
      "Epoch 25/50\n",
      "22/22 [==============================] - 52s 2s/step - loss: 0.6855 - accuracy: 0.2549 - val_loss: 0.6912 - val_accuracy: 0.3147 - lr: 9.0484e-04\n",
      "Epoch 26/50\n",
      "22/22 [==============================] - 52s 2s/step - loss: 0.6862 - accuracy: 0.2578 - val_loss: 0.6909 - val_accuracy: 0.3147 - lr: 9.0484e-04\n",
      "Epoch 27/50\n",
      "22/22 [==============================] - 51s 2s/step - loss: 0.6855 - accuracy: 0.2368 - val_loss: 0.6906 - val_accuracy: 0.3135 - lr: 9.0484e-04\n",
      "Epoch 28/50\n",
      "22/22 [==============================] - 51s 2s/step - loss: 0.6841 - accuracy: 0.2386 - val_loss: 0.6904 - val_accuracy: 0.3109 - lr: 9.0484e-04\n",
      "Epoch 29/50\n",
      "22/22 [==============================] - 51s 2s/step - loss: 0.6849 - accuracy: 0.2303 - val_loss: 0.6901 - val_accuracy: 0.3122 - lr: 9.0484e-04\n",
      "Epoch 30/50\n",
      "22/22 [==============================] - 52s 2s/step - loss: 0.6848 - accuracy: 0.2354 - val_loss: 0.6899 - val_accuracy: 0.3122 - lr: 9.0484e-04\n",
      "Epoch 31/50\n",
      "22/22 [==============================] - 52s 2s/step - loss: 0.6848 - accuracy: 0.2134 - val_loss: 0.6897 - val_accuracy: 0.3058 - lr: 9.0484e-04\n",
      "Epoch 32/50\n",
      "22/22 [==============================] - 51s 2s/step - loss: 0.6833 - accuracy: 0.2206 - val_loss: 0.6894 - val_accuracy: 0.3033 - lr: 9.0484e-04\n",
      "Epoch 33/50\n",
      "22/22 [==============================] - 51s 2s/step - loss: 0.6844 - accuracy: 0.2112 - val_loss: 0.6892 - val_accuracy: 0.3014 - lr: 9.0484e-04\n",
      "Epoch 34/50\n",
      "22/22 [==============================] - 51s 2s/step - loss: 0.6832 - accuracy: 0.2195 - val_loss: 0.6889 - val_accuracy: 0.2995 - lr: 9.0484e-04\n",
      "Epoch 35/50\n",
      "22/22 [==============================] - 51s 2s/step - loss: 0.6828 - accuracy: 0.2206 - val_loss: 0.6887 - val_accuracy: 0.3001 - lr: 9.0484e-04\n",
      "Epoch 36/50\n",
      "22/22 [==============================] - 51s 2s/step - loss: 0.6826 - accuracy: 0.2292 - val_loss: 0.6885 - val_accuracy: 0.2951 - lr: 9.0484e-04\n",
      "Epoch 37/50\n",
      "22/22 [==============================] - 51s 2s/step - loss: 0.6818 - accuracy: 0.2105 - val_loss: 0.6882 - val_accuracy: 0.2919 - lr: 9.0484e-04\n",
      "Epoch 38/50\n",
      "22/22 [==============================] - 52s 2s/step - loss: 0.6817 - accuracy: 0.2123 - val_loss: 0.6880 - val_accuracy: 0.2906 - lr: 9.0484e-04\n",
      "Epoch 39/50\n",
      "22/22 [==============================] - 52s 2s/step - loss: 0.6814 - accuracy: 0.2155 - val_loss: 0.6878 - val_accuracy: 0.2874 - lr: 9.0484e-04\n",
      "Epoch 40/50\n",
      "22/22 [==============================] - 51s 2s/step - loss: 0.6815 - accuracy: 0.2061 - val_loss: 0.6875 - val_accuracy: 0.2862 - lr: 9.0484e-04\n",
      "Epoch 41/50\n",
      "22/22 [==============================] - 51s 2s/step - loss: 0.6810 - accuracy: 0.2061 - val_loss: 0.6873 - val_accuracy: 0.2874 - lr: 9.0484e-04\n",
      "Epoch 42/50\n",
      "22/22 [==============================] - 52s 2s/step - loss: 0.6799 - accuracy: 0.2076 - val_loss: 0.6871 - val_accuracy: 0.2849 - lr: 9.0484e-04\n",
      "Epoch 43/50\n",
      "22/22 [==============================] - 51s 2s/step - loss: 0.6798 - accuracy: 0.2116 - val_loss: 0.6869 - val_accuracy: 0.2862 - lr: 9.0484e-04\n",
      "Epoch 44/50\n",
      "22/22 [==============================] - 51s 2s/step - loss: 0.6798 - accuracy: 0.2094 - val_loss: 0.6866 - val_accuracy: 0.2874 - lr: 9.0484e-04\n",
      "Epoch 45/50\n",
      "22/22 [==============================] - 51s 2s/step - loss: 0.6795 - accuracy: 0.2148 - val_loss: 0.6864 - val_accuracy: 0.2849 - lr: 9.0484e-04\n",
      "Epoch 46/50\n",
      "22/22 [==============================] - 52s 2s/step - loss: 0.6795 - accuracy: 0.1935 - val_loss: 0.6862 - val_accuracy: 0.2805 - lr: 9.0484e-04\n",
      "Epoch 47/50\n",
      "22/22 [==============================] - 52s 2s/step - loss: 0.6793 - accuracy: 0.1935 - val_loss: 0.6860 - val_accuracy: 0.2766 - lr: 9.0484e-04\n",
      "Epoch 48/50\n",
      "22/22 [==============================] - 52s 2s/step - loss: 0.6784 - accuracy: 0.1917 - val_loss: 0.6857 - val_accuracy: 0.2779 - lr: 9.0484e-04\n",
      "Epoch 49/50\n",
      "22/22 [==============================] - 52s 2s/step - loss: 0.6790 - accuracy: 0.1899 - val_loss: 0.6855 - val_accuracy: 0.2779 - lr: 9.0484e-04\n",
      "Epoch 50/50\n",
      "22/22 [==============================] - 52s 2s/step - loss: 0.6776 - accuracy: 0.2051 - val_loss: 0.6853 - val_accuracy: 0.2766 - lr: 9.0484e-04\n",
      "50/50 [==============================] - 8s 155ms/step\n",
      "Parameters:"
     ]
    },
    {
     "name": "stderr",
     "output_type": "stream",
     "text": [
      "100%|██████████| 6/6 [2:13:31<00:00, 1335.31s/it]"
     ]
    },
    {
     "name": "stdout",
     "output_type": "stream",
     "text": [
      " {'batch': 128, 'dropout': 0.3, 'optimizer': 'adagrad'}\n",
      "              precision    recall  f1-score   support\n",
      "\n",
      "           0       0.39      0.99      0.56       614\n",
      "           1       0.42      0.99      0.59       660\n",
      "           2       0.75      1.00      0.86      1181\n",
      "           3       0.76      0.94      0.84      1204\n",
      "\n",
      "   micro avg       0.58      0.98      0.73      3659\n",
      "   macro avg       0.58      0.98      0.71      3659\n",
      "weighted avg       0.63      0.98      0.75      3659\n",
      " samples avg       0.58      0.98      0.70      3659\n",
      "\n",
      "Best Score: 0.11230964467005077\n",
      "Best Parameters: {'batch': 32, 'dropout': 0.3, 'optimizer': 'adam'}\n"
     ]
    },
    {
     "name": "stderr",
     "output_type": "stream",
     "text": [
      "\n"
     ]
    }
   ],
   "source": [
    "from itertools import product\n",
    "from tqdm import tqdm\n",
    "\n",
    "best_score = 0\n",
    "best_params = None\n",
    "\n",
    "# Create all combinations of parameters\n",
    "param_combinations = [dict(zip(gridsearch.keys(), v)) for v in product(*gridsearch.values())]\n",
    "for params in tqdm(param_combinations):\n",
    "    score = train_evaluate_lstm(params, X_train, X_val, y_train, y_val)\n",
    "    if score > best_score:\n",
    "        best_score = score\n",
    "        best_params = params\n",
    "\n",
    "print(\"Best Score:\", best_score)\n",
    "print(\"Best Parameters:\", best_params)"
   ]
  },
  {
   "cell_type": "code",
   "execution_count": 407,
   "metadata": {},
   "outputs": [
    {
     "name": "stdout",
     "output_type": "stream",
     "text": [
      "Epoch 1/50\n",
      "44/44 [==============================] - 65s 1s/step - loss: 0.6463 - accuracy: 0.1823 - val_loss: 0.6688 - val_accuracy: 0.2011 - lr: 0.0010\n",
      "Epoch 2/50\n",
      "44/44 [==============================] - 62s 1s/step - loss: 0.6187 - accuracy: 0.3711 - val_loss: 0.6767 - val_accuracy: 0.2405 - lr: 0.0010\n",
      "Epoch 3/50\n",
      "44/44 [==============================] - 69s 2s/step - loss: 0.6013 - accuracy: 0.3845 - val_loss: 0.6703 - val_accuracy: 0.1624 - lr: 0.0010\n",
      "Epoch 4/50\n",
      "44/44 [==============================] - 66s 1s/step - loss: 0.5915 - accuracy: 0.3978 - val_loss: 0.6819 - val_accuracy: 0.1802 - lr: 0.0010\n",
      "Epoch 5/50\n",
      "44/44 [==============================] - 70s 2s/step - loss: 0.5818 - accuracy: 0.4390 - val_loss: 0.6855 - val_accuracy: 0.1675 - lr: 0.0010\n",
      "Epoch 6/50\n",
      "44/44 [==============================] - 65s 1s/step - loss: 0.5726 - accuracy: 0.4354 - val_loss: 0.7077 - val_accuracy: 0.1681 - lr: 0.0010\n",
      "Epoch 7/50\n",
      "44/44 [==============================] - 64s 1s/step - loss: 0.5598 - accuracy: 0.4744 - val_loss: 0.7008 - val_accuracy: 0.1529 - lr: 9.0484e-04\n",
      "Epoch 8/50\n",
      "44/44 [==============================] - 73s 2s/step - loss: 0.5551 - accuracy: 0.4505 - val_loss: 0.6954 - val_accuracy: 0.1561 - lr: 9.0484e-04\n",
      "Epoch 9/50\n",
      "44/44 [==============================] - 74s 2s/step - loss: 0.5465 - accuracy: 0.4473 - val_loss: 0.6967 - val_accuracy: 0.1751 - lr: 9.0484e-04\n",
      "Epoch 10/50\n",
      "44/44 [==============================] - 69s 2s/step - loss: 0.5364 - accuracy: 0.4686 - val_loss: 0.6987 - val_accuracy: 0.1821 - lr: 9.0484e-04\n",
      "Epoch 11/50\n",
      "44/44 [==============================] - ETA: 0s - loss: 0.5228 - accuracy: 0.4668Restoring model weights from the end of the best epoch: 1.\n",
      "44/44 [==============================] - 72s 2s/step - loss: 0.5228 - accuracy: 0.4668 - val_loss: 0.6941 - val_accuracy: 0.1637 - lr: 9.0484e-04\n",
      "Epoch 11: early stopping\n",
      "50/50 [==============================] - 15s 278ms/step\n",
      "              precision    recall  f1-score   support\n",
      "\n",
      "           0       0.39      0.43      0.41       614\n",
      "           1       0.42      0.93      0.57       660\n",
      "           2       0.75      1.00      0.86      1181\n",
      "           3       0.76      1.00      0.87      1204\n",
      "\n",
      "   micro avg       0.61      0.89      0.73      3659\n",
      "   macro avg       0.58      0.84      0.68      3659\n",
      "weighted avg       0.63      0.89      0.73      3659\n",
      " samples avg       0.62      0.90      0.71      3659\n",
      "\n"
     ]
    }
   ],
   "source": [
    "# judging by the classification report we chose the parameters that seemed to give us the best model based on the mean f1-score\n",
    "\n",
    "best_params = {'batch': 64, 'dropout': 0.3, 'optimizer': 'adam'}\n",
    "\n",
    "initial_lr = 0.001  # the default starting learning rate for Adam\n",
    "\n",
    "patience = 10  \n",
    "\n",
    "# the learning rate scheduler takes as input a function that returns the desired learning rate for a given epoch\n",
    "lr_scheduler = LearningRateScheduler(lambda epoch: scheduler(epoch, initial_lr)) \n",
    "early_stopping = EarlyStopping(monitor='val_loss', patience=patience, verbose=1, restore_best_weights=True)\n",
    "\n",
    "threshold = 0.5\n",
    "\n",
    "model = Sequential()\n",
    "model.add(LSTM(100, dropout=best_params[\"dropout\"], return_sequences=True, recurrent_dropout= best_params[\"dropout\"], input_shape = (max_len, emb_len), activation=\"relu\"))\n",
    "model.add(Dropout(best_params[\"dropout\"]))\n",
    "model.add(LSTM(50, dropout=best_params[\"dropout\"], recurrent_dropout=best_params[\"dropout\"], activation=\"relu\"))\n",
    "model.add(Dropout(best_params[\"dropout\"]))\n",
    "model.add(Dense(4, activation='sigmoid'))\n",
    "\n",
    "# Compile the model\n",
    "model.compile(loss='binary_crossentropy', optimizer=best_params[\"optimizer\"], metrics=['accuracy'])\n",
    "\n",
    "history = model.fit(X_train, y_train,\n",
    "        epochs=50,\n",
    "        validation_data=(X_val, y_val),\n",
    "        batch_size=best_params[\"batch\"],\n",
    "        verbose=1,\n",
    "        callbacks=[early_stopping, lr_scheduler])\n",
    "\n",
    "y_pred_probs = model.predict(X_val)\n",
    "\n",
    "# Convert probabilities to binary predictions\n",
    "y_pred_binary = (y_pred_probs > threshold).astype(int)\n",
    "\n",
    "# Print classification report\n",
    "print(classification_report(y_val, y_pred_binary))\n"
   ]
  },
  {
   "cell_type": "code",
   "execution_count": 409,
   "metadata": {},
   "outputs": [
    {
     "data": {
      "image/png": "[encoded data removed]",
      "text/plain": [
       "<Figure size 640x480 with 1 Axes>"
      ]
     },
     "metadata": {},
     "output_type": "display_data"
    }
   ],
   "source": [
    "#plot training loss and validation loss\n",
    "plt.plot(history.history[\"loss\"], label = \"training loss\")\n",
    "plt.plot(history.history[\"val_loss\"], label = \"validation loss\")\n",
    "plt.xlabel(\"Epoch\")\n",
    "plt.ylabel(\"Loss\")\n",
    "plt.title(\"Training and validation loss over epochs\")\n",
    "plt.legend()\n",
    "plt.show()"
   ]
  },
  {
   "cell_type": "code",
   "execution_count": 414,
   "metadata": {},
   "outputs": [
    {
     "name": "stdout",
     "output_type": "stream",
     "text": [
      "Epoch 1/50\n",
      "44/44 [==============================] - 81s 2s/step - loss: 0.6919 - accuracy: 0.2029 - val_loss: 0.6810 - val_accuracy: 0.1326 - lr: 0.0010\n",
      "Epoch 2/50\n",
      "44/44 [==============================] - 41s 940ms/step - loss: 0.6619 - accuracy: 0.1823 - val_loss: 0.6785 - val_accuracy: 0.1282 - lr: 0.0010\n",
      "Epoch 3/50\n",
      "44/44 [==============================] - 41s 942ms/step - loss: 0.6621 - accuracy: 0.1238 - val_loss: 0.6763 - val_accuracy: 0.2430 - lr: 0.0010\n",
      "Epoch 4/50\n",
      "44/44 [==============================] - 41s 945ms/step - loss: 0.6600 - accuracy: 0.1307 - val_loss: 0.6756 - val_accuracy: 0.2627 - lr: 0.0010\n",
      "Epoch 5/50\n",
      "44/44 [==============================] - 42s 966ms/step - loss: 0.6543 - accuracy: 0.1170 - val_loss: 0.6744 - val_accuracy: 0.2716 - lr: 0.0010\n",
      "Epoch 6/50\n",
      "44/44 [==============================] - 46s 1s/step - loss: 0.6528 - accuracy: 0.1051 - val_loss: 0.6730 - val_accuracy: 0.2627 - lr: 0.0010\n",
      "Epoch 7/50\n",
      "44/44 [==============================] - 46s 1s/step - loss: 0.6510 - accuracy: 0.1072 - val_loss: 0.6731 - val_accuracy: 0.3115 - lr: 9.0484e-04\n",
      "Epoch 8/50\n",
      "44/44 [==============================] - 47s 1s/step - loss: 0.6493 - accuracy: 0.1217 - val_loss: 0.6743 - val_accuracy: 0.2887 - lr: 9.0484e-04\n",
      "Epoch 9/50\n",
      "44/44 [==============================] - 47s 1s/step - loss: 0.6439 - accuracy: 0.1357 - val_loss: 0.6725 - val_accuracy: 0.2398 - lr: 9.0484e-04\n",
      "Epoch 10/50\n",
      "44/44 [==============================] - 42s 967ms/step - loss: 0.6412 - accuracy: 0.1549 - val_loss: 0.6719 - val_accuracy: 0.2595 - lr: 9.0484e-04\n",
      "Epoch 11/50\n",
      "44/44 [==============================] - 42s 958ms/step - loss: 0.6360 - accuracy: 0.1931 - val_loss: 0.6732 - val_accuracy: 0.2195 - lr: 9.0484e-04\n",
      "Epoch 12/50\n",
      "44/44 [==============================] - 42s 959ms/step - loss: 0.6348 - accuracy: 0.2123 - val_loss: 0.6714 - val_accuracy: 0.2462 - lr: 9.0484e-04\n",
      "Epoch 13/50\n",
      "44/44 [==============================] - 42s 960ms/step - loss: 0.6349 - accuracy: 0.2058 - val_loss: 0.6715 - val_accuracy: 0.1904 - lr: 9.0484e-04\n",
      "Epoch 14/50\n",
      "44/44 [==============================] - 42s 960ms/step - loss: 0.6294 - accuracy: 0.2404 - val_loss: 0.6720 - val_accuracy: 0.1783 - lr: 9.0484e-04\n",
      "Epoch 15/50\n",
      "44/44 [==============================] - 42s 959ms/step - loss: 0.6266 - accuracy: 0.2718 - val_loss: 0.6721 - val_accuracy: 0.1053 - lr: 9.0484e-04\n",
      "Epoch 16/50\n",
      "44/44 [==============================] - 42s 958ms/step - loss: 0.6266 - accuracy: 0.2910 - val_loss: 0.6697 - val_accuracy: 0.0920 - lr: 9.0484e-04\n",
      "Epoch 17/50\n",
      "44/44 [==============================] - 42s 968ms/step - loss: 0.6254 - accuracy: 0.2852 - val_loss: 0.6698 - val_accuracy: 0.0901 - lr: 9.0484e-04\n",
      "Epoch 18/50\n",
      "44/44 [==============================] - 42s 962ms/step - loss: 0.6248 - accuracy: 0.2895 - val_loss: 0.6704 - val_accuracy: 0.0793 - lr: 9.0484e-04\n",
      "Epoch 19/50\n",
      "44/44 [==============================] - 42s 958ms/step - loss: 0.6184 - accuracy: 0.3000 - val_loss: 0.6713 - val_accuracy: 0.0768 - lr: 9.0484e-04\n",
      "Epoch 20/50\n",
      "44/44 [==============================] - 42s 957ms/step - loss: 0.6208 - accuracy: 0.3051 - val_loss: 0.6708 - val_accuracy: 0.0876 - lr: 9.0484e-04\n",
      "Epoch 21/50\n",
      "44/44 [==============================] - 43s 972ms/step - loss: 0.6229 - accuracy: 0.2989 - val_loss: 0.6698 - val_accuracy: 0.0717 - lr: 9.0484e-04\n",
      "Epoch 22/50\n",
      "44/44 [==============================] - 42s 954ms/step - loss: 0.6209 - accuracy: 0.2762 - val_loss: 0.6694 - val_accuracy: 0.0831 - lr: 9.0484e-04\n",
      "Epoch 23/50\n",
      "44/44 [==============================] - 42s 953ms/step - loss: 0.6186 - accuracy: 0.3051 - val_loss: 0.6703 - val_accuracy: 0.0774 - lr: 9.0484e-04\n",
      "Epoch 24/50\n",
      "44/44 [==============================] - 42s 953ms/step - loss: 0.6174 - accuracy: 0.3170 - val_loss: 0.6692 - val_accuracy: 0.0730 - lr: 9.0484e-04\n",
      "Epoch 25/50\n",
      "44/44 [==============================] - 42s 958ms/step - loss: 0.6117 - accuracy: 0.3278 - val_loss: 0.6706 - val_accuracy: 0.0698 - lr: 9.0484e-04\n",
      "Epoch 26/50\n",
      "44/44 [==============================] - 42s 959ms/step - loss: 0.6137 - accuracy: 0.3231 - val_loss: 0.6699 - val_accuracy: 0.0723 - lr: 9.0484e-04\n",
      "Epoch 27/50\n",
      "44/44 [==============================] - 42s 963ms/step - loss: 0.6128 - accuracy: 0.3332 - val_loss: 0.6701 - val_accuracy: 0.0679 - lr: 9.0484e-04\n",
      "Epoch 28/50\n",
      "44/44 [==============================] - 42s 958ms/step - loss: 0.6072 - accuracy: 0.3751 - val_loss: 0.6730 - val_accuracy: 0.0774 - lr: 9.0484e-04\n",
      "Epoch 29/50\n",
      "44/44 [==============================] - 42s 961ms/step - loss: 0.6108 - accuracy: 0.3643 - val_loss: 0.6752 - val_accuracy: 0.0774 - lr: 9.0484e-04\n",
      "Epoch 30/50\n",
      "44/44 [==============================] - 42s 965ms/step - loss: 0.6082 - accuracy: 0.3686 - val_loss: 0.6719 - val_accuracy: 0.0742 - lr: 9.0484e-04\n",
      "Epoch 31/50\n",
      "44/44 [==============================] - 42s 958ms/step - loss: 0.6068 - accuracy: 0.3819 - val_loss: 0.6745 - val_accuracy: 0.0774 - lr: 9.0484e-04\n",
      "Epoch 32/50\n",
      "44/44 [==============================] - 42s 960ms/step - loss: 0.6128 - accuracy: 0.3783 - val_loss: 0.6717 - val_accuracy: 0.0787 - lr: 9.0484e-04\n",
      "Epoch 33/50\n",
      "44/44 [==============================] - 42s 960ms/step - loss: 0.6037 - accuracy: 0.3758 - val_loss: 0.6719 - val_accuracy: 0.0831 - lr: 9.0484e-04\n",
      "Epoch 34/50\n",
      "44/44 [==============================] - 42s 960ms/step - loss: 0.6064 - accuracy: 0.3906 - val_loss: 0.6699 - val_accuracy: 0.0761 - lr: 9.0484e-04\n",
      "Epoch 34: early stopping\n",
      "50/50 [==============================] - 9s 173ms/step\n",
      "              precision    recall  f1-score   support\n",
      "\n",
      "           0       0.39      0.96      0.56       614\n",
      "           1       0.42      0.96      0.58       660\n",
      "           2       0.75      1.00      0.86      1181\n",
      "           3       0.76      1.00      0.87      1204\n",
      "\n",
      "   micro avg       0.58      0.99      0.73      3659\n",
      "   macro avg       0.58      0.98      0.72      3659\n",
      "weighted avg       0.63      0.99      0.76      3659\n",
      " samples avg       0.58      0.99      0.71      3659\n",
      "\n"
     ]
    },
    {
     "data": {
      "image/png": "[encoded data removed]",
      "text/plain": [
       "<Figure size 640x480 with 1 Axes>"
      ]
     },
     "metadata": {},
     "output_type": "display_data"
    }
   ],
   "source": [
    "# hoping to reduce overfitting we decided to increase the dropout rate at 0.7\n",
    "# judging by the classification report we chose the parameters that seemed to give us the best model based on the mean f1-score\n",
    "\n",
    "best_params = {'batch': 64, 'dropout': 0.7, 'optimizer': 'adam'}\n",
    "\n",
    "initial_lr = 0.001  # the default starting learning rate for Adam\n",
    "\n",
    "patience = 10  \n",
    "\n",
    "# the learning rate scheduler takes as input a function that returns the desired learning rate for a given epoch\n",
    "lr_scheduler = LearningRateScheduler(lambda epoch: scheduler(epoch, initial_lr)) \n",
    "early_stopping = EarlyStopping(monitor='val_loss', patience=patience, verbose=1, restore_best_weights=True)\n",
    "\n",
    "threshold = 0.6\n",
    "\n",
    "model = Sequential()\n",
    "model.add(LSTM(100, dropout=best_params[\"dropout\"], return_sequences=True, recurrent_dropout= best_params[\"dropout\"], input_shape = (max_len, emb_len), activation=\"relu\"))\n",
    "model.add(Dropout(best_params[\"dropout\"]))\n",
    "model.add(LSTM(50, dropout=best_params[\"dropout\"], recurrent_dropout=best_params[\"dropout\"], activation=\"relu\"))\n",
    "model.add(Dropout(best_params[\"dropout\"]))\n",
    "model.add(Dense(4, activation='sigmoid'))\n",
    "\n",
    "# Compile the model\n",
    "model.compile(loss='binary_crossentropy', optimizer=best_params[\"optimizer\"], metrics=['accuracy'])\n",
    "\n",
    "history = model.fit(X_train, y_train,\n",
    "        epochs=50,\n",
    "        validation_data=(X_val, y_val),\n",
    "        batch_size=best_params[\"batch\"],\n",
    "        verbose=1,\n",
    "        callbacks=[early_stopping, lr_scheduler])\n",
    "\n",
    "y_pred_probs = model.predict(X_val)\n",
    "\n",
    "# Convert probabilities to binary predictions\n",
    "y_pred_binary = (y_pred_probs > threshold).astype(int)\n",
    "\n",
    "# Print classification report\n",
    "print(classification_report(y_val, y_pred_binary))\n",
    "\n",
    "#plot training loss and validation loss\n",
    "plt.plot(history.history[\"loss\"], label = \"training loss\")\n",
    "plt.plot(history.history[\"val_loss\"], label = \"validation loss\")\n",
    "plt.xlabel(\"Epoch\")\n",
    "plt.ylabel(\"Loss\")\n",
    "plt.title(\"Training and validation loss over epochs\")\n",
    "plt.legend()\n",
    "plt.show()\n"
   ]
  },
  {
   "cell_type": "code",
   "execution_count": 471,
   "metadata": {},
   "outputs": [
    {
     "data": {
      "text/plain": [
       "array([[0.5215948 , 0.6090773 , 0.60697854, 0.63256   ],\n",
       "       [0.55124   , 0.56883025, 0.5875583 , 0.61892146],\n",
       "       [0.5401921 , 0.57526577, 0.5845827 , 0.6174972 ],\n",
       "       ...,\n",
       "       [0.4901238 , 0.6743161 , 0.65440613, 0.6650407 ],\n",
       "       [0.5110638 , 0.65876114, 0.6406957 , 0.6532417 ],\n",
       "       [0.5265207 , 0.59945196, 0.59648466, 0.62787545]], dtype=float32)"
      ]
     },
     "execution_count": 471,
     "metadata": {},
     "output_type": "execute_result"
    }
   ],
   "source": [
    "y_pred_probs"
   ]
  },
  {
   "cell_type": "markdown",
   "metadata": {},
   "source": [
    "We will now try to implement embedding layer to make the word2vec vectors trainable and see if it improves out performance"
   ]
  },
  {
   "cell_type": "code",
   "execution_count": 139,
   "metadata": {},
   "outputs": [],
   "source": [
    "%store -r w2v_model\n",
    "# from word2vec.ipynb"
   ]
  },
  {
   "cell_type": "code",
   "execution_count": 140,
   "metadata": {},
   "outputs": [],
   "source": [
    "%store -r df\n",
    "# from undersampling.ipynb, it's the dataframe with the IDs of the arguments mantained after undersampling"
   ]
  },
  {
   "cell_type": "code",
   "execution_count": 141,
   "metadata": {},
   "outputs": [],
   "source": [
    "import pandas as pd"
   ]
  },
  {
   "cell_type": "code",
   "execution_count": 142,
   "metadata": {},
   "outputs": [
    {
     "data": {
      "text/html": [
       "<div>\n",
       "<style scoped>\n",
       "    .dataframe tbody tr th:only-of-type {\n",
       "        vertical-align: middle;\n",
       "    }\n",
       "\n",
       "    .dataframe tbody tr th {\n",
       "        vertical-align: top;\n",
       "    }\n",
       "\n",
       "    .dataframe thead th {\n",
       "        text-align: right;\n",
       "    }\n",
       "</style>\n",
       "<table border=\"1\" class=\"dataframe\">\n",
       "  <thead>\n",
       "    <tr style=\"text-align: right;\">\n",
       "      <th></th>\n",
       "      <th>Argument ID</th>\n",
       "      <th>Conclusion</th>\n",
       "      <th>Stance</th>\n",
       "      <th>Premise</th>\n",
       "    </tr>\n",
       "  </thead>\n",
       "  <tbody>\n",
       "    <tr>\n",
       "      <th>0</th>\n",
       "      <td>A01002</td>\n",
       "      <td>We should ban human cloning</td>\n",
       "      <td>in favor of</td>\n",
       "      <td>we should ban human cloning as it will only ca...</td>\n",
       "    </tr>\n",
       "    <tr>\n",
       "      <th>1</th>\n",
       "      <td>A01005</td>\n",
       "      <td>We should ban fast food</td>\n",
       "      <td>in favor of</td>\n",
       "      <td>fast food should be banned because it is reall...</td>\n",
       "    </tr>\n",
       "    <tr>\n",
       "      <th>2</th>\n",
       "      <td>A01006</td>\n",
       "      <td>We should end the use of economic sanctions</td>\n",
       "      <td>against</td>\n",
       "      <td>sometimes economic sanctions are the only thin...</td>\n",
       "    </tr>\n",
       "    <tr>\n",
       "      <th>3</th>\n",
       "      <td>A01007</td>\n",
       "      <td>We should abolish capital punishment</td>\n",
       "      <td>against</td>\n",
       "      <td>capital punishment is sometimes the only optio...</td>\n",
       "    </tr>\n",
       "    <tr>\n",
       "      <th>4</th>\n",
       "      <td>A01008</td>\n",
       "      <td>We should ban factory farming</td>\n",
       "      <td>against</td>\n",
       "      <td>factory farming allows for the production of c...</td>\n",
       "    </tr>\n",
       "  </tbody>\n",
       "</table>\n",
       "</div>"
      ],
      "text/plain": [
       "  Argument ID                                   Conclusion       Stance   \n",
       "0      A01002                  We should ban human cloning  in favor of  \\\n",
       "1      A01005                      We should ban fast food  in favor of   \n",
       "2      A01006  We should end the use of economic sanctions      against   \n",
       "3      A01007         We should abolish capital punishment      against   \n",
       "4      A01008                We should ban factory farming      against   \n",
       "\n",
       "                                             Premise  \n",
       "0  we should ban human cloning as it will only ca...  \n",
       "1  fast food should be banned because it is reall...  \n",
       "2  sometimes economic sanctions are the only thin...  \n",
       "3  capital punishment is sometimes the only optio...  \n",
       "4  factory farming allows for the production of c...  "
      ]
     },
     "execution_count": 142,
     "metadata": {},
     "output_type": "execute_result"
    }
   ],
   "source": [
    "df_train = pd.read_csv(\"arguments-training.tsv\", sep = \"\\t\")\n",
    "df_train.head()"
   ]
  },
  {
   "cell_type": "code",
   "execution_count": 143,
   "metadata": {},
   "outputs": [
    {
     "data": {
      "text/html": [
       "<div>\n",
       "<style scoped>\n",
       "    .dataframe tbody tr th:only-of-type {\n",
       "        vertical-align: middle;\n",
       "    }\n",
       "\n",
       "    .dataframe tbody tr th {\n",
       "        vertical-align: top;\n",
       "    }\n",
       "\n",
       "    .dataframe thead th {\n",
       "        text-align: right;\n",
       "    }\n",
       "</style>\n",
       "<table border=\"1\" class=\"dataframe\">\n",
       "  <thead>\n",
       "    <tr style=\"text-align: right;\">\n",
       "      <th></th>\n",
       "      <th>Argument_ID</th>\n",
       "      <th>Openness to change</th>\n",
       "      <th>Self-Enhancement</th>\n",
       "      <th>Conservation</th>\n",
       "      <th>Self-Transcendence</th>\n",
       "      <th>labels</th>\n",
       "    </tr>\n",
       "  </thead>\n",
       "  <tbody>\n",
       "    <tr>\n",
       "      <th>0</th>\n",
       "      <td>A01002</td>\n",
       "      <td>0</td>\n",
       "      <td>0</td>\n",
       "      <td>1</td>\n",
       "      <td>0</td>\n",
       "      <td>[0.0, 0.0, 1.0, 0.0]</td>\n",
       "    </tr>\n",
       "    <tr>\n",
       "      <th>1</th>\n",
       "      <td>A01005</td>\n",
       "      <td>0</td>\n",
       "      <td>0</td>\n",
       "      <td>1</td>\n",
       "      <td>0</td>\n",
       "      <td>[0.0, 0.0, 1.0, 0.0]</td>\n",
       "    </tr>\n",
       "    <tr>\n",
       "      <th>2</th>\n",
       "      <td>A01006</td>\n",
       "      <td>0</td>\n",
       "      <td>1</td>\n",
       "      <td>1</td>\n",
       "      <td>0</td>\n",
       "      <td>[0.0, 0.5, 0.5, 0.0]</td>\n",
       "    </tr>\n",
       "    <tr>\n",
       "      <th>3</th>\n",
       "      <td>A01007</td>\n",
       "      <td>0</td>\n",
       "      <td>0</td>\n",
       "      <td>2</td>\n",
       "      <td>1</td>\n",
       "      <td>[0.0, 0.0, 0.6666666666666666, 0.3333333333333...</td>\n",
       "    </tr>\n",
       "    <tr>\n",
       "      <th>4</th>\n",
       "      <td>A01008</td>\n",
       "      <td>0</td>\n",
       "      <td>0</td>\n",
       "      <td>1</td>\n",
       "      <td>2</td>\n",
       "      <td>[0.0, 0.0, 0.3333333333333333, 0.6666666666666...</td>\n",
       "    </tr>\n",
       "    <tr>\n",
       "      <th>...</th>\n",
       "      <td>...</td>\n",
       "      <td>...</td>\n",
       "      <td>...</td>\n",
       "      <td>...</td>\n",
       "      <td>...</td>\n",
       "      <td>...</td>\n",
       "    </tr>\n",
       "    <tr>\n",
       "      <th>5383</th>\n",
       "      <td>E08005</td>\n",
       "      <td>0</td>\n",
       "      <td>1</td>\n",
       "      <td>2</td>\n",
       "      <td>1</td>\n",
       "      <td>[0.0, 0.25, 0.5, 0.25]</td>\n",
       "    </tr>\n",
       "    <tr>\n",
       "      <th>5384</th>\n",
       "      <td>E08008</td>\n",
       "      <td>0</td>\n",
       "      <td>1</td>\n",
       "      <td>1</td>\n",
       "      <td>1</td>\n",
       "      <td>[0.0, 0.3333333333333333, 0.3333333333333333, ...</td>\n",
       "    </tr>\n",
       "    <tr>\n",
       "      <th>5385</th>\n",
       "      <td>E08009</td>\n",
       "      <td>0</td>\n",
       "      <td>1</td>\n",
       "      <td>1</td>\n",
       "      <td>0</td>\n",
       "      <td>[0.0, 0.5, 0.5, 0.0]</td>\n",
       "    </tr>\n",
       "    <tr>\n",
       "      <th>5387</th>\n",
       "      <td>E08016</td>\n",
       "      <td>0</td>\n",
       "      <td>2</td>\n",
       "      <td>1</td>\n",
       "      <td>1</td>\n",
       "      <td>[0.0, 0.5, 0.25, 0.25]</td>\n",
       "    </tr>\n",
       "    <tr>\n",
       "      <th>5391</th>\n",
       "      <td>E08020</td>\n",
       "      <td>1</td>\n",
       "      <td>1</td>\n",
       "      <td>1</td>\n",
       "      <td>1</td>\n",
       "      <td>[0.25, 0.25, 0.25, 0.25]</td>\n",
       "    </tr>\n",
       "  </tbody>\n",
       "</table>\n",
       "<p>2770 rows × 6 columns</p>\n",
       "</div>"
      ],
      "text/plain": [
       "     Argument_ID  Openness to change  Self-Enhancement  Conservation   \n",
       "0         A01002                   0                 0             1  \\\n",
       "1         A01005                   0                 0             1   \n",
       "2         A01006                   0                 1             1   \n",
       "3         A01007                   0                 0             2   \n",
       "4         A01008                   0                 0             1   \n",
       "...          ...                 ...               ...           ...   \n",
       "5383      E08005                   0                 1             2   \n",
       "5384      E08008                   0                 1             1   \n",
       "5385      E08009                   0                 1             1   \n",
       "5387      E08016                   0                 2             1   \n",
       "5391      E08020                   1                 1             1   \n",
       "\n",
       "      Self-Transcendence                                             labels  \n",
       "0                      0                               [0.0, 0.0, 1.0, 0.0]  \n",
       "1                      0                               [0.0, 0.0, 1.0, 0.0]  \n",
       "2                      0                               [0.0, 0.5, 0.5, 0.0]  \n",
       "3                      1  [0.0, 0.0, 0.6666666666666666, 0.3333333333333...  \n",
       "4                      2  [0.0, 0.0, 0.3333333333333333, 0.6666666666666...  \n",
       "...                  ...                                                ...  \n",
       "5383                   1                             [0.0, 0.25, 0.5, 0.25]  \n",
       "5384                   1  [0.0, 0.3333333333333333, 0.3333333333333333, ...  \n",
       "5385                   0                               [0.0, 0.5, 0.5, 0.0]  \n",
       "5387                   1                             [0.0, 0.5, 0.25, 0.25]  \n",
       "5391                   1                           [0.25, 0.25, 0.25, 0.25]  \n",
       "\n",
       "[2770 rows x 6 columns]"
      ]
     },
     "execution_count": 143,
     "metadata": {},
     "output_type": "execute_result"
    }
   ],
   "source": [
    "df"
   ]
  },
  {
   "cell_type": "code",
   "execution_count": 144,
   "metadata": {},
   "outputs": [],
   "source": [
    "df.rename(columns={\"Argument ID\": \"Argument_ID\"}, inplace=True)\n",
    "df_train.rename(columns={\"Argument ID\": \"Argument_ID\"}, inplace=True)"
   ]
  },
  {
   "cell_type": "code",
   "execution_count": 145,
   "metadata": {},
   "outputs": [
    {
     "data": {
      "text/html": [
       "<div>\n",
       "<style scoped>\n",
       "    .dataframe tbody tr th:only-of-type {\n",
       "        vertical-align: middle;\n",
       "    }\n",
       "\n",
       "    .dataframe tbody tr th {\n",
       "        vertical-align: top;\n",
       "    }\n",
       "\n",
       "    .dataframe thead th {\n",
       "        text-align: right;\n",
       "    }\n",
       "</style>\n",
       "<table border=\"1\" class=\"dataframe\">\n",
       "  <thead>\n",
       "    <tr style=\"text-align: right;\">\n",
       "      <th></th>\n",
       "      <th>Argument_ID</th>\n",
       "      <th>Openness to change</th>\n",
       "      <th>Self-Enhancement</th>\n",
       "      <th>Conservation</th>\n",
       "      <th>Self-Transcendence</th>\n",
       "      <th>labels</th>\n",
       "      <th>Conclusion</th>\n",
       "      <th>Stance</th>\n",
       "      <th>Premise</th>\n",
       "    </tr>\n",
       "  </thead>\n",
       "  <tbody>\n",
       "    <tr>\n",
       "      <th>0</th>\n",
       "      <td>A01002</td>\n",
       "      <td>0</td>\n",
       "      <td>0</td>\n",
       "      <td>1</td>\n",
       "      <td>0</td>\n",
       "      <td>[0.0, 0.0, 1.0, 0.0]</td>\n",
       "      <td>We should ban human cloning</td>\n",
       "      <td>in favor of</td>\n",
       "      <td>we should ban human cloning as it will only ca...</td>\n",
       "    </tr>\n",
       "    <tr>\n",
       "      <th>1</th>\n",
       "      <td>A01005</td>\n",
       "      <td>0</td>\n",
       "      <td>0</td>\n",
       "      <td>1</td>\n",
       "      <td>0</td>\n",
       "      <td>[0.0, 0.0, 1.0, 0.0]</td>\n",
       "      <td>We should ban fast food</td>\n",
       "      <td>in favor of</td>\n",
       "      <td>fast food should be banned because it is reall...</td>\n",
       "    </tr>\n",
       "    <tr>\n",
       "      <th>2</th>\n",
       "      <td>A01006</td>\n",
       "      <td>0</td>\n",
       "      <td>1</td>\n",
       "      <td>1</td>\n",
       "      <td>0</td>\n",
       "      <td>[0.0, 0.5, 0.5, 0.0]</td>\n",
       "      <td>We should end the use of economic sanctions</td>\n",
       "      <td>against</td>\n",
       "      <td>sometimes economic sanctions are the only thin...</td>\n",
       "    </tr>\n",
       "    <tr>\n",
       "      <th>3</th>\n",
       "      <td>A01007</td>\n",
       "      <td>0</td>\n",
       "      <td>0</td>\n",
       "      <td>2</td>\n",
       "      <td>1</td>\n",
       "      <td>[0.0, 0.0, 0.6666666666666666, 0.3333333333333...</td>\n",
       "      <td>We should abolish capital punishment</td>\n",
       "      <td>against</td>\n",
       "      <td>capital punishment is sometimes the only optio...</td>\n",
       "    </tr>\n",
       "    <tr>\n",
       "      <th>4</th>\n",
       "      <td>A01008</td>\n",
       "      <td>0</td>\n",
       "      <td>0</td>\n",
       "      <td>1</td>\n",
       "      <td>2</td>\n",
       "      <td>[0.0, 0.0, 0.3333333333333333, 0.6666666666666...</td>\n",
       "      <td>We should ban factory farming</td>\n",
       "      <td>against</td>\n",
       "      <td>factory farming allows for the production of c...</td>\n",
       "    </tr>\n",
       "    <tr>\n",
       "      <th>...</th>\n",
       "      <td>...</td>\n",
       "      <td>...</td>\n",
       "      <td>...</td>\n",
       "      <td>...</td>\n",
       "      <td>...</td>\n",
       "      <td>...</td>\n",
       "      <td>...</td>\n",
       "      <td>...</td>\n",
       "      <td>...</td>\n",
       "    </tr>\n",
       "    <tr>\n",
       "      <th>2765</th>\n",
       "      <td>E08005</td>\n",
       "      <td>0</td>\n",
       "      <td>1</td>\n",
       "      <td>2</td>\n",
       "      <td>1</td>\n",
       "      <td>[0.0, 0.25, 0.5, 0.25]</td>\n",
       "      <td>The EU should integrate the armed forces of it...</td>\n",
       "      <td>in favor of</td>\n",
       "      <td>Absolutely right. Europe needs an army for con...</td>\n",
       "    </tr>\n",
       "    <tr>\n",
       "      <th>2766</th>\n",
       "      <td>E08008</td>\n",
       "      <td>0</td>\n",
       "      <td>1</td>\n",
       "      <td>1</td>\n",
       "      <td>1</td>\n",
       "      <td>[0.0, 0.3333333333333333, 0.3333333333333333, ...</td>\n",
       "      <td>The EU should integrate the armed forces of it...</td>\n",
       "      <td>in favor of</td>\n",
       "      <td>In principle, I would be in favor of a Europea...</td>\n",
       "    </tr>\n",
       "    <tr>\n",
       "      <th>2767</th>\n",
       "      <td>E08009</td>\n",
       "      <td>0</td>\n",
       "      <td>1</td>\n",
       "      <td>1</td>\n",
       "      <td>0</td>\n",
       "      <td>[0.0, 0.5, 0.5, 0.0]</td>\n",
       "      <td>The EU should integrate the armed forces of it...</td>\n",
       "      <td>in favor of</td>\n",
       "      <td>I agree with your idea. But it is a long and a...</td>\n",
       "    </tr>\n",
       "    <tr>\n",
       "      <th>2768</th>\n",
       "      <td>E08016</td>\n",
       "      <td>0</td>\n",
       "      <td>2</td>\n",
       "      <td>1</td>\n",
       "      <td>1</td>\n",
       "      <td>[0.0, 0.5, 0.25, 0.25]</td>\n",
       "      <td>The EU should integrate the armed forces of it...</td>\n",
       "      <td>in favor of</td>\n",
       "      <td>On the one hand, we have Russia killing countl...</td>\n",
       "    </tr>\n",
       "    <tr>\n",
       "      <th>2769</th>\n",
       "      <td>E08020</td>\n",
       "      <td>1</td>\n",
       "      <td>1</td>\n",
       "      <td>1</td>\n",
       "      <td>1</td>\n",
       "      <td>[0.25, 0.25, 0.25, 0.25]</td>\n",
       "      <td>The EU should integrate the armed forces of it...</td>\n",
       "      <td>in favor of</td>\n",
       "      <td>The EU cannot endlessly lean on America or NAT...</td>\n",
       "    </tr>\n",
       "  </tbody>\n",
       "</table>\n",
       "<p>2770 rows × 9 columns</p>\n",
       "</div>"
      ],
      "text/plain": [
       "     Argument_ID  Openness to change  Self-Enhancement  Conservation   \n",
       "0         A01002                   0                 0             1  \\\n",
       "1         A01005                   0                 0             1   \n",
       "2         A01006                   0                 1             1   \n",
       "3         A01007                   0                 0             2   \n",
       "4         A01008                   0                 0             1   \n",
       "...          ...                 ...               ...           ...   \n",
       "2765      E08005                   0                 1             2   \n",
       "2766      E08008                   0                 1             1   \n",
       "2767      E08009                   0                 1             1   \n",
       "2768      E08016                   0                 2             1   \n",
       "2769      E08020                   1                 1             1   \n",
       "\n",
       "      Self-Transcendence                                             labels   \n",
       "0                      0                               [0.0, 0.0, 1.0, 0.0]  \\\n",
       "1                      0                               [0.0, 0.0, 1.0, 0.0]   \n",
       "2                      0                               [0.0, 0.5, 0.5, 0.0]   \n",
       "3                      1  [0.0, 0.0, 0.6666666666666666, 0.3333333333333...   \n",
       "4                      2  [0.0, 0.0, 0.3333333333333333, 0.6666666666666...   \n",
       "...                  ...                                                ...   \n",
       "2765                   1                             [0.0, 0.25, 0.5, 0.25]   \n",
       "2766                   1  [0.0, 0.3333333333333333, 0.3333333333333333, ...   \n",
       "2767                   0                               [0.0, 0.5, 0.5, 0.0]   \n",
       "2768                   1                             [0.0, 0.5, 0.25, 0.25]   \n",
       "2769                   1                           [0.25, 0.25, 0.25, 0.25]   \n",
       "\n",
       "                                             Conclusion       Stance   \n",
       "0                           We should ban human cloning  in favor of  \\\n",
       "1                               We should ban fast food  in favor of   \n",
       "2           We should end the use of economic sanctions      against   \n",
       "3                  We should abolish capital punishment      against   \n",
       "4                         We should ban factory farming      against   \n",
       "...                                                 ...          ...   \n",
       "2765  The EU should integrate the armed forces of it...  in favor of   \n",
       "2766  The EU should integrate the armed forces of it...  in favor of   \n",
       "2767  The EU should integrate the armed forces of it...  in favor of   \n",
       "2768  The EU should integrate the armed forces of it...  in favor of   \n",
       "2769  The EU should integrate the armed forces of it...  in favor of   \n",
       "\n",
       "                                                Premise  \n",
       "0     we should ban human cloning as it will only ca...  \n",
       "1     fast food should be banned because it is reall...  \n",
       "2     sometimes economic sanctions are the only thin...  \n",
       "3     capital punishment is sometimes the only optio...  \n",
       "4     factory farming allows for the production of c...  \n",
       "...                                                 ...  \n",
       "2765  Absolutely right. Europe needs an army for con...  \n",
       "2766  In principle, I would be in favor of a Europea...  \n",
       "2767  I agree with your idea. But it is a long and a...  \n",
       "2768  On the one hand, we have Russia killing countl...  \n",
       "2769  The EU cannot endlessly lean on America or NAT...  \n",
       "\n",
       "[2770 rows x 9 columns]"
      ]
     },
     "execution_count": 145,
     "metadata": {},
     "output_type": "execute_result"
    }
   ],
   "source": [
    "# we merge the training dataframe and the df after the undersampling \n",
    "merged_df_train = pd.merge(df, df_train, on='Argument_ID', how='inner')\n",
    "merged_df_train"
   ]
  },
  {
   "cell_type": "code",
   "execution_count": 146,
   "metadata": {},
   "outputs": [],
   "source": [
    "import spacy"
   ]
  },
  {
   "cell_type": "code",
   "execution_count": 147,
   "metadata": {},
   "outputs": [],
   "source": [
    "# we now preprocess the text in the premise\n",
    "# load the English language model\n",
    "nlp = spacy.load(\"en_core_web_sm\")"
   ]
  },
  {
   "cell_type": "code",
   "execution_count": 148,
   "metadata": {},
   "outputs": [],
   "source": [
    "def preprocess_text(text):\n",
    "    doc = nlp(text)\n",
    "    # set lowercase\n",
    "    processed_text = [token.text.lower()for token in doc]\n",
    "    return processed_text"
   ]
  },
  {
   "cell_type": "code",
   "execution_count": 149,
   "metadata": {},
   "outputs": [],
   "source": [
    "merged_df_train[\"premise_tokenized\"] = merged_df_train[\"Premise\"].apply(preprocess_text)"
   ]
  },
  {
   "cell_type": "code",
   "execution_count": 150,
   "metadata": {},
   "outputs": [],
   "source": [
    "train_corpus = merged_df_train[\"premise_tokenized\"].tolist()"
   ]
  },
  {
   "cell_type": "code",
   "execution_count": 151,
   "metadata": {},
   "outputs": [],
   "source": [
    "from keras.preprocessing.text import Tokenizer"
   ]
  },
  {
   "cell_type": "code",
   "execution_count": 152,
   "metadata": {},
   "outputs": [],
   "source": [
    "import nltk\n",
    "from nltk.corpus import stopwords\n"
   ]
  },
  {
   "cell_type": "code",
   "execution_count": 153,
   "metadata": {},
   "outputs": [],
   "source": [
    "stop_words = set(stopwords.words('english'))"
   ]
  },
  {
   "cell_type": "code",
   "execution_count": 154,
   "metadata": {},
   "outputs": [],
   "source": [
    "# we selected from the most frequent words those that seemed to too frequent (people) or less informative (would, n't, many and 's)\n",
    "most_freq_words = [\"people\", \"would\", \"'n't\", \"many\", \"'s\"]\n",
    "custom_stop_words = list(stop_words)\n",
    "custom_stop_words.append(\"people\")\n",
    "custom_stop_words = set(custom_stop_words)"
   ]
  },
  {
   "cell_type": "code",
   "execution_count": 155,
   "metadata": {},
   "outputs": [],
   "source": [
    "\n",
    "# we now need to modify the validation and test inputs so that they are a list of integers that can be fed to an Embedding layer. \n",
    "# We first create the test and validation corpus\n",
    "val_df = pd.read_csv(\"arguments-validation.tsv\", sep = \"\\t\")\n",
    "val_df = val_df.iloc[:1576]\n",
    "val_df[\"premise_tokenized\"] = val_df[\"Premise\"].apply(preprocess_text)\n",
    "val_corpus = val_df[\"premise_tokenized\"].tolist()\n",
    "\n",
    "test_df = pd.read_csv(\"arguments-test.tsv\", sep = \"\\t\")\n",
    "test_df[\"premise_tokenized\"] = test_df[\"Premise\"].apply(preprocess_text)\n",
    "test_corpus = test_df[\"premise_tokenized\"].tolist()"
   ]
  },
  {
   "cell_type": "code",
   "execution_count": 156,
   "metadata": {},
   "outputs": [],
   "source": [
    "# Modifying the train, validation and test corpus, excluding stop_words\n",
    "train_corpus = [[token for token in doc if token not in custom_stop_words] for doc in train_corpus]\n",
    "# remove numbers, but not words that contain numbers.\n",
    "train_corpus = [[token for token in doc if not token.isnumeric()] for doc in train_corpus]\n",
    "# remove words that are only one character.\n",
    "train_corpus = [[token for token in doc if len(token) > 1] for doc in train_corpus]\n",
    "\n",
    "val_corpus = [[token for token in doc if token not in custom_stop_words] for doc in val_corpus]\n",
    "val_corpus = [[token for token in doc if not token.isnumeric()] for doc in val_corpus]\n",
    "val_corpus = [[token for token in doc if len(token) > 1] for doc in val_corpus]\n",
    "\n",
    "test_corpus = [[token for token in doc if token not in custom_stop_words] for doc in test_corpus]\n",
    "test_corpus = [[token for token in doc if not token.isnumeric()] for doc in test_corpus]\n",
    "test_corpus = [[token for token in doc if len(token) > 1] for doc in test_corpus]"
   ]
  },
  {
   "cell_type": "code",
   "execution_count": 157,
   "metadata": {},
   "outputs": [],
   "source": [
    "# we now create a dictionary that has for keys the words in out dictionary and for values thei integer indices\n",
    "t = Tokenizer()\n",
    "t.fit_on_texts(train_corpus)\n",
    "train_w2id = t.word_index "
   ]
  },
  {
   "cell_type": "code",
   "execution_count": 158,
   "metadata": {},
   "outputs": [
    {
     "data": {
      "text/plain": [
       "(5364, 150)"
      ]
     },
     "execution_count": 158,
     "metadata": {},
     "output_type": "execute_result"
    }
   ],
   "source": [
    "# we now create and embedding matrix with same number of rows as the size of the vocabulary and same number of columns as the w2v features\n",
    "vocab_size = len(train_w2id) + 1\n",
    "\n",
    "embedding_matrix = np.zeros((vocab_size, emb_len))\n",
    "\n",
    "for word, i in train_w2id.items():\n",
    "    if word in w2v_model.wv:\n",
    "        embedding_matrix[i] = w2v_model.wv[word]\n",
    "\n",
    "embedding_matrix.shape"
   ]
  },
  {
   "cell_type": "code",
   "execution_count": 159,
   "metadata": {},
   "outputs": [],
   "source": [
    "# Now we tranform the corpus in a list of integers representing the words for each document\n",
    "X_train_seq = t.texts_to_sequences(train_corpus)\n",
    "X_val_seq = t.texts_to_sequences(val_corpus)\n",
    "X_test_seq = t.texts_to_sequences(test_corpus)"
   ]
  },
  {
   "cell_type": "code",
   "execution_count": 160,
   "metadata": {},
   "outputs": [],
   "source": [
    "# padding the sequences\n",
    "X_train_seq = pad_sequences(X_train_seq, max_len)\n",
    "X_val_seq = pad_sequences(X_val_seq, max_len)\n",
    "X_test_seq = pad_sequences(X_test_seq, max_len)"
   ]
  },
  {
   "cell_type": "code",
   "execution_count": 161,
   "metadata": {},
   "outputs": [],
   "source": [
    "emb_layer = Embedding(input_dim=vocab_size, output_dim=emb_len, weights = [embedding_matrix], input_length = max_len, trainable = True)"
   ]
  },
  {
   "cell_type": "code",
   "execution_count": 165,
   "metadata": {},
   "outputs": [],
   "source": [
    "lstm_emb = Sequential()\n",
    "\n",
    "\n",
    "lstm_emb.add(emb_layer)\n",
    "lstm_emb.add(LSTM(100, activation=\"relu\", dropout=0.2, input_shape = (max_len, emb_len), return_sequences=True))\n",
    "lstm_emb.add(Dropout(0.3))\n",
    "lstm_emb.add(LSTM(50, activation=\"relu\", dropout=0.2))\n",
    "lstm_emb.add(Dropout(0.3))\n",
    "lstm_emb.add(Dense(4, activation=\"sigmoid\"))\n",
    "\n",
    "lstm_emb.compile(loss = \"binary_crossentropy\", optimizer = \"adam\", metrics = [\"accuracy\"])"
   ]
  },
  {
   "cell_type": "code",
   "execution_count": 166,
   "metadata": {},
   "outputs": [
    {
     "name": "stdout",
     "output_type": "stream",
     "text": [
      "Epoch 1/5\n",
      "44/44 [==============================] - 10s 173ms/step - loss: 0.6144 - accuracy: 0.2581 - val_loss: 0.6472 - val_accuracy: 0.3395\n",
      "Epoch 2/5\n",
      "44/44 [==============================] - 7s 167ms/step - loss: 0.5598 - accuracy: 0.4650 - val_loss: 0.6392 - val_accuracy: 0.2900\n",
      "Epoch 3/5\n",
      "44/44 [==============================] - 8s 184ms/step - loss: 0.5566 - accuracy: 0.4881 - val_loss: 0.6363 - val_accuracy: 0.3052\n",
      "Epoch 4/5\n",
      "44/44 [==============================] - 8s 174ms/step - loss: 0.5161 - accuracy: 0.5065 - val_loss: 0.6460 - val_accuracy: 0.3706\n",
      "Epoch 5/5\n",
      "44/44 [==============================] - 7s 164ms/step - loss: 0.4871 - accuracy: 0.5260 - val_loss: 0.6385 - val_accuracy: 0.3312\n"
     ]
    }
   ],
   "source": [
    "history = lstm_emb.fit(X_train_seq, y_train,\n",
    "        epochs=5,\n",
    "        validation_data=(X_val_seq, y_val),\n",
    "        batch_size=64,\n",
    "        verbose=1)\n",
    "\n"
   ]
  },
  {
   "cell_type": "code",
   "execution_count": 167,
   "metadata": {},
   "outputs": [
    {
     "name": "stdout",
     "output_type": "stream",
     "text": [
      "50/50 [==============================] - 2s 26ms/step\n",
      "              precision    recall  f1-score   support\n",
      "\n",
      "           0       0.50      0.69      0.58       614\n",
      "           1       0.51      0.83      0.63       660\n",
      "           2       0.78      0.85      0.81      1181\n",
      "           3       0.77      0.94      0.85      1204\n",
      "\n",
      "   micro avg       0.66      0.85      0.75      3659\n",
      "   macro avg       0.64      0.83      0.72      3659\n",
      "weighted avg       0.68      0.85      0.75      3659\n",
      " samples avg       0.68      0.86      0.72      3659\n",
      "\n"
     ]
    }
   ],
   "source": [
    "threshold = 0.5\n",
    "y_pred_probs = lstm_emb.predict(X_val_seq)\n",
    "\n",
    "# Convert probabilities to binary predictions\n",
    "y_pred_binary = (y_pred_probs > threshold).astype(int)\n",
    "\n",
    "# Print classification report\n",
    "print(classification_report(y_val, y_pred_binary))"
   ]
  },
  {
   "cell_type": "code",
   "execution_count": 96,
   "metadata": {},
   "outputs": [
    {
     "data": {
      "text/plain": [
       "array([[0, 0, 1, 0],\n",
       "       [0, 0, 0, 1],\n",
       "       [0, 0, 1, 1],\n",
       "       ...,\n",
       "       [1, 0, 1, 1],\n",
       "       [0, 0, 1, 1],\n",
       "       [1, 1, 1, 1]])"
      ]
     },
     "execution_count": 96,
     "metadata": {},
     "output_type": "execute_result"
    }
   ],
   "source": [
    "y_val"
   ]
  },
  {
   "cell_type": "code",
   "execution_count": 168,
   "metadata": {},
   "outputs": [
    {
     "data": {
      "text/plain": [
       "array([[0.36733866, 0.57474875, 0.61256826, 0.6799597 ],\n",
       "       [0.24098738, 0.8706058 , 0.80069584, 0.6935707 ],\n",
       "       [0.3276463 , 0.6352622 , 0.77044106, 0.78641385],\n",
       "       ...,\n",
       "       [0.58401424, 0.5954576 , 0.7766377 , 0.7667901 ],\n",
       "       [0.56489366, 0.5144022 , 0.934897  , 0.7893493 ],\n",
       "       [0.68643403, 0.65925103, 0.68188304, 0.7134536 ]], dtype=float32)"
      ]
     },
     "execution_count": 168,
     "metadata": {},
     "output_type": "execute_result"
    }
   ],
   "source": [
    "y_pred_probs"
   ]
  },
  {
   "cell_type": "markdown",
   "metadata": {},
   "source": [
    "Given that the performance doesn't seem to improve with the embedding layer but at least the model is not always predicting the same values, we try the test set in both the models"
   ]
  },
  {
   "cell_type": "code",
   "execution_count": 172,
   "metadata": {},
   "outputs": [],
   "source": [
    "%store -r y_test"
   ]
  },
  {
   "cell_type": "code",
   "execution_count": 173,
   "metadata": {},
   "outputs": [
    {
     "name": "stdout",
     "output_type": "stream",
     "text": [
      "50/50 [==============================] - 2s 35ms/step\n",
      "              precision    recall  f1-score   support\n",
      "\n",
      "           0       0.39      0.66      0.49       474\n",
      "           1       0.47      0.79      0.59       628\n",
      "           2       0.71      0.91      0.80      1082\n",
      "           3       0.81      0.96      0.88      1254\n",
      "\n",
      "   micro avg       0.64      0.87      0.74      3438\n",
      "   macro avg       0.60      0.83      0.69      3438\n",
      "weighted avg       0.66      0.87      0.75      3438\n",
      " samples avg       0.65      0.88      0.72      3438\n",
      "\n"
     ]
    }
   ],
   "source": [
    "threshold = 0.5\n",
    "y_pred_probs = lstm_emb.predict(X_test_seq)\n",
    "\n",
    "# Convert probabilities to binary predictions\n",
    "y_pred_binary = (y_pred_probs > threshold).astype(int)\n",
    "\n",
    "# Print classification report\n",
    "print(classification_report(y_test, y_pred_binary))"
   ]
  },
  {
   "cell_type": "code",
   "execution_count": 174,
   "metadata": {},
   "outputs": [
    {
     "data": {
      "text/plain": [
       "array([[0.46003476, 0.7245192 , 0.60689986, 0.5432678 ],\n",
       "       [0.5148615 , 0.52956253, 0.53116006, 0.5756316 ],\n",
       "       [0.25479624, 0.50729334, 0.75395226, 0.88303185],\n",
       "       ...,\n",
       "       [0.13885248, 0.9744267 , 0.92457515, 0.6660351 ],\n",
       "       [0.2772943 , 0.93334013, 0.6731743 , 0.5776182 ],\n",
       "       [0.50797075, 0.6108488 , 0.62459415, 0.58427715]], dtype=float32)"
      ]
     },
     "execution_count": 174,
     "metadata": {},
     "output_type": "execute_result"
    }
   ],
   "source": [
    "y_pred_probs"
   ]
  }
 ],
 "metadata": {
  "kernelspec": {
   "display_name": "Python 3",
   "language": "python",
   "name": "python3"
  },
  "language_info": {
   "codemirror_mode": {
    "name": "ipython",
    "version": 3
   },
   "file_extension": ".py",
   "mimetype": "text/x-python",
   "name": "python",
   "nbconvert_exporter": "python",
   "pygments_lexer": "ipython3",
   "version": "3.11.1"
  }
 },
 "nbformat": 4,
 "nbformat_minor": 2
}
