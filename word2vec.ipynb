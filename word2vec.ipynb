{
  "cells": [
    {
      "cell_type": "code",
      "execution_count": 10,
      "metadata": {
        "colab": {
          "base_uri": "https://localhost:8080/"
        },
        "id": "KLHc2L1uHaq-",
        "outputId": "da7ed371-49e3-4764-f719-b9ed8c3e2457"
      },
      "outputs": [
        {
          "name": "stdout",
          "output_type": "stream",
          "text": [
            "Requirement already satisfied: gensim in /usr/local/lib/python3.10/dist-packages (4.3.2)\n",
            "Requirement already satisfied: numpy>=1.18.5 in /usr/local/lib/python3.10/dist-packages (from gensim) (1.23.5)\n",
            "Requirement already satisfied: scipy>=1.7.0 in /usr/local/lib/python3.10/dist-packages (from gensim) (1.11.4)\n",
            "Requirement already satisfied: smart-open>=1.8.1 in /usr/local/lib/python3.10/dist-packages (from gensim) (6.4.0)\n",
            "Requirement already satisfied: pandas in /usr/local/lib/python3.10/dist-packages (1.5.3)\n",
            "Requirement already satisfied: python-dateutil>=2.8.1 in /usr/local/lib/python3.10/dist-packages (from pandas) (2.8.2)\n",
            "Requirement already satisfied: pytz>=2020.1 in /usr/local/lib/python3.10/dist-packages (from pandas) (2023.3.post1)\n",
            "Requirement already satisfied: numpy>=1.21.0 in /usr/local/lib/python3.10/dist-packages (from pandas) (1.23.5)\n",
            "Requirement already satisfied: six>=1.5 in /usr/local/lib/python3.10/dist-packages (from python-dateutil>=2.8.1->pandas) (1.16.0)\n",
            "Requirement already satisfied: spacy in /usr/local/lib/python3.10/dist-packages (3.6.1)\n",
            "Requirement already satisfied: spacy-legacy<3.1.0,>=3.0.11 in /usr/local/lib/python3.10/dist-packages (from spacy) (3.0.12)\n",
            "Requirement already satisfied: spacy-loggers<2.0.0,>=1.0.0 in /usr/local/lib/python3.10/dist-packages (from spacy) (1.0.5)\n",
            "Requirement already satisfied: murmurhash<1.1.0,>=0.28.0 in /usr/local/lib/python3.10/dist-packages (from spacy) (1.0.10)\n",
            "Requirement already satisfied: cymem<2.1.0,>=2.0.2 in /usr/local/lib/python3.10/dist-packages (from spacy) (2.0.8)\n",
            "Requirement already satisfied: preshed<3.1.0,>=3.0.2 in /usr/local/lib/python3.10/dist-packages (from spacy) (3.0.9)\n",
            "Requirement already satisfied: thinc<8.2.0,>=8.1.8 in /usr/local/lib/python3.10/dist-packages (from spacy) (8.1.12)\n",
            "Requirement already satisfied: wasabi<1.2.0,>=0.9.1 in /usr/local/lib/python3.10/dist-packages (from spacy) (1.1.2)\n",
            "Requirement already satisfied: srsly<3.0.0,>=2.4.3 in /usr/local/lib/python3.10/dist-packages (from spacy) (2.4.8)\n",
            "Requirement already satisfied: catalogue<2.1.0,>=2.0.6 in /usr/local/lib/python3.10/dist-packages (from spacy) (2.0.10)\n",
            "Requirement already satisfied: typer<0.10.0,>=0.3.0 in /usr/local/lib/python3.10/dist-packages (from spacy) (0.9.0)\n",
            "Requirement already satisfied: pathy>=0.10.0 in /usr/local/lib/python3.10/dist-packages (from spacy) (0.10.3)\n",
            "Requirement already satisfied: smart-open<7.0.0,>=5.2.1 in /usr/local/lib/python3.10/dist-packages (from spacy) (6.4.0)\n",
            "Requirement already satisfied: tqdm<5.0.0,>=4.38.0 in /usr/local/lib/python3.10/dist-packages (from spacy) (4.66.1)\n",
            "Requirement already satisfied: numpy>=1.15.0 in /usr/local/lib/python3.10/dist-packages (from spacy) (1.23.5)\n",
            "Requirement already satisfied: requests<3.0.0,>=2.13.0 in /usr/local/lib/python3.10/dist-packages (from spacy) (2.31.0)\n",
            "Requirement already satisfied: pydantic!=1.8,!=1.8.1,<3.0.0,>=1.7.4 in /usr/local/lib/python3.10/dist-packages (from spacy) (1.10.13)\n",
            "Requirement already satisfied: jinja2 in /usr/local/lib/python3.10/dist-packages (from spacy) (3.1.2)\n",
            "Requirement already satisfied: setuptools in /usr/local/lib/python3.10/dist-packages (from spacy) (67.7.2)\n",
            "Requirement already satisfied: packaging>=20.0 in /usr/local/lib/python3.10/dist-packages (from spacy) (23.2)\n",
            "Requirement already satisfied: langcodes<4.0.0,>=3.2.0 in /usr/local/lib/python3.10/dist-packages (from spacy) (3.3.0)\n",
            "Requirement already satisfied: typing-extensions>=4.2.0 in /usr/local/lib/python3.10/dist-packages (from pydantic!=1.8,!=1.8.1,<3.0.0,>=1.7.4->spacy) (4.5.0)\n",
            "Requirement already satisfied: charset-normalizer<4,>=2 in /usr/local/lib/python3.10/dist-packages (from requests<3.0.0,>=2.13.0->spacy) (3.3.2)\n",
            "Requirement already satisfied: idna<4,>=2.5 in /usr/local/lib/python3.10/dist-packages (from requests<3.0.0,>=2.13.0->spacy) (3.6)\n",
            "Requirement already satisfied: urllib3<3,>=1.21.1 in /usr/local/lib/python3.10/dist-packages (from requests<3.0.0,>=2.13.0->spacy) (2.0.7)\n",
            "Requirement already satisfied: certifi>=2017.4.17 in /usr/local/lib/python3.10/dist-packages (from requests<3.0.0,>=2.13.0->spacy) (2023.11.17)\n",
            "Requirement already satisfied: blis<0.8.0,>=0.7.8 in /usr/local/lib/python3.10/dist-packages (from thinc<8.2.0,>=8.1.8->spacy) (0.7.11)\n",
            "Requirement already satisfied: confection<1.0.0,>=0.0.1 in /usr/local/lib/python3.10/dist-packages (from thinc<8.2.0,>=8.1.8->spacy) (0.1.4)\n",
            "Requirement already satisfied: click<9.0.0,>=7.1.1 in /usr/local/lib/python3.10/dist-packages (from typer<0.10.0,>=0.3.0->spacy) (8.1.7)\n",
            "Requirement already satisfied: MarkupSafe>=2.0 in /usr/local/lib/python3.10/dist-packages (from jinja2->spacy) (2.1.3)\n",
            "\u001b[31mERROR: Could not find a version that satisfies the requirement csv (from versions: none)\u001b[0m\u001b[31m\n",
            "\u001b[0m\u001b[31mERROR: No matching distribution found for csv\u001b[0m\u001b[31m\n",
            "\u001b[0m\u001b[31mERROR: Could not find a version that satisfies the requirement matplotlib.pyplot (from versions: none)\u001b[0m\u001b[31m\n",
            "\u001b[0m\u001b[31mERROR: No matching distribution found for matplotlib.pyplot\u001b[0m\u001b[31m\n",
            "\u001b[0mCollecting sklearn\n",
            "  Downloading sklearn-0.0.post12.tar.gz (2.6 kB)\n",
            "  \u001b[1;31merror\u001b[0m: \u001b[1msubprocess-exited-with-error\u001b[0m\n",
            "  \n",
            "  \u001b[31m×\u001b[0m \u001b[32mpython setup.py egg_info\u001b[0m did not run successfully.\n",
            "  \u001b[31m│\u001b[0m exit code: \u001b[1;36m1\u001b[0m\n",
            "  \u001b[31m╰─>\u001b[0m See above for output.\n",
            "  \n",
            "  \u001b[1;35mnote\u001b[0m: This error originates from a subprocess, and is likely not a problem with pip.\n",
            "  Preparing metadata (setup.py) ... \u001b[?25l\u001b[?25herror\n",
            "\u001b[1;31merror\u001b[0m: \u001b[1mmetadata-generation-failed\u001b[0m\n",
            "\n",
            "\u001b[31m×\u001b[0m Encountered error while generating package metadata.\n",
            "\u001b[31m╰─>\u001b[0m See above for output.\n",
            "\n",
            "\u001b[1;35mnote\u001b[0m: This is an issue with the package mentioned above, not pip.\n",
            "\u001b[1;36mhint\u001b[0m: See above for details.\n"
          ]
        }
      ],
      "source": [
        "!pip install gensim\n",
        "!pip install pandas\n",
        "!pip install spacy\n",
        "!pip install csv\n",
        "!pip install matplotlib.pyplot\n",
        "!pip install sklearn"
      ]
    },
    {
      "cell_type": "code",
      "execution_count": 100,
      "metadata": {
        "id": "id3ythhuHWnh"
      },
      "outputs": [],
      "source": [
        "import pandas as pd\n",
        "import matplotlib.pyplot as plt\n",
        "import spacy\n",
        "import requests\n",
        "import csv\n",
        "import gensim\n",
        "from gensim.models import Word2Vec"
      ]
    },
    {
      "cell_type": "code",
      "execution_count": 101,
      "metadata": {
        "id": "KOOu3kmDHWnl"
      },
      "outputs": [],
      "source": [
        "file_path = \"./arguments-training.tsv\""
      ]
    },
    {
      "cell_type": "code",
      "execution_count": 102,
      "metadata": {
        "id": "6wbxLas9HWnm"
      },
      "outputs": [],
      "source": [
        "nlp = spacy.load(\"en_core_web_sm\")"
      ]
    },
    {
      "cell_type": "code",
      "execution_count": 103,
      "metadata": {
        "id": "WSPHRxb2HWnn"
      },
      "outputs": [],
      "source": [
        "# Lista per salvare le frasi tokenizzate\n",
        "tok_sents = []\n",
        "\n",
        "# Estrai e tokenizza la premessa di ciascuna riga nel file TSV\n",
        "with open(file_path, 'r', encoding='utf-8', newline='') as file:\n",
        "    reader = csv.DictReader(file, delimiter='\\t')\n",
        "    for row in reader:\n",
        "        premise_tokens = [token.text.lower() for token in nlp(row['Premise'])]\n",
        "        tok_sents.append(premise_tokens)"
      ]
    },
    {
      "cell_type": "code",
      "execution_count": 104,
      "metadata": {},
      "outputs": [],
      "source": [
        "# deleting the missing row\n",
        "del tok_sents[3358]"
      ]
    },
    {
      "cell_type": "code",
      "execution_count": 25,
      "metadata": {
        "colab": {
          "base_uri": "https://localhost:8080/"
        },
        "id": "_0b9XxXyHWnr",
        "outputId": "9ad94b23-0291-4694-c1b2-274c031f652d"
      },
      "outputs": [
        {
          "name": "stdout",
          "output_type": "stream",
          "text": [
            ": capital-common-countries\n",
            "Athens Greece Baghdad Iraq\n",
            "Athens Greece Bangkok Thailand\n",
            "Athens Greece Beijing China\n",
            "Athens Greece Berlin Germany\n",
            "Athens Greece Bern Switzerland\n",
            "Athens Greece Cairo Egypt\n",
            "Athens Greece Canberra Australia\n",
            "Athens Greece Hanoi Vietnam\n",
            "Athens Greece Havana Cuba\n",
            "Athens Greece Helsinki Finland\n",
            "Athens Greece Islamabad Pakistan\n",
            "Athens Greece Kabul Afghanistan\n",
            "Athens Greece London England\n",
            "Athens Greece Madrid Spain\n",
            "Athens Greece Moscow Russia\n",
            "Athens Greece Oslo Norway\n",
            "Athens Greece Ottawa Canada\n",
            "Athens Greece Paris France\n",
            "Athens Greece Rome Italy\n",
            "Athens Greece Stockholm Sweden\n",
            "Athens Greece Tehran Iran\n",
            "Athens Greece Tokyo Japan\n",
            "Baghdad Iraq Bangkok Thailand\n",
            "Baghdad Iraq Beijing China\n",
            "Baghdad Iraq Berlin Germany\n",
            "Baghdad Iraq Bern Switzerland\n",
            "Baghdad Iraq Cairo Egypt\n",
            "Baghdad Iraq Canberra Australia\n",
            "Baghdad Iraq Hanoi Vietnam\n",
            "Baghdad Iraq Havana Cuba\n",
            "Baghdad Iraq Helsinki Finland\n",
            "Baghdad Iraq Islamabad Pakistan\n",
            "Baghdad Iraq Kabul Afghanistan\n",
            "Baghdad Iraq London England\n",
            "\n"
          ]
        }
      ],
      "source": [
        "url = \"https://raw.githubusercontent.com/nicholas-leonard/word2vec/master/questions-words.txt\"\n",
        "test_file = 'questions-words.txt'\n",
        "questions = requests.get(url).content.decode()\n",
        "with open(test_file,mode='w',encoding='utf-8') as outputfile:\n",
        "    outputfile.write(questions)\n",
        "print(questions[:1000])"
      ]
    },
    {
      "cell_type": "markdown",
      "metadata": {},
      "source": [
        "Ricerca Parametri per miglior modello Word2Vec"
      ]
    },
    {
      "cell_type": "code",
      "execution_count": 16,
      "metadata": {
        "colab": {
          "base_uri": "https://localhost:8080/",
          "height": 1000
        },
        "id": "k1h-A4RLHWnt",
        "outputId": "0698383f-1228-48f2-a960-06e47e4d31f7"
      },
      "outputs": [
        {
          "name": "stderr",
          "output_type": "stream",
          "text": [
            "\rProgresso:   0%|          | 0/216 [00:00<?, ?it/s]"
          ]
        },
        {
          "data": {
            "text/html": [
              "<progress value=\"0.0\" max=\"100\"></progress>"
            ],
            "text/plain": [
              "<IPython.core.display.HTML object>"
            ]
          },
          "metadata": {},
          "output_type": "display_data"
        },
        {
          "name": "stderr",
          "output_type": "stream",
          "text": [
            "\rProgresso:   0%|          | 1/216 [00:04<15:16,  4.26s/it]"
          ]
        },
        {
          "data": {
            "text/html": [
              "<progress value=\"0.4629629629629629\" max=\"100\"></progress>"
            ],
            "text/plain": [
              "<IPython.core.display.HTML object>"
            ]
          },
          "metadata": {},
          "output_type": "display_data"
        },
        {
          "name": "stderr",
          "output_type": "stream",
          "text": [
            "\rProgresso:   1%|          | 2/216 [00:08<14:19,  4.02s/it]"
          ]
        },
        {
          "data": {
            "text/html": [
              "<progress value=\"0.9259259259259258\" max=\"100\"></progress>"
            ],
            "text/plain": [
              "<IPython.core.display.HTML object>"
            ]
          },
          "metadata": {},
          "output_type": "display_data"
        },
        {
          "name": "stderr",
          "output_type": "stream",
          "text": [
            "\rProgresso:   1%|▏         | 3/216 [00:10<12:25,  3.50s/it]"
          ]
        },
        {
          "data": {
            "text/html": [
              "<progress value=\"1.3888888888888888\" max=\"100\"></progress>"
            ],
            "text/plain": [
              "<IPython.core.display.HTML object>"
            ]
          },
          "metadata": {},
          "output_type": "display_data"
        },
        {
          "name": "stderr",
          "output_type": "stream",
          "text": [
            "\rProgresso:   2%|▏         | 4/216 [00:14<12:22,  3.50s/it]"
          ]
        },
        {
          "data": {
            "text/html": [
              "<progress value=\"1.8518518518518516\" max=\"100\"></progress>"
            ],
            "text/plain": [
              "<IPython.core.display.HTML object>"
            ]
          },
          "metadata": {},
          "output_type": "display_data"
        },
        {
          "name": "stderr",
          "output_type": "stream",
          "text": [
            "\rProgresso:   2%|▏         | 5/216 [00:19<14:23,  4.09s/it]"
          ]
        },
        {
          "data": {
            "text/html": [
              "<progress value=\"2.314814814814815\" max=\"100\"></progress>"
            ],
            "text/plain": [
              "<IPython.core.display.HTML object>"
            ]
          },
          "metadata": {},
          "output_type": "display_data"
        },
        {
          "name": "stderr",
          "output_type": "stream",
          "text": [
            "\rProgresso:   3%|▎         | 6/216 [00:24<15:31,  4.43s/it]"
          ]
        },
        {
          "data": {
            "text/html": [
              "<progress value=\"2.7777777777777777\" max=\"100\"></progress>"
            ],
            "text/plain": [
              "<IPython.core.display.HTML object>"
            ]
          },
          "metadata": {},
          "output_type": "display_data"
        },
        {
          "name": "stderr",
          "output_type": "stream",
          "text": [
            "\rProgresso:   3%|▎         | 7/216 [00:28<14:11,  4.07s/it]"
          ]
        },
        {
          "data": {
            "text/html": [
              "<progress value=\"3.2407407407407405\" max=\"100\"></progress>"
            ],
            "text/plain": [
              "<IPython.core.display.HTML object>"
            ]
          },
          "metadata": {},
          "output_type": "display_data"
        },
        {
          "name": "stderr",
          "output_type": "stream",
          "text": [
            "\rProgresso:   4%|▎         | 8/216 [00:31<13:25,  3.87s/it]"
          ]
        },
        {
          "data": {
            "text/html": [
              "<progress value=\"3.7037037037037033\" max=\"100\"></progress>"
            ],
            "text/plain": [
              "<IPython.core.display.HTML object>"
            ]
          },
          "metadata": {},
          "output_type": "display_data"
        },
        {
          "name": "stderr",
          "output_type": "stream",
          "text": [
            "\rProgresso:   4%|▍         | 9/216 [00:37<15:50,  4.59s/it]"
          ]
        },
        {
          "data": {
            "text/html": [
              "<progress value=\"4.166666666666666\" max=\"100\"></progress>"
            ],
            "text/plain": [
              "<IPython.core.display.HTML object>"
            ]
          },
          "metadata": {},
          "output_type": "display_data"
        },
        {
          "name": "stderr",
          "output_type": "stream",
          "text": [
            "\rProgresso:   5%|▍         | 10/216 [00:45<19:02,  5.55s/it]"
          ]
        },
        {
          "data": {
            "text/html": [
              "<progress value=\"4.62962962962963\" max=\"100\"></progress>"
            ],
            "text/plain": [
              "<IPython.core.display.HTML object>"
            ]
          },
          "metadata": {},
          "output_type": "display_data"
        },
        {
          "name": "stderr",
          "output_type": "stream",
          "text": [
            "\rProgresso:   5%|▌         | 11/216 [00:59<27:33,  8.07s/it]"
          ]
        },
        {
          "data": {
            "text/html": [
              "<progress value=\"5.092592592592593\" max=\"100\"></progress>"
            ],
            "text/plain": [
              "<IPython.core.display.HTML object>"
            ]
          },
          "metadata": {},
          "output_type": "display_data"
        },
        {
          "name": "stderr",
          "output_type": "stream",
          "text": [
            "\rProgresso:   6%|▌         | 12/216 [01:16<36:34, 10.76s/it]"
          ]
        },
        {
          "data": {
            "text/html": [
              "<progress value=\"5.555555555555555\" max=\"100\"></progress>"
            ],
            "text/plain": [
              "<IPython.core.display.HTML object>"
            ]
          },
          "metadata": {},
          "output_type": "display_data"
        },
        {
          "name": "stderr",
          "output_type": "stream",
          "text": [
            "\rProgresso:   6%|▌         | 13/216 [01:29<39:33, 11.69s/it]"
          ]
        },
        {
          "data": {
            "text/html": [
              "<progress value=\"6.018518518518518\" max=\"100\"></progress>"
            ],
            "text/plain": [
              "<IPython.core.display.HTML object>"
            ]
          },
          "metadata": {},
          "output_type": "display_data"
        },
        {
          "name": "stderr",
          "output_type": "stream",
          "text": [
            "\rProgresso:   6%|▋         | 14/216 [01:49<47:33, 14.13s/it]"
          ]
        },
        {
          "data": {
            "text/html": [
              "<progress value=\"6.481481481481481\" max=\"100\"></progress>"
            ],
            "text/plain": [
              "<IPython.core.display.HTML object>"
            ]
          },
          "metadata": {},
          "output_type": "display_data"
        },
        {
          "name": "stderr",
          "output_type": "stream",
          "text": [
            "\rProgresso:   7%|▋         | 15/216 [02:16<1:00:05, 17.94s/it]"
          ]
        },
        {
          "data": {
            "text/html": [
              "<progress value=\"6.944444444444445\" max=\"100\"></progress>"
            ],
            "text/plain": [
              "<IPython.core.display.HTML object>"
            ]
          },
          "metadata": {},
          "output_type": "display_data"
        },
        {
          "name": "stderr",
          "output_type": "stream",
          "text": [
            "\rProgresso:   7%|▋         | 16/216 [02:28<53:46, 16.13s/it]  "
          ]
        },
        {
          "data": {
            "text/html": [
              "<progress value=\"7.4074074074074066\" max=\"100\"></progress>"
            ],
            "text/plain": [
              "<IPython.core.display.HTML object>"
            ]
          },
          "metadata": {},
          "output_type": "display_data"
        },
        {
          "name": "stderr",
          "output_type": "stream",
          "text": [
            "\rProgresso:   8%|▊         | 17/216 [02:45<54:48, 16.52s/it]"
          ]
        },
        {
          "data": {
            "text/html": [
              "<progress value=\"7.87037037037037\" max=\"100\"></progress>"
            ],
            "text/plain": [
              "<IPython.core.display.HTML object>"
            ]
          },
          "metadata": {},
          "output_type": "display_data"
        },
        {
          "name": "stderr",
          "output_type": "stream",
          "text": [
            "\rProgresso:   8%|▊         | 18/216 [03:06<58:59, 17.88s/it]"
          ]
        },
        {
          "data": {
            "text/html": [
              "<progress value=\"8.333333333333332\" max=\"100\"></progress>"
            ],
            "text/plain": [
              "<IPython.core.display.HTML object>"
            ]
          },
          "metadata": {},
          "output_type": "display_data"
        },
        {
          "name": "stderr",
          "output_type": "stream",
          "text": [
            "\rProgresso:   9%|▉         | 19/216 [03:10<44:22, 13.51s/it]"
          ]
        },
        {
          "data": {
            "text/html": [
              "<progress value=\"8.796296296296296\" max=\"100\"></progress>"
            ],
            "text/plain": [
              "<IPython.core.display.HTML object>"
            ]
          },
          "metadata": {},
          "output_type": "display_data"
        },
        {
          "name": "stderr",
          "output_type": "stream",
          "text": [
            "\rProgresso:   9%|▉         | 20/216 [03:13<34:31, 10.57s/it]"
          ]
        },
        {
          "data": {
            "text/html": [
              "<progress value=\"9.25925925925926\" max=\"100\"></progress>"
            ],
            "text/plain": [
              "<IPython.core.display.HTML object>"
            ]
          },
          "metadata": {},
          "output_type": "display_data"
        },
        {
          "name": "stderr",
          "output_type": "stream",
          "text": [
            "\rProgresso:  10%|▉         | 21/216 [03:16<26:31,  8.16s/it]"
          ]
        },
        {
          "data": {
            "text/html": [
              "<progress value=\"9.722222222222223\" max=\"100\"></progress>"
            ],
            "text/plain": [
              "<IPython.core.display.HTML object>"
            ]
          },
          "metadata": {},
          "output_type": "display_data"
        },
        {
          "name": "stderr",
          "output_type": "stream",
          "text": [
            "\rProgresso:  10%|█         | 22/216 [03:19<21:31,  6.65s/it]"
          ]
        },
        {
          "data": {
            "text/html": [
              "<progress value=\"10.185185185185185\" max=\"100\"></progress>"
            ],
            "text/plain": [
              "<IPython.core.display.HTML object>"
            ]
          },
          "metadata": {},
          "output_type": "display_data"
        },
        {
          "name": "stderr",
          "output_type": "stream",
          "text": [
            "\rProgresso:  11%|█         | 23/216 [03:22<18:14,  5.67s/it]"
          ]
        },
        {
          "data": {
            "text/html": [
              "<progress value=\"10.648148148148149\" max=\"100\"></progress>"
            ],
            "text/plain": [
              "<IPython.core.display.HTML object>"
            ]
          },
          "metadata": {},
          "output_type": "display_data"
        },
        {
          "name": "stderr",
          "output_type": "stream",
          "text": [
            "\rProgresso:  11%|█         | 24/216 [03:28<18:28,  5.77s/it]"
          ]
        },
        {
          "data": {
            "text/html": [
              "<progress value=\"11.11111111111111\" max=\"100\"></progress>"
            ],
            "text/plain": [
              "<IPython.core.display.HTML object>"
            ]
          },
          "metadata": {},
          "output_type": "display_data"
        },
        {
          "name": "stderr",
          "output_type": "stream",
          "text": [
            "\rProgresso:  12%|█▏        | 25/216 [03:31<15:31,  4.87s/it]"
          ]
        },
        {
          "data": {
            "text/html": [
              "<progress value=\"11.574074074074074\" max=\"100\"></progress>"
            ],
            "text/plain": [
              "<IPython.core.display.HTML object>"
            ]
          },
          "metadata": {},
          "output_type": "display_data"
        },
        {
          "name": "stderr",
          "output_type": "stream",
          "text": [
            "\rProgresso:  12%|█▏        | 26/216 [03:34<13:39,  4.32s/it]"
          ]
        },
        {
          "data": {
            "text/html": [
              "<progress value=\"12.037037037037036\" max=\"100\"></progress>"
            ],
            "text/plain": [
              "<IPython.core.display.HTML object>"
            ]
          },
          "metadata": {},
          "output_type": "display_data"
        },
        {
          "name": "stderr",
          "output_type": "stream",
          "text": [
            "\rProgresso:  12%|█▎        | 27/216 [03:37<12:28,  3.96s/it]"
          ]
        },
        {
          "data": {
            "text/html": [
              "<progress value=\"12.5\" max=\"100\"></progress>"
            ],
            "text/plain": [
              "<IPython.core.display.HTML object>"
            ]
          },
          "metadata": {},
          "output_type": "display_data"
        },
        {
          "name": "stderr",
          "output_type": "stream",
          "text": [
            "\rProgresso:  13%|█▎        | 28/216 [03:47<17:57,  5.73s/it]"
          ]
        },
        {
          "data": {
            "text/html": [
              "<progress value=\"12.962962962962962\" max=\"100\"></progress>"
            ],
            "text/plain": [
              "<IPython.core.display.HTML object>"
            ]
          },
          "metadata": {},
          "output_type": "display_data"
        },
        {
          "name": "stderr",
          "output_type": "stream",
          "text": [
            "\rProgresso:  13%|█▎        | 29/216 [04:00<24:16,  7.79s/it]"
          ]
        },
        {
          "data": {
            "text/html": [
              "<progress value=\"13.425925925925927\" max=\"100\"></progress>"
            ],
            "text/plain": [
              "<IPython.core.display.HTML object>"
            ]
          },
          "metadata": {},
          "output_type": "display_data"
        },
        {
          "name": "stderr",
          "output_type": "stream",
          "text": [
            "\rProgresso:  14%|█▍        | 30/216 [04:15<31:03, 10.02s/it]"
          ]
        },
        {
          "data": {
            "text/html": [
              "<progress value=\"13.88888888888889\" max=\"100\"></progress>"
            ],
            "text/plain": [
              "<IPython.core.display.HTML object>"
            ]
          },
          "metadata": {},
          "output_type": "display_data"
        },
        {
          "name": "stderr",
          "output_type": "stream",
          "text": [
            "\rProgresso:  14%|█▍        | 31/216 [04:26<31:17, 10.15s/it]"
          ]
        },
        {
          "data": {
            "text/html": [
              "<progress value=\"14.351851851851851\" max=\"100\"></progress>"
            ],
            "text/plain": [
              "<IPython.core.display.HTML object>"
            ]
          },
          "metadata": {},
          "output_type": "display_data"
        },
        {
          "name": "stderr",
          "output_type": "stream",
          "text": [
            "\rProgresso:  15%|█▍        | 32/216 [04:45<40:08, 13.09s/it]"
          ]
        },
        {
          "data": {
            "text/html": [
              "<progress value=\"14.814814814814813\" max=\"100\"></progress>"
            ],
            "text/plain": [
              "<IPython.core.display.HTML object>"
            ]
          },
          "metadata": {},
          "output_type": "display_data"
        },
        {
          "name": "stderr",
          "output_type": "stream",
          "text": [
            "\rProgresso:  15%|█▌        | 33/216 [05:07<47:53, 15.70s/it]"
          ]
        },
        {
          "data": {
            "text/html": [
              "<progress value=\"15.277777777777779\" max=\"100\"></progress>"
            ],
            "text/plain": [
              "<IPython.core.display.HTML object>"
            ]
          },
          "metadata": {},
          "output_type": "display_data"
        },
        {
          "name": "stderr",
          "output_type": "stream",
          "text": [
            "\rProgresso:  16%|█▌        | 34/216 [05:18<43:16, 14.27s/it]"
          ]
        },
        {
          "data": {
            "text/html": [
              "<progress value=\"15.74074074074074\" max=\"100\"></progress>"
            ],
            "text/plain": [
              "<IPython.core.display.HTML object>"
            ]
          },
          "metadata": {},
          "output_type": "display_data"
        },
        {
          "name": "stderr",
          "output_type": "stream",
          "text": [
            "\rProgresso:  16%|█▌        | 35/216 [05:34<44:23, 14.71s/it]"
          ]
        },
        {
          "data": {
            "text/html": [
              "<progress value=\"16.203703703703702\" max=\"100\"></progress>"
            ],
            "text/plain": [
              "<IPython.core.display.HTML object>"
            ]
          },
          "metadata": {},
          "output_type": "display_data"
        },
        {
          "name": "stderr",
          "output_type": "stream",
          "text": [
            "\rProgresso:  17%|█▋        | 36/216 [05:53<48:07, 16.04s/it]"
          ]
        },
        {
          "data": {
            "text/html": [
              "<progress value=\"16.666666666666664\" max=\"100\"></progress>"
            ],
            "text/plain": [
              "<IPython.core.display.HTML object>"
            ]
          },
          "metadata": {},
          "output_type": "display_data"
        },
        {
          "name": "stderr",
          "output_type": "stream",
          "text": [
            "\rProgresso:  17%|█▋        | 37/216 [05:55<35:26, 11.88s/it]"
          ]
        },
        {
          "data": {
            "text/html": [
              "<progress value=\"17.12962962962963\" max=\"100\"></progress>"
            ],
            "text/plain": [
              "<IPython.core.display.HTML object>"
            ]
          },
          "metadata": {},
          "output_type": "display_data"
        },
        {
          "name": "stderr",
          "output_type": "stream",
          "text": [
            "\rProgresso:  18%|█▊        | 38/216 [05:58<26:42,  9.00s/it]"
          ]
        },
        {
          "data": {
            "text/html": [
              "<progress value=\"17.59259259259259\" max=\"100\"></progress>"
            ],
            "text/plain": [
              "<IPython.core.display.HTML object>"
            ]
          },
          "metadata": {},
          "output_type": "display_data"
        },
        {
          "name": "stderr",
          "output_type": "stream",
          "text": [
            "\rProgresso:  18%|█▊        | 39/216 [06:02<22:18,  7.56s/it]"
          ]
        },
        {
          "data": {
            "text/html": [
              "<progress value=\"18.055555555555554\" max=\"100\"></progress>"
            ],
            "text/plain": [
              "<IPython.core.display.HTML object>"
            ]
          },
          "metadata": {},
          "output_type": "display_data"
        },
        {
          "name": "stderr",
          "output_type": "stream",
          "text": [
            "\rProgresso:  19%|█▊        | 40/216 [06:05<18:34,  6.33s/it]"
          ]
        },
        {
          "data": {
            "text/html": [
              "<progress value=\"18.51851851851852\" max=\"100\"></progress>"
            ],
            "text/plain": [
              "<IPython.core.display.HTML object>"
            ]
          },
          "metadata": {},
          "output_type": "display_data"
        },
        {
          "name": "stderr",
          "output_type": "stream",
          "text": [
            "\rProgresso:  19%|█▉        | 41/216 [06:08<15:44,  5.40s/it]"
          ]
        },
        {
          "data": {
            "text/html": [
              "<progress value=\"18.98148148148148\" max=\"100\"></progress>"
            ],
            "text/plain": [
              "<IPython.core.display.HTML object>"
            ]
          },
          "metadata": {},
          "output_type": "display_data"
        },
        {
          "name": "stderr",
          "output_type": "stream",
          "text": [
            "\rProgresso:  19%|█▉        | 42/216 [06:12<13:53,  4.79s/it]"
          ]
        },
        {
          "data": {
            "text/html": [
              "<progress value=\"19.444444444444446\" max=\"100\"></progress>"
            ],
            "text/plain": [
              "<IPython.core.display.HTML object>"
            ]
          },
          "metadata": {},
          "output_type": "display_data"
        },
        {
          "name": "stderr",
          "output_type": "stream",
          "text": [
            "\rProgresso:  20%|█▉        | 43/216 [06:16<12:53,  4.47s/it]"
          ]
        },
        {
          "data": {
            "text/html": [
              "<progress value=\"19.90740740740741\" max=\"100\"></progress>"
            ],
            "text/plain": [
              "<IPython.core.display.HTML object>"
            ]
          },
          "metadata": {},
          "output_type": "display_data"
        },
        {
          "name": "stderr",
          "output_type": "stream",
          "text": [
            "\rProgresso:  20%|██        | 44/216 [06:20<12:25,  4.34s/it]"
          ]
        },
        {
          "data": {
            "text/html": [
              "<progress value=\"20.37037037037037\" max=\"100\"></progress>"
            ],
            "text/plain": [
              "<IPython.core.display.HTML object>"
            ]
          },
          "metadata": {},
          "output_type": "display_data"
        },
        {
          "name": "stderr",
          "output_type": "stream",
          "text": [
            "\rProgresso:  21%|██        | 45/216 [06:22<11:06,  3.90s/it]"
          ]
        },
        {
          "data": {
            "text/html": [
              "<progress value=\"20.833333333333336\" max=\"100\"></progress>"
            ],
            "text/plain": [
              "<IPython.core.display.HTML object>"
            ]
          },
          "metadata": {},
          "output_type": "display_data"
        },
        {
          "name": "stderr",
          "output_type": "stream",
          "text": [
            "\rProgresso:  21%|██▏       | 46/216 [06:29<13:31,  4.77s/it]"
          ]
        },
        {
          "data": {
            "text/html": [
              "<progress value=\"21.296296296296298\" max=\"100\"></progress>"
            ],
            "text/plain": [
              "<IPython.core.display.HTML object>"
            ]
          },
          "metadata": {},
          "output_type": "display_data"
        },
        {
          "name": "stderr",
          "output_type": "stream",
          "text": [
            "\rProgresso:  22%|██▏       | 47/216 [06:41<19:11,  6.81s/it]"
          ]
        },
        {
          "data": {
            "text/html": [
              "<progress value=\"21.75925925925926\" max=\"100\"></progress>"
            ],
            "text/plain": [
              "<IPython.core.display.HTML object>"
            ]
          },
          "metadata": {},
          "output_type": "display_data"
        },
        {
          "name": "stderr",
          "output_type": "stream",
          "text": [
            "\rProgresso:  22%|██▏       | 48/216 [06:55<25:21,  9.05s/it]"
          ]
        },
        {
          "data": {
            "text/html": [
              "<progress value=\"22.22222222222222\" max=\"100\"></progress>"
            ],
            "text/plain": [
              "<IPython.core.display.HTML object>"
            ]
          },
          "metadata": {},
          "output_type": "display_data"
        },
        {
          "name": "stderr",
          "output_type": "stream",
          "text": [
            "\rProgresso:  23%|██▎       | 49/216 [07:07<27:28,  9.87s/it]"
          ]
        },
        {
          "data": {
            "text/html": [
              "<progress value=\"22.685185185185187\" max=\"100\"></progress>"
            ],
            "text/plain": [
              "<IPython.core.display.HTML object>"
            ]
          },
          "metadata": {},
          "output_type": "display_data"
        },
        {
          "name": "stderr",
          "output_type": "stream",
          "text": [
            "\rProgresso:  23%|██▎       | 50/216 [07:24<33:07, 11.97s/it]"
          ]
        },
        {
          "data": {
            "text/html": [
              "<progress value=\"23.14814814814815\" max=\"100\"></progress>"
            ],
            "text/plain": [
              "<IPython.core.display.HTML object>"
            ]
          },
          "metadata": {},
          "output_type": "display_data"
        },
        {
          "name": "stderr",
          "output_type": "stream",
          "text": [
            "\rProgresso:  24%|██▎       | 51/216 [07:44<39:55, 14.52s/it]"
          ]
        },
        {
          "data": {
            "text/html": [
              "<progress value=\"23.61111111111111\" max=\"100\"></progress>"
            ],
            "text/plain": [
              "<IPython.core.display.HTML object>"
            ]
          },
          "metadata": {},
          "output_type": "display_data"
        },
        {
          "name": "stderr",
          "output_type": "stream",
          "text": [
            "\rProgresso:  24%|██▍       | 52/216 [07:55<36:15, 13.26s/it]"
          ]
        },
        {
          "data": {
            "text/html": [
              "<progress value=\"24.074074074074073\" max=\"100\"></progress>"
            ],
            "text/plain": [
              "<IPython.core.display.HTML object>"
            ]
          },
          "metadata": {},
          "output_type": "display_data"
        },
        {
          "name": "stderr",
          "output_type": "stream",
          "text": [
            "\rProgresso:  25%|██▍       | 53/216 [08:09<37:21, 13.75s/it]"
          ]
        },
        {
          "data": {
            "text/html": [
              "<progress value=\"24.537037037037038\" max=\"100\"></progress>"
            ],
            "text/plain": [
              "<IPython.core.display.HTML object>"
            ]
          },
          "metadata": {},
          "output_type": "display_data"
        },
        {
          "name": "stderr",
          "output_type": "stream",
          "text": [
            "\rProgresso:  25%|██▌       | 54/216 [08:27<40:23, 14.96s/it]"
          ]
        },
        {
          "data": {
            "text/html": [
              "<progress value=\"25.0\" max=\"100\"></progress>"
            ],
            "text/plain": [
              "<IPython.core.display.HTML object>"
            ]
          },
          "metadata": {},
          "output_type": "display_data"
        },
        {
          "name": "stderr",
          "output_type": "stream",
          "text": [
            "\rProgresso:  25%|██▌       | 55/216 [08:32<31:52, 11.88s/it]"
          ]
        },
        {
          "data": {
            "text/html": [
              "<progress value=\"25.462962962962965\" max=\"100\"></progress>"
            ],
            "text/plain": [
              "<IPython.core.display.HTML object>"
            ]
          },
          "metadata": {},
          "output_type": "display_data"
        },
        {
          "name": "stderr",
          "output_type": "stream",
          "text": [
            "\rProgresso:  26%|██▌       | 56/216 [08:39<28:08, 10.55s/it]"
          ]
        },
        {
          "data": {
            "text/html": [
              "<progress value=\"25.925925925925924\" max=\"100\"></progress>"
            ],
            "text/plain": [
              "<IPython.core.display.HTML object>"
            ]
          },
          "metadata": {},
          "output_type": "display_data"
        },
        {
          "name": "stderr",
          "output_type": "stream",
          "text": [
            "\rProgresso:  26%|██▋       | 57/216 [08:45<23:42,  8.94s/it]"
          ]
        },
        {
          "data": {
            "text/html": [
              "<progress value=\"26.38888888888889\" max=\"100\"></progress>"
            ],
            "text/plain": [
              "<IPython.core.display.HTML object>"
            ]
          },
          "metadata": {},
          "output_type": "display_data"
        },
        {
          "name": "stderr",
          "output_type": "stream",
          "text": [
            "\rProgresso:  27%|██▋       | 58/216 [08:53<23:00,  8.73s/it]"
          ]
        },
        {
          "data": {
            "text/html": [
              "<progress value=\"26.851851851851855\" max=\"100\"></progress>"
            ],
            "text/plain": [
              "<IPython.core.display.HTML object>"
            ]
          },
          "metadata": {},
          "output_type": "display_data"
        },
        {
          "name": "stderr",
          "output_type": "stream",
          "text": [
            "\rProgresso:  27%|██▋       | 59/216 [09:00<22:01,  8.42s/it]"
          ]
        },
        {
          "data": {
            "text/html": [
              "<progress value=\"27.314814814814813\" max=\"100\"></progress>"
            ],
            "text/plain": [
              "<IPython.core.display.HTML object>"
            ]
          },
          "metadata": {},
          "output_type": "display_data"
        },
        {
          "name": "stderr",
          "output_type": "stream",
          "text": [
            "\rProgresso:  28%|██▊       | 60/216 [09:10<23:03,  8.87s/it]"
          ]
        },
        {
          "data": {
            "text/html": [
              "<progress value=\"27.77777777777778\" max=\"100\"></progress>"
            ],
            "text/plain": [
              "<IPython.core.display.HTML object>"
            ]
          },
          "metadata": {},
          "output_type": "display_data"
        },
        {
          "name": "stderr",
          "output_type": "stream",
          "text": [
            "\rProgresso:  28%|██▊       | 61/216 [09:16<20:29,  7.93s/it]"
          ]
        },
        {
          "data": {
            "text/html": [
              "<progress value=\"28.240740740740737\" max=\"100\"></progress>"
            ],
            "text/plain": [
              "<IPython.core.display.HTML object>"
            ]
          },
          "metadata": {},
          "output_type": "display_data"
        },
        {
          "name": "stderr",
          "output_type": "stream",
          "text": [
            "\rProgresso:  29%|██▊       | 62/216 [09:24<20:33,  8.01s/it]"
          ]
        },
        {
          "data": {
            "text/html": [
              "<progress value=\"28.703703703703702\" max=\"100\"></progress>"
            ],
            "text/plain": [
              "<IPython.core.display.HTML object>"
            ]
          },
          "metadata": {},
          "output_type": "display_data"
        },
        {
          "name": "stderr",
          "output_type": "stream",
          "text": [
            "\rProgresso:  29%|██▉       | 63/216 [09:31<19:34,  7.67s/it]"
          ]
        },
        {
          "data": {
            "text/html": [
              "<progress value=\"29.166666666666668\" max=\"100\"></progress>"
            ],
            "text/plain": [
              "<IPython.core.display.HTML object>"
            ]
          },
          "metadata": {},
          "output_type": "display_data"
        },
        {
          "name": "stderr",
          "output_type": "stream",
          "text": [
            "\rProgresso:  30%|██▉       | 64/216 [09:48<26:38, 10.52s/it]"
          ]
        },
        {
          "data": {
            "text/html": [
              "<progress value=\"29.629629629629626\" max=\"100\"></progress>"
            ],
            "text/plain": [
              "<IPython.core.display.HTML object>"
            ]
          },
          "metadata": {},
          "output_type": "display_data"
        },
        {
          "name": "stderr",
          "output_type": "stream",
          "text": [
            "\rProgresso:  30%|███       | 65/216 [10:16<39:03, 15.52s/it]"
          ]
        },
        {
          "data": {
            "text/html": [
              "<progress value=\"30.09259259259259\" max=\"100\"></progress>"
            ],
            "text/plain": [
              "<IPython.core.display.HTML object>"
            ]
          },
          "metadata": {},
          "output_type": "display_data"
        },
        {
          "name": "stderr",
          "output_type": "stream",
          "text": [
            "\rProgresso:  31%|███       | 66/216 [10:49<51:57, 20.78s/it]"
          ]
        },
        {
          "data": {
            "text/html": [
              "<progress value=\"30.555555555555557\" max=\"100\"></progress>"
            ],
            "text/plain": [
              "<IPython.core.display.HTML object>"
            ]
          },
          "metadata": {},
          "output_type": "display_data"
        },
        {
          "name": "stderr",
          "output_type": "stream",
          "text": [
            "\rProgresso:  31%|███       | 67/216 [11:15<55:58, 22.54s/it]"
          ]
        },
        {
          "data": {
            "text/html": [
              "<progress value=\"31.01851851851852\" max=\"100\"></progress>"
            ],
            "text/plain": [
              "<IPython.core.display.HTML object>"
            ]
          },
          "metadata": {},
          "output_type": "display_data"
        },
        {
          "name": "stderr",
          "output_type": "stream",
          "text": [
            "\rProgresso:  31%|███▏      | 68/216 [11:54<1:07:17, 27.28s/it]"
          ]
        },
        {
          "data": {
            "text/html": [
              "<progress value=\"31.48148148148148\" max=\"100\"></progress>"
            ],
            "text/plain": [
              "<IPython.core.display.HTML object>"
            ]
          },
          "metadata": {},
          "output_type": "display_data"
        },
        {
          "name": "stderr",
          "output_type": "stream",
          "text": [
            "\rProgresso:  32%|███▏      | 69/216 [12:44<1:23:59, 34.28s/it]"
          ]
        },
        {
          "data": {
            "text/html": [
              "<progress value=\"31.944444444444443\" max=\"100\"></progress>"
            ],
            "text/plain": [
              "<IPython.core.display.HTML object>"
            ]
          },
          "metadata": {},
          "output_type": "display_data"
        },
        {
          "name": "stderr",
          "output_type": "stream",
          "text": [
            "\rProgresso:  32%|███▏      | 70/216 [13:07<1:15:09, 30.89s/it]"
          ]
        },
        {
          "data": {
            "text/html": [
              "<progress value=\"32.407407407407405\" max=\"100\"></progress>"
            ],
            "text/plain": [
              "<IPython.core.display.HTML object>"
            ]
          },
          "metadata": {},
          "output_type": "display_data"
        },
        {
          "name": "stderr",
          "output_type": "stream",
          "text": [
            "\rProgresso:  33%|███▎      | 71/216 [13:41<1:16:57, 31.84s/it]"
          ]
        },
        {
          "data": {
            "text/html": [
              "<progress value=\"32.870370370370374\" max=\"100\"></progress>"
            ],
            "text/plain": [
              "<IPython.core.display.HTML object>"
            ]
          },
          "metadata": {},
          "output_type": "display_data"
        },
        {
          "name": "stderr",
          "output_type": "stream",
          "text": [
            "\rProgresso:  33%|███▎      | 72/216 [14:25<1:25:12, 35.50s/it]"
          ]
        },
        {
          "data": {
            "text/html": [
              "<progress value=\"33.33333333333333\" max=\"100\"></progress>"
            ],
            "text/plain": [
              "<IPython.core.display.HTML object>"
            ]
          },
          "metadata": {},
          "output_type": "display_data"
        },
        {
          "name": "stderr",
          "output_type": "stream",
          "text": [
            "\rProgresso:  34%|███▍      | 73/216 [14:30<1:02:18, 26.14s/it]"
          ]
        },
        {
          "data": {
            "text/html": [
              "<progress value=\"33.7962962962963\" max=\"100\"></progress>"
            ],
            "text/plain": [
              "<IPython.core.display.HTML object>"
            ]
          },
          "metadata": {},
          "output_type": "display_data"
        },
        {
          "name": "stderr",
          "output_type": "stream",
          "text": [
            "\rProgresso:  34%|███▍      | 74/216 [14:36<47:30, 20.07s/it]  "
          ]
        },
        {
          "data": {
            "text/html": [
              "<progress value=\"34.25925925925926\" max=\"100\"></progress>"
            ],
            "text/plain": [
              "<IPython.core.display.HTML object>"
            ]
          },
          "metadata": {},
          "output_type": "display_data"
        },
        {
          "name": "stderr",
          "output_type": "stream",
          "text": [
            "\rProgresso:  35%|███▍      | 75/216 [14:41<36:59, 15.74s/it]"
          ]
        },
        {
          "data": {
            "text/html": [
              "<progress value=\"34.72222222222222\" max=\"100\"></progress>"
            ],
            "text/plain": [
              "<IPython.core.display.HTML object>"
            ]
          },
          "metadata": {},
          "output_type": "display_data"
        },
        {
          "name": "stderr",
          "output_type": "stream",
          "text": [
            "\rProgresso:  35%|███▌      | 76/216 [14:47<29:48, 12.77s/it]"
          ]
        },
        {
          "data": {
            "text/html": [
              "<progress value=\"35.18518518518518\" max=\"100\"></progress>"
            ],
            "text/plain": [
              "<IPython.core.display.HTML object>"
            ]
          },
          "metadata": {},
          "output_type": "display_data"
        },
        {
          "name": "stderr",
          "output_type": "stream",
          "text": [
            "\rProgresso:  36%|███▌      | 77/216 [14:56<26:50, 11.59s/it]"
          ]
        },
        {
          "data": {
            "text/html": [
              "<progress value=\"35.648148148148145\" max=\"100\"></progress>"
            ],
            "text/plain": [
              "<IPython.core.display.HTML object>"
            ]
          },
          "metadata": {},
          "output_type": "display_data"
        },
        {
          "name": "stderr",
          "output_type": "stream",
          "text": [
            "\rProgresso:  36%|███▌      | 78/216 [15:02<23:15, 10.11s/it]"
          ]
        },
        {
          "data": {
            "text/html": [
              "<progress value=\"36.11111111111111\" max=\"100\"></progress>"
            ],
            "text/plain": [
              "<IPython.core.display.HTML object>"
            ]
          },
          "metadata": {},
          "output_type": "display_data"
        },
        {
          "name": "stderr",
          "output_type": "stream",
          "text": [
            "\rProgresso:  37%|███▋      | 79/216 [15:10<21:17,  9.33s/it]"
          ]
        },
        {
          "data": {
            "text/html": [
              "<progress value=\"36.574074074074076\" max=\"100\"></progress>"
            ],
            "text/plain": [
              "<IPython.core.display.HTML object>"
            ]
          },
          "metadata": {},
          "output_type": "display_data"
        },
        {
          "name": "stderr",
          "output_type": "stream",
          "text": [
            "\rProgresso:  37%|███▋      | 80/216 [15:16<18:35,  8.20s/it]"
          ]
        },
        {
          "data": {
            "text/html": [
              "<progress value=\"37.03703703703704\" max=\"100\"></progress>"
            ],
            "text/plain": [
              "<IPython.core.display.HTML object>"
            ]
          },
          "metadata": {},
          "output_type": "display_data"
        },
        {
          "name": "stderr",
          "output_type": "stream",
          "text": [
            "\rProgresso:  38%|███▊      | 81/216 [15:24<18:28,  8.21s/it]"
          ]
        },
        {
          "data": {
            "text/html": [
              "<progress value=\"37.5\" max=\"100\"></progress>"
            ],
            "text/plain": [
              "<IPython.core.display.HTML object>"
            ]
          },
          "metadata": {},
          "output_type": "display_data"
        },
        {
          "name": "stderr",
          "output_type": "stream",
          "text": [
            "\rProgresso:  38%|███▊      | 82/216 [15:39<23:18, 10.44s/it]"
          ]
        },
        {
          "data": {
            "text/html": [
              "<progress value=\"37.96296296296296\" max=\"100\"></progress>"
            ],
            "text/plain": [
              "<IPython.core.display.HTML object>"
            ]
          },
          "metadata": {},
          "output_type": "display_data"
        },
        {
          "name": "stderr",
          "output_type": "stream",
          "text": [
            "\rProgresso:  38%|███▊      | 83/216 [16:02<31:11, 14.07s/it]"
          ]
        },
        {
          "data": {
            "text/html": [
              "<progress value=\"38.425925925925924\" max=\"100\"></progress>"
            ],
            "text/plain": [
              "<IPython.core.display.HTML object>"
            ]
          },
          "metadata": {},
          "output_type": "display_data"
        },
        {
          "name": "stderr",
          "output_type": "stream",
          "text": [
            "\rProgresso:  39%|███▉      | 84/216 [16:32<41:27, 18.85s/it]"
          ]
        },
        {
          "data": {
            "text/html": [
              "<progress value=\"38.88888888888889\" max=\"100\"></progress>"
            ],
            "text/plain": [
              "<IPython.core.display.HTML object>"
            ]
          },
          "metadata": {},
          "output_type": "display_data"
        },
        {
          "name": "stderr",
          "output_type": "stream",
          "text": [
            "\rProgresso:  39%|███▉      | 85/216 [16:57<44:58, 20.60s/it]"
          ]
        },
        {
          "data": {
            "text/html": [
              "<progress value=\"39.351851851851855\" max=\"100\"></progress>"
            ],
            "text/plain": [
              "<IPython.core.display.HTML object>"
            ]
          },
          "metadata": {},
          "output_type": "display_data"
        },
        {
          "name": "stderr",
          "output_type": "stream",
          "text": [
            "\rProgresso:  40%|███▉      | 86/216 [17:32<54:27, 25.13s/it]"
          ]
        },
        {
          "data": {
            "text/html": [
              "<progress value=\"39.81481481481482\" max=\"100\"></progress>"
            ],
            "text/plain": [
              "<IPython.core.display.HTML object>"
            ]
          },
          "metadata": {},
          "output_type": "display_data"
        },
        {
          "name": "stderr",
          "output_type": "stream",
          "text": [
            "\rProgresso:  40%|████      | 87/216 [18:19<1:07:36, 31.45s/it]"
          ]
        },
        {
          "data": {
            "text/html": [
              "<progress value=\"40.27777777777778\" max=\"100\"></progress>"
            ],
            "text/plain": [
              "<IPython.core.display.HTML object>"
            ]
          },
          "metadata": {},
          "output_type": "display_data"
        },
        {
          "name": "stderr",
          "output_type": "stream",
          "text": [
            "\rProgresso:  41%|████      | 88/216 [18:38<59:31, 27.90s/it]  "
          ]
        },
        {
          "data": {
            "text/html": [
              "<progress value=\"40.74074074074074\" max=\"100\"></progress>"
            ],
            "text/plain": [
              "<IPython.core.display.HTML object>"
            ]
          },
          "metadata": {},
          "output_type": "display_data"
        },
        {
          "name": "stderr",
          "output_type": "stream",
          "text": [
            "\rProgresso:  41%|████      | 89/216 [19:09<1:01:01, 28.83s/it]"
          ]
        },
        {
          "data": {
            "text/html": [
              "<progress value=\"41.2037037037037\" max=\"100\"></progress>"
            ],
            "text/plain": [
              "<IPython.core.display.HTML object>"
            ]
          },
          "metadata": {},
          "output_type": "display_data"
        },
        {
          "name": "stderr",
          "output_type": "stream",
          "text": [
            "\rProgresso:  42%|████▏     | 90/216 [19:49<1:07:40, 32.22s/it]"
          ]
        },
        {
          "data": {
            "text/html": [
              "<progress value=\"41.66666666666667\" max=\"100\"></progress>"
            ],
            "text/plain": [
              "<IPython.core.display.HTML object>"
            ]
          },
          "metadata": {},
          "output_type": "display_data"
        },
        {
          "name": "stderr",
          "output_type": "stream",
          "text": [
            "\rProgresso:  42%|████▏     | 91/216 [19:53<49:28, 23.75s/it]  "
          ]
        },
        {
          "data": {
            "text/html": [
              "<progress value=\"42.129629629629626\" max=\"100\"></progress>"
            ],
            "text/plain": [
              "<IPython.core.display.HTML object>"
            ]
          },
          "metadata": {},
          "output_type": "display_data"
        },
        {
          "name": "stderr",
          "output_type": "stream",
          "text": [
            "\rProgresso:  43%|████▎     | 92/216 [19:57<36:58, 17.89s/it]"
          ]
        },
        {
          "data": {
            "text/html": [
              "<progress value=\"42.592592592592595\" max=\"100\"></progress>"
            ],
            "text/plain": [
              "<IPython.core.display.HTML object>"
            ]
          },
          "metadata": {},
          "output_type": "display_data"
        },
        {
          "name": "stderr",
          "output_type": "stream",
          "text": [
            "\rProgresso:  43%|████▎     | 93/216 [20:05<30:03, 14.66s/it]"
          ]
        },
        {
          "data": {
            "text/html": [
              "<progress value=\"43.05555555555556\" max=\"100\"></progress>"
            ],
            "text/plain": [
              "<IPython.core.display.HTML object>"
            ]
          },
          "metadata": {},
          "output_type": "display_data"
        },
        {
          "name": "stderr",
          "output_type": "stream",
          "text": [
            "\rProgresso:  44%|████▎     | 94/216 [20:10<24:13, 11.92s/it]"
          ]
        },
        {
          "data": {
            "text/html": [
              "<progress value=\"43.51851851851852\" max=\"100\"></progress>"
            ],
            "text/plain": [
              "<IPython.core.display.HTML object>"
            ]
          },
          "metadata": {},
          "output_type": "display_data"
        },
        {
          "name": "stderr",
          "output_type": "stream",
          "text": [
            "\rProgresso:  44%|████▍     | 95/216 [20:17<21:15, 10.54s/it]"
          ]
        },
        {
          "data": {
            "text/html": [
              "<progress value=\"43.98148148148148\" max=\"100\"></progress>"
            ],
            "text/plain": [
              "<IPython.core.display.HTML object>"
            ]
          },
          "metadata": {},
          "output_type": "display_data"
        },
        {
          "name": "stderr",
          "output_type": "stream",
          "text": [
            "\rProgresso:  44%|████▍     | 96/216 [20:25<19:23,  9.70s/it]"
          ]
        },
        {
          "data": {
            "text/html": [
              "<progress value=\"44.44444444444444\" max=\"100\"></progress>"
            ],
            "text/plain": [
              "<IPython.core.display.HTML object>"
            ]
          },
          "metadata": {},
          "output_type": "display_data"
        },
        {
          "name": "stderr",
          "output_type": "stream",
          "text": [
            "\rProgresso:  45%|████▍     | 97/216 [20:30<16:32,  8.34s/it]"
          ]
        },
        {
          "data": {
            "text/html": [
              "<progress value=\"44.907407407407405\" max=\"100\"></progress>"
            ],
            "text/plain": [
              "<IPython.core.display.HTML object>"
            ]
          },
          "metadata": {},
          "output_type": "display_data"
        },
        {
          "name": "stderr",
          "output_type": "stream",
          "text": [
            "\rProgresso:  45%|████▌     | 98/216 [20:38<15:50,  8.06s/it]"
          ]
        },
        {
          "data": {
            "text/html": [
              "<progress value=\"45.370370370370374\" max=\"100\"></progress>"
            ],
            "text/plain": [
              "<IPython.core.display.HTML object>"
            ]
          },
          "metadata": {},
          "output_type": "display_data"
        },
        {
          "name": "stderr",
          "output_type": "stream",
          "text": [
            "\rProgresso:  46%|████▌     | 99/216 [20:43<14:11,  7.28s/it]"
          ]
        },
        {
          "data": {
            "text/html": [
              "<progress value=\"45.83333333333333\" max=\"100\"></progress>"
            ],
            "text/plain": [
              "<IPython.core.display.HTML object>"
            ]
          },
          "metadata": {},
          "output_type": "display_data"
        },
        {
          "name": "stderr",
          "output_type": "stream",
          "text": [
            "\rProgresso:  46%|████▋     | 100/216 [20:58<18:22,  9.50s/it]"
          ]
        },
        {
          "data": {
            "text/html": [
              "<progress value=\"46.2962962962963\" max=\"100\"></progress>"
            ],
            "text/plain": [
              "<IPython.core.display.HTML object>"
            ]
          },
          "metadata": {},
          "output_type": "display_data"
        },
        {
          "name": "stderr",
          "output_type": "stream",
          "text": [
            "\rProgresso:  47%|████▋     | 101/216 [21:21<25:57, 13.54s/it]"
          ]
        },
        {
          "data": {
            "text/html": [
              "<progress value=\"46.75925925925926\" max=\"100\"></progress>"
            ],
            "text/plain": [
              "<IPython.core.display.HTML object>"
            ]
          },
          "metadata": {},
          "output_type": "display_data"
        },
        {
          "name": "stderr",
          "output_type": "stream",
          "text": [
            "\rProgresso:  47%|████▋     | 102/216 [21:47<32:51, 17.30s/it]"
          ]
        },
        {
          "data": {
            "text/html": [
              "<progress value=\"47.22222222222222\" max=\"100\"></progress>"
            ],
            "text/plain": [
              "<IPython.core.display.HTML object>"
            ]
          },
          "metadata": {},
          "output_type": "display_data"
        },
        {
          "name": "stderr",
          "output_type": "stream",
          "text": [
            "\rProgresso:  48%|████▊     | 103/216 [22:10<36:06, 19.17s/it]"
          ]
        },
        {
          "data": {
            "text/html": [
              "<progress value=\"47.68518518518518\" max=\"100\"></progress>"
            ],
            "text/plain": [
              "<IPython.core.display.HTML object>"
            ]
          },
          "metadata": {},
          "output_type": "display_data"
        },
        {
          "name": "stderr",
          "output_type": "stream",
          "text": [
            "\rProgresso:  48%|████▊     | 104/216 [22:44<43:49, 23.48s/it]"
          ]
        },
        {
          "data": {
            "text/html": [
              "<progress value=\"48.148148148148145\" max=\"100\"></progress>"
            ],
            "text/plain": [
              "<IPython.core.display.HTML object>"
            ]
          },
          "metadata": {},
          "output_type": "display_data"
        },
        {
          "name": "stderr",
          "output_type": "stream",
          "text": [
            "\rProgresso:  49%|████▊     | 105/216 [23:27<54:12, 29.30s/it]"
          ]
        },
        {
          "data": {
            "text/html": [
              "<progress value=\"48.61111111111111\" max=\"100\"></progress>"
            ],
            "text/plain": [
              "<IPython.core.display.HTML object>"
            ]
          },
          "metadata": {},
          "output_type": "display_data"
        },
        {
          "name": "stderr",
          "output_type": "stream",
          "text": [
            "\rProgresso:  49%|████▉     | 106/216 [23:46<47:53, 26.12s/it]"
          ]
        },
        {
          "data": {
            "text/html": [
              "<progress value=\"49.074074074074076\" max=\"100\"></progress>"
            ],
            "text/plain": [
              "<IPython.core.display.HTML object>"
            ]
          },
          "metadata": {},
          "output_type": "display_data"
        },
        {
          "name": "stderr",
          "output_type": "stream",
          "text": [
            "\rProgresso:  50%|████▉     | 107/216 [24:14<48:45, 26.84s/it]"
          ]
        },
        {
          "data": {
            "text/html": [
              "<progress value=\"49.53703703703704\" max=\"100\"></progress>"
            ],
            "text/plain": [
              "<IPython.core.display.HTML object>"
            ]
          },
          "metadata": {},
          "output_type": "display_data"
        },
        {
          "name": "stderr",
          "output_type": "stream",
          "text": [
            "\rProgresso:  50%|█████     | 108/216 [24:50<53:08, 29.52s/it]"
          ]
        },
        {
          "data": {
            "text/html": [
              "<progress value=\"50.0\" max=\"100\"></progress>"
            ],
            "text/plain": [
              "<IPython.core.display.HTML object>"
            ]
          },
          "metadata": {},
          "output_type": "display_data"
        },
        {
          "name": "stderr",
          "output_type": "stream",
          "text": [
            "\rProgresso:  50%|█████     | 109/216 [25:03<43:56, 24.64s/it]"
          ]
        },
        {
          "data": {
            "text/html": [
              "<progress value=\"50.46296296296296\" max=\"100\"></progress>"
            ],
            "text/plain": [
              "<IPython.core.display.HTML object>"
            ]
          },
          "metadata": {},
          "output_type": "display_data"
        },
        {
          "name": "stderr",
          "output_type": "stream",
          "text": [
            "\rProgresso:  51%|█████     | 110/216 [25:17<37:50, 21.42s/it]"
          ]
        },
        {
          "data": {
            "text/html": [
              "<progress value=\"50.92592592592593\" max=\"100\"></progress>"
            ],
            "text/plain": [
              "<IPython.core.display.HTML object>"
            ]
          },
          "metadata": {},
          "output_type": "display_data"
        },
        {
          "name": "stderr",
          "output_type": "stream",
          "text": [
            "\rProgresso:  51%|█████▏    | 111/216 [25:31<33:46, 19.30s/it]"
          ]
        },
        {
          "data": {
            "text/html": [
              "<progress value=\"51.388888888888886\" max=\"100\"></progress>"
            ],
            "text/plain": [
              "<IPython.core.display.HTML object>"
            ]
          },
          "metadata": {},
          "output_type": "display_data"
        },
        {
          "name": "stderr",
          "output_type": "stream",
          "text": [
            "\rProgresso:  52%|█████▏    | 112/216 [25:49<32:33, 18.78s/it]"
          ]
        },
        {
          "data": {
            "text/html": [
              "<progress value=\"51.85185185185185\" max=\"100\"></progress>"
            ],
            "text/plain": [
              "<IPython.core.display.HTML object>"
            ]
          },
          "metadata": {},
          "output_type": "display_data"
        },
        {
          "name": "stderr",
          "output_type": "stream",
          "text": [
            "\rProgresso:  52%|█████▏    | 113/216 [26:08<32:15, 18.79s/it]"
          ]
        },
        {
          "data": {
            "text/html": [
              "<progress value=\"52.31481481481482\" max=\"100\"></progress>"
            ],
            "text/plain": [
              "<IPython.core.display.HTML object>"
            ]
          },
          "metadata": {},
          "output_type": "display_data"
        },
        {
          "name": "stderr",
          "output_type": "stream",
          "text": [
            "\rProgresso:  53%|█████▎    | 114/216 [26:27<32:22, 19.04s/it]"
          ]
        },
        {
          "data": {
            "text/html": [
              "<progress value=\"52.77777777777778\" max=\"100\"></progress>"
            ],
            "text/plain": [
              "<IPython.core.display.HTML object>"
            ]
          },
          "metadata": {},
          "output_type": "display_data"
        },
        {
          "name": "stderr",
          "output_type": "stream",
          "text": [
            "\rProgresso:  53%|█████▎    | 115/216 [26:43<30:16, 17.98s/it]"
          ]
        },
        {
          "data": {
            "text/html": [
              "<progress value=\"53.24074074074075\" max=\"100\"></progress>"
            ],
            "text/plain": [
              "<IPython.core.display.HTML object>"
            ]
          },
          "metadata": {},
          "output_type": "display_data"
        },
        {
          "name": "stderr",
          "output_type": "stream",
          "text": [
            "\rProgresso:  54%|█████▎    | 116/216 [27:00<29:43, 17.84s/it]"
          ]
        },
        {
          "data": {
            "text/html": [
              "<progress value=\"53.70370370370371\" max=\"100\"></progress>"
            ],
            "text/plain": [
              "<IPython.core.display.HTML object>"
            ]
          },
          "metadata": {},
          "output_type": "display_data"
        },
        {
          "name": "stderr",
          "output_type": "stream",
          "text": [
            "\rProgresso:  54%|█████▍    | 117/216 [27:20<30:03, 18.22s/it]"
          ]
        },
        {
          "data": {
            "text/html": [
              "<progress value=\"54.166666666666664\" max=\"100\"></progress>"
            ],
            "text/plain": [
              "<IPython.core.display.HTML object>"
            ]
          },
          "metadata": {},
          "output_type": "display_data"
        },
        {
          "name": "stderr",
          "output_type": "stream",
          "text": [
            "\rProgresso:  55%|█████▍    | 118/216 [27:59<40:22, 24.72s/it]"
          ]
        },
        {
          "data": {
            "text/html": [
              "<progress value=\"54.629629629629626\" max=\"100\"></progress>"
            ],
            "text/plain": [
              "<IPython.core.display.HTML object>"
            ]
          },
          "metadata": {},
          "output_type": "display_data"
        },
        {
          "name": "stderr",
          "output_type": "stream",
          "text": [
            "\rProgresso:  55%|█████▌    | 119/216 [29:06<1:00:15, 37.28s/it]"
          ]
        },
        {
          "data": {
            "text/html": [
              "<progress value=\"55.092592592592595\" max=\"100\"></progress>"
            ],
            "text/plain": [
              "<IPython.core.display.HTML object>"
            ]
          },
          "metadata": {},
          "output_type": "display_data"
        },
        {
          "name": "stderr",
          "output_type": "stream",
          "text": [
            "\rProgresso:  56%|█████▌    | 120/216 [30:28<1:21:21, 50.84s/it]"
          ]
        },
        {
          "data": {
            "text/html": [
              "<progress value=\"55.55555555555556\" max=\"100\"></progress>"
            ],
            "text/plain": [
              "<IPython.core.display.HTML object>"
            ]
          },
          "metadata": {},
          "output_type": "display_data"
        },
        {
          "name": "stderr",
          "output_type": "stream",
          "text": [
            "\rProgresso:  56%|█████▌    | 121/216 [31:31<1:26:02, 54.34s/it]"
          ]
        },
        {
          "data": {
            "text/html": [
              "<progress value=\"56.018518518518526\" max=\"100\"></progress>"
            ],
            "text/plain": [
              "<IPython.core.display.HTML object>"
            ]
          },
          "metadata": {},
          "output_type": "display_data"
        },
        {
          "name": "stderr",
          "output_type": "stream",
          "text": [
            "\rProgresso:  56%|█████▋    | 122/216 [33:08<1:45:10, 67.13s/it]"
          ]
        },
        {
          "data": {
            "text/html": [
              "<progress value=\"56.481481481481474\" max=\"100\"></progress>"
            ],
            "text/plain": [
              "<IPython.core.display.HTML object>"
            ]
          },
          "metadata": {},
          "output_type": "display_data"
        },
        {
          "name": "stderr",
          "output_type": "stream",
          "text": [
            "\rProgresso:  57%|█████▋    | 123/216 [35:11<2:09:59, 83.87s/it]"
          ]
        },
        {
          "data": {
            "text/html": [
              "<progress value=\"56.94444444444444\" max=\"100\"></progress>"
            ],
            "text/plain": [
              "<IPython.core.display.HTML object>"
            ]
          },
          "metadata": {},
          "output_type": "display_data"
        },
        {
          "name": "stderr",
          "output_type": "stream",
          "text": [
            "\rProgresso:  57%|█████▋    | 124/216 [36:02<1:53:34, 74.07s/it]"
          ]
        },
        {
          "data": {
            "text/html": [
              "<progress value=\"57.407407407407405\" max=\"100\"></progress>"
            ],
            "text/plain": [
              "<IPython.core.display.HTML object>"
            ]
          },
          "metadata": {},
          "output_type": "display_data"
        },
        {
          "name": "stderr",
          "output_type": "stream",
          "text": [
            "\rProgresso:  58%|█████▊    | 125/216 [37:26<1:56:40, 76.93s/it]"
          ]
        },
        {
          "data": {
            "text/html": [
              "<progress value=\"57.870370370370374\" max=\"100\"></progress>"
            ],
            "text/plain": [
              "<IPython.core.display.HTML object>"
            ]
          },
          "metadata": {},
          "output_type": "display_data"
        },
        {
          "name": "stderr",
          "output_type": "stream",
          "text": [
            "\rProgresso:  58%|█████▊    | 126/216 [39:09<2:07:22, 84.91s/it]"
          ]
        },
        {
          "data": {
            "text/html": [
              "<progress value=\"58.333333333333336\" max=\"100\"></progress>"
            ],
            "text/plain": [
              "<IPython.core.display.HTML object>"
            ]
          },
          "metadata": {},
          "output_type": "display_data"
        },
        {
          "name": "stderr",
          "output_type": "stream",
          "text": [
            "\rProgresso:  59%|█████▉    | 127/216 [39:21<1:33:30, 63.04s/it]"
          ]
        },
        {
          "data": {
            "text/html": [
              "<progress value=\"58.79629629629629\" max=\"100\"></progress>"
            ],
            "text/plain": [
              "<IPython.core.display.HTML object>"
            ]
          },
          "metadata": {},
          "output_type": "display_data"
        },
        {
          "name": "stderr",
          "output_type": "stream",
          "text": [
            "\rProgresso:  59%|█████▉    | 128/216 [39:34<1:10:21, 47.97s/it]"
          ]
        },
        {
          "data": {
            "text/html": [
              "<progress value=\"59.25925925925925\" max=\"100\"></progress>"
            ],
            "text/plain": [
              "<IPython.core.display.HTML object>"
            ]
          },
          "metadata": {},
          "output_type": "display_data"
        },
        {
          "name": "stderr",
          "output_type": "stream",
          "text": [
            "\rProgresso:  60%|█████▉    | 129/216 [39:47<54:25, 37.54s/it]  "
          ]
        },
        {
          "data": {
            "text/html": [
              "<progress value=\"59.72222222222222\" max=\"100\"></progress>"
            ],
            "text/plain": [
              "<IPython.core.display.HTML object>"
            ]
          },
          "metadata": {},
          "output_type": "display_data"
        },
        {
          "name": "stderr",
          "output_type": "stream",
          "text": [
            "\rProgresso:  60%|██████    | 130/216 [40:03<44:33, 31.09s/it]"
          ]
        },
        {
          "data": {
            "text/html": [
              "<progress value=\"60.18518518518518\" max=\"100\"></progress>"
            ],
            "text/plain": [
              "<IPython.core.display.HTML object>"
            ]
          },
          "metadata": {},
          "output_type": "display_data"
        },
        {
          "name": "stderr",
          "output_type": "stream",
          "text": [
            "\rProgresso:  61%|██████    | 131/216 [40:21<38:12, 26.97s/it]"
          ]
        },
        {
          "data": {
            "text/html": [
              "<progress value=\"60.64814814814815\" max=\"100\"></progress>"
            ],
            "text/plain": [
              "<IPython.core.display.HTML object>"
            ]
          },
          "metadata": {},
          "output_type": "display_data"
        },
        {
          "name": "stderr",
          "output_type": "stream",
          "text": [
            "\rProgresso:  61%|██████    | 132/216 [40:39<34:02, 24.32s/it]"
          ]
        },
        {
          "data": {
            "text/html": [
              "<progress value=\"61.111111111111114\" max=\"100\"></progress>"
            ],
            "text/plain": [
              "<IPython.core.display.HTML object>"
            ]
          },
          "metadata": {},
          "output_type": "display_data"
        },
        {
          "name": "stderr",
          "output_type": "stream",
          "text": [
            "\rProgresso:  62%|██████▏   | 133/216 [40:53<29:34, 21.38s/it]"
          ]
        },
        {
          "data": {
            "text/html": [
              "<progress value=\"61.57407407407407\" max=\"100\"></progress>"
            ],
            "text/plain": [
              "<IPython.core.display.HTML object>"
            ]
          },
          "metadata": {},
          "output_type": "display_data"
        },
        {
          "name": "stderr",
          "output_type": "stream",
          "text": [
            "\rProgresso:  62%|██████▏   | 134/216 [41:09<26:42, 19.55s/it]"
          ]
        },
        {
          "data": {
            "text/html": [
              "<progress value=\"62.03703703703704\" max=\"100\"></progress>"
            ],
            "text/plain": [
              "<IPython.core.display.HTML object>"
            ]
          },
          "metadata": {},
          "output_type": "display_data"
        },
        {
          "name": "stderr",
          "output_type": "stream",
          "text": [
            "\rProgresso:  62%|██████▎   | 135/216 [41:25<25:07, 18.61s/it]"
          ]
        },
        {
          "data": {
            "text/html": [
              "<progress value=\"62.5\" max=\"100\"></progress>"
            ],
            "text/plain": [
              "<IPython.core.display.HTML object>"
            ]
          },
          "metadata": {},
          "output_type": "display_data"
        },
        {
          "name": "stderr",
          "output_type": "stream",
          "text": [
            "\rProgresso:  63%|██████▎   | 136/216 [42:04<32:53, 24.67s/it]"
          ]
        },
        {
          "data": {
            "text/html": [
              "<progress value=\"62.96296296296296\" max=\"100\"></progress>"
            ],
            "text/plain": [
              "<IPython.core.display.HTML object>"
            ]
          },
          "metadata": {},
          "output_type": "display_data"
        },
        {
          "name": "stderr",
          "output_type": "stream",
          "text": [
            "\rProgresso:  63%|██████▎   | 137/216 [43:01<45:14, 34.36s/it]"
          ]
        },
        {
          "data": {
            "text/html": [
              "<progress value=\"63.42592592592593\" max=\"100\"></progress>"
            ],
            "text/plain": [
              "<IPython.core.display.HTML object>"
            ]
          },
          "metadata": {},
          "output_type": "display_data"
        },
        {
          "name": "stderr",
          "output_type": "stream",
          "text": [
            "\rProgresso:  64%|██████▍   | 138/216 [44:14<59:40, 45.90s/it]"
          ]
        },
        {
          "data": {
            "text/html": [
              "<progress value=\"63.888888888888886\" max=\"100\"></progress>"
            ],
            "text/plain": [
              "<IPython.core.display.HTML object>"
            ]
          },
          "metadata": {},
          "output_type": "display_data"
        },
        {
          "name": "stderr",
          "output_type": "stream",
          "text": [
            "\rProgresso:  64%|██████▍   | 139/216 [45:11<1:03:21, 49.37s/it]"
          ]
        },
        {
          "data": {
            "text/html": [
              "<progress value=\"64.35185185185185\" max=\"100\"></progress>"
            ],
            "text/plain": [
              "<IPython.core.display.HTML object>"
            ]
          },
          "metadata": {},
          "output_type": "display_data"
        },
        {
          "name": "stderr",
          "output_type": "stream",
          "text": [
            "\rProgresso:  65%|██████▍   | 140/216 [46:38<1:16:52, 60.69s/it]"
          ]
        },
        {
          "data": {
            "text/html": [
              "<progress value=\"64.81481481481481\" max=\"100\"></progress>"
            ],
            "text/plain": [
              "<IPython.core.display.HTML object>"
            ]
          },
          "metadata": {},
          "output_type": "display_data"
        },
        {
          "name": "stderr",
          "output_type": "stream",
          "text": [
            "\rProgresso:  65%|██████▌   | 141/216 [48:31<1:35:13, 76.19s/it]"
          ]
        },
        {
          "data": {
            "text/html": [
              "<progress value=\"65.27777777777779\" max=\"100\"></progress>"
            ],
            "text/plain": [
              "<IPython.core.display.HTML object>"
            ]
          },
          "metadata": {},
          "output_type": "display_data"
        },
        {
          "name": "stderr",
          "output_type": "stream",
          "text": [
            "\rProgresso:  66%|██████▌   | 142/216 [49:20<1:23:57, 68.07s/it]"
          ]
        },
        {
          "data": {
            "text/html": [
              "<progress value=\"65.74074074074075\" max=\"100\"></progress>"
            ],
            "text/plain": [
              "<IPython.core.display.HTML object>"
            ]
          },
          "metadata": {},
          "output_type": "display_data"
        },
        {
          "name": "stderr",
          "output_type": "stream",
          "text": [
            "\rProgresso:  66%|██████▌   | 143/216 [50:37<1:26:08, 70.81s/it]"
          ]
        },
        {
          "data": {
            "text/html": [
              "<progress value=\"66.20370370370371\" max=\"100\"></progress>"
            ],
            "text/plain": [
              "<IPython.core.display.HTML object>"
            ]
          },
          "metadata": {},
          "output_type": "display_data"
        },
        {
          "name": "stderr",
          "output_type": "stream",
          "text": [
            "\rProgresso:  67%|██████▋   | 144/216 [52:10<1:33:07, 77.61s/it]"
          ]
        },
        {
          "data": {
            "text/html": [
              "<progress value=\"66.66666666666666\" max=\"100\"></progress>"
            ],
            "text/plain": [
              "<IPython.core.display.HTML object>"
            ]
          },
          "metadata": {},
          "output_type": "display_data"
        },
        {
          "name": "stderr",
          "output_type": "stream",
          "text": [
            "\rProgresso:  67%|██████▋   | 145/216 [52:21<1:07:56, 57.42s/it]"
          ]
        },
        {
          "data": {
            "text/html": [
              "<progress value=\"67.12962962962963\" max=\"100\"></progress>"
            ],
            "text/plain": [
              "<IPython.core.display.HTML object>"
            ]
          },
          "metadata": {},
          "output_type": "display_data"
        },
        {
          "name": "stderr",
          "output_type": "stream",
          "text": [
            "\rProgresso:  68%|██████▊   | 146/216 [52:33<51:12, 43.89s/it]  "
          ]
        },
        {
          "data": {
            "text/html": [
              "<progress value=\"67.5925925925926\" max=\"100\"></progress>"
            ],
            "text/plain": [
              "<IPython.core.display.HTML object>"
            ]
          },
          "metadata": {},
          "output_type": "display_data"
        },
        {
          "name": "stderr",
          "output_type": "stream",
          "text": [
            "\rProgresso:  68%|██████▊   | 147/216 [52:46<39:40, 34.50s/it]"
          ]
        },
        {
          "data": {
            "text/html": [
              "<progress value=\"68.05555555555556\" max=\"100\"></progress>"
            ],
            "text/plain": [
              "<IPython.core.display.HTML object>"
            ]
          },
          "metadata": {},
          "output_type": "display_data"
        },
        {
          "name": "stderr",
          "output_type": "stream",
          "text": [
            "\rProgresso:  69%|██████▊   | 148/216 [53:01<32:35, 28.75s/it]"
          ]
        },
        {
          "data": {
            "text/html": [
              "<progress value=\"68.51851851851852\" max=\"100\"></progress>"
            ],
            "text/plain": [
              "<IPython.core.display.HTML object>"
            ]
          },
          "metadata": {},
          "output_type": "display_data"
        },
        {
          "name": "stderr",
          "output_type": "stream",
          "text": [
            "\rProgresso:  69%|██████▉   | 149/216 [53:17<27:58, 25.05s/it]"
          ]
        },
        {
          "data": {
            "text/html": [
              "<progress value=\"68.98148148148148\" max=\"100\"></progress>"
            ],
            "text/plain": [
              "<IPython.core.display.HTML object>"
            ]
          },
          "metadata": {},
          "output_type": "display_data"
        },
        {
          "name": "stderr",
          "output_type": "stream",
          "text": [
            "\rProgresso:  69%|██████▉   | 150/216 [53:35<25:02, 22.77s/it]"
          ]
        },
        {
          "data": {
            "text/html": [
              "<progress value=\"69.44444444444444\" max=\"100\"></progress>"
            ],
            "text/plain": [
              "<IPython.core.display.HTML object>"
            ]
          },
          "metadata": {},
          "output_type": "display_data"
        },
        {
          "name": "stderr",
          "output_type": "stream",
          "text": [
            "\rProgresso:  70%|██████▉   | 151/216 [53:48<21:43, 20.06s/it]"
          ]
        },
        {
          "data": {
            "text/html": [
              "<progress value=\"69.9074074074074\" max=\"100\"></progress>"
            ],
            "text/plain": [
              "<IPython.core.display.HTML object>"
            ]
          },
          "metadata": {},
          "output_type": "display_data"
        },
        {
          "name": "stderr",
          "output_type": "stream",
          "text": [
            "\rProgresso:  70%|███████   | 152/216 [54:03<19:37, 18.40s/it]"
          ]
        },
        {
          "data": {
            "text/html": [
              "<progress value=\"70.37037037037037\" max=\"100\"></progress>"
            ],
            "text/plain": [
              "<IPython.core.display.HTML object>"
            ]
          },
          "metadata": {},
          "output_type": "display_data"
        },
        {
          "name": "stderr",
          "output_type": "stream",
          "text": [
            "\rProgresso:  71%|███████   | 153/216 [54:18<18:18, 17.43s/it]"
          ]
        },
        {
          "data": {
            "text/html": [
              "<progress value=\"70.83333333333334\" max=\"100\"></progress>"
            ],
            "text/plain": [
              "<IPython.core.display.HTML object>"
            ]
          },
          "metadata": {},
          "output_type": "display_data"
        },
        {
          "name": "stderr",
          "output_type": "stream",
          "text": [
            "\rProgresso:  71%|███████▏  | 154/216 [54:53<23:23, 22.64s/it]"
          ]
        },
        {
          "data": {
            "text/html": [
              "<progress value=\"71.29629629629629\" max=\"100\"></progress>"
            ],
            "text/plain": [
              "<IPython.core.display.HTML object>"
            ]
          },
          "metadata": {},
          "output_type": "display_data"
        },
        {
          "name": "stderr",
          "output_type": "stream",
          "text": [
            "\rProgresso:  72%|███████▏  | 155/216 [55:45<32:01, 31.50s/it]"
          ]
        },
        {
          "data": {
            "text/html": [
              "<progress value=\"71.75925925925925\" max=\"100\"></progress>"
            ],
            "text/plain": [
              "<IPython.core.display.HTML object>"
            ]
          },
          "metadata": {},
          "output_type": "display_data"
        },
        {
          "name": "stderr",
          "output_type": "stream",
          "text": [
            "\rProgresso:  72%|███████▏  | 156/216 [56:50<41:26, 41.44s/it]"
          ]
        },
        {
          "data": {
            "text/html": [
              "<progress value=\"72.22222222222221\" max=\"100\"></progress>"
            ],
            "text/plain": [
              "<IPython.core.display.HTML object>"
            ]
          },
          "metadata": {},
          "output_type": "display_data"
        },
        {
          "name": "stderr",
          "output_type": "stream",
          "text": [
            "\rProgresso:  73%|███████▎  | 157/216 [57:39<42:56, 43.68s/it]"
          ]
        },
        {
          "data": {
            "text/html": [
              "<progress value=\"72.68518518518519\" max=\"100\"></progress>"
            ],
            "text/plain": [
              "<IPython.core.display.HTML object>"
            ]
          },
          "metadata": {},
          "output_type": "display_data"
        },
        {
          "name": "stderr",
          "output_type": "stream",
          "text": [
            "\rProgresso:  73%|███████▎  | 158/216 [58:57<52:11, 53.99s/it]"
          ]
        },
        {
          "data": {
            "text/html": [
              "<progress value=\"73.14814814814815\" max=\"100\"></progress>"
            ],
            "text/plain": [
              "<IPython.core.display.HTML object>"
            ]
          },
          "metadata": {},
          "output_type": "display_data"
        },
        {
          "name": "stderr",
          "output_type": "stream",
          "text": [
            "\rProgresso:  74%|███████▎  | 159/216 [1:00:34<1:03:34, 66.93s/it]"
          ]
        },
        {
          "data": {
            "text/html": [
              "<progress value=\"73.61111111111111\" max=\"100\"></progress>"
            ],
            "text/plain": [
              "<IPython.core.display.HTML object>"
            ]
          },
          "metadata": {},
          "output_type": "display_data"
        },
        {
          "name": "stderr",
          "output_type": "stream",
          "text": [
            "\rProgresso:  74%|███████▍  | 160/216 [1:01:16<55:33, 59.53s/it]  "
          ]
        },
        {
          "data": {
            "text/html": [
              "<progress value=\"74.07407407407408\" max=\"100\"></progress>"
            ],
            "text/plain": [
              "<IPython.core.display.HTML object>"
            ]
          },
          "metadata": {},
          "output_type": "display_data"
        },
        {
          "name": "stderr",
          "output_type": "stream",
          "text": [
            "\rProgresso:  75%|███████▍  | 161/216 [1:02:23<56:31, 61.67s/it]"
          ]
        },
        {
          "data": {
            "text/html": [
              "<progress value=\"74.53703703703704\" max=\"100\"></progress>"
            ],
            "text/plain": [
              "<IPython.core.display.HTML object>"
            ]
          },
          "metadata": {},
          "output_type": "display_data"
        },
        {
          "name": "stderr",
          "output_type": "stream",
          "text": [
            "\rProgresso:  75%|███████▌  | 162/216 [1:03:45<1:01:04, 67.86s/it]"
          ]
        },
        {
          "data": {
            "text/html": [
              "<progress value=\"75.0\" max=\"100\"></progress>"
            ],
            "text/plain": [
              "<IPython.core.display.HTML object>"
            ]
          },
          "metadata": {},
          "output_type": "display_data"
        },
        {
          "name": "stderr",
          "output_type": "stream",
          "text": [
            "\rProgresso:  75%|███████▌  | 163/216 [1:04:09<48:12, 54.58s/it]  "
          ]
        },
        {
          "data": {
            "text/html": [
              "<progress value=\"75.46296296296296\" max=\"100\"></progress>"
            ],
            "text/plain": [
              "<IPython.core.display.HTML object>"
            ]
          },
          "metadata": {},
          "output_type": "display_data"
        },
        {
          "name": "stderr",
          "output_type": "stream",
          "text": [
            "\rProgresso:  76%|███████▌  | 164/216 [1:04:34<39:36, 45.70s/it]"
          ]
        },
        {
          "data": {
            "text/html": [
              "<progress value=\"75.92592592592592\" max=\"100\"></progress>"
            ],
            "text/plain": [
              "<IPython.core.display.HTML object>"
            ]
          },
          "metadata": {},
          "output_type": "display_data"
        },
        {
          "name": "stderr",
          "output_type": "stream",
          "text": [
            "\rProgresso:  76%|███████▋  | 165/216 [1:04:59<33:40, 39.61s/it]"
          ]
        },
        {
          "data": {
            "text/html": [
              "<progress value=\"76.38888888888889\" max=\"100\"></progress>"
            ],
            "text/plain": [
              "<IPython.core.display.HTML object>"
            ]
          },
          "metadata": {},
          "output_type": "display_data"
        },
        {
          "name": "stderr",
          "output_type": "stream",
          "text": [
            "\rProgresso:  77%|███████▋  | 166/216 [1:05:31<31:02, 37.24s/it]"
          ]
        },
        {
          "data": {
            "text/html": [
              "<progress value=\"76.85185185185185\" max=\"100\"></progress>"
            ],
            "text/plain": [
              "<IPython.core.display.HTML object>"
            ]
          },
          "metadata": {},
          "output_type": "display_data"
        },
        {
          "name": "stderr",
          "output_type": "stream",
          "text": [
            "\rProgresso:  77%|███████▋  | 167/216 [1:06:05<29:44, 36.41s/it]"
          ]
        },
        {
          "data": {
            "text/html": [
              "<progress value=\"77.31481481481481\" max=\"100\"></progress>"
            ],
            "text/plain": [
              "<IPython.core.display.HTML object>"
            ]
          },
          "metadata": {},
          "output_type": "display_data"
        },
        {
          "name": "stderr",
          "output_type": "stream",
          "text": [
            "\rProgresso:  78%|███████▊  | 168/216 [1:06:42<29:11, 36.49s/it]"
          ]
        },
        {
          "data": {
            "text/html": [
              "<progress value=\"77.77777777777779\" max=\"100\"></progress>"
            ],
            "text/plain": [
              "<IPython.core.display.HTML object>"
            ]
          },
          "metadata": {},
          "output_type": "display_data"
        },
        {
          "name": "stderr",
          "output_type": "stream",
          "text": [
            "\rProgresso:  78%|███████▊  | 169/216 [1:07:10<26:41, 34.07s/it]"
          ]
        },
        {
          "data": {
            "text/html": [
              "<progress value=\"78.24074074074075\" max=\"100\"></progress>"
            ],
            "text/plain": [
              "<IPython.core.display.HTML object>"
            ]
          },
          "metadata": {},
          "output_type": "display_data"
        },
        {
          "name": "stderr",
          "output_type": "stream",
          "text": [
            "\rProgresso:  79%|███████▊  | 170/216 [1:07:42<25:39, 33.47s/it]"
          ]
        },
        {
          "data": {
            "text/html": [
              "<progress value=\"78.70370370370371\" max=\"100\"></progress>"
            ],
            "text/plain": [
              "<IPython.core.display.HTML object>"
            ]
          },
          "metadata": {},
          "output_type": "display_data"
        },
        {
          "name": "stderr",
          "output_type": "stream",
          "text": [
            "\rProgresso:  79%|███████▉  | 171/216 [1:08:14<24:40, 32.91s/it]"
          ]
        },
        {
          "data": {
            "text/html": [
              "<progress value=\"79.16666666666666\" max=\"100\"></progress>"
            ],
            "text/plain": [
              "<IPython.core.display.HTML object>"
            ]
          },
          "metadata": {},
          "output_type": "display_data"
        },
        {
          "name": "stderr",
          "output_type": "stream",
          "text": [
            "\rProgresso:  80%|███████▉  | 172/216 [1:09:31<33:51, 46.17s/it]"
          ]
        },
        {
          "data": {
            "text/html": [
              "<progress value=\"79.62962962962963\" max=\"100\"></progress>"
            ],
            "text/plain": [
              "<IPython.core.display.HTML object>"
            ]
          },
          "metadata": {},
          "output_type": "display_data"
        },
        {
          "name": "stderr",
          "output_type": "stream",
          "text": [
            "\rProgresso:  80%|████████  | 173/216 [1:11:31<49:02, 68.44s/it]"
          ]
        },
        {
          "data": {
            "text/html": [
              "<progress value=\"80.0925925925926\" max=\"100\"></progress>"
            ],
            "text/plain": [
              "<IPython.core.display.HTML object>"
            ]
          },
          "metadata": {},
          "output_type": "display_data"
        },
        {
          "name": "stderr",
          "output_type": "stream",
          "text": [
            "\rProgresso:  81%|████████  | 174/216 [1:14:04<1:05:33, 93.66s/it]"
          ]
        },
        {
          "data": {
            "text/html": [
              "<progress value=\"80.55555555555556\" max=\"100\"></progress>"
            ],
            "text/plain": [
              "<IPython.core.display.HTML object>"
            ]
          },
          "metadata": {},
          "output_type": "display_data"
        },
        {
          "name": "stderr",
          "output_type": "stream",
          "text": [
            "\rProgresso:  81%|████████  | 175/216 [1:15:57<1:07:56, 99.43s/it]"
          ]
        },
        {
          "data": {
            "text/html": [
              "<progress value=\"81.01851851851852\" max=\"100\"></progress>"
            ],
            "text/plain": [
              "<IPython.core.display.HTML object>"
            ]
          },
          "metadata": {},
          "output_type": "display_data"
        },
        {
          "name": "stderr",
          "output_type": "stream",
          "text": [
            "\rProgresso:  81%|████████▏ | 176/216 [1:18:59<1:22:52, 124.31s/it]"
          ]
        },
        {
          "data": {
            "text/html": [
              "<progress value=\"81.48148148148148\" max=\"100\"></progress>"
            ],
            "text/plain": [
              "<IPython.core.display.HTML object>"
            ]
          },
          "metadata": {},
          "output_type": "display_data"
        },
        {
          "name": "stderr",
          "output_type": "stream",
          "text": [
            "\rProgresso:  82%|████████▏ | 177/216 [1:22:49<1:41:15, 155.79s/it]"
          ]
        },
        {
          "data": {
            "text/html": [
              "<progress value=\"81.94444444444444\" max=\"100\"></progress>"
            ],
            "text/plain": [
              "<IPython.core.display.HTML object>"
            ]
          },
          "metadata": {},
          "output_type": "display_data"
        },
        {
          "name": "stderr",
          "output_type": "stream",
          "text": [
            "\rProgresso:  82%|████████▏ | 178/216 [1:24:27<1:27:43, 138.52s/it]"
          ]
        },
        {
          "data": {
            "text/html": [
              "<progress value=\"82.4074074074074\" max=\"100\"></progress>"
            ],
            "text/plain": [
              "<IPython.core.display.HTML object>"
            ]
          },
          "metadata": {},
          "output_type": "display_data"
        },
        {
          "name": "stderr",
          "output_type": "stream",
          "text": [
            "\rProgresso:  83%|████████▎ | 179/216 [1:27:02<1:28:31, 143.56s/it]"
          ]
        },
        {
          "data": {
            "text/html": [
              "<progress value=\"82.87037037037037\" max=\"100\"></progress>"
            ],
            "text/plain": [
              "<IPython.core.display.HTML object>"
            ]
          },
          "metadata": {},
          "output_type": "display_data"
        },
        {
          "name": "stderr",
          "output_type": "stream",
          "text": [
            "\rProgresso:  83%|████████▎ | 180/216 [1:30:20<1:35:57, 159.92s/it]"
          ]
        },
        {
          "data": {
            "text/html": [
              "<progress value=\"83.33333333333334\" max=\"100\"></progress>"
            ],
            "text/plain": [
              "<IPython.core.display.HTML object>"
            ]
          },
          "metadata": {},
          "output_type": "display_data"
        },
        {
          "name": "stderr",
          "output_type": "stream",
          "text": [
            "\rProgresso:  84%|████████▍ | 181/216 [1:30:41<1:08:54, 118.13s/it]"
          ]
        },
        {
          "data": {
            "text/html": [
              "<progress value=\"83.79629629629629\" max=\"100\"></progress>"
            ],
            "text/plain": [
              "<IPython.core.display.HTML object>"
            ]
          },
          "metadata": {},
          "output_type": "display_data"
        },
        {
          "name": "stderr",
          "output_type": "stream",
          "text": [
            "\rProgresso:  84%|████████▍ | 182/216 [1:31:04<50:48, 89.66s/it]   "
          ]
        },
        {
          "data": {
            "text/html": [
              "<progress value=\"84.25925925925925\" max=\"100\"></progress>"
            ],
            "text/plain": [
              "<IPython.core.display.HTML object>"
            ]
          },
          "metadata": {},
          "output_type": "display_data"
        },
        {
          "name": "stderr",
          "output_type": "stream",
          "text": [
            "\rProgresso:  85%|████████▍ | 183/216 [1:31:28<38:31, 70.05s/it]"
          ]
        },
        {
          "data": {
            "text/html": [
              "<progress value=\"84.72222222222221\" max=\"100\"></progress>"
            ],
            "text/plain": [
              "<IPython.core.display.HTML object>"
            ]
          },
          "metadata": {},
          "output_type": "display_data"
        },
        {
          "name": "stderr",
          "output_type": "stream",
          "text": [
            "\rProgresso:  85%|████████▌ | 184/216 [1:31:58<30:55, 57.98s/it]"
          ]
        },
        {
          "data": {
            "text/html": [
              "<progress value=\"85.18518518518519\" max=\"100\"></progress>"
            ],
            "text/plain": [
              "<IPython.core.display.HTML object>"
            ]
          },
          "metadata": {},
          "output_type": "display_data"
        },
        {
          "name": "stderr",
          "output_type": "stream",
          "text": [
            "\rProgresso:  86%|████████▌ | 185/216 [1:32:30<25:59, 50.30s/it]"
          ]
        },
        {
          "data": {
            "text/html": [
              "<progress value=\"85.64814814814815\" max=\"100\"></progress>"
            ],
            "text/plain": [
              "<IPython.core.display.HTML object>"
            ]
          },
          "metadata": {},
          "output_type": "display_data"
        },
        {
          "name": "stderr",
          "output_type": "stream",
          "text": [
            "\rProgresso:  86%|████████▌ | 186/216 [1:33:06<22:53, 45.79s/it]"
          ]
        },
        {
          "data": {
            "text/html": [
              "<progress value=\"86.11111111111111\" max=\"100\"></progress>"
            ],
            "text/plain": [
              "<IPython.core.display.HTML object>"
            ]
          },
          "metadata": {},
          "output_type": "display_data"
        },
        {
          "name": "stderr",
          "output_type": "stream",
          "text": [
            "\rProgresso:  87%|████████▋ | 187/216 [1:33:33<19:24, 40.14s/it]"
          ]
        },
        {
          "data": {
            "text/html": [
              "<progress value=\"86.57407407407408\" max=\"100\"></progress>"
            ],
            "text/plain": [
              "<IPython.core.display.HTML object>"
            ]
          },
          "metadata": {},
          "output_type": "display_data"
        },
        {
          "name": "stderr",
          "output_type": "stream",
          "text": [
            "\rProgresso:  87%|████████▋ | 188/216 [1:34:01<17:08, 36.71s/it]"
          ]
        },
        {
          "data": {
            "text/html": [
              "<progress value=\"87.03703703703704\" max=\"100\"></progress>"
            ],
            "text/plain": [
              "<IPython.core.display.HTML object>"
            ]
          },
          "metadata": {},
          "output_type": "display_data"
        },
        {
          "name": "stderr",
          "output_type": "stream",
          "text": [
            "\rProgresso:  88%|████████▊ | 189/216 [1:34:31<15:37, 34.71s/it]"
          ]
        },
        {
          "data": {
            "text/html": [
              "<progress value=\"87.5\" max=\"100\"></progress>"
            ],
            "text/plain": [
              "<IPython.core.display.HTML object>"
            ]
          },
          "metadata": {},
          "output_type": "display_data"
        },
        {
          "name": "stderr",
          "output_type": "stream",
          "text": [
            "\rProgresso:  88%|████████▊ | 190/216 [1:35:44<19:55, 45.98s/it]"
          ]
        },
        {
          "data": {
            "text/html": [
              "<progress value=\"87.96296296296296\" max=\"100\"></progress>"
            ],
            "text/plain": [
              "<IPython.core.display.HTML object>"
            ]
          },
          "metadata": {},
          "output_type": "display_data"
        },
        {
          "name": "stderr",
          "output_type": "stream",
          "text": [
            "\rProgresso:  88%|████████▊ | 191/216 [1:37:34<27:12, 65.32s/it]"
          ]
        },
        {
          "data": {
            "text/html": [
              "<progress value=\"88.42592592592592\" max=\"100\"></progress>"
            ],
            "text/plain": [
              "<IPython.core.display.HTML object>"
            ]
          },
          "metadata": {},
          "output_type": "display_data"
        },
        {
          "name": "stderr",
          "output_type": "stream",
          "text": [
            "\rProgresso:  89%|████████▉ | 192/216 [1:39:52<34:49, 87.04s/it]"
          ]
        },
        {
          "data": {
            "text/html": [
              "<progress value=\"88.88888888888889\" max=\"100\"></progress>"
            ],
            "text/plain": [
              "<IPython.core.display.HTML object>"
            ]
          },
          "metadata": {},
          "output_type": "display_data"
        },
        {
          "name": "stderr",
          "output_type": "stream",
          "text": [
            "\rProgresso:  89%|████████▉ | 193/216 [1:41:36<35:21, 92.24s/it]"
          ]
        },
        {
          "data": {
            "text/html": [
              "<progress value=\"89.35185185185185\" max=\"100\"></progress>"
            ],
            "text/plain": [
              "<IPython.core.display.HTML object>"
            ]
          },
          "metadata": {},
          "output_type": "display_data"
        },
        {
          "name": "stderr",
          "output_type": "stream",
          "text": [
            "\rProgresso:  90%|████████▉ | 194/216 [1:44:20<41:40, 113.68s/it]"
          ]
        },
        {
          "data": {
            "text/html": [
              "<progress value=\"89.81481481481481\" max=\"100\"></progress>"
            ],
            "text/plain": [
              "<IPython.core.display.HTML object>"
            ]
          },
          "metadata": {},
          "output_type": "display_data"
        },
        {
          "name": "stderr",
          "output_type": "stream",
          "text": [
            "\rProgresso:  90%|█████████ | 195/216 [1:47:47<49:33, 141.61s/it]"
          ]
        },
        {
          "data": {
            "text/html": [
              "<progress value=\"90.27777777777779\" max=\"100\"></progress>"
            ],
            "text/plain": [
              "<IPython.core.display.HTML object>"
            ]
          },
          "metadata": {},
          "output_type": "display_data"
        },
        {
          "name": "stderr",
          "output_type": "stream",
          "text": [
            "\rProgresso:  91%|█████████ | 196/216 [1:49:15<41:53, 125.66s/it]"
          ]
        },
        {
          "data": {
            "text/html": [
              "<progress value=\"90.74074074074075\" max=\"100\"></progress>"
            ],
            "text/plain": [
              "<IPython.core.display.HTML object>"
            ]
          },
          "metadata": {},
          "output_type": "display_data"
        },
        {
          "name": "stderr",
          "output_type": "stream",
          "text": [
            "\rProgresso:  91%|█████████ | 197/216 [1:51:39<41:30, 131.10s/it]"
          ]
        },
        {
          "data": {
            "text/html": [
              "<progress value=\"91.20370370370371\" max=\"100\"></progress>"
            ],
            "text/plain": [
              "<IPython.core.display.HTML object>"
            ]
          },
          "metadata": {},
          "output_type": "display_data"
        },
        {
          "name": "stderr",
          "output_type": "stream",
          "text": [
            "\rProgresso:  92%|█████████▏| 198/216 [1:54:35<43:21, 144.53s/it]"
          ]
        },
        {
          "data": {
            "text/html": [
              "<progress value=\"91.66666666666666\" max=\"100\"></progress>"
            ],
            "text/plain": [
              "<IPython.core.display.HTML object>"
            ]
          },
          "metadata": {},
          "output_type": "display_data"
        },
        {
          "name": "stderr",
          "output_type": "stream",
          "text": [
            "\rProgresso:  92%|█████████▏| 199/216 [1:54:54<30:19, 107.02s/it]"
          ]
        },
        {
          "data": {
            "text/html": [
              "<progress value=\"92.12962962962963\" max=\"100\"></progress>"
            ],
            "text/plain": [
              "<IPython.core.display.HTML object>"
            ]
          },
          "metadata": {},
          "output_type": "display_data"
        },
        {
          "name": "stderr",
          "output_type": "stream",
          "text": [
            "\rProgresso:  93%|█████████▎| 200/216 [1:55:16<21:44, 81.55s/it] "
          ]
        },
        {
          "data": {
            "text/html": [
              "<progress value=\"92.5925925925926\" max=\"100\"></progress>"
            ],
            "text/plain": [
              "<IPython.core.display.HTML object>"
            ]
          },
          "metadata": {},
          "output_type": "display_data"
        },
        {
          "name": "stderr",
          "output_type": "stream",
          "text": [
            "\rProgresso:  93%|█████████▎| 201/216 [1:55:38<15:52, 63.52s/it]"
          ]
        },
        {
          "data": {
            "text/html": [
              "<progress value=\"93.05555555555556\" max=\"100\"></progress>"
            ],
            "text/plain": [
              "<IPython.core.display.HTML object>"
            ]
          },
          "metadata": {},
          "output_type": "display_data"
        },
        {
          "name": "stderr",
          "output_type": "stream",
          "text": [
            "\rProgresso:  94%|█████████▎| 202/216 [1:56:07<12:24, 53.16s/it]"
          ]
        },
        {
          "data": {
            "text/html": [
              "<progress value=\"93.51851851851852\" max=\"100\"></progress>"
            ],
            "text/plain": [
              "<IPython.core.display.HTML object>"
            ]
          },
          "metadata": {},
          "output_type": "display_data"
        },
        {
          "name": "stderr",
          "output_type": "stream",
          "text": [
            "\rProgresso:  94%|█████████▍| 203/216 [1:56:38<10:04, 46.51s/it]"
          ]
        },
        {
          "data": {
            "text/html": [
              "<progress value=\"93.98148148148148\" max=\"100\"></progress>"
            ],
            "text/plain": [
              "<IPython.core.display.HTML object>"
            ]
          },
          "metadata": {},
          "output_type": "display_data"
        },
        {
          "name": "stderr",
          "output_type": "stream",
          "text": [
            "\rProgresso:  94%|█████████▍| 204/216 [1:57:10<08:25, 42.08s/it]"
          ]
        },
        {
          "data": {
            "text/html": [
              "<progress value=\"94.44444444444444\" max=\"100\"></progress>"
            ],
            "text/plain": [
              "<IPython.core.display.HTML object>"
            ]
          },
          "metadata": {},
          "output_type": "display_data"
        },
        {
          "name": "stderr",
          "output_type": "stream",
          "text": [
            "\rProgresso:  95%|█████████▍| 205/216 [1:57:35<06:47, 37.08s/it]"
          ]
        },
        {
          "data": {
            "text/html": [
              "<progress value=\"94.9074074074074\" max=\"100\"></progress>"
            ],
            "text/plain": [
              "<IPython.core.display.HTML object>"
            ]
          },
          "metadata": {},
          "output_type": "display_data"
        },
        {
          "name": "stderr",
          "output_type": "stream",
          "text": [
            "\rProgresso:  95%|█████████▌| 206/216 [1:58:02<05:40, 34.07s/it]"
          ]
        },
        {
          "data": {
            "text/html": [
              "<progress value=\"95.37037037037037\" max=\"100\"></progress>"
            ],
            "text/plain": [
              "<IPython.core.display.HTML object>"
            ]
          },
          "metadata": {},
          "output_type": "display_data"
        },
        {
          "name": "stderr",
          "output_type": "stream",
          "text": [
            "\rProgresso:  96%|█████████▌| 207/216 [1:58:30<04:51, 32.34s/it]"
          ]
        },
        {
          "data": {
            "text/html": [
              "<progress value=\"95.83333333333334\" max=\"100\"></progress>"
            ],
            "text/plain": [
              "<IPython.core.display.HTML object>"
            ]
          },
          "metadata": {},
          "output_type": "display_data"
        },
        {
          "name": "stderr",
          "output_type": "stream",
          "text": [
            "\rProgresso:  96%|█████████▋| 208/216 [1:59:37<05:40, 42.56s/it]"
          ]
        },
        {
          "data": {
            "text/html": [
              "<progress value=\"96.29629629629629\" max=\"100\"></progress>"
            ],
            "text/plain": [
              "<IPython.core.display.HTML object>"
            ]
          },
          "metadata": {},
          "output_type": "display_data"
        },
        {
          "name": "stderr",
          "output_type": "stream",
          "text": [
            "\rProgresso:  97%|█████████▋| 209/216 [2:01:20<07:05, 60.83s/it]"
          ]
        },
        {
          "data": {
            "text/html": [
              "<progress value=\"96.75925925925925\" max=\"100\"></progress>"
            ],
            "text/plain": [
              "<IPython.core.display.HTML object>"
            ]
          },
          "metadata": {},
          "output_type": "display_data"
        },
        {
          "name": "stderr",
          "output_type": "stream",
          "text": [
            "\rProgresso:  97%|█████████▋| 210/216 [2:03:29<08:07, 81.20s/it]"
          ]
        },
        {
          "data": {
            "text/html": [
              "<progress value=\"97.22222222222221\" max=\"100\"></progress>"
            ],
            "text/plain": [
              "<IPython.core.display.HTML object>"
            ]
          },
          "metadata": {},
          "output_type": "display_data"
        },
        {
          "name": "stderr",
          "output_type": "stream",
          "text": [
            "\rProgresso:  98%|█████████▊| 211/216 [2:05:09<07:13, 86.73s/it]"
          ]
        },
        {
          "data": {
            "text/html": [
              "<progress value=\"97.68518518518519\" max=\"100\"></progress>"
            ],
            "text/plain": [
              "<IPython.core.display.HTML object>"
            ]
          },
          "metadata": {},
          "output_type": "display_data"
        },
        {
          "name": "stderr",
          "output_type": "stream",
          "text": [
            "\rProgresso:  98%|█████████▊| 212/216 [2:07:43<07:08, 107.10s/it]"
          ]
        },
        {
          "data": {
            "text/html": [
              "<progress value=\"98.14814814814815\" max=\"100\"></progress>"
            ],
            "text/plain": [
              "<IPython.core.display.HTML object>"
            ]
          },
          "metadata": {},
          "output_type": "display_data"
        },
        {
          "name": "stderr",
          "output_type": "stream",
          "text": [
            "\rProgresso:  99%|█████████▊| 213/216 [2:10:56<06:38, 132.75s/it]"
          ]
        },
        {
          "data": {
            "text/html": [
              "<progress value=\"98.61111111111111\" max=\"100\"></progress>"
            ],
            "text/plain": [
              "<IPython.core.display.HTML object>"
            ]
          },
          "metadata": {},
          "output_type": "display_data"
        },
        {
          "name": "stderr",
          "output_type": "stream",
          "text": [
            "\rProgresso:  99%|█████████▉| 214/216 [2:12:18<03:55, 117.69s/it]"
          ]
        },
        {
          "data": {
            "text/html": [
              "<progress value=\"99.07407407407408\" max=\"100\"></progress>"
            ],
            "text/plain": [
              "<IPython.core.display.HTML object>"
            ]
          },
          "metadata": {},
          "output_type": "display_data"
        },
        {
          "name": "stderr",
          "output_type": "stream",
          "text": [
            "\rProgresso: 100%|█████████▉| 215/216 [2:14:26<02:00, 120.69s/it]"
          ]
        },
        {
          "data": {
            "text/html": [
              "<progress value=\"99.53703703703704\" max=\"100\"></progress>"
            ],
            "text/plain": [
              "<IPython.core.display.HTML object>"
            ]
          },
          "metadata": {},
          "output_type": "display_data"
        },
        {
          "name": "stderr",
          "output_type": "stream",
          "text": [
            "Progresso: 100%|██████████| 216/216 [2:17:09<00:00, 38.10s/it] "
          ]
        },
        {
          "name": "stdout",
          "output_type": "stream",
          "text": [
            "I risultati sono stati scritti su 'risultati.csv'.\n"
          ]
        },
        {
          "name": "stderr",
          "output_type": "stream",
          "text": [
            "\n"
          ]
        }
      ],
      "source": [
        "from sklearn.model_selection import ParameterGrid\n",
        "from gensim.models import Word2Vec\n",
        "import csv\n",
        "from tqdm import tqdm\n",
        "from IPython.display import display, HTML\n",
        "import time\n",
        "\n",
        "# Definisco la griglia di ricerca\n",
        "param_grid = {\n",
        "    'vector_size': [100, 150, 200],\n",
        "    'window': [5, 10, 15],\n",
        "    'min_count': [3, 5, 7],\n",
        "    'sg': [0, 1],\n",
        "    'epochs': [10, 20, 50, 100],\n",
        "    'negative': [10]\n",
        "}\n",
        "\n",
        "# Nome del file di output CSV\n",
        "output_file = 'risultati.csv'\n",
        "\n",
        "# Scrivo l'intestazione del file CSV\n",
        "with open(output_file, 'w', newline='') as csvfile:\n",
        "    fieldnames = ['vector_size', 'window', 'min_count', 'sg', 'epochs', 'negative', 'score']\n",
        "    writer = csv.DictWriter(csvfile, fieldnames=fieldnames)\n",
        "    writer.writeheader()\n",
        "\n",
        "# Eseguo la griglia di ricerca con barra di avanzamento\n",
        "total_models = len(list(ParameterGrid(param_grid)))\n",
        "for i, params in enumerate(tqdm(ParameterGrid(param_grid), desc='Progresso', total=total_models)):\n",
        "    w2v_model = Word2Vec(tok_sents, **params)\n",
        "\n",
        "    # Valuto le prestazioni del modello con un confronto tra analogie\n",
        "    similarity_score = w2v_model.wv.evaluate_word_analogies(test_file, case_insensitive=True, dummy4unknown=False, similarity_function='most_similar')[0]\n",
        "\n",
        "    # Salvo i risultati nel file CSV\n",
        "    with open(output_file, 'a', newline='') as csvfile:\n",
        "        writer = csv.DictWriter(csvfile, fieldnames=fieldnames)\n",
        "        writer.writerow({**params, 'score': similarity_score})\n",
        "\n",
        "    # Aggiorno la barra di avanzamento su Google Colab\n",
        "    progress = i / total_models * 100\n",
        "    display(HTML(f'<progress value=\"{progress}\" max=\"100\"></progress>'))\n",
        "\n",
        "    # Aggiungo un piccolo ritardo per visualizzare l'aggiornamento della barra\n",
        "    time.sleep(0.1)\n",
        "\n",
        "print(f\"I risultati sono stati scritti su '{output_file}'.\")\n"
      ]
    },
    {
      "cell_type": "markdown",
      "metadata": {},
      "source": [
        "Creazione Modello Word2Vec"
      ]
    },
    {
      "cell_type": "code",
      "execution_count": 127,
      "metadata": {},
      "outputs": [],
      "source": [
        "#Creo ed addestro il modello Word2Vec con i miei parametri ideali\n",
        "w2v_model = Word2Vec(tok_sents, vector_size=150, window=5, min_count=7, sg=0, epochs=50, negative=10)"
      ]
    },
    {
      "cell_type": "code",
      "execution_count": 136,
      "metadata": {},
      "outputs": [
        {
          "name": "stdout",
          "output_type": "stream",
          "text": [
            "Stored 'w2v_model' (Word2Vec)\n"
          ]
        }
      ],
      "source": [
        "%store w2v_model"
      ]
    },
    {
      "cell_type": "code",
      "execution_count": 131,
      "metadata": {},
      "outputs": [],
      "source": [
        "w2w_vectors = []\n",
        "for arg in tok_sents:\n",
        "    seq = []\n",
        "    for word in arg:\n",
        "        if word in w2v_model.wv:\n",
        "            seq.append(word)\n",
        "        else:\n",
        "            pass\n",
        "    w2w_vectors.append(seq)"
      ]
    },
    {
      "cell_type": "code",
      "execution_count": 132,
      "metadata": {},
      "outputs": [
        {
          "data": {
            "text/plain": [
              "5392"
            ]
          },
          "execution_count": 132,
          "metadata": {},
          "output_type": "execute_result"
        }
      ],
      "source": [
        "len(w2v_vectors)"
      ]
    },
    {
      "cell_type": "code",
      "execution_count": 133,
      "metadata": {},
      "outputs": [
        {
          "data": {
            "text/plain": [
              "147"
            ]
          },
          "execution_count": 133,
          "metadata": {},
          "output_type": "execute_result"
        }
      ],
      "source": [
        "max_sequence_length = max(len(arg) for arg in tok_sents)\n",
        "max_sequence_length"
      ]
    },
    {
      "cell_type": "code",
      "execution_count": 134,
      "metadata": {},
      "outputs": [
        {
          "data": {
            "text/plain": [
              "150"
            ]
          },
          "execution_count": 134,
          "metadata": {},
          "output_type": "execute_result"
        }
      ],
      "source": [
        "w2v_model.vector_size"
      ]
    },
    {
      "cell_type": "code",
      "execution_count": 135,
      "metadata": {},
      "outputs": [
        {
          "name": "stdout",
          "output_type": "stream",
          "text": [
            "Stored 'w2v_vectors' (list)\n"
          ]
        }
      ],
      "source": [
        "%store w2v_vectors"
      ]
    },
    {
      "cell_type": "code",
      "execution_count": null,
      "metadata": {},
      "outputs": [],
      "source": []
    }
  ],
  "metadata": {
    "colab": {
      "provenance": []
    },
    "kernelspec": {
      "display_name": "Python 3",
      "name": "python3"
    },
    "language_info": {
      "codemirror_mode": {
        "name": "ipython",
        "version": 3
      },
      "file_extension": ".py",
      "mimetype": "text/x-python",
      "name": "python",
      "nbconvert_exporter": "python",
      "pygments_lexer": "ipython3",
      "version": "3.11.1"
    }
  },
  "nbformat": 4,
  "nbformat_minor": 0
}
