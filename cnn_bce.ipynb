{
 "cells": [
  {
   "cell_type": "code",
   "execution_count": 8,
   "metadata": {},
   "outputs": [
    {
     "name": "stdout",
     "output_type": "stream",
     "text": [
      "WARNING:tensorflow:From c:\\Users\\cate9\\AppData\\Local\\Programs\\Python\\Python311\\Lib\\site-packages\\keras\\src\\losses.py:2976: The name tf.losses.sparse_softmax_cross_entropy is deprecated. Please use tf.compat.v1.losses.sparse_softmax_cross_entropy instead.\n",
      "\n"
     ]
    }
   ],
   "source": [
    "import pandas as pd\n",
    "import numpy as np\n",
    "import tensorflow as tf\n",
    "from keras.models import Sequential\n",
    "from keras.layers import Embedding, Conv1D, GlobalMaxPooling1D, Dense, Dropout"
   ]
  },
  {
   "cell_type": "code",
   "execution_count": 74,
   "metadata": {},
   "outputs": [],
   "source": [
    "%store -r lda\n",
    "# from nltk_coll_topic.ipynb"
   ]
  },
  {
   "cell_type": "code",
   "execution_count": 75,
   "metadata": {},
   "outputs": [],
   "source": [
    "%store -r doc2vec_final\n",
    "# from doc2vec.ipynb"
   ]
  },
  {
   "cell_type": "code",
   "execution_count": 76,
   "metadata": {},
   "outputs": [],
   "source": [
    "%store -r input\n",
    "# from undersampling.ipynb, a list of vectors obtained by concatenating for each document its doc2vec vector and a vector with the topic modeling probabilities"
   ]
  },
  {
   "cell_type": "code",
   "execution_count": 77,
   "metadata": {},
   "outputs": [],
   "source": [
    "%store -r df\n",
    "# from undersampling.ipynb, has the labels after the undersampling"
   ]
  },
  {
   "cell_type": "code",
   "execution_count": 78,
   "metadata": {},
   "outputs": [
    {
     "data": {
      "text/html": [
       "<div>\n",
       "<style scoped>\n",
       "    .dataframe tbody tr th:only-of-type {\n",
       "        vertical-align: middle;\n",
       "    }\n",
       "\n",
       "    .dataframe tbody tr th {\n",
       "        vertical-align: top;\n",
       "    }\n",
       "\n",
       "    .dataframe thead th {\n",
       "        text-align: right;\n",
       "    }\n",
       "</style>\n",
       "<table border=\"1\" class=\"dataframe\">\n",
       "  <thead>\n",
       "    <tr style=\"text-align: right;\">\n",
       "      <th></th>\n",
       "      <th>Argument ID</th>\n",
       "      <th>Openness to change</th>\n",
       "      <th>Self-Enhancement</th>\n",
       "      <th>Conservation</th>\n",
       "      <th>Self-Transcendence</th>\n",
       "      <th>labels</th>\n",
       "    </tr>\n",
       "  </thead>\n",
       "  <tbody>\n",
       "    <tr>\n",
       "      <th>0</th>\n",
       "      <td>A01002</td>\n",
       "      <td>0</td>\n",
       "      <td>0</td>\n",
       "      <td>1</td>\n",
       "      <td>0</td>\n",
       "      <td>[0.0, 0.0, 1.0, 0.0]</td>\n",
       "    </tr>\n",
       "    <tr>\n",
       "      <th>1</th>\n",
       "      <td>A01005</td>\n",
       "      <td>0</td>\n",
       "      <td>0</td>\n",
       "      <td>1</td>\n",
       "      <td>0</td>\n",
       "      <td>[0.0, 0.0, 1.0, 0.0]</td>\n",
       "    </tr>\n",
       "    <tr>\n",
       "      <th>2</th>\n",
       "      <td>A01006</td>\n",
       "      <td>0</td>\n",
       "      <td>1</td>\n",
       "      <td>1</td>\n",
       "      <td>0</td>\n",
       "      <td>[0.0, 0.5, 0.5, 0.0]</td>\n",
       "    </tr>\n",
       "    <tr>\n",
       "      <th>3</th>\n",
       "      <td>A01007</td>\n",
       "      <td>0</td>\n",
       "      <td>0</td>\n",
       "      <td>2</td>\n",
       "      <td>1</td>\n",
       "      <td>[0.0, 0.0, 0.6666666666666666, 0.3333333333333...</td>\n",
       "    </tr>\n",
       "    <tr>\n",
       "      <th>4</th>\n",
       "      <td>A01008</td>\n",
       "      <td>0</td>\n",
       "      <td>0</td>\n",
       "      <td>1</td>\n",
       "      <td>2</td>\n",
       "      <td>[0.0, 0.0, 0.3333333333333333, 0.6666666666666...</td>\n",
       "    </tr>\n",
       "    <tr>\n",
       "      <th>...</th>\n",
       "      <td>...</td>\n",
       "      <td>...</td>\n",
       "      <td>...</td>\n",
       "      <td>...</td>\n",
       "      <td>...</td>\n",
       "      <td>...</td>\n",
       "    </tr>\n",
       "    <tr>\n",
       "      <th>5383</th>\n",
       "      <td>E08005</td>\n",
       "      <td>0</td>\n",
       "      <td>1</td>\n",
       "      <td>2</td>\n",
       "      <td>1</td>\n",
       "      <td>[0.0, 0.25, 0.5, 0.25]</td>\n",
       "    </tr>\n",
       "    <tr>\n",
       "      <th>5384</th>\n",
       "      <td>E08008</td>\n",
       "      <td>0</td>\n",
       "      <td>1</td>\n",
       "      <td>1</td>\n",
       "      <td>1</td>\n",
       "      <td>[0.0, 0.3333333333333333, 0.3333333333333333, ...</td>\n",
       "    </tr>\n",
       "    <tr>\n",
       "      <th>5385</th>\n",
       "      <td>E08009</td>\n",
       "      <td>0</td>\n",
       "      <td>1</td>\n",
       "      <td>1</td>\n",
       "      <td>0</td>\n",
       "      <td>[0.0, 0.5, 0.5, 0.0]</td>\n",
       "    </tr>\n",
       "    <tr>\n",
       "      <th>5387</th>\n",
       "      <td>E08016</td>\n",
       "      <td>0</td>\n",
       "      <td>2</td>\n",
       "      <td>1</td>\n",
       "      <td>1</td>\n",
       "      <td>[0.0, 0.5, 0.25, 0.25]</td>\n",
       "    </tr>\n",
       "    <tr>\n",
       "      <th>5391</th>\n",
       "      <td>E08020</td>\n",
       "      <td>1</td>\n",
       "      <td>1</td>\n",
       "      <td>1</td>\n",
       "      <td>1</td>\n",
       "      <td>[0.25, 0.25, 0.25, 0.25]</td>\n",
       "    </tr>\n",
       "  </tbody>\n",
       "</table>\n",
       "<p>2770 rows × 6 columns</p>\n",
       "</div>"
      ],
      "text/plain": [
       "     Argument ID  Openness to change  Self-Enhancement  Conservation   \n",
       "0         A01002                   0                 0             1  \\\n",
       "1         A01005                   0                 0             1   \n",
       "2         A01006                   0                 1             1   \n",
       "3         A01007                   0                 0             2   \n",
       "4         A01008                   0                 0             1   \n",
       "...          ...                 ...               ...           ...   \n",
       "5383      E08005                   0                 1             2   \n",
       "5384      E08008                   0                 1             1   \n",
       "5385      E08009                   0                 1             1   \n",
       "5387      E08016                   0                 2             1   \n",
       "5391      E08020                   1                 1             1   \n",
       "\n",
       "      Self-Transcendence                                             labels  \n",
       "0                      0                               [0.0, 0.0, 1.0, 0.0]  \n",
       "1                      0                               [0.0, 0.0, 1.0, 0.0]  \n",
       "2                      0                               [0.0, 0.5, 0.5, 0.0]  \n",
       "3                      1  [0.0, 0.0, 0.6666666666666666, 0.3333333333333...  \n",
       "4                      2  [0.0, 0.0, 0.3333333333333333, 0.6666666666666...  \n",
       "...                  ...                                                ...  \n",
       "5383                   1                             [0.0, 0.25, 0.5, 0.25]  \n",
       "5384                   1  [0.0, 0.3333333333333333, 0.3333333333333333, ...  \n",
       "5385                   0                               [0.0, 0.5, 0.5, 0.0]  \n",
       "5387                   1                             [0.0, 0.5, 0.25, 0.25]  \n",
       "5391                   1                           [0.25, 0.25, 0.25, 0.25]  \n",
       "\n",
       "[2770 rows x 6 columns]"
      ]
     },
     "execution_count": 78,
     "metadata": {},
     "output_type": "execute_result"
    }
   ],
   "source": [
    "df"
   ]
  },
  {
   "cell_type": "markdown",
   "metadata": {},
   "source": [
    "We first create the training set"
   ]
  },
  {
   "cell_type": "code",
   "execution_count": 79,
   "metadata": {},
   "outputs": [],
   "source": [
    "X_train = np.array(input)"
   ]
  },
  {
   "cell_type": "code",
   "execution_count": 80,
   "metadata": {},
   "outputs": [],
   "source": [
    "train_labels = [row.labels for id, row in df.iterrows()]"
   ]
  },
  {
   "cell_type": "code",
   "execution_count": 81,
   "metadata": {},
   "outputs": [],
   "source": [
    "# to implement our classification problem (that is multi-class and multi-label) we will use binary crossentropy with a sigmoid activation\n",
    "# function in the last layer: now we transform pur probabilities labels in \"binary\" labels.\n",
    "y_train = []\n",
    "for label in train_labels:\n",
    "    new_label = []\n",
    "    for value in label:\n",
    "        if value > 0:\n",
    "            new_label.append(1)\n",
    "        else:\n",
    "            new_label.append(0)\n",
    "    y_train.append(new_label)"
   ]
  },
  {
   "cell_type": "code",
   "execution_count": 82,
   "metadata": {},
   "outputs": [],
   "source": [
    "# we tranform our y_train in an array\n",
    "y_train = np.array(y_train)"
   ]
  },
  {
   "cell_type": "code",
   "execution_count": 83,
   "metadata": {},
   "outputs": [],
   "source": [
    "# since we are using a concatenation of doc2vec vectors and probabilities vectors from lda we decided to normalize our data\n",
    "from sklearn.preprocessing import StandardScaler"
   ]
  },
  {
   "cell_type": "code",
   "execution_count": 84,
   "metadata": {},
   "outputs": [],
   "source": [
    "scaler = StandardScaler()\n",
    "X_train = scaler.fit_transform(X_train)"
   ]
  },
  {
   "cell_type": "markdown",
   "metadata": {},
   "source": [
    "We now use the doc2vec model and the lda to extract the doc2vec vectors and topic probabilities from validation set"
   ]
  },
  {
   "cell_type": "code",
   "execution_count": 85,
   "metadata": {},
   "outputs": [],
   "source": [
    "%store -r y_val\n",
    "# from preprocessing_validation.ipynb"
   ]
  },
  {
   "cell_type": "code",
   "execution_count": 86,
   "metadata": {},
   "outputs": [],
   "source": [
    "%store -r val_d2v_topic_vec\n",
    "# from preprocessing_validation.ipynb"
   ]
  },
  {
   "cell_type": "code",
   "execution_count": 87,
   "metadata": {},
   "outputs": [],
   "source": [
    "X_val = np.array(val_d2v_topic_vec)"
   ]
  },
  {
   "cell_type": "code",
   "execution_count": 88,
   "metadata": {},
   "outputs": [],
   "source": [
    "X_val = scaler.transform(X_val)"
   ]
  },
  {
   "cell_type": "code",
   "execution_count": 89,
   "metadata": {},
   "outputs": [
    {
     "data": {
      "text/plain": [
       "array([-0.21897328, -0.28956918, -0.31116289, -0.30819973, -0.38598519,\n",
       "       -0.27756724, -0.32821338, -0.30369839,  1.69369078, -0.34530871,\n",
       "       -0.27144565, -0.30065987, -0.32871473, -0.26483439, -0.27596003,\n",
       "        1.61254942, -0.49715226, -0.36106349,  1.38614602,  2.96834166,\n",
       "        3.72179125,  2.4669081 , -0.63884464, -1.26971152, -3.3444115 ,\n",
       "        0.37543085,  1.1861427 , -3.37506297,  1.62852762,  3.647419  ,\n",
       "       -0.30911948,  3.73287083,  2.16085135, -2.32132782, -1.76041378,\n",
       "       -2.0678935 ,  1.35797982, -1.13300291, -2.06011215,  0.9256196 ,\n",
       "       -0.41903448, -3.67446507, -3.10673379,  2.52355842,  3.62260193,\n",
       "        1.47857248, -2.58099106,  3.29712318,  2.01516801, -2.32139452,\n",
       "       -3.04813632,  3.03705835, -3.33124351,  3.34948654,  2.95999988,\n",
       "        2.5994671 ,  3.38488704, -3.46029891, -3.27696512,  3.52653181,\n",
       "       -3.3947618 , -2.65936907,  3.83575005, -3.52311068,  3.82923501,\n",
       "       -3.10096249,  3.33350972,  1.52269909, -3.29362225,  3.10711623,\n",
       "       -1.35119712, -3.649392  , -2.11871754,  1.76336675,  3.37535423,\n",
       "        3.46033759,  3.80937876,  3.58850793, -2.99564479,  1.89307589,\n",
       "        3.23399865,  3.21408808, -3.00484319, -3.36721408, -0.20292461,\n",
       "       -3.49164646,  3.44071405, -3.74587196, -3.58811267,  0.36581542,\n",
       "       -3.68511204,  3.08010291, -2.92770464,  1.41104303, -3.42478946,\n",
       "        0.64402975,  0.12327161,  3.45510286, -1.95116801,  0.45764402,\n",
       "        2.88850459,  3.45034437, -2.65372308,  1.13199418,  1.69124158,\n",
       "       -0.58497181,  2.97868442,  2.88621152, -3.20969345, -3.25934166,\n",
       "       -3.25450002,  3.45287963,  0.32688343,  2.30444603,  3.45116003,\n",
       "        3.26576769, -3.15133608, -2.79419659, -1.84699612, -3.4686279 ,\n",
       "       -0.26702524,  1.45334915,  2.88952451, -3.32088742,  2.36622384,\n",
       "       -3.40160407,  1.80448787,  3.54876913,  0.27741896, -2.31669035,\n",
       "        2.13946922, -1.46845819, -3.15541314,  0.04485208,  1.58149144,\n",
       "       -0.29837736,  3.27085962,  2.48397356,  3.47463953, -3.4855238 ,\n",
       "        0.75222415, -3.41656259, -2.33552865, -3.23829336, -2.85552204,\n",
       "       -2.49870621, -2.46379216,  3.02782612,  3.20295735, -3.532678  ,\n",
       "       -1.39537492, -3.37499201, -3.5312899 , -0.48173098, -2.31654577,\n",
       "        1.25208121,  3.22352943,  1.09804661,  0.06765996, -1.34709003,\n",
       "       -2.64232582, -2.85090094,  3.51401901, -3.11896971,  3.53803139,\n",
       "        0.03765163, -1.98841983,  2.34059441, -3.60752515, -2.74495445,\n",
       "       -3.49172497, -0.2593509 , -0.70025545, -3.36440988, -3.26468396,\n",
       "        3.79455749,  2.02037104,  3.34278259,  2.24884718, -0.0076839 ,\n",
       "       -0.84974862,  2.74138562,  2.72390634,  1.11462448,  2.66933055,\n",
       "       -3.72050423,  2.29900492,  2.35707869,  1.66864067, -2.10615226,\n",
       "        3.61049529, -2.74631494, -3.49471282, -3.55593178,  3.74374242,\n",
       "        0.16837495,  2.68488647, -2.49361392, -0.73702524,  3.03791621,\n",
       "       -2.05247772, -3.78113488, -3.19150317,  0.37938056, -3.25729862,\n",
       "        0.91538385, -2.79221975,  3.37844669, -1.35323153, -3.07963084,\n",
       "       -3.49212118, -0.90787341, -2.90737848,  3.13679756,  2.57125406,\n",
       "       -2.47910143,  3.32898332,  0.65537561, -1.46725762])"
      ]
     },
     "execution_count": 89,
     "metadata": {},
     "output_type": "execute_result"
    }
   ],
   "source": [
    "X_val[0]"
   ]
  },
  {
   "cell_type": "code",
   "execution_count": 90,
   "metadata": {},
   "outputs": [],
   "source": [
    "# this the features len for the concatenation of doc2vec (200 features) and topic modeling (19 topics)\n",
    "features_len = 219"
   ]
  },
  {
   "cell_type": "code",
   "execution_count": 91,
   "metadata": {},
   "outputs": [],
   "source": [
    "from tensorflow.keras.optimizers import Adam\n",
    "from tensorflow.keras.callbacks import ReduceLROnPlateau"
   ]
  },
  {
   "cell_type": "code",
   "execution_count": 92,
   "metadata": {},
   "outputs": [],
   "source": [
    "from sklearn.metrics import classification_report\n",
    "from sklearn.metrics import accuracy_score"
   ]
  },
  {
   "cell_type": "code",
   "execution_count": 105,
   "metadata": {},
   "outputs": [],
   "source": [
    "from keras.callbacks import EarlyStopping"
   ]
  },
  {
   "cell_type": "code",
   "execution_count": 93,
   "metadata": {},
   "outputs": [
    {
     "data": {
      "text/plain": [
       "(1576, 219)"
      ]
     },
     "execution_count": 93,
     "metadata": {},
     "output_type": "execute_result"
    }
   ],
   "source": [
    "X_val.shape"
   ]
  },
  {
   "cell_type": "code",
   "execution_count": 94,
   "metadata": {},
   "outputs": [
    {
     "data": {
      "text/plain": [
       "(2770, 219)"
      ]
     },
     "execution_count": 94,
     "metadata": {},
     "output_type": "execute_result"
    }
   ],
   "source": [
    "X_train.shape"
   ]
  },
  {
   "cell_type": "code",
   "execution_count": 98,
   "metadata": {},
   "outputs": [],
   "source": [
    "# reshaping the data to add an extra dimension\n",
    "X_train = X_train.reshape((X_train.shape[0], 1, X_train.shape[1]))\n",
    "X_val = X_val.reshape((X_val.shape[0], 1, X_val.shape[1]))"
   ]
  },
  {
   "cell_type": "code",
   "execution_count": 112,
   "metadata": {},
   "outputs": [],
   "source": [
    "gridsearch_patience = [3, 5, 10]"
   ]
  },
  {
   "cell_type": "code",
   "execution_count": 113,
   "metadata": {},
   "outputs": [],
   "source": [
    "import matplotlib.pyplot as plt"
   ]
  },
  {
   "cell_type": "code",
   "execution_count": 114,
   "metadata": {},
   "outputs": [
    {
     "name": "stdout",
     "output_type": "stream",
     "text": [
      "Epoch 1/20\n",
      "87/87 [==============================] - 3s 12ms/step - loss: 0.6530 - accuracy: 0.1271 - val_loss: 0.6664 - val_accuracy: 0.2291 - lr: 0.0010\n",
      "Epoch 2/20\n",
      "87/87 [==============================] - 1s 9ms/step - loss: 0.6463 - accuracy: 0.1184 - val_loss: 0.6630 - val_accuracy: 0.1060 - lr: 0.0010\n",
      "Epoch 3/20\n",
      "87/87 [==============================] - 1s 9ms/step - loss: 0.6452 - accuracy: 0.1278 - val_loss: 0.6737 - val_accuracy: 0.1954 - lr: 0.0010\n",
      "Epoch 4/20\n",
      "87/87 [==============================] - 1s 9ms/step - loss: 0.6416 - accuracy: 0.1170 - val_loss: 0.6754 - val_accuracy: 0.1650 - lr: 0.0010\n",
      "Epoch 5/20\n",
      "80/87 [==========================>...] - ETA: 0s - loss: 0.6414 - accuracy: 0.1543Restoring model weights from the end of the best epoch: 2.\n",
      "87/87 [==============================] - 1s 9ms/step - loss: 0.6414 - accuracy: 0.1581 - val_loss: 0.6820 - val_accuracy: 0.2043 - lr: 0.0010\n",
      "Epoch 5: early stopping\n",
      "50/50 [==============================] - 0s 3ms/step\n",
      "              precision    recall  f1-score   support\n",
      "\n",
      "           0       0.39      1.00      0.56       614\n",
      "           1       0.42      1.00      0.59       660\n",
      "           2       0.75      1.00      0.86      1181\n",
      "           3       0.76      1.00      0.87      1204\n",
      "\n",
      "   micro avg       0.58      1.00      0.73      3659\n",
      "   macro avg       0.58      1.00      0.72      3659\n",
      "weighted avg       0.63      1.00      0.76      3659\n",
      " samples avg       0.58      1.00      0.71      3659\n",
      "\n"
     ]
    },
    {
     "data": {
      "image/png": "[encoded data removed]",
      "text/plain": [
       "<Figure size 640x480 with 1 Axes>"
      ]
     },
     "metadata": {},
     "output_type": "display_data"
    },
    {
     "name": "stdout",
     "output_type": "stream",
     "text": [
      "Epoch 1/20\n",
      "87/87 [==============================] - 3s 12ms/step - loss: 0.6517 - accuracy: 0.1307 - val_loss: 0.6681 - val_accuracy: 0.3077 - lr: 0.0010\n",
      "Epoch 2/20\n",
      "87/87 [==============================] - 1s 9ms/step - loss: 0.6462 - accuracy: 0.1383 - val_loss: 0.6659 - val_accuracy: 0.2024 - lr: 0.0010\n",
      "Epoch 3/20\n",
      "87/87 [==============================] - 1s 9ms/step - loss: 0.6431 - accuracy: 0.1282 - val_loss: 0.6725 - val_accuracy: 0.2246 - lr: 0.0010\n",
      "Epoch 4/20\n",
      "87/87 [==============================] - 1s 11ms/step - loss: 0.6404 - accuracy: 0.1610 - val_loss: 0.6847 - val_accuracy: 0.2278 - lr: 0.0010\n",
      "Epoch 5/20\n",
      "87/87 [==============================] - 1s 10ms/step - loss: 0.6413 - accuracy: 0.1357 - val_loss: 0.6683 - val_accuracy: 0.1605 - lr: 0.0010\n",
      "Epoch 6/20\n",
      "87/87 [==============================] - 1s 9ms/step - loss: 0.6343 - accuracy: 0.1596 - val_loss: 0.6806 - val_accuracy: 0.1713 - lr: 5.0000e-04\n",
      "Epoch 7/20\n",
      "86/87 [============================>.] - ETA: 0s - loss: 0.6283 - accuracy: 0.2039Restoring model weights from the end of the best epoch: 2.\n",
      "87/87 [==============================] - 1s 9ms/step - loss: 0.6283 - accuracy: 0.2040 - val_loss: 0.6786 - val_accuracy: 0.1681 - lr: 5.0000e-04\n",
      "Epoch 7: early stopping\n",
      "50/50 [==============================] - 0s 3ms/step\n",
      "              precision    recall  f1-score   support\n",
      "\n",
      "           0       0.39      1.00      0.56       614\n",
      "           1       0.42      1.00      0.59       660\n",
      "           2       0.75      1.00      0.86      1181\n",
      "           3       0.76      1.00      0.87      1204\n",
      "\n",
      "   micro avg       0.58      1.00      0.73      3659\n",
      "   macro avg       0.58      1.00      0.72      3659\n",
      "weighted avg       0.63      1.00      0.76      3659\n",
      " samples avg       0.58      1.00      0.71      3659\n",
      "\n"
     ]
    },
    {
     "data": {
      "image/png": "[encoded data removed]",
      "text/plain": [
       "<Figure size 640x480 with 1 Axes>"
      ]
     },
     "metadata": {},
     "output_type": "display_data"
    },
    {
     "name": "stdout",
     "output_type": "stream",
     "text": [
      "Epoch 1/20\n",
      "87/87 [==============================] - 2s 12ms/step - loss: 0.6527 - accuracy: 0.1303 - val_loss: 0.6649 - val_accuracy: 0.2456 - lr: 0.0010\n",
      "Epoch 2/20\n",
      "87/87 [==============================] - 1s 8ms/step - loss: 0.6462 - accuracy: 0.1235 - val_loss: 0.6657 - val_accuracy: 0.1529 - lr: 0.0010\n",
      "Epoch 3/20\n",
      "87/87 [==============================] - 1s 9ms/step - loss: 0.6450 - accuracy: 0.1336 - val_loss: 0.6720 - val_accuracy: 0.3115 - lr: 0.0010\n",
      "Epoch 4/20\n",
      "87/87 [==============================] - 1s 9ms/step - loss: 0.6400 - accuracy: 0.1614 - val_loss: 0.6705 - val_accuracy: 0.2062 - lr: 0.0010\n",
      "Epoch 5/20\n",
      "87/87 [==============================] - 1s 9ms/step - loss: 0.6377 - accuracy: 0.1415 - val_loss: 0.6832 - val_accuracy: 0.1846 - lr: 5.0000e-04\n",
      "Epoch 6/20\n",
      "87/87 [==============================] - 1s 10ms/step - loss: 0.6339 - accuracy: 0.1812 - val_loss: 0.6833 - val_accuracy: 0.2107 - lr: 5.0000e-04\n",
      "Epoch 7/20\n",
      "87/87 [==============================] - 1s 10ms/step - loss: 0.6286 - accuracy: 0.2592 - val_loss: 0.6825 - val_accuracy: 0.2443 - lr: 5.0000e-04\n",
      "Epoch 8/20\n",
      "87/87 [==============================] - 1s 9ms/step - loss: 0.6259 - accuracy: 0.2708 - val_loss: 0.6865 - val_accuracy: 0.2418 - lr: 2.5000e-04\n",
      "Epoch 9/20\n",
      "87/87 [==============================] - 1s 9ms/step - loss: 0.6224 - accuracy: 0.2964 - val_loss: 0.6955 - val_accuracy: 0.2633 - lr: 2.5000e-04\n",
      "Epoch 10/20\n",
      "87/87 [==============================] - 1s 8ms/step - loss: 0.6180 - accuracy: 0.3245 - val_loss: 0.7024 - val_accuracy: 0.2716 - lr: 2.5000e-04\n",
      "Epoch 11/20\n",
      "85/87 [============================>.] - ETA: 0s - loss: 0.6158 - accuracy: 0.3283Restoring model weights from the end of the best epoch: 1.\n",
      "87/87 [==============================] - 1s 9ms/step - loss: 0.6154 - accuracy: 0.3303 - val_loss: 0.6958 - val_accuracy: 0.2646 - lr: 1.2500e-04\n",
      "Epoch 11: early stopping\n",
      "50/50 [==============================] - 0s 3ms/step\n",
      "              precision    recall  f1-score   support\n",
      "\n",
      "           0       0.39      1.00      0.56       614\n",
      "           1       0.42      1.00      0.59       660\n",
      "           2       0.75      1.00      0.86      1181\n",
      "           3       0.76      1.00      0.87      1204\n",
      "\n",
      "   micro avg       0.58      1.00      0.73      3659\n",
      "   macro avg       0.58      1.00      0.72      3659\n",
      "weighted avg       0.63      1.00      0.76      3659\n",
      " samples avg       0.58      1.00      0.71      3659\n",
      "\n"
     ]
    },
    {
     "data": {
      "image/png": "[encoded data removed]",
      "text/plain": [
       "<Figure size 640x480 with 1 Axes>"
      ]
     },
     "metadata": {},
     "output_type": "display_data"
    }
   ],
   "source": [
    "for pat in gridsearch_patience:\n",
    "    # we decided to keep the same parameters found with the gridseach performed in the notebook cnn_gridsearch.ipynb\n",
    "    # we also added early stopping monitoring the val_loss \n",
    "    model = Sequential()\n",
    "\n",
    "    # Convolutional layers\n",
    "    model.add(Conv1D(filters=128, kernel_size=3, padding='same', activation='relu', input_shape=( 1, features_len)))\n",
    "    model.add(Conv1D(filters=128, kernel_size=3, padding='same', activation='relu'))\n",
    "    model.add(Conv1D(filters=128, kernel_size=3, padding='same', activation='relu'))\n",
    "    model.add(GlobalMaxPooling1D())\n",
    "\n",
    "    # Dense layers\n",
    "    model.add(Dense(512, activation='relu'))\n",
    "    model.add(Dropout(0.7))\n",
    "    model.add(Dense(512, activation='relu'))\n",
    "    model.add(Dropout(0.7))\n",
    "\n",
    "    # Output layer with 6 units for classification\n",
    "    model.add(Dense(4, activation='sigmoid'))\n",
    "\n",
    "    # Create an optimizer with an initial learning rate\n",
    "    optimizer = Adam(learning_rate=0.0001)\n",
    "\n",
    "    # Use ReduceLROnPlateau callback to adjust learning rate during training\n",
    "    reduce_lr = ReduceLROnPlateau(monitor='val_loss', factor=0.5, patience=3, min_lr=1e-5)\n",
    "\n",
    "    early_stopping = EarlyStopping(monitor='val_loss', patience=pat, verbose=1, mode='min', restore_best_weights=True)\n",
    "\n",
    "    # Compile the model\n",
    "    model.compile(loss='binary_crossentropy', optimizer='adam', metrics=['accuracy'])\n",
    "\n",
    "\n",
    "    history = model.fit(X_train, y_train,\n",
    "        epochs=20,\n",
    "        validation_data=(X_val, y_val),\n",
    "        batch_size=32,\n",
    "        verbose=1,\n",
    "        callbacks=[reduce_lr, early_stopping])\n",
    "\n",
    "    threshold = 0.5\n",
    "\n",
    "    y_pred_probs = model.predict(X_val)\n",
    "\n",
    "    # convert probabilities to binary predictions\n",
    "    y_pred_binary = (y_pred_probs > threshold).astype(int)\n",
    "\n",
    "    # print classification report\n",
    "    print(classification_report(y_val, y_pred_binary))\n",
    "\n",
    "    #plot training loss and validation loss\n",
    "    plt.plot(history.history[\"loss\"], label = \"training loss\")\n",
    "    plt.plot(history.history[\"val_loss\"], label = \"validation loss\")\n",
    "    plt.xlabel(\"Epoch\")\n",
    "    plt.ylabel(\"Loss\")\n",
    "    plt.title(f\"Training and validation loss over epochs with patience {pat}\")\n",
    "    plt.legend()\n",
    "    plt.show()"
   ]
  },
  {
   "cell_type": "markdown",
   "metadata": {},
   "source": [
    "Since the metrics don't seem to change we will use a patience of 10, to make sure we don't risk underfitting"
   ]
  },
  {
   "cell_type": "markdown",
   "metadata": {},
   "source": [
    "We now test the model on the test set, but first we need to extract topic and doc2vec vectors from the test set"
   ]
  },
  {
   "cell_type": "code",
   "execution_count": 125,
   "metadata": {},
   "outputs": [],
   "source": [
    "import spacy"
   ]
  },
  {
   "cell_type": "code",
   "execution_count": 120,
   "metadata": {},
   "outputs": [],
   "source": [
    "%store -r doc2vec_final\n",
    "# from doc2vec.ipynb"
   ]
  },
  {
   "cell_type": "code",
   "execution_count": 119,
   "metadata": {},
   "outputs": [],
   "source": [
    "%store -r lda_vectorizer\n",
    "# from nltk_coll_topic.ipynb"
   ]
  },
  {
   "cell_type": "code",
   "execution_count": 121,
   "metadata": {},
   "outputs": [],
   "source": [
    "%store -r lda\n",
    "# from nltk_coll_topic.ipynb"
   ]
  },
  {
   "cell_type": "code",
   "execution_count": 115,
   "metadata": {},
   "outputs": [],
   "source": [
    "arguments=pd.read_csv(\"arguments-test.tsv\", sep='\\t')"
   ]
  },
  {
   "cell_type": "code",
   "execution_count": 116,
   "metadata": {},
   "outputs": [],
   "source": [
    "labels=pd.read_csv(\"labels-test.tsv\", sep='\\t')"
   ]
  },
  {
   "cell_type": "code",
   "execution_count": 117,
   "metadata": {},
   "outputs": [],
   "source": [
    "# concatenate the two sets\n",
    "test_set = pd.concat([arguments, labels], axis=1)"
   ]
  },
  {
   "cell_type": "code",
   "execution_count": 126,
   "metadata": {},
   "outputs": [],
   "source": [
    "# load the English language model\n",
    "nlp = spacy.load(\"en_core_web_sm\")"
   ]
  },
  {
   "cell_type": "code",
   "execution_count": 127,
   "metadata": {},
   "outputs": [],
   "source": [
    "def preprocess_text(text):\n",
    "    doc = nlp(text)\n",
    "    # set lowercase\n",
    "    processed_text = [token.text.lower()for token in doc]\n",
    "    return processed_text"
   ]
  },
  {
   "cell_type": "code",
   "execution_count": 128,
   "metadata": {},
   "outputs": [
    {
     "data": {
      "text/html": [
       "<div>\n",
       "<style scoped>\n",
       "    .dataframe tbody tr th:only-of-type {\n",
       "        vertical-align: middle;\n",
       "    }\n",
       "\n",
       "    .dataframe tbody tr th {\n",
       "        vertical-align: top;\n",
       "    }\n",
       "\n",
       "    .dataframe thead th {\n",
       "        text-align: right;\n",
       "    }\n",
       "</style>\n",
       "<table border=\"1\" class=\"dataframe\">\n",
       "  <thead>\n",
       "    <tr style=\"text-align: right;\">\n",
       "      <th></th>\n",
       "      <th>Argument ID</th>\n",
       "      <th>Conclusion</th>\n",
       "      <th>Stance</th>\n",
       "      <th>Premise</th>\n",
       "      <th>Argument ID</th>\n",
       "      <th>Self-direction: thought</th>\n",
       "      <th>Self-direction: action</th>\n",
       "      <th>Stimulation</th>\n",
       "      <th>Hedonism</th>\n",
       "      <th>Achievement</th>\n",
       "      <th>...</th>\n",
       "      <th>Conformity: rules</th>\n",
       "      <th>Conformity: interpersonal</th>\n",
       "      <th>Humility</th>\n",
       "      <th>Benevolence: caring</th>\n",
       "      <th>Benevolence: dependability</th>\n",
       "      <th>Universalism: concern</th>\n",
       "      <th>Universalism: nature</th>\n",
       "      <th>Universalism: tolerance</th>\n",
       "      <th>Universalism: objectivity</th>\n",
       "      <th>premise_tokenized</th>\n",
       "    </tr>\n",
       "  </thead>\n",
       "  <tbody>\n",
       "    <tr>\n",
       "      <th>0</th>\n",
       "      <td>A26004</td>\n",
       "      <td>We should end affirmative action</td>\n",
       "      <td>against</td>\n",
       "      <td>affirmative action helps with employment equity.</td>\n",
       "      <td>A26004</td>\n",
       "      <td>0</td>\n",
       "      <td>0</td>\n",
       "      <td>0</td>\n",
       "      <td>0</td>\n",
       "      <td>1</td>\n",
       "      <td>...</td>\n",
       "      <td>0</td>\n",
       "      <td>0</td>\n",
       "      <td>0</td>\n",
       "      <td>0</td>\n",
       "      <td>0</td>\n",
       "      <td>1</td>\n",
       "      <td>0</td>\n",
       "      <td>1</td>\n",
       "      <td>0</td>\n",
       "      <td>[affirmative, action, helps, with, employment,...</td>\n",
       "    </tr>\n",
       "    <tr>\n",
       "      <th>1</th>\n",
       "      <td>A26010</td>\n",
       "      <td>We should end affirmative action</td>\n",
       "      <td>in favor of</td>\n",
       "      <td>affirmative action can be considered discrimin...</td>\n",
       "      <td>A26010</td>\n",
       "      <td>0</td>\n",
       "      <td>0</td>\n",
       "      <td>0</td>\n",
       "      <td>0</td>\n",
       "      <td>1</td>\n",
       "      <td>...</td>\n",
       "      <td>0</td>\n",
       "      <td>0</td>\n",
       "      <td>0</td>\n",
       "      <td>0</td>\n",
       "      <td>0</td>\n",
       "      <td>1</td>\n",
       "      <td>0</td>\n",
       "      <td>1</td>\n",
       "      <td>1</td>\n",
       "      <td>[affirmative, action, can, be, considered, dis...</td>\n",
       "    </tr>\n",
       "    <tr>\n",
       "      <th>2</th>\n",
       "      <td>A26016</td>\n",
       "      <td>We should ban naturopathy</td>\n",
       "      <td>in favor of</td>\n",
       "      <td>naturopathy is very dangerous for the most vul...</td>\n",
       "      <td>A26016</td>\n",
       "      <td>0</td>\n",
       "      <td>0</td>\n",
       "      <td>0</td>\n",
       "      <td>0</td>\n",
       "      <td>1</td>\n",
       "      <td>...</td>\n",
       "      <td>0</td>\n",
       "      <td>0</td>\n",
       "      <td>0</td>\n",
       "      <td>0</td>\n",
       "      <td>1</td>\n",
       "      <td>1</td>\n",
       "      <td>0</td>\n",
       "      <td>0</td>\n",
       "      <td>0</td>\n",
       "      <td>[naturopathy, is, very, dangerous, for, the, m...</td>\n",
       "    </tr>\n",
       "    <tr>\n",
       "      <th>3</th>\n",
       "      <td>A26024</td>\n",
       "      <td>We should prohibit women in combat</td>\n",
       "      <td>in favor of</td>\n",
       "      <td>women shouldn't be in combat because they aren...</td>\n",
       "      <td>A26024</td>\n",
       "      <td>0</td>\n",
       "      <td>0</td>\n",
       "      <td>0</td>\n",
       "      <td>0</td>\n",
       "      <td>1</td>\n",
       "      <td>...</td>\n",
       "      <td>0</td>\n",
       "      <td>0</td>\n",
       "      <td>0</td>\n",
       "      <td>0</td>\n",
       "      <td>0</td>\n",
       "      <td>0</td>\n",
       "      <td>0</td>\n",
       "      <td>0</td>\n",
       "      <td>0</td>\n",
       "      <td>[women, should, n't, be, in, combat, because, ...</td>\n",
       "    </tr>\n",
       "    <tr>\n",
       "      <th>4</th>\n",
       "      <td>A26026</td>\n",
       "      <td>We should ban naturopathy</td>\n",
       "      <td>in favor of</td>\n",
       "      <td>once eradicated illnesses are returning due to...</td>\n",
       "      <td>A26026</td>\n",
       "      <td>0</td>\n",
       "      <td>0</td>\n",
       "      <td>0</td>\n",
       "      <td>0</td>\n",
       "      <td>1</td>\n",
       "      <td>...</td>\n",
       "      <td>0</td>\n",
       "      <td>0</td>\n",
       "      <td>0</td>\n",
       "      <td>1</td>\n",
       "      <td>1</td>\n",
       "      <td>0</td>\n",
       "      <td>0</td>\n",
       "      <td>0</td>\n",
       "      <td>0</td>\n",
       "      <td>[once, eradicated, illnesses, are, returning, ...</td>\n",
       "    </tr>\n",
       "  </tbody>\n",
       "</table>\n",
       "<p>5 rows × 26 columns</p>\n",
       "</div>"
      ],
      "text/plain": [
       "  Argument ID                          Conclusion       Stance   \n",
       "0      A26004    We should end affirmative action      against  \\\n",
       "1      A26010    We should end affirmative action  in favor of   \n",
       "2      A26016           We should ban naturopathy  in favor of   \n",
       "3      A26024  We should prohibit women in combat  in favor of   \n",
       "4      A26026           We should ban naturopathy  in favor of   \n",
       "\n",
       "                                             Premise Argument ID   \n",
       "0   affirmative action helps with employment equity.      A26004  \\\n",
       "1  affirmative action can be considered discrimin...      A26010   \n",
       "2  naturopathy is very dangerous for the most vul...      A26016   \n",
       "3  women shouldn't be in combat because they aren...      A26024   \n",
       "4  once eradicated illnesses are returning due to...      A26026   \n",
       "\n",
       "   Self-direction: thought  Self-direction: action  Stimulation  Hedonism   \n",
       "0                        0                       0            0         0  \\\n",
       "1                        0                       0            0         0   \n",
       "2                        0                       0            0         0   \n",
       "3                        0                       0            0         0   \n",
       "4                        0                       0            0         0   \n",
       "\n",
       "   Achievement  ...  Conformity: rules  Conformity: interpersonal  Humility   \n",
       "0            1  ...                  0                          0         0  \\\n",
       "1            1  ...                  0                          0         0   \n",
       "2            1  ...                  0                          0         0   \n",
       "3            1  ...                  0                          0         0   \n",
       "4            1  ...                  0                          0         0   \n",
       "\n",
       "   Benevolence: caring  Benevolence: dependability  Universalism: concern   \n",
       "0                    0                           0                      1  \\\n",
       "1                    0                           0                      1   \n",
       "2                    0                           1                      1   \n",
       "3                    0                           0                      0   \n",
       "4                    1                           1                      0   \n",
       "\n",
       "   Universalism: nature  Universalism: tolerance  Universalism: objectivity   \n",
       "0                     0                        1                          0  \\\n",
       "1                     0                        1                          1   \n",
       "2                     0                        0                          0   \n",
       "3                     0                        0                          0   \n",
       "4                     0                        0                          0   \n",
       "\n",
       "                                   premise_tokenized  \n",
       "0  [affirmative, action, helps, with, employment,...  \n",
       "1  [affirmative, action, can, be, considered, dis...  \n",
       "2  [naturopathy, is, very, dangerous, for, the, m...  \n",
       "3  [women, should, n't, be, in, combat, because, ...  \n",
       "4  [once, eradicated, illnesses, are, returning, ...  \n",
       "\n",
       "[5 rows x 26 columns]"
      ]
     },
     "execution_count": 128,
     "metadata": {},
     "output_type": "execute_result"
    }
   ],
   "source": [
    "# we pre-process the arguments with spacy\n",
    "test_set[\"premise_tokenized\"] = test_set[\"Premise\"].apply(preprocess_text)\n",
    "test_set.head()"
   ]
  },
  {
   "cell_type": "code",
   "execution_count": 118,
   "metadata": {},
   "outputs": [],
   "source": [
    "# we start with topic vectors\n",
    "corpus_test = [text for text in test_set[\"Premise\"]]"
   ]
  },
  {
   "cell_type": "code",
   "execution_count": 122,
   "metadata": {},
   "outputs": [],
   "source": [
    "# we now use the vectorizer fitted on the training set to extract the vectors from our test corpus\n",
    "tf_test = lda_vectorizer.transform(corpus_test)"
   ]
  },
  {
   "cell_type": "code",
   "execution_count": 123,
   "metadata": {},
   "outputs": [],
   "source": [
    "# we then extract the topics with the lda model fitted previously on the training set\n",
    "test_doc_topics = lda.transform(tf_test)"
   ]
  },
  {
   "cell_type": "code",
   "execution_count": 129,
   "metadata": {},
   "outputs": [],
   "source": [
    "# we create a list for each document (that is the premise of each argument) containing the document's tokens\n",
    "documents = [[doc for doc in row.premise_tokenized] for idx, row in test_set.iterrows()]"
   ]
  },
  {
   "cell_type": "code",
   "execution_count": 130,
   "metadata": {},
   "outputs": [],
   "source": [
    "# we add to the list the most informative bigrams\n",
    "from gensim.models.phrases import Phrases, Phraser\n",
    "\n",
    "# Train a bigram model\n",
    "bigram = Phrases(documents, min_count=20, threshold=100) \n",
    "# we tuned the parameters so that the bigrams are the most informative and formed mostly by full words\n",
    "bigram_mod = Phraser(bigram)\n",
    "\n",
    "# Apply the trained bigram model to each document\n",
    "test_doc_with_bigrams = [bigram_mod[doc] for doc in documents]"
   ]
  },
  {
   "cell_type": "code",
   "execution_count": 131,
   "metadata": {},
   "outputs": [],
   "source": [
    "test_doc2vec_vec = [doc2vec_final.infer_vector(doc) for doc in test_doc_with_bigrams]"
   ]
  },
  {
   "cell_type": "code",
   "execution_count": 132,
   "metadata": {},
   "outputs": [
    {
     "data": {
      "text/plain": [
       "1576"
      ]
     },
     "execution_count": 132,
     "metadata": {},
     "output_type": "execute_result"
    }
   ],
   "source": [
    "test_d2v_topic_vec = np.array([np.concatenate([vec1, vec2]) for vec1, vec2 in zip(test_doc_topics, test_doc2vec_vec)])\n",
    "len(val_d2v_topic_vec)"
   ]
  },
  {
   "cell_type": "markdown",
   "metadata": {},
   "source": [
    "We now generalize the labels and transform them in binary form"
   ]
  },
  {
   "cell_type": "code",
   "execution_count": 133,
   "metadata": {},
   "outputs": [],
   "source": [
    "# we generalize labels according to the following dictionary\n",
    "general_dictionary={\n",
    "    \"Self-direction: thought\":\"Openness to change\",\n",
    "    \"Self-direction: action\":\"Openness to change\",\n",
    "    \"Stimulation\":\"Openness to change\",\n",
    "    \"Hedonism\":\"Openness to change\",\n",
    "    \"Achievement\":\"Self-Enhancement\",\n",
    "    \"Power: dominance\":\"Self-Enhancement\",\n",
    "    \"Power: resources\":\"Self-Enhancement\",\n",
    "    \"Face\":\"Self-Enhancement\",\n",
    "    \"Security: personal\":\"Conservation\",\n",
    "    \"Security: societal\":\"Conservation\",\n",
    "    \"Tradition\":\"Conservation\",\n",
    "    \"Conformity: rules\":\"Conservation\",\n",
    "    \"Conformity: interpersonal\":\"Conservation\",\n",
    "    \"Humility\":\"Conservation\",\n",
    "    \"Benevolence: caring\":\"Self-Transcendence\",\n",
    "    \"Benevolence: dependability\":\"Self-Transcendence\",\n",
    "    \"Universalism: concern\":\"Self-Transcendence\",\n",
    "    \"Universalism: nature\":\"Self-Transcendence\",\n",
    "    \"Universalism: tolerance\":\"Self-Transcendence\",\n",
    "    \"Universalism: objectivity\":\"Self-Transcendence\"\n",
    "    \n",
    "}"
   ]
  },
  {
   "cell_type": "code",
   "execution_count": 134,
   "metadata": {},
   "outputs": [],
   "source": [
    "test_set[\"Openness to change\"]=test_set[\"Self-direction: thought\"]+test_set[\"Self-direction: action\"]+test_set[\"Stimulation\"]+test_set[\"Hedonism\"]"
   ]
  },
  {
   "cell_type": "code",
   "execution_count": 135,
   "metadata": {},
   "outputs": [],
   "source": [
    "test_set[\"Self-Enhancement\"]=test_set[\"Achievement\"]+test_set[\"Power: dominance\"]+test_set[\"Power: resources\"]+test_set[\"Face\"]"
   ]
  },
  {
   "cell_type": "code",
   "execution_count": 136,
   "metadata": {},
   "outputs": [],
   "source": [
    "test_set[\"Conservation\"]=test_set[\"Security: personal\"]+test_set[\"Security: societal\"]+test_set[\"Tradition\"]+test_set[\"Conformity: rules\"]+test_set[\"Conformity: interpersonal\"]+test_set[\"Humility\"]"
   ]
  },
  {
   "cell_type": "code",
   "execution_count": 137,
   "metadata": {},
   "outputs": [],
   "source": [
    "test_set[\"Self-Transcendence\"]=test_set[\"Benevolence: caring\"]+test_set[\"Benevolence: dependability\"]+test_set[\"Universalism: concern\"]+test_set[\"Universalism: nature\"]+test_set[\"Universalism: tolerance\"]+test_set[\"Universalism: objectivity\"]"
   ]
  },
  {
   "cell_type": "code",
   "execution_count": 138,
   "metadata": {},
   "outputs": [],
   "source": [
    "# we now drop the original features\n",
    "for key in general_dictionary:\n",
    "    if key!=general_dictionary[key]:\n",
    "        test_set=test_set.drop(key, axis=1)\n",
    "    else:\n",
    "        pass"
   ]
  },
  {
   "cell_type": "code",
   "execution_count": 139,
   "metadata": {},
   "outputs": [
    {
     "data": {
      "text/html": [
       "<div>\n",
       "<style scoped>\n",
       "    .dataframe tbody tr th:only-of-type {\n",
       "        vertical-align: middle;\n",
       "    }\n",
       "\n",
       "    .dataframe tbody tr th {\n",
       "        vertical-align: top;\n",
       "    }\n",
       "\n",
       "    .dataframe thead th {\n",
       "        text-align: right;\n",
       "    }\n",
       "</style>\n",
       "<table border=\"1\" class=\"dataframe\">\n",
       "  <thead>\n",
       "    <tr style=\"text-align: right;\">\n",
       "      <th></th>\n",
       "      <th>Argument ID</th>\n",
       "      <th>Conclusion</th>\n",
       "      <th>Stance</th>\n",
       "      <th>Premise</th>\n",
       "      <th>Argument ID</th>\n",
       "      <th>premise_tokenized</th>\n",
       "      <th>Openness to change</th>\n",
       "      <th>Self-Enhancement</th>\n",
       "      <th>Conservation</th>\n",
       "      <th>Self-Transcendence</th>\n",
       "      <th>general_label</th>\n",
       "    </tr>\n",
       "  </thead>\n",
       "  <tbody>\n",
       "    <tr>\n",
       "      <th>0</th>\n",
       "      <td>A26004</td>\n",
       "      <td>We should end affirmative action</td>\n",
       "      <td>against</td>\n",
       "      <td>affirmative action helps with employment equity.</td>\n",
       "      <td>A26004</td>\n",
       "      <td>[affirmative, action, helps, with, employment,...</td>\n",
       "      <td>0</td>\n",
       "      <td>1</td>\n",
       "      <td>1</td>\n",
       "      <td>2</td>\n",
       "      <td>[0, 1, 1, 2]</td>\n",
       "    </tr>\n",
       "    <tr>\n",
       "      <th>1</th>\n",
       "      <td>A26010</td>\n",
       "      <td>We should end affirmative action</td>\n",
       "      <td>in favor of</td>\n",
       "      <td>affirmative action can be considered discrimin...</td>\n",
       "      <td>A26010</td>\n",
       "      <td>[affirmative, action, can, be, considered, dis...</td>\n",
       "      <td>0</td>\n",
       "      <td>1</td>\n",
       "      <td>0</td>\n",
       "      <td>3</td>\n",
       "      <td>[0, 1, 0, 3]</td>\n",
       "    </tr>\n",
       "    <tr>\n",
       "      <th>2</th>\n",
       "      <td>A26016</td>\n",
       "      <td>We should ban naturopathy</td>\n",
       "      <td>in favor of</td>\n",
       "      <td>naturopathy is very dangerous for the most vul...</td>\n",
       "      <td>A26016</td>\n",
       "      <td>[naturopathy, is, very, dangerous, for, the, m...</td>\n",
       "      <td>0</td>\n",
       "      <td>1</td>\n",
       "      <td>1</td>\n",
       "      <td>2</td>\n",
       "      <td>[0, 1, 1, 2]</td>\n",
       "    </tr>\n",
       "    <tr>\n",
       "      <th>3</th>\n",
       "      <td>A26024</td>\n",
       "      <td>We should prohibit women in combat</td>\n",
       "      <td>in favor of</td>\n",
       "      <td>women shouldn't be in combat because they aren...</td>\n",
       "      <td>A26024</td>\n",
       "      <td>[women, should, n't, be, in, combat, because, ...</td>\n",
       "      <td>0</td>\n",
       "      <td>1</td>\n",
       "      <td>0</td>\n",
       "      <td>0</td>\n",
       "      <td>[0, 1, 0, 0]</td>\n",
       "    </tr>\n",
       "    <tr>\n",
       "      <th>4</th>\n",
       "      <td>A26026</td>\n",
       "      <td>We should ban naturopathy</td>\n",
       "      <td>in favor of</td>\n",
       "      <td>once eradicated illnesses are returning due to...</td>\n",
       "      <td>A26026</td>\n",
       "      <td>[once, eradicated, illnesses, are, returning, ...</td>\n",
       "      <td>0</td>\n",
       "      <td>1</td>\n",
       "      <td>2</td>\n",
       "      <td>2</td>\n",
       "      <td>[0, 1, 2, 2]</td>\n",
       "    </tr>\n",
       "    <tr>\n",
       "      <th>...</th>\n",
       "      <td>...</td>\n",
       "      <td>...</td>\n",
       "      <td>...</td>\n",
       "      <td>...</td>\n",
       "      <td>...</td>\n",
       "      <td>...</td>\n",
       "      <td>...</td>\n",
       "      <td>...</td>\n",
       "      <td>...</td>\n",
       "      <td>...</td>\n",
       "      <td>...</td>\n",
       "    </tr>\n",
       "    <tr>\n",
       "      <th>1571</th>\n",
       "      <td>E07272</td>\n",
       "      <td>We should end mass migration together.</td>\n",
       "      <td>in favor of</td>\n",
       "      <td>Mass migration is a phenomenon that causes dam...</td>\n",
       "      <td>E07272</td>\n",
       "      <td>[mass, migration, is, a, phenomenon, that, cau...</td>\n",
       "      <td>0</td>\n",
       "      <td>0</td>\n",
       "      <td>1</td>\n",
       "      <td>0</td>\n",
       "      <td>[0, 0, 1, 0]</td>\n",
       "    </tr>\n",
       "    <tr>\n",
       "      <th>1572</th>\n",
       "      <td>E07273</td>\n",
       "      <td>We should end mass migration together.</td>\n",
       "      <td>in favor of</td>\n",
       "      <td>Mass migration hurts the migrants themselves i...</td>\n",
       "      <td>E07273</td>\n",
       "      <td>[mass, migration, hurts, the, migrants, themse...</td>\n",
       "      <td>0</td>\n",
       "      <td>0</td>\n",
       "      <td>1</td>\n",
       "      <td>2</td>\n",
       "      <td>[0, 0, 1, 2]</td>\n",
       "    </tr>\n",
       "    <tr>\n",
       "      <th>1573</th>\n",
       "      <td>E07275</td>\n",
       "      <td>We should consider Russian interests in the EU...</td>\n",
       "      <td>in favor of</td>\n",
       "      <td>It is neither in the interests of the EU nor R...</td>\n",
       "      <td>E07275</td>\n",
       "      <td>[it, is, neither, in, the, interests, of, the,...</td>\n",
       "      <td>1</td>\n",
       "      <td>1</td>\n",
       "      <td>1</td>\n",
       "      <td>2</td>\n",
       "      <td>[1, 1, 1, 2]</td>\n",
       "    </tr>\n",
       "    <tr>\n",
       "      <th>1574</th>\n",
       "      <td>E07280</td>\n",
       "      <td>We should adopt an extension of the applicatio...</td>\n",
       "      <td>in favor of</td>\n",
       "      <td>Foreign Policy at the EU level should be based...</td>\n",
       "      <td>E07280</td>\n",
       "      <td>[foreign, policy, at, the, eu, level, should, ...</td>\n",
       "      <td>1</td>\n",
       "      <td>1</td>\n",
       "      <td>0</td>\n",
       "      <td>2</td>\n",
       "      <td>[1, 1, 0, 2]</td>\n",
       "    </tr>\n",
       "    <tr>\n",
       "      <th>1575</th>\n",
       "      <td>E08023</td>\n",
       "      <td>We should abolish covid digital pass</td>\n",
       "      <td>against</td>\n",
       "      <td>You owe the fact that you can drink your coffe...</td>\n",
       "      <td>E08023</td>\n",
       "      <td>[you, owe, the, fact, that, you, can, drink, y...</td>\n",
       "      <td>0</td>\n",
       "      <td>0</td>\n",
       "      <td>4</td>\n",
       "      <td>3</td>\n",
       "      <td>[0, 0, 4, 3]</td>\n",
       "    </tr>\n",
       "  </tbody>\n",
       "</table>\n",
       "<p>1576 rows × 11 columns</p>\n",
       "</div>"
      ],
      "text/plain": [
       "     Argument ID                                         Conclusion   \n",
       "0         A26004                   We should end affirmative action  \\\n",
       "1         A26010                   We should end affirmative action   \n",
       "2         A26016                          We should ban naturopathy   \n",
       "3         A26024                 We should prohibit women in combat   \n",
       "4         A26026                          We should ban naturopathy   \n",
       "...          ...                                                ...   \n",
       "1571      E07272             We should end mass migration together.   \n",
       "1572      E07273             We should end mass migration together.   \n",
       "1573      E07275  We should consider Russian interests in the EU...   \n",
       "1574      E07280  We should adopt an extension of the applicatio...   \n",
       "1575      E08023               We should abolish covid digital pass   \n",
       "\n",
       "           Stance                                            Premise   \n",
       "0         against   affirmative action helps with employment equity.  \\\n",
       "1     in favor of  affirmative action can be considered discrimin...   \n",
       "2     in favor of  naturopathy is very dangerous for the most vul...   \n",
       "3     in favor of  women shouldn't be in combat because they aren...   \n",
       "4     in favor of  once eradicated illnesses are returning due to...   \n",
       "...           ...                                                ...   \n",
       "1571  in favor of  Mass migration is a phenomenon that causes dam...   \n",
       "1572  in favor of  Mass migration hurts the migrants themselves i...   \n",
       "1573  in favor of  It is neither in the interests of the EU nor R...   \n",
       "1574  in favor of  Foreign Policy at the EU level should be based...   \n",
       "1575      against  You owe the fact that you can drink your coffe...   \n",
       "\n",
       "     Argument ID                                  premise_tokenized   \n",
       "0         A26004  [affirmative, action, helps, with, employment,...  \\\n",
       "1         A26010  [affirmative, action, can, be, considered, dis...   \n",
       "2         A26016  [naturopathy, is, very, dangerous, for, the, m...   \n",
       "3         A26024  [women, should, n't, be, in, combat, because, ...   \n",
       "4         A26026  [once, eradicated, illnesses, are, returning, ...   \n",
       "...          ...                                                ...   \n",
       "1571      E07272  [mass, migration, is, a, phenomenon, that, cau...   \n",
       "1572      E07273  [mass, migration, hurts, the, migrants, themse...   \n",
       "1573      E07275  [it, is, neither, in, the, interests, of, the,...   \n",
       "1574      E07280  [foreign, policy, at, the, eu, level, should, ...   \n",
       "1575      E08023  [you, owe, the, fact, that, you, can, drink, y...   \n",
       "\n",
       "      Openness to change  Self-Enhancement  Conservation  Self-Transcendence   \n",
       "0                      0                 1             1                   2  \\\n",
       "1                      0                 1             0                   3   \n",
       "2                      0                 1             1                   2   \n",
       "3                      0                 1             0                   0   \n",
       "4                      0                 1             2                   2   \n",
       "...                  ...               ...           ...                 ...   \n",
       "1571                   0                 0             1                   0   \n",
       "1572                   0                 0             1                   2   \n",
       "1573                   1                 1             1                   2   \n",
       "1574                   1                 1             0                   2   \n",
       "1575                   0                 0             4                   3   \n",
       "\n",
       "     general_label  \n",
       "0     [0, 1, 1, 2]  \n",
       "1     [0, 1, 0, 3]  \n",
       "2     [0, 1, 1, 2]  \n",
       "3     [0, 1, 0, 0]  \n",
       "4     [0, 1, 2, 2]  \n",
       "...            ...  \n",
       "1571  [0, 0, 1, 0]  \n",
       "1572  [0, 0, 1, 2]  \n",
       "1573  [1, 1, 1, 2]  \n",
       "1574  [1, 1, 0, 2]  \n",
       "1575  [0, 0, 4, 3]  \n",
       "\n",
       "[1576 rows x 11 columns]"
      ]
     },
     "execution_count": 139,
     "metadata": {},
     "output_type": "execute_result"
    }
   ],
   "source": [
    "# extract the generalized label columns and store them in a separate DataFrame\n",
    "label_columns=test_set[[\n",
    "\"Openness to change\",\n",
    "\"Self-Enhancement\",\n",
    "\"Conservation\",\n",
    "\"Self-Transcendence\"]]\n",
    "\n",
    "# convert the label columns to a multi-class format (one-hot encoding)\n",
    "test_set['general_label'] = label_columns.apply(lambda row: row.to_list(), axis=1)\n",
    "test_set"
   ]
  },
  {
   "cell_type": "code",
   "execution_count": 140,
   "metadata": {},
   "outputs": [],
   "source": [
    "# tranform the labels in binary encoding\n",
    "test_binary_labels = []\n",
    "\n",
    "for label in test_set[\"general_label\"]:\n",
    "    new_label = []\n",
    "\n",
    "    for value in label:\n",
    "        if value > 0:\n",
    "            new_label.append(1)\n",
    "        else:\n",
    "            new_label.append(0)\n",
    "\n",
    "    test_binary_labels.append(new_label)"
   ]
  },
  {
   "cell_type": "code",
   "execution_count": 141,
   "metadata": {},
   "outputs": [],
   "source": [
    "y_test = np.array(test_binary_labels)"
   ]
  },
  {
   "cell_type": "code",
   "execution_count": 145,
   "metadata": {},
   "outputs": [],
   "source": [
    "X_test = np.array(test_d2v_topic_vec)\n",
    "# scaling the data\n",
    "X_test = scaler.transform(X_test)\n",
    "# reshaping the data to add an extra dimension\n",
    "X_test = X_test.reshape((X_test.shape[0], 1, X_test.shape[1]))\n"
   ]
  },
  {
   "cell_type": "code",
   "execution_count": 143,
   "metadata": {},
   "outputs": [
    {
     "data": {
      "text/plain": [
       "(1576, 219)"
      ]
     },
     "execution_count": 143,
     "metadata": {},
     "output_type": "execute_result"
    }
   ],
   "source": [
    "X_test.shape"
   ]
  },
  {
   "cell_type": "markdown",
   "metadata": {},
   "source": [
    "We can now train the model and evaluate it on the test set"
   ]
  },
  {
   "cell_type": "code",
   "execution_count": 146,
   "metadata": {},
   "outputs": [
    {
     "name": "stdout",
     "output_type": "stream",
     "text": [
      "Epoch 1/20\n",
      "87/87 [==============================] - 3s 17ms/step - loss: 0.6539 - accuracy: 0.1354 - val_loss: 0.6627 - val_accuracy: 0.1396 - lr: 0.0010\n",
      "Epoch 2/20\n",
      "87/87 [==============================] - 1s 10ms/step - loss: 0.6476 - accuracy: 0.1318 - val_loss: 0.6686 - val_accuracy: 0.2132 - lr: 0.0010\n",
      "Epoch 3/20\n",
      "87/87 [==============================] - 1s 9ms/step - loss: 0.6437 - accuracy: 0.1332 - val_loss: 0.6669 - val_accuracy: 0.1929 - lr: 0.0010\n",
      "Epoch 4/20\n",
      "87/87 [==============================] - 1s 9ms/step - loss: 0.6393 - accuracy: 0.1469 - val_loss: 0.6758 - val_accuracy: 0.1885 - lr: 0.0010\n",
      "Epoch 5/20\n",
      "87/87 [==============================] - 1s 8ms/step - loss: 0.6356 - accuracy: 0.1534 - val_loss: 0.6786 - val_accuracy: 0.1783 - lr: 5.0000e-04\n",
      "Epoch 6/20\n",
      "87/87 [==============================] - 1s 8ms/step - loss: 0.6343 - accuracy: 0.1563 - val_loss: 0.6811 - val_accuracy: 0.1859 - lr: 5.0000e-04\n",
      "Epoch 7/20\n",
      "87/87 [==============================] - 1s 8ms/step - loss: 0.6286 - accuracy: 0.2004 - val_loss: 0.6808 - val_accuracy: 0.1859 - lr: 5.0000e-04\n",
      "Epoch 8/20\n",
      "87/87 [==============================] - 1s 8ms/step - loss: 0.6260 - accuracy: 0.2004 - val_loss: 0.6836 - val_accuracy: 0.1758 - lr: 2.5000e-04\n",
      "Epoch 9/20\n",
      "87/87 [==============================] - 1s 8ms/step - loss: 0.6230 - accuracy: 0.2285 - val_loss: 0.6916 - val_accuracy: 0.1815 - lr: 2.5000e-04\n",
      "Epoch 10/20\n",
      "87/87 [==============================] - 1s 8ms/step - loss: 0.6228 - accuracy: 0.2776 - val_loss: 0.6834 - val_accuracy: 0.1954 - lr: 2.5000e-04\n",
      "Epoch 11/20\n",
      "80/87 [==========================>...] - ETA: 0s - loss: 0.6137 - accuracy: 0.2773Restoring model weights from the end of the best epoch: 1.\n",
      "87/87 [==============================] - 1s 8ms/step - loss: 0.6142 - accuracy: 0.2722 - val_loss: 0.6875 - val_accuracy: 0.2202 - lr: 1.2500e-04\n",
      "Epoch 11: early stopping\n",
      "50/50 [==============================] - 0s 2ms/step\n",
      "              precision    recall  f1-score   support\n",
      "\n",
      "           0       0.39      1.00      0.56       614\n",
      "           1       0.42      1.00      0.59       660\n",
      "           2       0.75      1.00      0.86      1181\n",
      "           3       0.76      1.00      0.87      1204\n",
      "\n",
      "   micro avg       0.58      1.00      0.73      3659\n",
      "   macro avg       0.58      1.00      0.72      3659\n",
      "weighted avg       0.63      1.00      0.76      3659\n",
      " samples avg       0.58      1.00      0.71      3659\n",
      "\n"
     ]
    },
    {
     "data": {
      "image/png": "[encoded data removed]",
      "text/plain": [
       "<Figure size 640x480 with 1 Axes>"
      ]
     },
     "metadata": {},
     "output_type": "display_data"
    }
   ],
   "source": [
    "# we decided to keep the same parameters found with the gridseach performed in the notebook cnn_gridsearch.ipynb\n",
    "# we also added early stopping monitoring the val_loss \n",
    "final_model = Sequential()\n",
    "\n",
    "# Convolutional layers\n",
    "final_model.add(Conv1D(filters=128, kernel_size=3, padding='same', activation='relu', input_shape=( 1, features_len)))\n",
    "final_model.add(Conv1D(filters=128, kernel_size=3, padding='same', activation='relu'))\n",
    "final_model.add(Conv1D(filters=128, kernel_size=3, padding='same', activation='relu'))\n",
    "final_model.add(GlobalMaxPooling1D())\n",
    "\n",
    "# Dense layers\n",
    "final_model.add(Dense(512, activation='relu'))\n",
    "final_model.add(Dropout(0.7))\n",
    "final_model.add(Dense(512, activation='relu'))\n",
    "final_model.add(Dropout(0.7))\n",
    "\n",
    "# Output layer with 6 units for classification\n",
    "final_model.add(Dense(4, activation='sigmoid'))\n",
    "\n",
    "# Create an optimizer with an initial learning rate\n",
    "optimizer = Adam(learning_rate=0.0001)\n",
    "\n",
    "# Use ReduceLROnPlateau callback to adjust learning rate during training\n",
    "reduce_lr = ReduceLROnPlateau(monitor='val_loss', factor=0.5, patience=3, min_lr=1e-5)\n",
    "\n",
    "early_stopping = EarlyStopping(monitor='val_loss', patience=10, verbose=1, mode='min', restore_best_weights=True)\n",
    "\n",
    "# Compile the model\n",
    "final_model.compile(loss='binary_crossentropy', optimizer='adam', metrics=['accuracy'])\n",
    "\n",
    "\n",
    "final_history = final_model.fit(X_train, y_train,\n",
    "    epochs=20,\n",
    "    validation_data=(X_val, y_val),\n",
    "    batch_size=32,\n",
    "    verbose=1,\n",
    "    callbacks=[reduce_lr, early_stopping])\n",
    "\n",
    "threshold = 0.5\n",
    "\n",
    "y_pred_probs = final_model.predict(X_test)\n",
    "\n",
    "# convert probabilities to binary predictions\n",
    "y_pred_binary = (y_pred_probs > threshold).astype(int)\n",
    "\n",
    "# print classification report\n",
    "print(classification_report(y_val, y_pred_binary))\n",
    "\n",
    "#plot training loss and validation loss\n",
    "plt.plot(final_history.history[\"loss\"], label = \"training loss\")\n",
    "plt.plot(final_history.history[\"val_loss\"], label = \"validation loss\")\n",
    "plt.xlabel(\"Epoch\")\n",
    "plt.ylabel(\"Loss\")\n",
    "plt.title(\"Training and validation loss over epochs\")\n",
    "plt.legend()\n",
    "plt.show()"
   ]
  }
 ],
 "metadata": {
  "kernelspec": {
   "display_name": "Python 3",
   "language": "python",
   "name": "python3"
  },
  "language_info": {
   "codemirror_mode": {
    "name": "ipython",
    "version": 3
   },
   "file_extension": ".py",
   "mimetype": "text/x-python",
   "name": "python",
   "nbconvert_exporter": "python",
   "pygments_lexer": "ipython3",
   "version": "3.11.1"
  }
 },
 "nbformat": 4,
 "nbformat_minor": 2
}
