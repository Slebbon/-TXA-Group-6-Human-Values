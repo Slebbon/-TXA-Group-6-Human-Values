{
 "cells": [
  {
   "cell_type": "code",
   "execution_count": 8,
   "metadata": {},
   "outputs": [
    {
     "name": "stdout",
     "output_type": "stream",
     "text": [
      "WARNING:tensorflow:From c:\\Users\\cate9\\AppData\\Local\\Programs\\Python\\Python311\\Lib\\site-packages\\keras\\src\\losses.py:2976: The name tf.losses.sparse_softmax_cross_entropy is deprecated. Please use tf.compat.v1.losses.sparse_softmax_cross_entropy instead.\n",
      "\n"
     ]
    }
   ],
   "source": [
    "import pandas as pd\n",
    "import numpy as np\n",
    "import tensorflow as tf\n",
    "from keras.models import Sequential\n",
    "from keras.layers import Embedding, Conv1D, GlobalMaxPooling1D, Dense, Dropout"
   ]
  },
  {
   "cell_type": "code",
   "execution_count": 74,
   "metadata": {},
   "outputs": [],
   "source": [
    "%store -r lda\n",
    "# from nltk_coll_topic.ipynb"
   ]
  },
  {
   "cell_type": "code",
   "execution_count": 75,
   "metadata": {},
   "outputs": [],
   "source": [
    "%store -r doc2vec_final\n",
    "# from doc2vec.ipynb"
   ]
  },
  {
   "cell_type": "code",
   "execution_count": 76,
   "metadata": {},
   "outputs": [],
   "source": [
    "%store -r input\n",
    "# from undersampling.ipynb, a list of vectors obtained by concatenating for each document its doc2vec vector and a vector with the topic modeling probabilities"
   ]
  },
  {
   "cell_type": "code",
   "execution_count": 77,
   "metadata": {},
   "outputs": [],
   "source": [
    "%store -r df\n",
    "# from undersampling.ipynb, has the labels after the undersampling"
   ]
  },
  {
   "cell_type": "code",
   "execution_count": 78,
   "metadata": {},
   "outputs": [
    {
     "data": {
      "text/html": [
       "<div>\n",
       "<style scoped>\n",
       "    .dataframe tbody tr th:only-of-type {\n",
       "        vertical-align: middle;\n",
       "    }\n",
       "\n",
       "    .dataframe tbody tr th {\n",
       "        vertical-align: top;\n",
       "    }\n",
       "\n",
       "    .dataframe thead th {\n",
       "        text-align: right;\n",
       "    }\n",
       "</style>\n",
       "<table border=\"1\" class=\"dataframe\">\n",
       "  <thead>\n",
       "    <tr style=\"text-align: right;\">\n",
       "      <th></th>\n",
       "      <th>Argument ID</th>\n",
       "      <th>Openness to change</th>\n",
       "      <th>Self-Enhancement</th>\n",
       "      <th>Conservation</th>\n",
       "      <th>Self-Transcendence</th>\n",
       "      <th>labels</th>\n",
       "    </tr>\n",
       "  </thead>\n",
       "  <tbody>\n",
       "    <tr>\n",
       "      <th>0</th>\n",
       "      <td>A01002</td>\n",
       "      <td>0</td>\n",
       "      <td>0</td>\n",
       "      <td>1</td>\n",
       "      <td>0</td>\n",
       "      <td>[0.0, 0.0, 1.0, 0.0]</td>\n",
       "    </tr>\n",
       "    <tr>\n",
       "      <th>1</th>\n",
       "      <td>A01005</td>\n",
       "      <td>0</td>\n",
       "      <td>0</td>\n",
       "      <td>1</td>\n",
       "      <td>0</td>\n",
       "      <td>[0.0, 0.0, 1.0, 0.0]</td>\n",
       "    </tr>\n",
       "    <tr>\n",
       "      <th>2</th>\n",
       "      <td>A01006</td>\n",
       "      <td>0</td>\n",
       "      <td>1</td>\n",
       "      <td>1</td>\n",
       "      <td>0</td>\n",
       "      <td>[0.0, 0.5, 0.5, 0.0]</td>\n",
       "    </tr>\n",
       "    <tr>\n",
       "      <th>3</th>\n",
       "      <td>A01007</td>\n",
       "      <td>0</td>\n",
       "      <td>0</td>\n",
       "      <td>2</td>\n",
       "      <td>1</td>\n",
       "      <td>[0.0, 0.0, 0.6666666666666666, 0.3333333333333...</td>\n",
       "    </tr>\n",
       "    <tr>\n",
       "      <th>4</th>\n",
       "      <td>A01008</td>\n",
       "      <td>0</td>\n",
       "      <td>0</td>\n",
       "      <td>1</td>\n",
       "      <td>2</td>\n",
       "      <td>[0.0, 0.0, 0.3333333333333333, 0.6666666666666...</td>\n",
       "    </tr>\n",
       "    <tr>\n",
       "      <th>...</th>\n",
       "      <td>...</td>\n",
       "      <td>...</td>\n",
       "      <td>...</td>\n",
       "      <td>...</td>\n",
       "      <td>...</td>\n",
       "      <td>...</td>\n",
       "    </tr>\n",
       "    <tr>\n",
       "      <th>5383</th>\n",
       "      <td>E08005</td>\n",
       "      <td>0</td>\n",
       "      <td>1</td>\n",
       "      <td>2</td>\n",
       "      <td>1</td>\n",
       "      <td>[0.0, 0.25, 0.5, 0.25]</td>\n",
       "    </tr>\n",
       "    <tr>\n",
       "      <th>5384</th>\n",
       "      <td>E08008</td>\n",
       "      <td>0</td>\n",
       "      <td>1</td>\n",
       "      <td>1</td>\n",
       "      <td>1</td>\n",
       "      <td>[0.0, 0.3333333333333333, 0.3333333333333333, ...</td>\n",
       "    </tr>\n",
       "    <tr>\n",
       "      <th>5385</th>\n",
       "      <td>E08009</td>\n",
       "      <td>0</td>\n",
       "      <td>1</td>\n",
       "      <td>1</td>\n",
       "      <td>0</td>\n",
       "      <td>[0.0, 0.5, 0.5, 0.0]</td>\n",
       "    </tr>\n",
       "    <tr>\n",
       "      <th>5387</th>\n",
       "      <td>E08016</td>\n",
       "      <td>0</td>\n",
       "      <td>2</td>\n",
       "      <td>1</td>\n",
       "      <td>1</td>\n",
       "      <td>[0.0, 0.5, 0.25, 0.25]</td>\n",
       "    </tr>\n",
       "    <tr>\n",
       "      <th>5391</th>\n",
       "      <td>E08020</td>\n",
       "      <td>1</td>\n",
       "      <td>1</td>\n",
       "      <td>1</td>\n",
       "      <td>1</td>\n",
       "      <td>[0.25, 0.25, 0.25, 0.25]</td>\n",
       "    </tr>\n",
       "  </tbody>\n",
       "</table>\n",
       "<p>2770 rows × 6 columns</p>\n",
       "</div>"
      ],
      "text/plain": [
       "     Argument ID  Openness to change  Self-Enhancement  Conservation   \n",
       "0         A01002                   0                 0             1  \\\n",
       "1         A01005                   0                 0             1   \n",
       "2         A01006                   0                 1             1   \n",
       "3         A01007                   0                 0             2   \n",
       "4         A01008                   0                 0             1   \n",
       "...          ...                 ...               ...           ...   \n",
       "5383      E08005                   0                 1             2   \n",
       "5384      E08008                   0                 1             1   \n",
       "5385      E08009                   0                 1             1   \n",
       "5387      E08016                   0                 2             1   \n",
       "5391      E08020                   1                 1             1   \n",
       "\n",
       "      Self-Transcendence                                             labels  \n",
       "0                      0                               [0.0, 0.0, 1.0, 0.0]  \n",
       "1                      0                               [0.0, 0.0, 1.0, 0.0]  \n",
       "2                      0                               [0.0, 0.5, 0.5, 0.0]  \n",
       "3                      1  [0.0, 0.0, 0.6666666666666666, 0.3333333333333...  \n",
       "4                      2  [0.0, 0.0, 0.3333333333333333, 0.6666666666666...  \n",
       "...                  ...                                                ...  \n",
       "5383                   1                             [0.0, 0.25, 0.5, 0.25]  \n",
       "5384                   1  [0.0, 0.3333333333333333, 0.3333333333333333, ...  \n",
       "5385                   0                               [0.0, 0.5, 0.5, 0.0]  \n",
       "5387                   1                             [0.0, 0.5, 0.25, 0.25]  \n",
       "5391                   1                           [0.25, 0.25, 0.25, 0.25]  \n",
       "\n",
       "[2770 rows x 6 columns]"
      ]
     },
     "execution_count": 78,
     "metadata": {},
     "output_type": "execute_result"
    }
   ],
   "source": [
    "df"
   ]
  },
  {
   "cell_type": "markdown",
   "metadata": {},
   "source": [
    "We first create the training set"
   ]
  },
  {
   "cell_type": "code",
   "execution_count": 79,
   "metadata": {},
   "outputs": [],
   "source": [
    "X_train = np.array(input)"
   ]
  },
  {
   "cell_type": "code",
   "execution_count": 80,
   "metadata": {},
   "outputs": [],
   "source": [
    "train_labels = [row.labels for id, row in df.iterrows()]"
   ]
  },
  {
   "cell_type": "code",
   "execution_count": 81,
   "metadata": {},
   "outputs": [],
   "source": [
    "# to implement our classification problem (that is multi-class and multi-label) we will use binary crossentropy with a sigmoid activation\n",
    "# function in the last layer: now we transform pur probabilities labels in \"binary\" labels.\n",
    "y_train = []\n",
    "for label in train_labels:\n",
    "    new_label = []\n",
    "    for value in label:\n",
    "        if value > 0:\n",
    "            new_label.append(1)\n",
    "        else:\n",
    "            new_label.append(0)\n",
    "    y_train.append(new_label)"
   ]
  },
  {
   "cell_type": "code",
   "execution_count": 82,
   "metadata": {},
   "outputs": [],
   "source": [
    "# we tranform our y_train in an array\n",
    "y_train = np.array(y_train)"
   ]
  },
  {
   "cell_type": "code",
   "execution_count": 83,
   "metadata": {},
   "outputs": [],
   "source": [
    "# since we are using a concatenation of doc2vec vectors and probabilities vectors from lda we decided to normalize our data\n",
    "from sklearn.preprocessing import StandardScaler"
   ]
  },
  {
   "cell_type": "code",
   "execution_count": 84,
   "metadata": {},
   "outputs": [],
   "source": [
    "scaler = StandardScaler()\n",
    "X_train = scaler.fit_transform(X_train)"
   ]
  },
  {
   "cell_type": "markdown",
   "metadata": {},
   "source": [
    "We now use the doc2vec model and the lda to extract the doc2vec vectors and topic probabilities from validation set"
   ]
  },
  {
   "cell_type": "code",
   "execution_count": 85,
   "metadata": {},
   "outputs": [],
   "source": [
    "%store -r y_val\n",
    "# from preprocessing_validation.ipynb"
   ]
  },
  {
   "cell_type": "code",
   "execution_count": 86,
   "metadata": {},
   "outputs": [],
   "source": [
    "%store -r val_d2v_topic_vec\n",
    "# from preprocessing_validation.ipynb"
   ]
  },
  {
   "cell_type": "code",
   "execution_count": 87,
   "metadata": {},
   "outputs": [],
   "source": [
    "X_val = np.array(val_d2v_topic_vec)"
   ]
  },
  {
   "cell_type": "code",
   "execution_count": 88,
   "metadata": {},
   "outputs": [],
   "source": [
    "X_val = scaler.fit_transform(X_val)"
   ]
  },
  {
   "cell_type": "code",
   "execution_count": 89,
   "metadata": {},
   "outputs": [
    {
     "data": {
      "text/plain": [
       "array([-0.21897328, -0.28956918, -0.31116289, -0.30819973, -0.38598519,\n",
       "       -0.27756724, -0.32821338, -0.30369839,  1.69369078, -0.34530871,\n",
       "       -0.27144565, -0.30065987, -0.32871473, -0.26483439, -0.27596003,\n",
       "        1.61254942, -0.49715226, -0.36106349,  1.38614602,  2.96834166,\n",
       "        3.72179125,  2.4669081 , -0.63884464, -1.26971152, -3.3444115 ,\n",
       "        0.37543085,  1.1861427 , -3.37506297,  1.62852762,  3.647419  ,\n",
       "       -0.30911948,  3.73287083,  2.16085135, -2.32132782, -1.76041378,\n",
       "       -2.0678935 ,  1.35797982, -1.13300291, -2.06011215,  0.9256196 ,\n",
       "       -0.41903448, -3.67446507, -3.10673379,  2.52355842,  3.62260193,\n",
       "        1.47857248, -2.58099106,  3.29712318,  2.01516801, -2.32139452,\n",
       "       -3.04813632,  3.03705835, -3.33124351,  3.34948654,  2.95999988,\n",
       "        2.5994671 ,  3.38488704, -3.46029891, -3.27696512,  3.52653181,\n",
       "       -3.3947618 , -2.65936907,  3.83575005, -3.52311068,  3.82923501,\n",
       "       -3.10096249,  3.33350972,  1.52269909, -3.29362225,  3.10711623,\n",
       "       -1.35119712, -3.649392  , -2.11871754,  1.76336675,  3.37535423,\n",
       "        3.46033759,  3.80937876,  3.58850793, -2.99564479,  1.89307589,\n",
       "        3.23399865,  3.21408808, -3.00484319, -3.36721408, -0.20292461,\n",
       "       -3.49164646,  3.44071405, -3.74587196, -3.58811267,  0.36581542,\n",
       "       -3.68511204,  3.08010291, -2.92770464,  1.41104303, -3.42478946,\n",
       "        0.64402975,  0.12327161,  3.45510286, -1.95116801,  0.45764402,\n",
       "        2.88850459,  3.45034437, -2.65372308,  1.13199418,  1.69124158,\n",
       "       -0.58497181,  2.97868442,  2.88621152, -3.20969345, -3.25934166,\n",
       "       -3.25450002,  3.45287963,  0.32688343,  2.30444603,  3.45116003,\n",
       "        3.26576769, -3.15133608, -2.79419659, -1.84699612, -3.4686279 ,\n",
       "       -0.26702524,  1.45334915,  2.88952451, -3.32088742,  2.36622384,\n",
       "       -3.40160407,  1.80448787,  3.54876913,  0.27741896, -2.31669035,\n",
       "        2.13946922, -1.46845819, -3.15541314,  0.04485208,  1.58149144,\n",
       "       -0.29837736,  3.27085962,  2.48397356,  3.47463953, -3.4855238 ,\n",
       "        0.75222415, -3.41656259, -2.33552865, -3.23829336, -2.85552204,\n",
       "       -2.49870621, -2.46379216,  3.02782612,  3.20295735, -3.532678  ,\n",
       "       -1.39537492, -3.37499201, -3.5312899 , -0.48173098, -2.31654577,\n",
       "        1.25208121,  3.22352943,  1.09804661,  0.06765996, -1.34709003,\n",
       "       -2.64232582, -2.85090094,  3.51401901, -3.11896971,  3.53803139,\n",
       "        0.03765163, -1.98841983,  2.34059441, -3.60752515, -2.74495445,\n",
       "       -3.49172497, -0.2593509 , -0.70025545, -3.36440988, -3.26468396,\n",
       "        3.79455749,  2.02037104,  3.34278259,  2.24884718, -0.0076839 ,\n",
       "       -0.84974862,  2.74138562,  2.72390634,  1.11462448,  2.66933055,\n",
       "       -3.72050423,  2.29900492,  2.35707869,  1.66864067, -2.10615226,\n",
       "        3.61049529, -2.74631494, -3.49471282, -3.55593178,  3.74374242,\n",
       "        0.16837495,  2.68488647, -2.49361392, -0.73702524,  3.03791621,\n",
       "       -2.05247772, -3.78113488, -3.19150317,  0.37938056, -3.25729862,\n",
       "        0.91538385, -2.79221975,  3.37844669, -1.35323153, -3.07963084,\n",
       "       -3.49212118, -0.90787341, -2.90737848,  3.13679756,  2.57125406,\n",
       "       -2.47910143,  3.32898332,  0.65537561, -1.46725762])"
      ]
     },
     "execution_count": 89,
     "metadata": {},
     "output_type": "execute_result"
    }
   ],
   "source": [
    "X_val[0]"
   ]
  },
  {
   "cell_type": "code",
   "execution_count": 90,
   "metadata": {},
   "outputs": [],
   "source": [
    "# this the features len for the concatenation of doc2vec (200 features) and topic modeling (19 topics)\n",
    "features_len = 219"
   ]
  },
  {
   "cell_type": "code",
   "execution_count": 91,
   "metadata": {},
   "outputs": [],
   "source": [
    "from tensorflow.keras.optimizers import Adam\n",
    "from tensorflow.keras.callbacks import ReduceLROnPlateau"
   ]
  },
  {
   "cell_type": "code",
   "execution_count": 92,
   "metadata": {},
   "outputs": [],
   "source": [
    "from sklearn.metrics import classification_report\n",
    "from sklearn.metrics import accuracy_score"
   ]
  },
  {
   "cell_type": "code",
   "execution_count": 93,
   "metadata": {},
   "outputs": [
    {
     "data": {
      "text/plain": [
       "(1576, 219)"
      ]
     },
     "execution_count": 93,
     "metadata": {},
     "output_type": "execute_result"
    }
   ],
   "source": [
    "X_val.shape"
   ]
  },
  {
   "cell_type": "code",
   "execution_count": 94,
   "metadata": {},
   "outputs": [
    {
     "data": {
      "text/plain": [
       "(2770, 219)"
      ]
     },
     "execution_count": 94,
     "metadata": {},
     "output_type": "execute_result"
    }
   ],
   "source": [
    "X_train.shape"
   ]
  },
  {
   "cell_type": "code",
   "execution_count": 98,
   "metadata": {},
   "outputs": [],
   "source": [
    "# reshaping the data to add an extra dimension\n",
    "X_train = X_train.reshape((X_train.shape[0], 1, X_train.shape[1]))\n",
    "X_val = X_val.reshape((X_val.shape[0], 1, X_val.shape[1]))"
   ]
  },
  {
   "cell_type": "code",
   "execution_count": 99,
   "metadata": {},
   "outputs": [
    {
     "name": "stdout",
     "output_type": "stream",
     "text": [
      "Epoch 1/20\n",
      "WARNING:tensorflow:From c:\\Users\\cate9\\AppData\\Local\\Programs\\Python\\Python311\\Lib\\site-packages\\keras\\src\\utils\\tf_utils.py:492: The name tf.ragged.RaggedTensorValue is deprecated. Please use tf.compat.v1.ragged.RaggedTensorValue instead.\n",
      "\n",
      "WARNING:tensorflow:From c:\\Users\\cate9\\AppData\\Local\\Programs\\Python\\Python311\\Lib\\site-packages\\keras\\src\\engine\\base_layer_utils.py:384: The name tf.executing_eagerly_outside_functions is deprecated. Please use tf.compat.v1.executing_eagerly_outside_functions instead.\n",
      "\n",
      "87/87 [==============================] - 4s 15ms/step - loss: 0.6527 - accuracy: 0.1325 - val_loss: 0.6682 - val_accuracy: 0.1256\n",
      "Epoch 2/20\n",
      "87/87 [==============================] - 1s 11ms/step - loss: 0.6482 - accuracy: 0.1267 - val_loss: 0.6659 - val_accuracy: 0.2373\n",
      "Epoch 3/20\n",
      "87/87 [==============================] - 1s 11ms/step - loss: 0.6447 - accuracy: 0.1415 - val_loss: 0.6670 - val_accuracy: 0.2614\n",
      "Epoch 4/20\n",
      "87/87 [==============================] - 1s 11ms/step - loss: 0.6386 - accuracy: 0.1065 - val_loss: 0.6659 - val_accuracy: 0.1332\n",
      "Epoch 5/20\n",
      "87/87 [==============================] - 1s 11ms/step - loss: 0.6391 - accuracy: 0.1585 - val_loss: 0.6808 - val_accuracy: 0.2354\n",
      "Epoch 6/20\n",
      "87/87 [==============================] - 1s 11ms/step - loss: 0.6370 - accuracy: 0.1603 - val_loss: 0.6769 - val_accuracy: 0.2659\n",
      "Epoch 7/20\n",
      "87/87 [==============================] - 1s 10ms/step - loss: 0.6355 - accuracy: 0.1968 - val_loss: 0.6725 - val_accuracy: 0.1199\n",
      "Epoch 8/20\n",
      "87/87 [==============================] - 1s 10ms/step - loss: 0.6306 - accuracy: 0.2155 - val_loss: 0.6809 - val_accuracy: 0.1656\n",
      "Epoch 9/20\n",
      "87/87 [==============================] - 1s 9ms/step - loss: 0.6256 - accuracy: 0.2657 - val_loss: 0.6743 - val_accuracy: 0.2221\n",
      "Epoch 10/20\n",
      "87/87 [==============================] - 1s 8ms/step - loss: 0.6285 - accuracy: 0.2440 - val_loss: 0.6797 - val_accuracy: 0.2430\n",
      "Epoch 11/20\n",
      "87/87 [==============================] - 1s 8ms/step - loss: 0.6252 - accuracy: 0.2563 - val_loss: 0.6812 - val_accuracy: 0.2570\n",
      "Epoch 12/20\n",
      "87/87 [==============================] - 1s 9ms/step - loss: 0.6226 - accuracy: 0.2632 - val_loss: 0.7030 - val_accuracy: 0.2798\n",
      "Epoch 13/20\n",
      "87/87 [==============================] - 1s 9ms/step - loss: 0.6212 - accuracy: 0.2809 - val_loss: 0.6928 - val_accuracy: 0.2329\n",
      "Epoch 14/20\n",
      "87/87 [==============================] - 1s 8ms/step - loss: 0.6166 - accuracy: 0.3043 - val_loss: 0.6985 - val_accuracy: 0.2792\n",
      "Epoch 15/20\n",
      "87/87 [==============================] - 1s 8ms/step - loss: 0.6121 - accuracy: 0.3191 - val_loss: 0.7125 - val_accuracy: 0.2627\n",
      "Epoch 16/20\n",
      "87/87 [==============================] - 1s 9ms/step - loss: 0.6168 - accuracy: 0.3036 - val_loss: 0.6894 - val_accuracy: 0.2272\n",
      "Epoch 17/20\n",
      "87/87 [==============================] - 1s 8ms/step - loss: 0.6136 - accuracy: 0.2921 - val_loss: 0.6986 - val_accuracy: 0.2316\n",
      "Epoch 18/20\n",
      "87/87 [==============================] - 1s 8ms/step - loss: 0.6094 - accuracy: 0.3061 - val_loss: 0.7277 - val_accuracy: 0.2887\n",
      "Epoch 19/20\n",
      "87/87 [==============================] - 1s 8ms/step - loss: 0.6068 - accuracy: 0.3693 - val_loss: 0.7239 - val_accuracy: 0.2608\n",
      "Epoch 20/20\n",
      "87/87 [==============================] - 1s 8ms/step - loss: 0.6032 - accuracy: 0.3159 - val_loss: 0.7520 - val_accuracy: 0.2728\n",
      "50/50 [==============================] - 0s 2ms/step\n",
      "              precision    recall  f1-score   support\n",
      "\n",
      "           0       0.38      0.71      0.50       614\n",
      "           1       0.43      0.72      0.54       660\n",
      "           2       0.75      0.96      0.84      1181\n",
      "           3       0.77      0.98      0.86      1204\n",
      "\n",
      "   micro avg       0.61      0.88      0.72      3659\n",
      "   macro avg       0.58      0.84      0.68      3659\n",
      "weighted avg       0.64      0.88      0.74      3659\n",
      " samples avg       0.62      0.89      0.70      3659\n",
      "\n"
     ]
    },
    {
     "data": {
      "text/plain": [
       "0.10215736040609137"
      ]
     },
     "execution_count": 99,
     "metadata": {},
     "output_type": "execute_result"
    }
   ],
   "source": [
    "model = Sequential()\n",
    "\n",
    "# Convolutional layers\n",
    "model.add(Conv1D(filters=128, kernel_size=3, padding='same', activation='relu', input_shape=( 1, features_len)))\n",
    "model.add(Conv1D(filters=128, kernel_size=3, padding='same', activation='relu'))\n",
    "model.add(Conv1D(filters=128, kernel_size=3, padding='same', activation='relu'))\n",
    "model.add(GlobalMaxPooling1D())\n",
    "\n",
    "# Dense layers\n",
    "model.add(Dense(512, activation='relu'))\n",
    "model.add(Dropout(0.7))\n",
    "model.add(Dense(512, activation='relu'))\n",
    "model.add(Dropout(0.7))\n",
    "\n",
    "# Output layer with 6 units for classification\n",
    "model.add(Dense(4, activation='sigmoid'))\n",
    "\n",
    "# Create an optimizer with an initial learning rate\n",
    "optimizer = Adam(learning_rate=0.0001)\n",
    "\n",
    "# Use ReduceLROnPlateau callback to adjust learning rate during training\n",
    "reduce_lr = ReduceLROnPlateau(monitor='val_loss', factor=0.5, patience=3, min_lr=1e-5)\n",
    "\n",
    "# Compile the model\n",
    "model.compile(loss='binary_crossentropy', optimizer='adam', metrics=['accuracy'])\n",
    "\n",
    "\n",
    "history = model.fit(X_train, y_train,\n",
    "    epochs=20,\n",
    "    validation_data=(X_val, y_val),\n",
    "    batch_size=32,\n",
    "    verbose=1)\n",
    "\n",
    "threshold = 0.5\n",
    "\n",
    "y_pred_probs = model.predict(X_val)\n",
    "\n",
    "# convert probabilities to binary predictions\n",
    "y_pred_binary = (y_pred_probs > threshold).astype(int)\n",
    "\n",
    "# print classification report\n",
    "print(classification_report(y_val, y_pred_binary))\n",
    "\n",
    "# calculate and return accuracy or other primary metric\n",
    "accuracy = accuracy_score(y_val, y_pred_binary)\n",
    "# this accuracy is less indicative since it computes subset accuracy: the set of labels predicted for a sample must exactly match the corresponding set of labels in y_true.\n",
    "accuracy"
   ]
  },
  {
   "cell_type": "code",
   "execution_count": 100,
   "metadata": {},
   "outputs": [],
   "source": [
    "import matplotlib.pyplot as plt"
   ]
  },
  {
   "cell_type": "code",
   "execution_count": 101,
   "metadata": {},
   "outputs": [
    {
     "data": {
      "image/png": "[encoded data removed]",
      "text/plain": [
       "<Figure size 640x480 with 1 Axes>"
      ]
     },
     "metadata": {},
     "output_type": "display_data"
    }
   ],
   "source": [
    "#plot training loss and validation loss\n",
    "plt.plot(history.history[\"loss\"], label = \"training loss\")\n",
    "plt.plot(history.history[\"val_loss\"], label = \"validation loss\")\n",
    "plt.xlabel(\"Epoch\")\n",
    "plt.ylabel(\"Loss\")\n",
    "plt.title(\"Training and validation loss over epochs\")\n",
    "plt.legend()\n",
    "plt.show()"
   ]
  }
 ],
 "metadata": {
  "kernelspec": {
   "display_name": "Python 3",
   "language": "python",
   "name": "python3"
  },
  "language_info": {
   "codemirror_mode": {
    "name": "ipython",
    "version": 3
   },
   "file_extension": ".py",
   "mimetype": "text/x-python",
   "name": "python",
   "nbconvert_exporter": "python",
   "pygments_lexer": "ipython3",
   "version": "3.11.1"
  }
 },
 "nbformat": 4,
 "nbformat_minor": 2
}
