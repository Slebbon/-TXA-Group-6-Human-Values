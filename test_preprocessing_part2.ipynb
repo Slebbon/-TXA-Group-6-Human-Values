{
 "cells": [
  {
   "cell_type": "code",
   "execution_count": 6,
   "metadata": {},
   "outputs": [],
   "source": [
    "%store -r test_set"
   ]
  },
  {
   "cell_type": "code",
   "execution_count": 7,
   "metadata": {},
   "outputs": [
    {
     "data": {
      "text/html": [
       "<div>\n",
       "<style scoped>\n",
       "    .dataframe tbody tr th:only-of-type {\n",
       "        vertical-align: middle;\n",
       "    }\n",
       "\n",
       "    .dataframe tbody tr th {\n",
       "        vertical-align: top;\n",
       "    }\n",
       "\n",
       "    .dataframe thead th {\n",
       "        text-align: right;\n",
       "    }\n",
       "</style>\n",
       "<table border=\"1\" class=\"dataframe\">\n",
       "  <thead>\n",
       "    <tr style=\"text-align: right;\">\n",
       "      <th></th>\n",
       "      <th>Argument ID</th>\n",
       "      <th>Conclusion</th>\n",
       "      <th>Stance</th>\n",
       "      <th>Premise</th>\n",
       "      <th>Argument ID</th>\n",
       "      <th>premise_tokenized</th>\n",
       "      <th>Openness to change</th>\n",
       "      <th>Self-Enhancement</th>\n",
       "      <th>Conservation</th>\n",
       "      <th>Self-Transcendence</th>\n",
       "      <th>general_label</th>\n",
       "    </tr>\n",
       "  </thead>\n",
       "  <tbody>\n",
       "    <tr>\n",
       "      <th>0</th>\n",
       "      <td>A26004</td>\n",
       "      <td>We should end affirmative action</td>\n",
       "      <td>against</td>\n",
       "      <td>affirmative action helps with employment equity.</td>\n",
       "      <td>A26004</td>\n",
       "      <td>[affirmative, action, helps, with, employment,...</td>\n",
       "      <td>0</td>\n",
       "      <td>1</td>\n",
       "      <td>1</td>\n",
       "      <td>2</td>\n",
       "      <td>[0.0, 0.25, 0.25, 0.5]</td>\n",
       "    </tr>\n",
       "    <tr>\n",
       "      <th>1</th>\n",
       "      <td>A26010</td>\n",
       "      <td>We should end affirmative action</td>\n",
       "      <td>in favor of</td>\n",
       "      <td>affirmative action can be considered discrimin...</td>\n",
       "      <td>A26010</td>\n",
       "      <td>[affirmative, action, can, be, considered, dis...</td>\n",
       "      <td>0</td>\n",
       "      <td>1</td>\n",
       "      <td>0</td>\n",
       "      <td>3</td>\n",
       "      <td>[0.0, 0.25, 0.0, 0.75]</td>\n",
       "    </tr>\n",
       "    <tr>\n",
       "      <th>2</th>\n",
       "      <td>A26016</td>\n",
       "      <td>We should ban naturopathy</td>\n",
       "      <td>in favor of</td>\n",
       "      <td>naturopathy is very dangerous for the most vul...</td>\n",
       "      <td>A26016</td>\n",
       "      <td>[naturopathy, is, very, dangerous, for, the, m...</td>\n",
       "      <td>0</td>\n",
       "      <td>1</td>\n",
       "      <td>1</td>\n",
       "      <td>2</td>\n",
       "      <td>[0.0, 0.25, 0.25, 0.5]</td>\n",
       "    </tr>\n",
       "    <tr>\n",
       "      <th>3</th>\n",
       "      <td>A26024</td>\n",
       "      <td>We should prohibit women in combat</td>\n",
       "      <td>in favor of</td>\n",
       "      <td>women shouldn't be in combat because they aren...</td>\n",
       "      <td>A26024</td>\n",
       "      <td>[women, should, n't, be, in, combat, because, ...</td>\n",
       "      <td>0</td>\n",
       "      <td>1</td>\n",
       "      <td>0</td>\n",
       "      <td>0</td>\n",
       "      <td>[0.0, 1.0, 0.0, 0.0]</td>\n",
       "    </tr>\n",
       "    <tr>\n",
       "      <th>4</th>\n",
       "      <td>A26026</td>\n",
       "      <td>We should ban naturopathy</td>\n",
       "      <td>in favor of</td>\n",
       "      <td>once eradicated illnesses are returning due to...</td>\n",
       "      <td>A26026</td>\n",
       "      <td>[once, eradicated, illnesses, are, returning, ...</td>\n",
       "      <td>0</td>\n",
       "      <td>1</td>\n",
       "      <td>2</td>\n",
       "      <td>2</td>\n",
       "      <td>[0.0, 0.2, 0.4, 0.4]</td>\n",
       "    </tr>\n",
       "    <tr>\n",
       "      <th>...</th>\n",
       "      <td>...</td>\n",
       "      <td>...</td>\n",
       "      <td>...</td>\n",
       "      <td>...</td>\n",
       "      <td>...</td>\n",
       "      <td>...</td>\n",
       "      <td>...</td>\n",
       "      <td>...</td>\n",
       "      <td>...</td>\n",
       "      <td>...</td>\n",
       "      <td>...</td>\n",
       "    </tr>\n",
       "    <tr>\n",
       "      <th>1571</th>\n",
       "      <td>E07272</td>\n",
       "      <td>We should end mass migration together.</td>\n",
       "      <td>in favor of</td>\n",
       "      <td>Mass migration is a phenomenon that causes dam...</td>\n",
       "      <td>E07272</td>\n",
       "      <td>[mass, migration, is, a, phenomenon, that, cau...</td>\n",
       "      <td>0</td>\n",
       "      <td>0</td>\n",
       "      <td>1</td>\n",
       "      <td>0</td>\n",
       "      <td>[0.0, 0.0, 1.0, 0.0]</td>\n",
       "    </tr>\n",
       "    <tr>\n",
       "      <th>1572</th>\n",
       "      <td>E07273</td>\n",
       "      <td>We should end mass migration together.</td>\n",
       "      <td>in favor of</td>\n",
       "      <td>Mass migration hurts the migrants themselves i...</td>\n",
       "      <td>E07273</td>\n",
       "      <td>[mass, migration, hurts, the, migrants, themse...</td>\n",
       "      <td>0</td>\n",
       "      <td>0</td>\n",
       "      <td>1</td>\n",
       "      <td>2</td>\n",
       "      <td>[0.0, 0.0, 0.3333333333333333, 0.6666666666666...</td>\n",
       "    </tr>\n",
       "    <tr>\n",
       "      <th>1573</th>\n",
       "      <td>E07275</td>\n",
       "      <td>We should consider Russian interests in the EU...</td>\n",
       "      <td>in favor of</td>\n",
       "      <td>It is neither in the interests of the EU nor R...</td>\n",
       "      <td>E07275</td>\n",
       "      <td>[it, is, neither, in, the, interests, of, the,...</td>\n",
       "      <td>1</td>\n",
       "      <td>1</td>\n",
       "      <td>1</td>\n",
       "      <td>2</td>\n",
       "      <td>[0.2, 0.2, 0.2, 0.4]</td>\n",
       "    </tr>\n",
       "    <tr>\n",
       "      <th>1574</th>\n",
       "      <td>E07280</td>\n",
       "      <td>We should adopt an extension of the applicatio...</td>\n",
       "      <td>in favor of</td>\n",
       "      <td>Foreign Policy at the EU level should be based...</td>\n",
       "      <td>E07280</td>\n",
       "      <td>[foreign, policy, at, the, eu, level, should, ...</td>\n",
       "      <td>1</td>\n",
       "      <td>1</td>\n",
       "      <td>0</td>\n",
       "      <td>2</td>\n",
       "      <td>[0.25, 0.25, 0.0, 0.5]</td>\n",
       "    </tr>\n",
       "    <tr>\n",
       "      <th>1575</th>\n",
       "      <td>E08023</td>\n",
       "      <td>We should abolish covid digital pass</td>\n",
       "      <td>against</td>\n",
       "      <td>You owe the fact that you can drink your coffe...</td>\n",
       "      <td>E08023</td>\n",
       "      <td>[you, owe, the, fact, that, you, can, drink, y...</td>\n",
       "      <td>0</td>\n",
       "      <td>0</td>\n",
       "      <td>4</td>\n",
       "      <td>3</td>\n",
       "      <td>[0.0, 0.0, 0.5714285714285714, 0.4285714285714...</td>\n",
       "    </tr>\n",
       "  </tbody>\n",
       "</table>\n",
       "<p>1576 rows × 11 columns</p>\n",
       "</div>"
      ],
      "text/plain": [
       "     Argument ID                                         Conclusion  \\\n",
       "0         A26004                   We should end affirmative action   \n",
       "1         A26010                   We should end affirmative action   \n",
       "2         A26016                          We should ban naturopathy   \n",
       "3         A26024                 We should prohibit women in combat   \n",
       "4         A26026                          We should ban naturopathy   \n",
       "...          ...                                                ...   \n",
       "1571      E07272             We should end mass migration together.   \n",
       "1572      E07273             We should end mass migration together.   \n",
       "1573      E07275  We should consider Russian interests in the EU...   \n",
       "1574      E07280  We should adopt an extension of the applicatio...   \n",
       "1575      E08023               We should abolish covid digital pass   \n",
       "\n",
       "           Stance                                            Premise  \\\n",
       "0         against   affirmative action helps with employment equity.   \n",
       "1     in favor of  affirmative action can be considered discrimin...   \n",
       "2     in favor of  naturopathy is very dangerous for the most vul...   \n",
       "3     in favor of  women shouldn't be in combat because they aren...   \n",
       "4     in favor of  once eradicated illnesses are returning due to...   \n",
       "...           ...                                                ...   \n",
       "1571  in favor of  Mass migration is a phenomenon that causes dam...   \n",
       "1572  in favor of  Mass migration hurts the migrants themselves i...   \n",
       "1573  in favor of  It is neither in the interests of the EU nor R...   \n",
       "1574  in favor of  Foreign Policy at the EU level should be based...   \n",
       "1575      against  You owe the fact that you can drink your coffe...   \n",
       "\n",
       "     Argument ID                                  premise_tokenized  \\\n",
       "0         A26004  [affirmative, action, helps, with, employment,...   \n",
       "1         A26010  [affirmative, action, can, be, considered, dis...   \n",
       "2         A26016  [naturopathy, is, very, dangerous, for, the, m...   \n",
       "3         A26024  [women, should, n't, be, in, combat, because, ...   \n",
       "4         A26026  [once, eradicated, illnesses, are, returning, ...   \n",
       "...          ...                                                ...   \n",
       "1571      E07272  [mass, migration, is, a, phenomenon, that, cau...   \n",
       "1572      E07273  [mass, migration, hurts, the, migrants, themse...   \n",
       "1573      E07275  [it, is, neither, in, the, interests, of, the,...   \n",
       "1574      E07280  [foreign, policy, at, the, eu, level, should, ...   \n",
       "1575      E08023  [you, owe, the, fact, that, you, can, drink, y...   \n",
       "\n",
       "      Openness to change  Self-Enhancement  Conservation  Self-Transcendence  \\\n",
       "0                      0                 1             1                   2   \n",
       "1                      0                 1             0                   3   \n",
       "2                      0                 1             1                   2   \n",
       "3                      0                 1             0                   0   \n",
       "4                      0                 1             2                   2   \n",
       "...                  ...               ...           ...                 ...   \n",
       "1571                   0                 0             1                   0   \n",
       "1572                   0                 0             1                   2   \n",
       "1573                   1                 1             1                   2   \n",
       "1574                   1                 1             0                   2   \n",
       "1575                   0                 0             4                   3   \n",
       "\n",
       "                                          general_label  \n",
       "0                                [0.0, 0.25, 0.25, 0.5]  \n",
       "1                                [0.0, 0.25, 0.0, 0.75]  \n",
       "2                                [0.0, 0.25, 0.25, 0.5]  \n",
       "3                                  [0.0, 1.0, 0.0, 0.0]  \n",
       "4                                  [0.0, 0.2, 0.4, 0.4]  \n",
       "...                                                 ...  \n",
       "1571                               [0.0, 0.0, 1.0, 0.0]  \n",
       "1572  [0.0, 0.0, 0.3333333333333333, 0.6666666666666...  \n",
       "1573                               [0.2, 0.2, 0.2, 0.4]  \n",
       "1574                             [0.25, 0.25, 0.0, 0.5]  \n",
       "1575  [0.0, 0.0, 0.5714285714285714, 0.4285714285714...  \n",
       "\n",
       "[1576 rows x 11 columns]"
      ]
     },
     "execution_count": 7,
     "metadata": {},
     "output_type": "execute_result"
    }
   ],
   "source": [
    "test_set"
   ]
  },
  {
   "cell_type": "markdown",
   "metadata": {},
   "source": [
    "Data cleaning: stopwords removal"
   ]
  },
  {
   "cell_type": "code",
   "execution_count": 2,
   "metadata": {},
   "outputs": [],
   "source": [
    "import nltk"
   ]
  },
  {
   "cell_type": "code",
   "execution_count": 49,
   "metadata": {},
   "outputs": [],
   "source": [
    "import numpy as np"
   ]
  },
  {
   "cell_type": "code",
   "execution_count": 19,
   "metadata": {},
   "outputs": [
    {
     "name": "stderr",
     "output_type": "stream",
     "text": [
      "[nltk_data] Downloading package wordnet to\n",
      "[nltk_data]     C:\\Users\\Asus\\AppData\\Roaming\\nltk_data...\n",
      "[nltk_data]   Package wordnet is already up-to-date!\n",
      "[nltk_data] Downloading package omw-1.4 to\n",
      "[nltk_data]     C:\\Users\\Asus\\AppData\\Roaming\\nltk_data...\n",
      "[nltk_data]   Package omw-1.4 is already up-to-date!\n"
     ]
    }
   ],
   "source": [
    "nltk.download('wordnet')\n",
    "nltk.download('omw-1.4')\n",
    "from nltk.stem.wordnet import WordNetLemmatizer\n",
    "from nltk.stem import WordNetLemmatizer\n",
    "lemmatizer = WordNetLemmatizer()"
   ]
  },
  {
   "cell_type": "code",
   "execution_count": 3,
   "metadata": {},
   "outputs": [
    {
     "name": "stderr",
     "output_type": "stream",
     "text": [
      "[nltk_data] Downloading package stopwords to\n",
      "[nltk_data]     C:\\Users\\Asus\\AppData\\Roaming\\nltk_data...\n",
      "[nltk_data]   Package stopwords is already up-to-date!\n"
     ]
    }
   ],
   "source": [
    "from nltk.corpus import stopwords\n",
    "nltk.download('stopwords')\n",
    "import string"
   ]
  },
  {
   "cell_type": "code",
   "execution_count": 4,
   "metadata": {},
   "outputs": [],
   "source": [
    "stop_words = set(stopwords.words('english'))"
   ]
  },
  {
   "cell_type": "code",
   "execution_count": 13,
   "metadata": {},
   "outputs": [],
   "source": [
    "import string\n",
    "\n",
    "def filter_tokens(tokens):\n",
    "    filtered_tokens = [token for token in tokens if token.strip() not in stop_words and token.strip() not in string.punctuation and token.strip()]\n",
    "    return filtered_tokens\n"
   ]
  },
  {
   "cell_type": "code",
   "execution_count": 14,
   "metadata": {},
   "outputs": [],
   "source": [
    "test_set[\"no_stopwords_premise\"]=test_set[\"premise_tokenized\"].apply(filter_tokens)"
   ]
  },
  {
   "cell_type": "markdown",
   "metadata": {},
   "source": [
    "Topic modelling with GENSIM"
   ]
  },
  {
   "cell_type": "code",
   "execution_count": 11,
   "metadata": {},
   "outputs": [],
   "source": [
    "def get_freq_dist(text):\n",
    "    freqs = nltk.FreqDist(text)\n",
    "    return freqs"
   ]
  },
  {
   "cell_type": "code",
   "execution_count": 15,
   "metadata": {},
   "outputs": [
    {
     "data": {
      "text/plain": [
       "[('people', 350),\n",
       " ('women', 160),\n",
       " ('naturopathy', 138),\n",
       " ('marriage', 133),\n",
       " ('flag', 124),\n",
       " ('action', 123),\n",
       " ('affirmative', 119),\n",
       " (\"n't\", 116),\n",
       " ('many', 112),\n",
       " ('polygamy', 112),\n",
       " (\"'s\", 109),\n",
       " ('home', 108),\n",
       " ('burning', 107),\n",
       " ('would', 102),\n",
       " ('urbanization', 100),\n",
       " ('stay', 96),\n",
       " ('racial', 94),\n",
       " ('profiling', 90),\n",
       " ('guantanamo', 90),\n",
       " ('men', 88)]"
      ]
     },
     "execution_count": 15,
     "metadata": {},
     "output_type": "execute_result"
    }
   ],
   "source": [
    "# we first see the distribution of frequencies of words in the premises to see if we can improve the stop_words list\n",
    "premises = []\n",
    "for doc in test_set[\"no_stopwords_premise\"]:\n",
    "    for token in doc:\n",
    "        premises.append(token)\n",
    "\n",
    "premises_freq = get_freq_dist(premises)\n",
    "premises_freq.most_common(20)"
   ]
  },
  {
   "cell_type": "code",
   "execution_count": 16,
   "metadata": {},
   "outputs": [],
   "source": [
    "# select from the most frequent words those that seemed too frequent (people) or less informative (would, n't, many and 's)\n",
    "most_freq_words = [\"people\", \"would\", \"'n't\", \"many\", \"'s\"]\n",
    "custom_stop_words = list(stop_words)\n",
    "custom_stop_words.append(\"people\")\n",
    "custom_stop_words = set(custom_stop_words)"
   ]
  },
  {
   "cell_type": "code",
   "execution_count": 20,
   "metadata": {},
   "outputs": [],
   "source": [
    "# creating the documents from the dataset's premises with no stop_words\n",
    "docs = [[token for token in doc if token not in custom_stop_words] for doc in test_set[\"no_stopwords_premise\"]]\n",
    "# lemmatizing the docs\n",
    "docs = [[lemmatizer.lemmatize(token) for token in doc] for doc in docs]\n",
    "# remove numbers, but not words that contain numbers.\n",
    "docs = [[token for token in doc if not token.isnumeric()] for doc in docs]\n",
    "# remove words that are only one character.\n",
    "docs = [[token for token in doc if len(token) > 1] for doc in docs]"
   ]
  },
  {
   "cell_type": "code",
   "execution_count": 22,
   "metadata": {},
   "outputs": [],
   "source": [
    "# Compute bigrams.\n",
    "from gensim.models import Phrases\n",
    "\n",
    "# Add bigrams to docs (only ones that appear 20 times or more).\n",
    "bigram = Phrases(docs, min_count=20)\n",
    "for idx in range(len(docs)):\n",
    "    for token in bigram[docs[idx]]:\n",
    "        if '_' in token:\n",
    "            # Token is a bigram, add to document.\n",
    "            docs[idx].append(token\n",
    "            )"
   ]
  },
  {
   "cell_type": "code",
   "execution_count": 23,
   "metadata": {},
   "outputs": [],
   "source": [
    "from gensim.corpora import Dictionary"
   ]
  },
  {
   "cell_type": "code",
   "execution_count": 24,
   "metadata": {},
   "outputs": [
    {
     "name": "stdout",
     "output_type": "stream",
     "text": [
      "Dictionary lenght 1): 3608\n",
      "Dictionary lenght 2): 776\n"
     ]
    }
   ],
   "source": [
    "# Create a dictionary representation of the documents.\n",
    "dictionary = Dictionary(docs)\n",
    "\n",
    "print(\"Dictionary lenght 1):\", len(dictionary))\n",
    "\n",
    "# Filter out words that occur less than 5 documents, or more than 50% of the documents.\n",
    "dictionary.filter_extremes(no_below=5, no_above=0.5)\n",
    "\n",
    "\n",
    "print(\"Dictionary lenght 2):\",len(dictionary))"
   ]
  },
  {
   "cell_type": "code",
   "execution_count": 27,
   "metadata": {},
   "outputs": [],
   "source": [
    "# Bag-of-words representation of the documents.\n",
    "corpus = [dictionary.doc2bow(doc) for doc in docs]"
   ]
  },
  {
   "cell_type": "code",
   "execution_count": 28,
   "metadata": {},
   "outputs": [
    {
     "name": "stdout",
     "output_type": "stream",
     "text": [
      "Number of unique tokens: 776\n",
      "Number of documents: 1576\n"
     ]
    }
   ],
   "source": [
    "print('Number of unique tokens: %d' % len(dictionary))\n",
    "print('Number of documents: %d' % len(corpus))"
   ]
  },
  {
   "cell_type": "code",
   "execution_count": 29,
   "metadata": {},
   "outputs": [],
   "source": [
    "from gensim.models import HdpModel"
   ]
  },
  {
   "cell_type": "code",
   "execution_count": 30,
   "metadata": {},
   "outputs": [],
   "source": [
    "# We first try with Hierarchical Dirichlet Process to see what would be the optimal number of topics\n",
    "temp = dictionary[0] \n",
    "id2word = dictionary.id2token\n",
    "\n",
    "hdp = HdpModel(\n",
    "    corpus=corpus,\n",
    "    id2word=id2word\n",
    ")"
   ]
  },
  {
   "cell_type": "code",
   "execution_count": 31,
   "metadata": {},
   "outputs": [
    {
     "data": {
      "text/plain": [
       "[(0,\n",
       "  '0.008*become + 0.008*much + 0.007*loss + 0.007*ineffective + 0.006*strength + 0.006*expensive + 0.006*gender + 0.006*abandon + 0.006*find + 0.006*right'),\n",
       " (1,\n",
       "  '0.008*usually + 0.007*father + 0.006*nothing + 0.006*current + 0.006*area + 0.006*industry + 0.006*modern + 0.006*look + 0.005*girl + 0.005*place'),\n",
       " (2,\n",
       "  '0.014*cultural + 0.012*overcrowding + 0.010*created + 0.008*activity + 0.008*close + 0.007*market + 0.007*individual + 0.007*american + 0.006*woman + 0.006*allows'),\n",
       " (3,\n",
       "  '0.007*away + 0.006*run + 0.006*often + 0.006*simply + 0.006*racist + 0.006*difference + 0.005*willing + 0.005*natural + 0.005*minor + 0.005*keep'),\n",
       " (4,\n",
       "  '0.007*rural + 0.007*help + 0.007*practice + 0.006*available + 0.006*urban + 0.006*information + 0.006*side + 0.006*consumer + 0.005*risk + 0.005*ability'),\n",
       " (5,\n",
       "  '0.007*technology + 0.007*space + 0.007*position + 0.006*medicine + 0.006*look + 0.006*immoral + 0.006*mental + 0.006*role + 0.006*speech + 0.006*giving'),\n",
       " (6,\n",
       "  '0.012*quality + 0.009*innocent + 0.008*among + 0.008*article + 0.008*target + 0.007*migrant + 0.007*foreign + 0.007*emotionally + 0.007*abandon + 0.006*unfair'),\n",
       " (7,\n",
       "  '0.009*example + 0.007*india + 0.006*discriminated + 0.006*ban + 0.006*abandon + 0.006*future + 0.006*protect + 0.006*use + 0.006*simply + 0.005*mass'),\n",
       " (8,\n",
       "  '0.010*going + 0.009*sex + 0.008*abandon + 0.008*placebo + 0.007*worth + 0.007*spending + 0.007*knowledge + 0.007*stop + 0.006*put + 0.006*cost'),\n",
       " (9,\n",
       "  '0.010*feel + 0.009*rural + 0.008*tradition + 0.007*promote + 0.007*whatever + 0.006*class + 0.006*created + 0.006*freedom + 0.006*male + 0.006*growth'),\n",
       " (10,\n",
       "  '0.008*foreign + 0.008*grow + 0.008*paid + 0.007*scientific + 0.006*trying + 0.006*important + 0.006*sense + 0.006*feeling + 0.006*religion + 0.005*would'),\n",
       " (11,\n",
       "  '0.011*destroys + 0.008*knowing + 0.008*feel + 0.008*come + 0.008*ill + 0.008*migrant + 0.007*cure + 0.007*structure + 0.006*disrespectful + 0.006*purpose'),\n",
       " (12,\n",
       "  '0.017*cause + 0.008*le + 0.007*year + 0.007*providing + 0.007*migration + 0.006*outdated + 0.006*despite + 0.006*protest + 0.006*region + 0.006*increased'),\n",
       " (13,\n",
       "  '0.007*success + 0.007*criminal + 0.006*statistic + 0.006*remain + 0.006*opposite + 0.006*practice + 0.006*pas + 0.006*product + 0.005*may + 0.005*digital'),\n",
       " (14,\n",
       "  '0.010*end + 0.008*fear + 0.007*hurting + 0.007*abandoned + 0.007*good + 0.007*ban + 0.006*sector + 0.006*enforcement + 0.006*purely + 0.006*opportunity'),\n",
       " (15,\n",
       "  '0.008*option + 0.008*outdated + 0.008*two + 0.007*terrorism + 0.007*animal + 0.006*religion + 0.006*surveillance + 0.006*race + 0.006*family + 0.006*loss'),\n",
       " (16,\n",
       "  '0.012*banned + 0.009*human + 0.009*first + 0.008*others + 0.007*race + 0.007*policy + 0.006*play + 0.006*unable + 0.006*anyone + 0.006*basis'),\n",
       " (17,\n",
       "  '0.008*anti + 0.007*everything + 0.007*kind + 0.006*success + 0.006*taking + 0.006*including + 0.006*air + 0.006*break + 0.006*private + 0.005*required'),\n",
       " (18,\n",
       "  '0.012*threat + 0.010*anyone + 0.008*handle + 0.006*family + 0.006*statistic + 0.006*emotionally + 0.006*action + 0.006*public + 0.005*try + 0.005*activity'),\n",
       " (19,\n",
       "  '0.010*include + 0.010*test + 0.008*evidence + 0.008*possible + 0.007*far + 0.007*play + 0.007*really + 0.006*pushbacks + 0.006*left + 0.006*exists')]"
      ]
     },
     "execution_count": 31,
     "metadata": {},
     "output_type": "execute_result"
    }
   ],
   "source": [
    "hdp.print_topics(num_words=10)"
   ]
  },
  {
   "cell_type": "markdown",
   "metadata": {},
   "source": [
    "Topic modelling with GENSIM in the test-set confirmed the same number of topics previously found in the train-set."
   ]
  },
  {
   "cell_type": "markdown",
   "metadata": {},
   "source": [
    "TOPIC MODELLING WITH SKLEARN"
   ]
  },
  {
   "cell_type": "code",
   "execution_count": 32,
   "metadata": {},
   "outputs": [],
   "source": [
    "from sklearn.feature_extraction.text import CountVectorizer"
   ]
  },
  {
   "cell_type": "code",
   "execution_count": 34,
   "metadata": {},
   "outputs": [],
   "source": [
    "texts = [text for text in test_set[\"Premise\"]]"
   ]
  },
  {
   "cell_type": "code",
   "execution_count": 35,
   "metadata": {},
   "outputs": [],
   "source": [
    "# vectorizing with sklearn\n",
    "# we turn the stop_words set into a list because of parameter restrictions of CountVectorizer\n",
    "custom_stop_words = list(custom_stop_words)\n",
    "vectorizer = CountVectorizer(stop_words=custom_stop_words, max_df=0.5, min_df=5,max_features = 7000, ngram_range=(1,2))\n",
    "tf = vectorizer.fit_transform(texts)"
   ]
  },
  {
   "cell_type": "code",
   "execution_count": 36,
   "metadata": {},
   "outputs": [],
   "source": [
    "from sklearn.decomposition import LatentDirichletAllocation"
   ]
  },
  {
   "cell_type": "code",
   "execution_count": 37,
   "metadata": {},
   "outputs": [
    {
     "data": {
      "text/html": [
       "<style>#sk-container-id-1 {color: black;}#sk-container-id-1 pre{padding: 0;}#sk-container-id-1 div.sk-toggleable {background-color: white;}#sk-container-id-1 label.sk-toggleable__label {cursor: pointer;display: block;width: 100%;margin-bottom: 0;padding: 0.3em;box-sizing: border-box;text-align: center;}#sk-container-id-1 label.sk-toggleable__label-arrow:before {content: \"▸\";float: left;margin-right: 0.25em;color: #696969;}#sk-container-id-1 label.sk-toggleable__label-arrow:hover:before {color: black;}#sk-container-id-1 div.sk-estimator:hover label.sk-toggleable__label-arrow:before {color: black;}#sk-container-id-1 div.sk-toggleable__content {max-height: 0;max-width: 0;overflow: hidden;text-align: left;background-color: #f0f8ff;}#sk-container-id-1 div.sk-toggleable__content pre {margin: 0.2em;color: black;border-radius: 0.25em;background-color: #f0f8ff;}#sk-container-id-1 input.sk-toggleable__control:checked~div.sk-toggleable__content {max-height: 200px;max-width: 100%;overflow: auto;}#sk-container-id-1 input.sk-toggleable__control:checked~label.sk-toggleable__label-arrow:before {content: \"▾\";}#sk-container-id-1 div.sk-estimator input.sk-toggleable__control:checked~label.sk-toggleable__label {background-color: #d4ebff;}#sk-container-id-1 div.sk-label input.sk-toggleable__control:checked~label.sk-toggleable__label {background-color: #d4ebff;}#sk-container-id-1 input.sk-hidden--visually {border: 0;clip: rect(1px 1px 1px 1px);clip: rect(1px, 1px, 1px, 1px);height: 1px;margin: -1px;overflow: hidden;padding: 0;position: absolute;width: 1px;}#sk-container-id-1 div.sk-estimator {font-family: monospace;background-color: #f0f8ff;border: 1px dotted black;border-radius: 0.25em;box-sizing: border-box;margin-bottom: 0.5em;}#sk-container-id-1 div.sk-estimator:hover {background-color: #d4ebff;}#sk-container-id-1 div.sk-parallel-item::after {content: \"\";width: 100%;border-bottom: 1px solid gray;flex-grow: 1;}#sk-container-id-1 div.sk-label:hover label.sk-toggleable__label {background-color: #d4ebff;}#sk-container-id-1 div.sk-serial::before {content: \"\";position: absolute;border-left: 1px solid gray;box-sizing: border-box;top: 0;bottom: 0;left: 50%;z-index: 0;}#sk-container-id-1 div.sk-serial {display: flex;flex-direction: column;align-items: center;background-color: white;padding-right: 0.2em;padding-left: 0.2em;position: relative;}#sk-container-id-1 div.sk-item {position: relative;z-index: 1;}#sk-container-id-1 div.sk-parallel {display: flex;align-items: stretch;justify-content: center;background-color: white;position: relative;}#sk-container-id-1 div.sk-item::before, #sk-container-id-1 div.sk-parallel-item::before {content: \"\";position: absolute;border-left: 1px solid gray;box-sizing: border-box;top: 0;bottom: 0;left: 50%;z-index: -1;}#sk-container-id-1 div.sk-parallel-item {display: flex;flex-direction: column;z-index: 1;position: relative;background-color: white;}#sk-container-id-1 div.sk-parallel-item:first-child::after {align-self: flex-end;width: 50%;}#sk-container-id-1 div.sk-parallel-item:last-child::after {align-self: flex-start;width: 50%;}#sk-container-id-1 div.sk-parallel-item:only-child::after {width: 0;}#sk-container-id-1 div.sk-dashed-wrapped {border: 1px dashed gray;margin: 0 0.4em 0.5em 0.4em;box-sizing: border-box;padding-bottom: 0.4em;background-color: white;}#sk-container-id-1 div.sk-label label {font-family: monospace;font-weight: bold;display: inline-block;line-height: 1.2em;}#sk-container-id-1 div.sk-label-container {text-align: center;}#sk-container-id-1 div.sk-container {/* jupyter's `normalize.less` sets `[hidden] { display: none; }` but bootstrap.min.css set `[hidden] { display: none !important; }` so we also need the `!important` here to be able to override the default hidden behavior on the sphinx rendered scikit-learn.org. See: https://github.com/scikit-learn/scikit-learn/issues/21755 */display: inline-block !important;position: relative;}#sk-container-id-1 div.sk-text-repr-fallback {display: none;}</style><div id=\"sk-container-id-1\" class=\"sk-top-container\"><div class=\"sk-text-repr-fallback\"><pre>LatentDirichletAllocation(max_iter=20, n_components=19, n_jobs=-1,\n",
       "                          random_state=42)</pre><b>In a Jupyter environment, please rerun this cell to show the HTML representation or trust the notebook. <br />On GitHub, the HTML representation is unable to render, please try loading this page with nbviewer.org.</b></div><div class=\"sk-container\" hidden><div class=\"sk-item\"><div class=\"sk-estimator sk-toggleable\"><input class=\"sk-toggleable__control sk-hidden--visually\" id=\"sk-estimator-id-1\" type=\"checkbox\" checked><label for=\"sk-estimator-id-1\" class=\"sk-toggleable__label sk-toggleable__label-arrow\">LatentDirichletAllocation</label><div class=\"sk-toggleable__content\"><pre>LatentDirichletAllocation(max_iter=20, n_components=19, n_jobs=-1,\n",
       "                          random_state=42)</pre></div></div></div></div></div>"
      ],
      "text/plain": [
       "LatentDirichletAllocation(max_iter=20, n_components=19, n_jobs=-1,\n",
       "                          random_state=42)"
      ]
     },
     "execution_count": 37,
     "metadata": {},
     "output_type": "execute_result"
    }
   ],
   "source": [
    "lda = LatentDirichletAllocation(n_components=19, max_iter=20,\n",
    "                                learning_method = 'batch',\n",
    "                                n_jobs=-1,verbose=0, random_state=42)\n",
    "lda.fit(tf)"
   ]
  },
  {
   "cell_type": "code",
   "execution_count": 38,
   "metadata": {},
   "outputs": [],
   "source": [
    "def print_top_words(lda, feature_names, n_top_words):\n",
    "    for topic_idx, topic in enumerate(lda.components_):\n",
    "        print()\n",
    "        message = f'Topic {topic_idx}: '\n",
    "        message += ', '.join([feature_names[i]\n",
    "                             for i in topic.argsort()[:-n_top_words - 1:-1]])\n",
    "        print(message)\n",
    "    print()"
   ]
  },
  {
   "cell_type": "code",
   "execution_count": 39,
   "metadata": {},
   "outputs": [
    {
     "name": "stdout",
     "output_type": "stream",
     "text": [
      "\n",
      "Topic 0: camp, bay, guantanamo, guantanamo bay, society, close, would, place, bay detection, detection camp, detention, detection, india, public, detention camp, bay detention, prisoners, could, need, world\n",
      "\n",
      "Topic 1: children, polygamy, need, media, woman, family, man, choice, better, society, print, one, support, print media, provide, cannot, help, marriage, much, social\n",
      "\n",
      "Topic 2: flag, burning, flag burning, country, speech, free, free speech, protected, right, burning flag, banned, every, prohibited, act, compared, deserve, men women, first, weaker, expression\n",
      "\n",
      "Topic 3: necessary, many, keep, country, naturopathic, want, committed, minority, person, protest, terrorists, medical, example, fact, safe, right, like, problems, medical treatment, burn\n",
      "\n",
      "Topic 4: rights, human, human rights, right, prohibit, prohibit flag, everyone, eu, everyone right, members, camps, would, countries, tax, migration, universal, declaration human, universal declaration, declaration, disrespectful\n",
      "\n",
      "Topic 5: women, men, combat, women combat, able, prohibit, prohibit women, physically, would, capable, fight, prohibited, wish, prohibited combat, perform, men would, may, strong, many, gender\n",
      "\n",
      "Topic 6: time, way, state, many, different, could, conditions, allow, ability, think, harm, field, marry, city, government, longer, animals, prevent, naturally, cure\n",
      "\n",
      "Topic 7: eu, urbanization, housing, even, may, problem, used, country, well, states, making, jobs, opportunities, food, money, india, member, member states, government, world\n",
      "\n",
      "Topic 8: equal, treatment, individual, make, end, must, europe, others, real, could, act, right, also, safe, years, results, rights, fair, resources, threat\n",
      "\n",
      "Topic 9: guantanamo, bay, guantanamo bay, important, prisoners, without, marriage, closed, torture, due, symbol, place, held, trial, marriage important, inhumane, abandon marriage, still, many, abandon\n",
      "\n",
      "Topic 10: europe, choose, society, marriage, chance, benefits, couples, get, eu, resources, also, order, culture, everyone, discriminated, better, married, gives, continue, want\n",
      "\n",
      "Topic 11: naturopathy, medicine, natural, ban, ban naturopathy, dangerous, treatment, banned, evidence, proven, effective, many, conventional, treatments, could, side, way, works, alternative, help\n",
      "\n",
      "Topic 12: urbanization, live, pollution, areas, fight, many, together, leads, fight urbanization, marriage, provides, need, urbanization leads, work, money, families, environment, nature, urban, living\n",
      "\n",
      "Topic 13: form, without, better, want, end, may, dad, kids, long, could, color, end racial, values, family, community, new, help, considered, subsidizing, responsible\n",
      "\n",
      "Topic 14: home, stay, stay home, dads, home dads, subsidize, subsidize stay, would, children, subsidized, work, moms, provide, income, gender, help, poverty, naturopathy banned, family, green\n",
      "\n",
      "Topic 15: polygamy, freedom, use, makes, practice, life, way, long, illegal, freedom speech, right, religion, marriage, needs, abuse, allows, legalized, would, law, must\n",
      "\n",
      "Topic 16: action, affirmative, affirmative action, end, would, european, end affirmative, minorities, discrimination, still, needed, qualified, countries, way, need, may, society, get, past, level\n",
      "\n",
      "Topic 17: racial, profiling, racial profiling, certain, crime, crimes, race, police, helps, wrong, commit, discrimination, races, criminals, groups, group, one, innocent, unfairly, effective\n",
      "\n",
      "Topic 18: marriage, polygamy, legalize polygamy, legalize, relationship, divorce, lives, legal, love, research, often, relationships, without, mass, outdated, another, less, lead, families, marriages\n",
      "\n"
     ]
    }
   ],
   "source": [
    "n_top_words = 20\n",
    "tf_feature_names = vectorizer.get_feature_names_out() \n",
    "print_top_words(lda, tf_feature_names, n_top_words)"
   ]
  },
  {
   "cell_type": "code",
   "execution_count": 40,
   "metadata": {},
   "outputs": [
    {
     "name": "stdout",
     "output_type": "stream",
     "text": [
      "Requirement already satisfied: pyLDAvis in c:\\users\\asus\\anaconda3\\lib\\site-packages (3.4.1)\n",
      "Requirement already satisfied: numpy>=1.24.2 in c:\\users\\asus\\anaconda3\\lib\\site-packages (from pyLDAvis) (1.24.3)\n",
      "Requirement already satisfied: scipy in c:\\users\\asus\\anaconda3\\lib\\site-packages (from pyLDAvis) (1.11.1)\n",
      "Requirement already satisfied: pandas>=2.0.0 in c:\\users\\asus\\anaconda3\\lib\\site-packages (from pyLDAvis) (2.0.3)\n",
      "Requirement already satisfied: joblib>=1.2.0 in c:\\users\\asus\\anaconda3\\lib\\site-packages (from pyLDAvis) (1.2.0)\n",
      "Requirement already satisfied: jinja2 in c:\\users\\asus\\anaconda3\\lib\\site-packages (from pyLDAvis) (3.1.2)\n",
      "Requirement already satisfied: numexpr in c:\\users\\asus\\anaconda3\\lib\\site-packages (from pyLDAvis) (2.8.4)\n",
      "Requirement already satisfied: funcy in c:\\users\\asus\\anaconda3\\lib\\site-packages (from pyLDAvis) (2.0)\n",
      "Requirement already satisfied: scikit-learn>=1.0.0 in c:\\users\\asus\\anaconda3\\lib\\site-packages (from pyLDAvis) (1.3.0)\n",
      "Requirement already satisfied: gensim in c:\\users\\asus\\anaconda3\\lib\\site-packages (from pyLDAvis) (4.3.0)\n",
      "Requirement already satisfied: setuptools in c:\\users\\asus\\anaconda3\\lib\\site-packages (from pyLDAvis) (68.0.0)\n",
      "Requirement already satisfied: python-dateutil>=2.8.2 in c:\\users\\asus\\anaconda3\\lib\\site-packages (from pandas>=2.0.0->pyLDAvis) (2.8.2)\n",
      "Requirement already satisfied: pytz>=2020.1 in c:\\users\\asus\\anaconda3\\lib\\site-packages (from pandas>=2.0.0->pyLDAvis) (2023.3.post1)\n",
      "Requirement already satisfied: tzdata>=2022.1 in c:\\users\\asus\\anaconda3\\lib\\site-packages (from pandas>=2.0.0->pyLDAvis) (2023.3)\n",
      "Requirement already satisfied: threadpoolctl>=2.0.0 in c:\\users\\asus\\anaconda3\\lib\\site-packages (from scikit-learn>=1.0.0->pyLDAvis) (2.2.0)\n",
      "Requirement already satisfied: smart-open>=1.8.1 in c:\\users\\asus\\anaconda3\\lib\\site-packages (from gensim->pyLDAvis) (5.2.1)\n",
      "Requirement already satisfied: FuzzyTM>=0.4.0 in c:\\users\\asus\\anaconda3\\lib\\site-packages (from gensim->pyLDAvis) (2.0.5)\n",
      "Requirement already satisfied: MarkupSafe>=2.0 in c:\\users\\asus\\anaconda3\\lib\\site-packages (from jinja2->pyLDAvis) (2.1.1)\n",
      "Requirement already satisfied: pyfume in c:\\users\\asus\\anaconda3\\lib\\site-packages (from FuzzyTM>=0.4.0->gensim->pyLDAvis) (0.2.25)\n",
      "Requirement already satisfied: six>=1.5 in c:\\users\\asus\\anaconda3\\lib\\site-packages (from python-dateutil>=2.8.2->pandas>=2.0.0->pyLDAvis) (1.16.0)\n",
      "Requirement already satisfied: simpful in c:\\users\\asus\\anaconda3\\lib\\site-packages (from pyfume->FuzzyTM>=0.4.0->gensim->pyLDAvis) (2.11.1)\n",
      "Requirement already satisfied: fst-pso in c:\\users\\asus\\anaconda3\\lib\\site-packages (from pyfume->FuzzyTM>=0.4.0->gensim->pyLDAvis) (1.8.1)\n",
      "Requirement already satisfied: miniful in c:\\users\\asus\\anaconda3\\lib\\site-packages (from fst-pso->pyfume->FuzzyTM>=0.4.0->gensim->pyLDAvis) (0.0.6)\n",
      "Note: you may need to restart the kernel to use updated packages.\n"
     ]
    }
   ],
   "source": [
    "pip install pyLDAvis"
   ]
  },
  {
   "cell_type": "code",
   "execution_count": 41,
   "metadata": {},
   "outputs": [],
   "source": [
    "import pyLDAvis\n",
    "import pyLDAvis.lda_model"
   ]
  },
  {
   "cell_type": "code",
   "execution_count": 42,
   "metadata": {},
   "outputs": [],
   "source": [
    "pyLDAvis.enable_notebook()"
   ]
  },
  {
   "cell_type": "code",
   "execution_count": 43,
   "metadata": {},
   "outputs": [
    {
     "data": {
      "text/html": [
       "\n",
       "<link rel=\"stylesheet\" type=\"text/css\" href=\"https://cdn.jsdelivr.net/gh/bmabey/pyLDAvis@3.4.0/pyLDAvis/js/ldavis.v1.0.0.css\">\n",
       "\n",
       "\n",
       "<div id=\"ldavis_el265219265388174089987104407\" style=\"background-color:white;\"></div>\n",
       "<script type=\"text/javascript\">\n",
       "\n",
       "var ldavis_el265219265388174089987104407_data = {\"mdsDat\": {\"x\": [-0.09772061757327656, -0.1204151311646843, 0.031172698306694276, -0.193972660117256, 0.09277925345989864, 0.002222793891092409, -0.2864882828097215, 0.1265667652211139, -0.027345385438350172, 0.0846000440533261, 0.012338749819704906, 0.1311916517317839, -0.09246497286089672, 0.0552583989493166, 0.10189436100325, 0.02227090873330322, 0.003361493889826373, 0.08408826786047019, 0.07066166304440313], \"y\": [-0.013167761759153825, 0.007731315803234928, -0.0023227752040238464, 0.03631243828212399, 0.1649496766837108, 0.1563027434707719, -0.10184637723163467, -0.1539916618349582, -0.1691956180344514, -0.10032759303896802, 0.03694700245234014, 0.14443572529370785, 0.1735918211028994, -0.08576471870138391, -0.07061073185554638, -0.054955096360483915, 0.0819618653177219, -0.12304475681967601, 0.07299450243376948], \"topics\": [1, 2, 3, 4, 5, 6, 7, 8, 9, 10, 11, 12, 13, 14, 15, 16, 17, 18, 19], \"cluster\": [1, 1, 1, 1, 1, 1, 1, 1, 1, 1, 1, 1, 1, 1, 1, 1, 1, 1, 1], \"Freq\": [8.01729405668632, 6.7910000857941535, 6.636595788535861, 6.560763939614578, 6.5594313794601415, 6.133496084156389, 6.043073050287906, 5.2964820490456885, 5.2013244407493815, 5.068214866112575, 4.831351476576302, 4.71783073411627, 4.713326797967362, 4.5764128724126785, 4.159253111263926, 3.7517830221882695, 3.7423192886804046, 3.640839687487121, 3.5592072688646788]}, \"tinfo\": {\"Term\": [\"women\", \"naturopathy\", \"flag\", \"action\", \"burning\", \"home\", \"affirmative\", \"affirmative action\", \"racial\", \"stay\", \"profiling\", \"racial profiling\", \"urbanization\", \"stay home\", \"flag burning\", \"polygamy\", \"men\", \"combat\", \"guantanamo\", \"bay\", \"dads\", \"guantanamo bay\", \"marriage\", \"children\", \"home dads\", \"eu\", \"rights\", \"human\", \"medicine\", \"country\", \"action\", \"affirmative\", \"affirmative action\", \"end affirmative\", \"qualified\", \"action still\", \"reverse\", \"action helps\", \"action needed\", \"broadcasting\", \"broadcasting license\", \"license\", \"european level\", \"minorities\", \"ways\", \"otherwise\", \"institutions\", \"longer needed\", \"yes\", \"past\", \"end\", \"lack\", \"contribute\", \"inequality\", \"promote\", \"needed\", \"discrimination\", \"level\", \"commission\", \"rich\", \"cost\", \"european\", \"still\", \"would\", \"countries\", \"groups\", \"job\", \"helps\", \"way\", \"may\", \"need\", \"get\", \"society\", \"able\", \"many\", \"non\", \"help\", \"naturopathy\", \"medicine\", \"ban naturopathy\", \"conventional\", \"side effects\", \"paper\", \"natural\", \"illnesses\", \"conventional medicine\", \"naturopathy dangerous\", \"piece\", \"ailments\", \"healing\", \"piece paper\", \"side\", \"illness\", \"works\", \"effects\", \"science\", \"ban\", \"alternative\", \"roles\", \"treat\", \"treatments\", \"lifestyle\", \"basis\", \"ineffective\", \"evidence\", \"ill\", \"local\", \"scientific\", \"effective\", \"dangerous\", \"banned\", \"proven\", \"treatment\", \"health\", \"could\", \"many\", \"based\", \"way\", \"help\", \"like\", \"better\", \"work\", \"housing\", \"problem\", \"member states\", \"negative\", \"placebo\", \"decisions\", \"foreign\", \"member\", \"third\", \"making\", \"enter\", \"indian\", \"reason\", \"states\", \"young\", \"eu\", \"levels\", \"turn\", \"jobs\", \"play\", \"opportunities\", \"effect\", \"pushbacks\", \"current\", \"times\", \"among\", \"left\", \"old\", \"drugs\", \"year\", \"food\", \"economy\", \"used\", \"education\", \"even\", \"well\", \"india\", \"may\", \"access\", \"money\", \"urbanization\", \"country\", \"harm\", \"government\", \"world\", \"change\", \"get\", \"many\", \"men\", \"combat\", \"women combat\", \"women\", \"prohibit women\", \"capable\", \"wish\", \"prohibited combat\", \"perform\", \"men would\", \"strength\", \"women prohibited\", \"women physically\", \"emotionally\", \"physically\", \"military\", \"situations\", \"peace\", \"war\", \"equally\", \"greater\", \"thus\", \"dads stay\", \"knowledge\", \"shown\", \"sex\", \"strong\", \"prohibited\", \"progress\", \"service\", \"able\", \"prohibit\", \"risk\", \"marriage outdated\", \"fight\", \"would\", \"gender\", \"go\", \"may\", \"many\", \"make\", \"part\", \"bay detection\", \"detection camp\", \"bay detention\", \"detention camp\", \"expensive\", \"certain races\", \"detection\", \"camp\", \"place keep\", \"immoral\", \"cars\", \"potentially\", \"close\", \"serves\", \"close guantanamo\", \"detention\", \"detainees\", \"transport\", \"prisons\", \"keeps\", \"safety\", \"public\", \"cases\", \"serves purpose\", \"enforcement\", \"law enforcement\", \"purpose\", \"terrorist\", \"destroy\", \"domestic\", \"remain\", \"case\", \"racism\", \"india\", \"place\", \"society\", \"bay\", \"guantanamo bay\", \"guantanamo\", \"terrorists\", \"prisoners\", \"tax\", \"keep\", \"world\", \"would\", \"could\", \"need\", \"law\", \"way\", \"country\", \"flag\", \"burning\", \"flag burning\", \"free speech\", \"burning flag\", \"deserve\", \"men women\", \"speech protected\", \"amendment\", \"first amendment\", \"weaker men\", \"women capable\", \"surveillance\", \"protected\", \"speech\", \"burning prohibited\", \"girls\", \"compared\", \"expression\", \"weaker\", \"kinds\", \"free\", \"value\", \"first\", \"prohibiting\", \"laws\", \"lost\", \"highest\", \"opportunity\", \"number\", \"every\", \"country\", \"violence\", \"prohibited\", \"banned\", \"act\", \"climate\", \"right\", \"respect\", \"refugees\", \"stay\", \"stay home\", \"dads\", \"home dads\", \"subsidize\", \"home\", \"subsidize stay\", \"moms\", \"naturopathy banned\", \"home moms\", \"subsidized\", \"overcrowding\", \"wife\", \"energy\", \"nuclear\", \"green\", \"promoting\", \"income\", \"gender\", \"ensures\", \"poverty\", \"sustainable\", \"always\", \"working\", \"polygamous\", \"region\", \"potential\", \"developed\", \"trust\", \"provide\", \"equality\", \"raising\", \"children\", \"would\", \"work\", \"family\", \"help\", \"non\", \"means\", \"world\", \"much\", \"legalize\", \"legalize polygamy\", \"divorce\", \"love\", \"relationship\", \"mass migration\", \"false\", \"outdated institution\", \"ended\", \"damage\", \"ethnicity\", \"relationships\", \"rates\", \"hurts\", \"proper\", \"risks\", \"disrespect\", \"commitment\", \"wives\", \"shows\", \"mass\", \"particular\", \"hope\", \"research\", \"unpaid\", \"increasing\", \"lives\", \"marriages\", \"females\", \"deny\", \"another\", \"getting\", \"marriage\", \"legal\", \"institution\", \"outdated\", \"polygamy\", \"often\", \"causes\", \"lead\", \"poverty\", \"less\", \"families\", \"without\", \"individuals\", \"benefits\", \"work\", \"print\", \"print media\", \"media\", \"raise children\", \"stable\", \"fathers\", \"man\", \"take care\", \"jealousy\", \"children\", \"digital\", \"woman\", \"choice\", \"afford\", \"age\", \"raise\", \"legalizing\", \"mothers\", \"providing\", \"secure\", \"hurting\", \"raising\", \"personal\", \"constitution\", \"parents\", \"places\", \"future\", \"involved\", \"patients\", \"justice\", \"family\", \"need\", \"provide\", \"support\", \"polygamy\", \"social\", \"cannot\", \"care\", \"better\", \"one\", \"much\", \"take\", \"society\", \"help\", \"state\", \"marriage\", \"many\", \"fight urbanization\", \"urbanization leads\", \"rural\", \"live together\", \"pollution\", \"grow\", \"urbanization provides\", \"spaces\", \"urbanization\", \"areas\", \"nature\", \"urban\", \"companies\", \"traditional medicine\", \"air pollution\", \"provides\", \"focus\", \"rely\", \"healthcare\", \"together\", \"practical\", \"leads\", \"fight\", \"air\", \"environment\", \"cities\", \"carry\", \"develop\", \"duty\", \"live\", \"families\", \"lot\", \"living\", \"money\", \"many\", \"work\", \"need\", \"marriage\", \"legal\", \"means\", \"good\", \"also\", \"prohibit flag\", \"everyone right\", \"camps\", \"declaration\", \"declaration human\", \"universal\", \"universal declaration\", \"disrespectful\", \"violation\", \"seek\", \"human rights\", \"right seek\", \"burning disrespectful\", \"including\", \"immigration\", \"enjoy\", \"burden\", \"rights\", \"human\", \"says\", \"subsidy\", \"members\", \"human right\", \"basic\", \"migration\", \"bodies\", \"control\", \"else\", \"asylum\", \"prohibit\", \"everyone\", \"right\", \"tax\", \"eu\", \"countries\", \"single\", \"would\", \"pay\", \"european\", \"conditions\", \"feel\", \"closed\", \"trial\", \"without trial\", \"torture\", \"symbol\", \"held\", \"marriage important\", \"inhumane\", \"hold\", \"democracy\", \"guantanamo\", \"essential\", \"violations\", \"guantanamo bay\", \"bay\", \"important\", \"prisoners\", \"violates\", \"prison\", \"towards\", \"abandon marriage\", \"open\", \"abandon\", \"kept\", \"process\", \"information\", \"vaccination\", \"religious\", \"terrorist\", \"international\", \"due\", \"without\", \"place\", \"go\", \"us\", \"marriage\", \"still\", \"must\", \"human\", \"rights\", \"many\", \"dangerous\", \"racial\", \"profiling\", \"racial profiling\", \"races\", \"profiling proven\", \"crime\", \"certain\", \"police\", \"unfairly\", \"race\", \"group\", \"stopped\", \"area\", \"destroys\", \"commit\", \"crimes\", \"innocent\", \"wrong\", \"preventing\", \"tool\", \"actions\", \"groups\", \"helps\", \"criminal\", \"nothing\", \"minority\", \"promotes\", \"trying\", \"criminals\", \"likely\", \"discrimination\", \"effective\", \"proven\", \"one\", \"minorities\", \"way\", \"used\", \"based\", \"good\", \"form\", \"ability\", \"marry\", \"city\", \"playing\", \"playing field\", \"different\", \"naturally\", \"field\", \"violent\", \"prevent\", \"cure\", \"chemicals\", \"stay together\", \"animals\", \"see\", \"fear\", \"hurt\", \"loss\", \"conditions\", \"think\", \"growth\", \"allow\", \"potential\", \"mental\", \"physical\", \"status\", \"associated\", \"time\", \"thing\", \"state\", \"harm\", \"religious\", \"increase\", \"might\", \"could\", \"way\", \"longer\", \"many\", \"government\", \"traditional\", \"often\", \"etc\", \"good\", \"non\", \"one\", \"marriage\", \"freedom speech\", \"religion\", \"reduces\", \"parties\", \"legalized\", \"practice\", \"freedom\", \"required\", \"behavior\", \"flags\", \"spouse\", \"polygamy\", \"makes\", \"use\", \"illegal\", \"hate\", \"healthy\", \"abuse\", \"anyone\", \"long\", \"sense\", \"harmful\", \"allows\", \"females\", \"fundamental\", \"charge\", \"great\", \"across\", \"forced\", \"according\", \"nation\", \"marriages\", \"changes\", \"needs\", \"death\", \"life\", \"two\", \"law\", \"way\", \"continue\", \"right\", \"must\", \"marriage\", \"state\", \"would\", \"often\", \"live\", \"work\", \"partner\", \"hard\", \"burning form\", \"kids\", \"dad\", \"color\", \"responsible\", \"parent\", \"worth\", \"form\", \"said\", \"sometimes\", \"end racial\", \"couple\", \"absolutely\", \"subsidizing stay\", \"considered\", \"subsidizing\", \"values\", \"meaningful\", \"spending\", \"unconstitutional\", \"takes\", \"costly\", \"let\", \"types\", \"concept\", \"community\", \"waste\", \"pass\", \"give\", \"want\", \"better\", \"without\", \"long\", \"new\", \"end\", \"may\", \"family\", \"could\", \"law\", \"help\", \"life\", \"get\", \"human\", \"medical treatment\", \"burn\", \"forms\", \"useful\", \"requires\", \"treating\", \"necessary\", \"committed\", \"naturopathic medicine\", \"matter\", \"things\", \"naturopathic\", \"keep\", \"problems\", \"wants\", \"minority\", \"protest\", \"mean\", \"example\", \"fact\", \"something\", \"studies\", \"emotional\", \"remains\", \"set\", \"full\", \"terrorists\", \"worst\", \"behind\", \"going\", \"person\", \"many\", \"medical\", \"want\", \"country\", \"safe\", \"criminals\", \"like\", \"us\", \"right\", \"treatment\", \"european\", \"chance\", \"couples\", \"culture\", \"choose\", \"discriminated\", \"success\", \"self\", \"center\", \"benefits\", \"get married\", \"workforce\", \"point\", \"abandoned\", \"creating\", \"obtain\", \"europe\", \"efficient\", \"whatever\", \"gives\", \"today\", \"order\", \"communities\", \"recent\", \"products\", \"rather\", \"resources\", \"married\", \"diversity\", \"limit\", \"consumers\", \"terrorism\", \"idea\", \"society\", \"continue\", \"marriage\", \"everyone\", \"get\", \"also\", \"stop\", \"eu\", \"better\", \"woman\", \"want\", \"make\", \"help\", \"use\", \"far\", \"equal rights\", \"racist\", \"individual\", \"regardless\", \"could help\", \"school\", \"equal\", \"improve\", \"real\", \"within\", \"safe place\", \"causing\", \"results\", \"several\", \"others\", \"speed\", \"possible\", \"threat\", \"type\", \"attacks\", \"taken\", \"decades\", \"practices\", \"try\", \"treatment\", \"death\", \"remedies\", \"national\", \"lower\", \"modern\", \"years\", \"fair\", \"act\", \"make\", \"must\", \"end\", \"europe\", \"high\", \"safe\", \"could\", \"also\", \"resources\", \"right\", \"rights\", \"every\", \"security\", \"one\", \"needs\"], \"Freq\": [149.0, 127.0, 116.0, 115.0, 100.0, 104.0, 111.0, 109.0, 88.0, 92.0, 84.0, 81.0, 94.0, 83.0, 82.0, 105.0, 82.0, 78.0, 85.0, 79.0, 64.0, 74.0, 125.0, 62.0, 53.0, 82.0, 59.0, 57.0, 40.0, 74.0, 114.21081435503334, 110.49823014321656, 108.64193803655482, 20.468062965880222, 13.042894537175162, 6.545872165467367, 6.545872163201395, 5.617726110526796, 4.689580058101907, 4.689580057986957, 4.689580057986957, 4.689580057986957, 4.6895800544450585, 19.53991691590245, 5.6177261015650375, 5.617726088099168, 7.474018218853392, 4.689580053813305, 3.761433996386643, 9.238442235518816, 30.75341701519504, 6.022056642965587, 3.7614339961475136, 3.7614340047543235, 3.7614340044029704, 13.894200014261934, 17.382495702352127, 8.955320009457036, 2.833287945618869, 2.833287944761231, 8.402164250903255, 20.473214296961686, 14.796310926330381, 25.3323782879224, 11.704165159225537, 6.955691888827374, 7.587753134027695, 7.852442673261359, 11.430905853276832, 10.094453193588414, 11.185344821814999, 9.358184972411724, 9.977477489866482, 8.077659872213177, 8.947522292742462, 6.24218904141204, 6.517376673301621, 127.0303786290374, 39.61526866517969, 26.733041936172384, 11.09033804738943, 8.329860893075237, 7.409701831901521, 31.867805172991194, 6.489542787307636, 6.489542787033027, 6.489542786300455, 6.489542782618374, 5.569383733179337, 5.569383732402981, 5.569383729952141, 10.099578686300287, 4.649224680997748, 9.25001994464691, 8.329860894312182, 8.313811105854898, 31.825092033015025, 9.237944556950964, 6.376659180632502, 8.329860884344058, 11.035526498042623, 7.379323027298298, 4.649224675858398, 4.649224690970688, 12.8362828725888, 3.729065612651342, 7.409701836454144, 7.552168344813119, 12.17703791292107, 17.15570714690094, 13.094204848807129, 12.502034574900202, 13.125970043121995, 8.911314828757826, 10.520107633379395, 11.220777866484354, 8.385482397508678, 9.88885651185675, 9.135578839477361, 8.543525150922127, 8.533250864762271, 7.878243091161809, 14.251204204193693, 13.304445883712077, 8.570654279391789, 7.623895949329591, 5.730379303556512, 7.623895954788064, 6.677137636108634, 9.517412606743056, 4.6200260757533265, 11.115086773651676, 5.730379315665207, 3.7912280476729703, 7.531737339380618, 11.803016683983481, 5.540387257441503, 52.52687881900193, 4.783620989280585, 4.783620980572188, 11.07554229967521, 4.613365234852169, 10.11233898951377, 4.356810859091986, 3.8368626706212523, 3.8027587093899307, 3.7418190792816928, 3.738734262613454, 4.783620995552585, 5.705462489818747, 5.574467425485658, 4.021985260843879, 9.816042375895897, 6.895779171730227, 13.2210800325465, 6.655963722703693, 14.010888135842222, 12.227661285112335, 9.727813064129291, 13.717083862540154, 7.344442008599401, 9.749720865715219, 14.941204075298955, 13.188104573880379, 6.734579699145305, 8.352393803183695, 7.960734088801143, 6.53586085745342, 7.572438928377783, 7.344421349062126, 81.45014411241719, 77.75007779851954, 26.8741659013962, 144.13420239544212, 15.773966942133663, 11.148884040826339, 9.29885085404327, 7.448817722475709, 7.448817722377866, 7.448817721013124, 6.523801140875783, 5.598784562486976, 5.598784562312397, 5.598784561936944, 15.667415185248956, 4.673767979760189, 6.52380113690165, 5.598784563765067, 6.523801142182154, 4.673767985737975, 4.67376796205793, 5.506005519423536, 3.246450373377518, 3.7487513916623842, 3.7487513734484996, 5.236091126127905, 6.920716476035035, 10.237084748899948, 2.8237348202734736, 2.823734803894052, 19.95564435873028, 15.896452716892812, 6.312597092207427, 5.721521470640538, 10.486672222931963, 14.728130958856596, 6.575310267417286, 6.52380113144671, 7.362082847773, 6.714265897861726, 5.691547299391117, 5.598784564467482, 13.277900840180438, 13.277900840180438, 11.388162144556421, 11.388162144556421, 6.663815387935365, 6.663815384980174, 12.913194826532212, 30.391792813179816, 4.774076704173592, 4.774076688791927, 6.514306660793499, 5.718946044595276, 18.594446749807773, 6.419645485640264, 8.354780923095745, 13.232263213762922, 4.774076691958953, 3.829207357977137, 3.8292073565968505, 5.71894605283974, 4.774076703277734, 12.139316354590857, 8.448087315790067, 3.3882878507160323, 8.414506402991407, 8.414506402991407, 6.419645501725708, 4.861073323538174, 2.8843380067018383, 2.884338007349044, 4.342601226019191, 3.8292073535205238, 5.99637023269777, 12.874032217853648, 13.587849385149573, 23.98095691336996, 26.787535864964447, 24.551003705508037, 26.158137652542173, 8.528761512424337, 10.68481762169186, 8.553554108791053, 8.862285047472728, 10.137676306570794, 13.918160432178839, 10.641215914481482, 10.246932597178478, 8.349938996952481, 8.715412358456007, 8.131098428607647, 115.43140230460303, 99.61284356655301, 81.93327791888031, 18.6590429681167, 10.28451187114344, 7.49300148613477, 7.493001483231803, 6.562498050837823, 5.631994596065524, 5.631994596065524, 5.631994587031303, 5.63199457903461, 5.631994577372466, 15.851557926740412, 27.62916299956243, 4.701491139457638, 4.701491128077786, 7.493001493697629, 7.344770609653965, 7.36217536500664, 3.770987660050667, 26.741997702096274, 4.701491141347376, 7.465047133646869, 3.255921616118327, 7.285680520735379, 2.840484224698906, 2.840484229482252, 2.8404842008624756, 3.7709876734789685, 9.622018292039726, 33.42143336070228, 6.459114918572941, 8.410209273336072, 9.92778862282133, 8.151493369456821, 6.562498062834752, 12.767982417832497, 5.976762742227571, 5.631994599437125, 91.70350074097918, 82.1562869693268, 64.01658079396279, 52.5599242627395, 35.37493946411769, 101.1622438786677, 29.646611199357082, 9.597462268776434, 6.733298116356741, 5.77857675875086, 12.942031880696453, 4.823855373381267, 3.8691339849776405, 5.7785767615105135, 4.823855376756669, 6.373824102507398, 2.914412594329637, 8.93414762527004, 8.582824241012228, 2.914412626784079, 7.454362922707206, 2.462863090244625, 4.776388339438581, 5.427500555482588, 2.914412625301111, 2.9144126063740194, 3.242396641754035, 1.9596912475073942, 1.9596912425465367, 9.334973031765916, 4.823855392260054, 3.078886238974466, 13.464910866165209, 17.051218356645236, 10.643662252358707, 6.722532932253828, 7.766990687225637, 4.784639216801788, 4.41818927770362, 5.149772557740896, 4.600331917723687, 20.53643272228623, 20.53643272228623, 14.017708253275405, 12.155215545988312, 15.73938314521281, 6.56773743254081, 4.705244726327836, 4.705244725907974, 4.705244718754924, 4.7052447184838755, 4.705244714697622, 10.103881023665265, 5.582675932413744, 4.7052447281922225, 3.7739983847012883, 3.7739983741538072, 3.7739983490387212, 5.636491079506336, 3.6301834405669635, 6.567737431509933, 9.30510000863242, 4.570807703407278, 4.476442650883234, 12.034570108343555, 3.7739983757680844, 3.6165110506623965, 13.932593547875348, 6.8032447942673535, 2.8427520062713065, 2.842751996211801, 8.95162422438752, 5.636491075473787, 57.1063664363536, 12.671813749632523, 6.501099593108845, 9.231412720602155, 24.052452547821346, 10.684471578898368, 6.663869904668842, 7.654387692608029, 6.74905868693777, 8.169275372792953, 6.851983144369249, 9.47433242710662, 5.4092805519615705, 5.727059304688561, 5.680834340936331, 11.249822671896489, 10.316431270854327, 18.71040804631826, 5.649474264118874, 5.6494742631550565, 5.649474261551705, 15.822850644661527, 4.716082864501528, 4.716082861577297, 48.53800059167595, 8.449648471304368, 17.575244412956025, 13.959652009732523, 7.433671464246321, 4.6608585922098085, 6.582865669198747, 3.782691459227954, 3.782691461079333, 3.6638181343137615, 3.645432223581121, 4.716082857201206, 5.4886752497985105, 6.4806989749991155, 3.7826914310702087, 7.879601999523853, 5.649474253867098, 4.498346291977769, 5.276922784321567, 4.346541650188044, 3.7826914553830293, 16.993484867618363, 22.43984913397703, 10.163692935064462, 10.43245283644887, 23.152843741693598, 8.50380787935572, 9.702171771263789, 8.483264322565434, 13.409158696990877, 10.98193337277738, 8.879839317027415, 8.483968976872506, 11.626129149645303, 8.964937462514383, 6.984272976754202, 8.905246200141027, 6.388391528266416, 13.057142588788361, 10.269662709741711, 7.482182829470719, 6.55302286973317, 18.609596007699363, 5.6238628955251695, 4.694702952871822, 4.694702949191066, 78.3503255829313, 18.526929351174505, 8.339533257337925, 8.227061260336258, 7.391474189359957, 4.6947029467789765, 4.694702954319651, 11.19882266963868, 3.765542992086445, 4.694702942331126, 4.665322651592193, 15.113421314217337, 3.7655429938074323, 14.400777820829616, 17.34926353364895, 5.512221129066115, 8.761366772017817, 6.250567247245518, 2.8363830340629668, 3.765542997849486, 2.7123393920562777, 18.756225483746384, 8.815634947832786, 6.891789778675817, 7.69614815665641, 9.274451540677989, 16.29988974143484, 10.25933043396298, 10.723035176747548, 11.830948460211804, 6.8978805731198225, 5.999033466513996, 6.127335226920552, 5.788951542122064, 17.26040927834956, 10.567597518307851, 8.655365587707866, 7.699249622974998, 7.699249622974998, 7.699249622974998, 7.699249622974998, 7.6992496171164975, 7.699249613181246, 6.743133651233357, 26.04806145695685, 4.830901723397814, 4.830901718828404, 4.830901714678525, 7.658299572834707, 5.787017688360672, 4.830901717164946, 40.90567194356553, 39.05610012791245, 3.8747857617209607, 3.8747857498247718, 9.611481561195147, 4.8309017221792585, 4.545664303781788, 8.198446998585304, 4.351404772439444, 4.830901729808192, 4.830901727313452, 5.787017690952834, 18.08992145425237, 16.72624107766124, 18.39615070683907, 8.361488776449663, 12.901424401532877, 8.494778738144866, 5.787017693959726, 8.549490257740384, 5.578064123636984, 6.449003131527, 5.652669299828153, 5.666713557546392, 14.141582627861972, 8.504728014899959, 5.686300707511356, 10.383679554328763, 9.363729287914634, 8.504728018254774, 7.413083865005825, 7.359577337383202, 4.746824939230545, 4.74682493021543, 58.64289173641056, 3.807349153351897, 3.8073491646031234, 48.96714248364801, 51.44075592250939, 21.236607687440536, 17.659339571083656, 3.80734917051126, 3.8073491675856315, 3.8073491670504582, 7.124788542169131, 6.367726388558796, 6.951466552492526, 3.594315681537926, 4.746824936148411, 3.8073491688044765, 3.7835378631065977, 6.3959798400595025, 3.7208491520813136, 2.867873402400412, 10.336894102910815, 14.883931242784, 8.87078720846115, 6.4593648949991485, 6.898550823943094, 14.665480220111192, 7.065744294329489, 6.848494386714927, 6.66124895139006, 6.249799720697848, 7.056450658095306, 4.854998890126048, 87.30429430357133, 83.59129689603242, 80.80654884058926, 8.403099393513271, 4.6901019877354315, 22.213617160722496, 26.80253830446534, 13.04434617251885, 6.507063182569016, 13.52294212896735, 7.415522314479163, 3.761852625527388, 3.7618526285923073, 3.722466676975534, 9.887889157344853, 16.363963182747447, 6.546600695686638, 10.020436809905584, 2.833603290432862, 3.7618526447161975, 3.761852622553283, 7.831129869135093, 10.599616601269565, 3.6330714100819703, 4.6159578139225275, 5.618351343892724, 2.768983023068167, 2.8336032672979505, 8.315687995887826, 3.7048802861158316, 8.48250670376765, 6.269335065194168, 5.887744455783811, 6.570924010173377, 4.690101982846667, 5.984801096331202, 4.668090883330759, 4.377489323488953, 4.272975582142786, 3.832333308115775, 9.558740976352619, 7.657001938307724, 7.657001937275525, 4.8043933721021554, 4.8043933721021554, 13.152023847882436, 6.706132420808514, 7.657001943856599, 4.804393372778586, 6.706132423195273, 6.706132409517996, 4.702518505964419, 4.585786991963883, 6.706132434777779, 4.804393365898613, 4.777871401998679, 3.8535238431989076, 3.8535238496205, 10.391247323644032, 8.586314899354718, 5.626555135310178, 10.010161380665918, 4.477732598996839, 2.9026543161662492, 5.439934699942315, 3.6239016784595295, 2.7504140675373185, 15.530475940094748, 4.448385860266291, 13.522536351507558, 8.152222063813984, 6.625559809808721, 5.319437409165863, 6.1215008913836835, 11.33630952965361, 13.87170434136602, 7.4423801052174055, 13.499969692102017, 7.654817551514192, 5.797081311997458, 6.460268607348889, 5.681539239236862, 6.418970308314909, 5.506259062436869, 5.921046791120885, 5.985683337873648, 9.416833475710975, 8.480080410636988, 4.733068133217113, 4.733068126560493, 7.5433273409039465, 12.31111919411077, 25.01580533633041, 4.733068129325249, 4.4515633324382335, 5.6698211920511605, 4.733068135020822, 57.6333405924734, 13.699848645782849, 17.374426744316253, 10.017154967860034, 3.7963150719122467, 4.570456403899466, 8.067712467218994, 3.8802152860346464, 10.694695849721334, 3.7963150600631987, 3.765330660573738, 8.032808784027383, 1.9228089322213717, 1.922808915205647, 1.9228089257690433, 1.9228089238238686, 1.9228089300944158, 1.9228089296189959, 1.9228089300083202, 3.7963150349523938, 4.343431776381349, 2.8595619957387175, 8.13126947077293, 2.5347002673512327, 11.054797924848561, 3.7963150687852725, 6.657823288820408, 11.038703441114857, 4.686573746029368, 9.064452049810845, 6.317687391258503, 8.37487793137381, 5.243507381348734, 6.890344902307693, 4.93155782161071, 4.8355355950457675, 4.808693491749023, 5.837616091930708, 4.873140401986524, 4.873140396392995, 7.766567518379571, 7.766567519059723, 6.802091814546533, 5.837616110717227, 4.873140401637399, 4.873140404214892, 22.718866211301215, 3.908664696836265, 4.7289028303725145, 6.802091811410815, 3.90866470129667, 3.90866469787721, 4.873140400844988, 5.837616121953593, 5.837616119133655, 6.568281546270583, 2.944188994458042, 2.944188994302596, 2.944188977306429, 2.8793843849197667, 3.9086647092415254, 5.636605516587024, 2.9441889989963164, 2.9441889871206466, 6.2936604857249465, 4.615529022887083, 1.9797132897427379, 5.518203768103855, 10.730158921094514, 12.383836073542586, 12.76529623054609, 7.23802851764587, 6.188721669087123, 9.032658886507543, 8.322101308743381, 6.542923440032206, 7.077302568779498, 5.677452273482015, 6.0189252093315595, 5.440496126650453, 5.33649112612897, 4.94939692529964, 5.7520898610961995, 5.752089858223468, 5.7520898532056135, 5.752089842561383, 4.801744575188938, 4.801744574622703, 22.627362667447382, 8.603125692343802, 3.8114889188406393, 4.8017445645212495, 4.801744577484201, 10.777865521586644, 15.895367774415702, 5.752089865165864, 5.702001842528867, 8.603125689806417, 7.420675216587782, 3.851399307512328, 6.702435142642197, 6.472510834305958, 2.9010540176315134, 4.801744582869835, 4.801744573309083, 2.3715389972167555, 3.8513993050144175, 2.694721961900864, 7.319881425952296, 3.8513993000935827, 2.794245960013671, 3.98470176502966, 8.187587701731385, 21.694799162719974, 6.9502294606502435, 9.390271681723071, 10.862142693650208, 6.208213171163906, 5.462299591930999, 6.081343371087016, 5.259879214192793, 6.124294122442881, 5.336923993854494, 5.254511320473701, 13.357979406432937, 12.40741158002336, 6.704004641558806, 16.759073088390682, 6.654699691596203, 3.8523011781118126, 3.8523011728006953, 4.802868983712695, 12.709772689582433, 3.8523011786501415, 3.852301180087611, 3.8523011825035103, 2.9017333548469666, 2.901733346301331, 2.9017333419678013, 20.669505067781405, 4.349409922237616, 3.4274490437826945, 5.495149890467384, 3.77829169569145, 6.704004661013945, 2.9017333419042965, 2.9017333446820364, 4.802869000642855, 5.121544212149407, 7.654572484594762, 6.296332871179374, 1.9511655337534468, 1.9511655276431579, 1.9511655313888312, 2.9017333621661905, 5.183470322892121, 15.190353046265486, 5.364898890647439, 14.625782506955401, 6.665791302990811, 8.087957596590963, 7.085728581466314, 5.057536244096246, 7.681672460387885, 6.361194332305699, 5.015020563082152, 5.333975699177445, 4.684980900428872, 4.540508955625108, 4.344120228795206, 4.821579218419747, 4.821579215753407, 4.821579214616341, 10.447795917927282, 4.746046283031401, 3.867308329839324, 3.8673083314817194, 15.846020572473646, 4.821579221311593, 7.460888755843607, 3.867308330582734, 3.8673083260093053, 3.679224335900853, 5.775850103348812, 3.4926139718098232, 7.48384591480108, 2.913037447780649, 2.8841148685735125, 4.821579227517416, 2.8342491130934397, 2.5931524769551317, 2.913037446152809, 2.9130374446055813, 3.8673083332086704, 3.7718834287758423, 12.670072610586208, 2.913037447304964, 3.5083716246901293, 3.8673083392723533, 2.7085359788614207, 3.7384235637619176, 5.977708683570172, 5.4437544477880175, 6.948473040149757, 10.190799315887952, 8.621157830718678, 10.170900627325622, 8.091937886749077, 4.82157921676552, 6.237372312325902, 6.973914164990364, 6.687056346492865, 4.821579231593957, 6.826732016084066, 5.591642279748583, 4.4658879221556065, 4.235756491162441, 4.417112534375089, 3.9492817441787555], \"Total\": [149.0, 127.0, 116.0, 115.0, 100.0, 104.0, 111.0, 109.0, 88.0, 92.0, 84.0, 81.0, 94.0, 83.0, 82.0, 105.0, 82.0, 78.0, 85.0, 79.0, 64.0, 74.0, 125.0, 62.0, 53.0, 82.0, 59.0, 57.0, 40.0, 74.0, 115.10275905496877, 111.39017484138918, 109.53388273461654, 21.360007662871713, 13.934839235800574, 7.4378168620612035, 7.437816862077031, 6.509670808705139, 5.581524755307708, 5.58152475529737, 5.58152475529737, 5.58152475529737, 5.581524755377627, 25.073108368928164, 7.460238632290434, 7.465786775141226, 10.245690698602486, 6.5323942776585096, 5.578395282006176, 14.015648683931122, 50.747934574808745, 10.28239215845743, 6.515148350881742, 6.529494402921551, 6.529607539921207, 24.267177875563075, 32.51769322013589, 17.714781834331774, 5.6149713449960945, 5.618749292331753, 16.872358449245418, 42.2959864900496, 41.29203882693938, 93.9697835293074, 39.47098223516634, 17.71069511274952, 21.46432833638298, 24.206339671940928, 70.18995826317432, 51.60151367364808, 73.78294296957793, 50.77944263951383, 67.73050746731107, 40.9827771557564, 105.94599892402144, 19.820922573130968, 56.46235675844319, 127.922743698039, 40.507633734949415, 27.62540700348293, 11.982703115362733, 9.22222595856576, 8.302066906475474, 36.00628665436335, 7.381907854114781, 7.3819078541263075, 7.381907854149317, 7.381907854186856, 6.461748801914116, 6.4617488019432905, 6.461748801936685, 12.015769883173261, 5.541589749698804, 11.092952834337076, 10.17649684589765, 10.17309776077907, 39.70900208136011, 12.015505227140434, 8.311033739652956, 11.095732096538491, 14.835982161677114, 10.181965233875948, 6.469839101658764, 6.486459097550555, 18.58389676796476, 5.571998521406301, 11.147626818276859, 12.105178210024976, 23.107508314531152, 39.10936277996813, 26.87512468117798, 25.91083583127727, 31.92508876565146, 20.4897358433059, 47.2404524981919, 105.94599892402144, 27.892807172383947, 70.18995826317432, 56.46235675844319, 41.17927175708884, 49.862828648743594, 54.40709727936106, 15.14216931668157, 14.195410994826275, 9.461619385383122, 8.514861063395397, 6.621344419492414, 9.465206345210593, 8.49624879505142, 12.287194882808912, 6.599516047924221, 16.10665710570557, 8.477636526458898, 5.657547731640949, 11.33876141090613, 17.98118393796761, 8.497081048243592, 82.42178295954282, 7.535593008102816, 7.575276661421368, 17.897342633513542, 7.53277650380807, 16.955436981430427, 7.524972461799735, 6.640059708416152, 6.626899967147503, 6.576562921626846, 6.6047030873492405, 8.459024258198012, 10.36778037767176, 10.388024887836286, 7.553581678594151, 18.956908922676003, 13.240529692735231, 31.990944915385864, 14.177621912733926, 39.445323628789744, 36.70839562191045, 28.263981331534247, 51.60151367364808, 17.923265201199612, 30.95928786784151, 94.13359161133693, 74.30107330832652, 18.94206646956679, 39.72372764180639, 38.76753064992457, 18.92322796676342, 50.77944263951383, 105.94599892402144, 82.34225352564941, 78.64218720569924, 27.766275307428785, 149.06923715490353, 16.66607634780394, 12.040993447998964, 10.190960288534313, 8.340927128095629, 8.340927128094107, 8.340927128123608, 7.415910548158986, 6.490893968160102, 6.490893968161832, 6.490893968182103, 18.53382383700536, 5.565877388259868, 9.321199749212612, 8.368898642842971, 10.247013987416597, 7.450139407925294, 7.459394032443095, 9.31076994877831, 5.578799892099766, 6.4991807275181195, 6.534377452580058, 9.28619203662188, 13.10387682005617, 19.490429564294818, 5.573253539864982, 5.574493737542261, 40.9827771557564, 34.828161691135556, 13.911815308093871, 12.215265111578212, 31.54776960460982, 93.9697835293074, 18.823562002153885, 24.40050491040214, 51.60151367364808, 105.94599892402144, 40.54739148172346, 13.063979194509152, 14.168965364334511, 14.168965364334511, 12.279226667771177, 12.279226667771177, 7.554879926134798, 7.554879926031, 15.106359289292683, 35.87459894796375, 5.665141229771595, 5.665141229604507, 8.501937144664918, 7.538259930014082, 24.54275300889177, 8.492961905023822, 11.322435508146583, 17.990282288435523, 6.615486511559438, 5.648417934934972, 5.657024950365586, 8.497108928557802, 7.558657873474154, 19.85638206028228, 14.04805543613817, 5.65723075839557, 14.211816373204865, 14.211816373204865, 12.263041134405931, 9.423540907358168, 5.6379538936970075, 5.6516313711402555, 8.533378463130353, 7.560546847108288, 12.183797044394924, 28.263981331534247, 33.09652912244216, 67.73050746731107, 79.06991021866163, 74.35976462038983, 85.64264782110799, 18.9371784997593, 29.185775624356115, 22.72553703601419, 25.598699181516686, 38.76753064992457, 93.9697835293074, 47.2404524981919, 73.78294296957793, 32.100430734366995, 70.18995826317432, 74.30107330832652, 116.32322293033629, 100.50466419232924, 82.82509854395687, 19.55086359190652, 11.176332495320754, 8.384822130047933, 8.384822130143805, 7.4543186746111605, 6.523815219428225, 6.523815219428225, 6.523815219395967, 6.523815219339622, 6.523815219574478, 18.627232382355064, 32.60515983185859, 5.593311764248973, 5.593311764354776, 9.30498118234311, 9.338586243672662, 10.289122886337351, 5.590954362802788, 40.1844693288762, 7.495050808816356, 12.214482569615761, 5.5847877125050145, 14.055623382839418, 5.607889257412967, 5.625821497692207, 5.6259405192794265, 7.4758496058513035, 19.80552920228123, 74.30107330832652, 14.083483525193834, 19.490429564294818, 26.87512468117798, 21.662902809467784, 15.034571541507956, 69.826908723977, 14.150915089890798, 12.261998968995961, 92.59404674320797, 83.04683296669332, 64.90712679123926, 53.45047025938827, 36.26548546156329, 104.04154556608009, 30.537157195655148, 10.488008264881465, 7.62384413135981, 6.6691227542662155, 15.229688213412363, 6.661159698293188, 5.7064383205224365, 8.536379278390873, 7.596023793731486, 12.287878030789576, 5.654991781038833, 19.060504469232914, 18.823562002153885, 6.589396781730996, 16.9476817476294, 5.694709020560227, 11.399080568521244, 13.314853737919568, 7.555726535796574, 7.588213961371205, 8.56062949484229, 5.670468453703682, 5.684845288317519, 27.229901259935033, 14.091774026963627, 9.408981625739516, 62.8443315966656, 93.9697835293074, 54.40709727936106, 35.901396177478304, 56.46235675844319, 19.820922573130968, 22.48810844891059, 38.76753064992457, 31.90302702756209, 21.42821424809372, 21.42821424809372, 14.90948977912614, 13.046997073729516, 17.725215798468273, 7.459518957412962, 5.597026251927285, 5.597026251959698, 5.597026251982707, 5.597026252106068, 5.597026252047605, 13.051722151397593, 7.456348764930742, 6.526186211511949, 5.596283354294193, 5.605255668408909, 5.6161251810110935, 8.40177874239238, 5.619074681043059, 10.285228817506495, 14.968359220341894, 7.500951193958462, 7.494354100720066, 20.549665262286727, 6.541698180667122, 6.5578224427857545, 26.142504411301275, 13.069813594744186, 5.608039684126764, 5.635224110294717, 17.809770802161427, 11.267868063842554, 125.50383404002305, 27.06519561273494, 13.100387737895117, 20.584474686848274, 105.63198975461138, 31.04243875898841, 14.895726272392958, 21.54641858651716, 16.9476817476294, 30.037998526304776, 18.661307273361157, 55.41119882724603, 12.166421987268773, 21.733503608204828, 54.40709727936106, 12.141491298846242, 11.208099897975227, 20.528688760247455, 6.541142893649353, 6.541142893634506, 6.541142893686081, 18.710880665565398, 5.607751492756933, 5.607751492787759, 62.8443315966656, 11.197609203127746, 23.431903725931008, 18.675525400313855, 10.339627416990407, 6.553299935753852, 9.354262077606284, 5.62470537365353, 5.638835797568545, 5.6274555641190585, 5.602897799901265, 7.506891728284143, 9.408981625739516, 11.209996569004744, 6.5587052092816664, 14.170040587554483, 10.334509608444062, 8.442160650843434, 10.264280289501487, 8.467279864099185, 7.524068151092374, 35.901396177478304, 73.78294296957793, 27.229901259935033, 29.16652529145319, 105.63198975461138, 21.71261852871717, 28.101629703389786, 22.569877112166665, 49.862828648743594, 47.8214519107579, 31.90302702756209, 29.157554569345102, 67.73050746731107, 56.46235675844319, 30.12323467754386, 125.50383404002305, 105.94599892402144, 13.949033922340279, 11.1615540436453, 8.374074164969104, 7.444914205355189, 21.414112892954297, 6.51575424624763, 5.586594286213519, 5.586594286241162, 94.13359161133693, 22.308638662439392, 10.25944569360603, 11.208615621708146, 10.24063618460242, 6.514843638011029, 6.5314636344713755, 15.854010658940542, 5.613550292790741, 7.488333330921851, 7.45697885225022, 25.33310434613883, 6.558419641026825, 26.14968326011162, 31.54776960460982, 10.308292528197523, 16.8112884896119, 12.190289393870183, 5.627414602539783, 7.497518304886104, 5.582389721492056, 39.31956558531964, 18.661307273361157, 15.949897373164937, 20.609137470765056, 30.95928786784151, 105.94599892402144, 54.40709727936106, 73.78294296957793, 125.50383404002305, 27.06519561273494, 22.48810844891059, 34.85554720794299, 42.49587638639171, 18.150881880718604, 11.458070117052738, 9.545838184584039, 8.589722218360643, 8.589722218360643, 8.589722218360643, 8.589722218360643, 8.589722218216515, 8.58972221813506, 7.633606252033045, 30.51700676294833, 5.721374319600187, 5.721374319482327, 5.721374319443712, 9.540052417184203, 7.624248607745654, 6.654765720411613, 59.04795891385947, 57.1241168023455, 5.715603635099613, 5.716127875611954, 14.265137419863349, 7.583867024992021, 7.6254400474533615, 14.190185000030146, 7.549794388826973, 8.542112958564706, 8.549476412198276, 10.464523573443303, 34.828161691135556, 32.22007668813322, 69.826908723977, 22.72553703601419, 82.42178295954282, 39.47098223516634, 15.056958571698194, 93.9697835293074, 16.071519672071112, 42.2959864900496, 18.07959716897302, 23.442443534440947, 15.032931025287914, 9.396076410502516, 6.577649103119882, 12.229298836092994, 11.272072024829134, 10.326579865775123, 9.389006547481696, 9.41411055271749, 6.571564735029043, 6.592444221261392, 85.64264782110799, 5.632088965795707, 5.645455886777614, 74.35976462038983, 79.06991021866163, 32.90401053389693, 29.185775624356115, 6.557450372185562, 6.58843626146544, 6.607239339489916, 13.149121952682856, 12.235236899623363, 15.995219632774113, 8.465021159512418, 11.262077632929655, 9.41492802685561, 9.399324082698776, 16.061137618625978, 9.423540907358168, 7.521975894124788, 29.137167217872417, 55.41119882724603, 33.09652912244216, 24.40050491040214, 28.20050452221059, 125.50383404002305, 41.29203882693938, 37.89844232262953, 57.1241168023455, 59.04795891385947, 105.94599892402144, 39.10936277996813, 88.19623356494476, 84.48323615743521, 81.69848810179705, 9.295038655286463, 5.582041247754473, 26.96682844329972, 32.5754670050941, 16.775912771357426, 8.378493894522244, 18.585892525996925, 10.243890559150609, 5.581937949399519, 5.604661418267545, 5.601335560048001, 14.915132020172763, 27.12922898450302, 11.202174985755352, 19.543331839373334, 5.607356720143248, 8.400127596054999, 8.44969708961956, 17.71069511274952, 24.206339671940928, 9.34358238322131, 12.22314620306787, 15.063398135349537, 7.489766469655313, 8.453019623968085, 25.369977060583164, 12.117586795851025, 32.51769322013589, 23.107508314531152, 25.91083583127727, 47.8214519107579, 25.073108368928164, 70.18995826317432, 31.990944915385864, 27.892807172383947, 34.85554720794299, 33.3637503141953, 10.44948971138653, 8.547750666966483, 8.547750666887621, 5.695142099889972, 5.695142099889972, 16.097286018082634, 8.525027198078964, 10.41453346873339, 6.649412987231919, 9.472996845729165, 9.4980167915322, 6.6610755532441495, 6.662745888155736, 10.427598691128972, 7.60368387461412, 7.576204963318012, 6.6110553794393905, 6.639864312954661, 18.07959716897302, 15.149886453720624, 10.422764122105342, 18.83971993571323, 8.56062949484229, 5.6907292004035455, 11.262521146397026, 7.508221652826963, 5.698643952536883, 32.33140419638831, 9.391887023196187, 30.12323467754386, 18.94206646956679, 16.061137618625978, 12.357690303050202, 15.92393257484125, 47.2404524981919, 70.18995826317432, 26.308414334294856, 105.94599892402144, 39.72372764180639, 17.800452468705338, 31.04243875898841, 16.947097996024077, 34.85554720794299, 19.820922573130968, 47.8214519107579, 125.50383404002305, 10.308325176845747, 9.371572108006982, 5.624559832564799, 5.624559832499334, 9.363978998752138, 15.946854109449829, 32.82245214404434, 6.555806185334469, 6.574324845174953, 8.463051946119245, 7.4913426344761085, 105.63198975461138, 25.34536025581149, 33.86065655783686, 19.753179133753758, 7.546693819997612, 9.302315472847933, 16.83235331012726, 9.362311361701808, 29.214592623070306, 10.379023267516008, 10.337851852153188, 22.566531904565515, 5.608039684126764, 5.621398217761379, 5.622412123902888, 5.623807727872097, 5.6279763222569645, 5.632860549790794, 5.6402412531741914, 11.2912764905829, 13.069813594744186, 8.495846384115694, 25.44847074603265, 7.5282706793760354, 36.748605848842814, 14.152845342616732, 32.100430734366995, 70.18995826317432, 19.737317957936003, 69.826908723977, 37.89844232262953, 125.50383404002305, 30.12323467754386, 93.9697835293074, 31.04243875898841, 39.31956558531964, 54.40709727936106, 6.72764872178928, 5.76317301647242, 5.763173016315756, 9.593353202482877, 9.610871020938818, 8.642993949898534, 7.674407044208068, 6.692332976181592, 6.717443903927835, 33.3637503141953, 5.749042592692493, 7.654040021316812, 11.509207977172426, 6.657017230164527, 6.6960234561747285, 8.631520915303085, 10.477875976127386, 10.526500076836212, 12.402924674934159, 5.698713954380414, 5.725849275459366, 5.73535725190599, 5.697761714492655, 8.534205418354377, 12.319133880190712, 6.6301643667100985, 6.646316694866735, 15.162115462044804, 11.452755591967595, 5.644795639633892, 16.111304688331828, 40.70738673746358, 49.862828648743594, 55.41119882724603, 29.214592623070306, 23.620034733487888, 50.747934574808745, 51.60151367364808, 35.901396177478304, 47.2404524981919, 32.100430734366995, 56.46235675844319, 36.748605848842814, 50.77944263951383, 57.1241168023455, 6.642866179026458, 6.6428661789902845, 6.6428661789298165, 6.642866178789423, 5.692520897176478, 5.692520897121346, 29.433496403180925, 11.42285343533145, 5.692752784730681, 7.548813003912035, 7.590388003392088, 17.107661569171803, 25.598699181516686, 9.483141144616724, 9.47306796968953, 15.063398135349537, 14.236084672617393, 7.5383210907982425, 14.165240879594062, 14.106096796391842, 6.647130430193594, 11.266796337900526, 11.358030546204054, 5.638110837984504, 9.43481151716506, 6.6528905778461604, 18.9371784997593, 10.413280678796633, 7.597596818865929, 11.287943007069604, 23.699246347088973, 105.94599892402144, 26.230491446374813, 40.70738673746358, 74.30107330832652, 30.24003384443546, 25.369977060583164, 41.17927175708884, 28.20050452221059, 69.826908723977, 31.92508876565146, 42.2959864900496, 14.248744017869468, 13.298176194304459, 7.594769253088747, 22.759972187413297, 9.471771743198625, 5.6764571833516415, 5.697336669722869, 7.5436667664050026, 21.733503608204828, 6.601385701657527, 6.610322306930499, 6.615932953159142, 5.659280760755914, 5.659280760527479, 5.66872679685752, 40.72738863507805, 9.448928256609568, 7.582186181654434, 12.288478365653948, 8.509741083206661, 15.205026222487495, 6.606933844025969, 6.624959115518816, 11.372294563744946, 12.256252432420036, 18.99374744322753, 15.9870436718822, 5.626368295645076, 5.637091185214859, 5.655471259096684, 8.503128346235352, 16.06111174592834, 67.73050746731107, 19.737317957936003, 125.50383404002305, 32.22007668813322, 50.77944263951383, 42.49587638639171, 20.850487759747963, 82.42178295954282, 49.862828648743594, 23.431903725931008, 40.70738673746358, 40.54739148172346, 56.46235675844319, 33.86065655783686, 5.712148925195287, 5.7121489251817925, 5.712148925093649, 14.219176186327596, 6.662183485195898, 5.691269438758029, 5.702747386089868, 23.68284072755786, 7.613887969672691, 12.331323047228224, 6.6246608396108595, 6.686829449090258, 6.601157673663013, 10.453453100097754, 6.61646251153396, 14.201648016074493, 5.677636458391284, 5.662793553210364, 9.499392039068287, 5.660291239394805, 5.695670252847151, 6.608361688322929, 6.655432131462656, 9.484829936275785, 9.493333786174194, 31.92508876565146, 7.5282706793760354, 9.345842571631103, 10.427289369120528, 7.538156487017107, 10.432584122469335, 17.042474728175375, 15.995437225930395, 21.662902809467784, 40.54739148172346, 37.89844232262953, 50.747934574808745, 40.72738863507805, 16.027850808016105, 30.24003384443546, 47.2404524981919, 42.49587638639171, 18.99374744322753, 69.826908723977, 59.04795891385947, 19.80552920228123, 17.093279208869166, 47.8214519107579, 25.44847074603265], \"Category\": [\"Default\", \"Default\", \"Default\", \"Default\", \"Default\", \"Default\", \"Default\", \"Default\", \"Default\", \"Default\", \"Default\", \"Default\", \"Default\", \"Default\", \"Default\", \"Default\", \"Default\", \"Default\", \"Default\", \"Default\", \"Default\", \"Default\", \"Default\", \"Default\", \"Default\", \"Default\", \"Default\", \"Default\", \"Default\", \"Default\", \"Topic1\", \"Topic1\", \"Topic1\", \"Topic1\", \"Topic1\", \"Topic1\", \"Topic1\", \"Topic1\", \"Topic1\", \"Topic1\", \"Topic1\", \"Topic1\", \"Topic1\", \"Topic1\", \"Topic1\", \"Topic1\", \"Topic1\", \"Topic1\", \"Topic1\", \"Topic1\", \"Topic1\", \"Topic1\", \"Topic1\", \"Topic1\", \"Topic1\", \"Topic1\", \"Topic1\", \"Topic1\", \"Topic1\", \"Topic1\", \"Topic1\", \"Topic1\", \"Topic1\", \"Topic1\", \"Topic1\", \"Topic1\", \"Topic1\", \"Topic1\", \"Topic1\", \"Topic1\", \"Topic1\", \"Topic1\", \"Topic1\", \"Topic1\", \"Topic1\", \"Topic1\", \"Topic1\", \"Topic2\", \"Topic2\", \"Topic2\", \"Topic2\", \"Topic2\", \"Topic2\", \"Topic2\", \"Topic2\", \"Topic2\", \"Topic2\", \"Topic2\", \"Topic2\", \"Topic2\", \"Topic2\", \"Topic2\", \"Topic2\", \"Topic2\", \"Topic2\", \"Topic2\", \"Topic2\", \"Topic2\", \"Topic2\", \"Topic2\", \"Topic2\", \"Topic2\", \"Topic2\", \"Topic2\", \"Topic2\", \"Topic2\", \"Topic2\", \"Topic2\", \"Topic2\", \"Topic2\", \"Topic2\", \"Topic2\", \"Topic2\", \"Topic2\", \"Topic2\", \"Topic2\", \"Topic2\", \"Topic2\", \"Topic2\", \"Topic2\", \"Topic2\", \"Topic2\", \"Topic3\", \"Topic3\", \"Topic3\", \"Topic3\", \"Topic3\", \"Topic3\", \"Topic3\", \"Topic3\", \"Topic3\", \"Topic3\", \"Topic3\", \"Topic3\", \"Topic3\", \"Topic3\", \"Topic3\", \"Topic3\", \"Topic3\", \"Topic3\", \"Topic3\", \"Topic3\", \"Topic3\", \"Topic3\", \"Topic3\", \"Topic3\", \"Topic3\", \"Topic3\", \"Topic3\", \"Topic3\", \"Topic3\", \"Topic3\", \"Topic3\", \"Topic3\", \"Topic3\", \"Topic3\", \"Topic3\", \"Topic3\", \"Topic3\", \"Topic3\", \"Topic3\", \"Topic3\", \"Topic3\", \"Topic3\", \"Topic3\", \"Topic3\", \"Topic3\", \"Topic3\", \"Topic3\", \"Topic3\", \"Topic4\", \"Topic4\", \"Topic4\", \"Topic4\", \"Topic4\", \"Topic4\", \"Topic4\", \"Topic4\", \"Topic4\", \"Topic4\", \"Topic4\", \"Topic4\", \"Topic4\", \"Topic4\", \"Topic4\", \"Topic4\", \"Topic4\", \"Topic4\", \"Topic4\", \"Topic4\", \"Topic4\", \"Topic4\", \"Topic4\", \"Topic4\", \"Topic4\", \"Topic4\", \"Topic4\", \"Topic4\", \"Topic4\", \"Topic4\", \"Topic4\", \"Topic4\", \"Topic4\", \"Topic4\", \"Topic4\", \"Topic4\", \"Topic4\", \"Topic4\", \"Topic4\", \"Topic4\", \"Topic4\", \"Topic4\", \"Topic5\", \"Topic5\", \"Topic5\", \"Topic5\", \"Topic5\", \"Topic5\", \"Topic5\", \"Topic5\", \"Topic5\", \"Topic5\", \"Topic5\", \"Topic5\", \"Topic5\", \"Topic5\", \"Topic5\", \"Topic5\", \"Topic5\", \"Topic5\", \"Topic5\", \"Topic5\", \"Topic5\", \"Topic5\", \"Topic5\", \"Topic5\", \"Topic5\", \"Topic5\", \"Topic5\", \"Topic5\", \"Topic5\", \"Topic5\", \"Topic5\", \"Topic5\", \"Topic5\", \"Topic5\", \"Topic5\", \"Topic5\", \"Topic5\", \"Topic5\", \"Topic5\", \"Topic5\", \"Topic5\", \"Topic5\", \"Topic5\", \"Topic5\", \"Topic5\", \"Topic5\", \"Topic5\", \"Topic5\", \"Topic5\", \"Topic5\", \"Topic6\", \"Topic6\", \"Topic6\", \"Topic6\", \"Topic6\", \"Topic6\", \"Topic6\", \"Topic6\", \"Topic6\", \"Topic6\", \"Topic6\", \"Topic6\", \"Topic6\", \"Topic6\", \"Topic6\", \"Topic6\", \"Topic6\", \"Topic6\", \"Topic6\", \"Topic6\", \"Topic6\", \"Topic6\", \"Topic6\", \"Topic6\", \"Topic6\", \"Topic6\", \"Topic6\", \"Topic6\", \"Topic6\", \"Topic6\", \"Topic6\", \"Topic6\", \"Topic6\", \"Topic6\", \"Topic6\", \"Topic6\", \"Topic6\", \"Topic6\", \"Topic6\", \"Topic6\", \"Topic7\", \"Topic7\", \"Topic7\", \"Topic7\", \"Topic7\", \"Topic7\", \"Topic7\", \"Topic7\", \"Topic7\", \"Topic7\", \"Topic7\", \"Topic7\", \"Topic7\", \"Topic7\", \"Topic7\", \"Topic7\", \"Topic7\", \"Topic7\", \"Topic7\", \"Topic7\", \"Topic7\", \"Topic7\", \"Topic7\", \"Topic7\", \"Topic7\", \"Topic7\", \"Topic7\", \"Topic7\", \"Topic7\", \"Topic7\", \"Topic7\", \"Topic7\", \"Topic7\", \"Topic7\", \"Topic7\", \"Topic7\", \"Topic7\", \"Topic7\", \"Topic7\", \"Topic7\", \"Topic7\", \"Topic8\", \"Topic8\", \"Topic8\", \"Topic8\", \"Topic8\", \"Topic8\", \"Topic8\", \"Topic8\", \"Topic8\", \"Topic8\", \"Topic8\", \"Topic8\", \"Topic8\", \"Topic8\", \"Topic8\", \"Topic8\", \"Topic8\", \"Topic8\", \"Topic8\", \"Topic8\", \"Topic8\", \"Topic8\", \"Topic8\", \"Topic8\", \"Topic8\", \"Topic8\", \"Topic8\", \"Topic8\", \"Topic8\", \"Topic8\", \"Topic8\", \"Topic8\", \"Topic8\", \"Topic8\", \"Topic8\", \"Topic8\", \"Topic8\", \"Topic8\", \"Topic8\", \"Topic8\", \"Topic8\", \"Topic8\", \"Topic8\", \"Topic8\", \"Topic8\", \"Topic8\", \"Topic8\", \"Topic9\", \"Topic9\", \"Topic9\", \"Topic9\", \"Topic9\", \"Topic9\", \"Topic9\", \"Topic9\", \"Topic9\", \"Topic9\", \"Topic9\", \"Topic9\", \"Topic9\", \"Topic9\", \"Topic9\", \"Topic9\", \"Topic9\", \"Topic9\", \"Topic9\", \"Topic9\", \"Topic9\", \"Topic9\", \"Topic9\", \"Topic9\", \"Topic9\", \"Topic9\", \"Topic9\", \"Topic9\", \"Topic9\", \"Topic9\", \"Topic9\", \"Topic9\", \"Topic9\", \"Topic9\", \"Topic9\", \"Topic9\", \"Topic9\", \"Topic9\", \"Topic9\", \"Topic9\", \"Topic9\", \"Topic9\", \"Topic9\", \"Topic9\", \"Topic9\", \"Topic9\", \"Topic9\", \"Topic10\", \"Topic10\", \"Topic10\", \"Topic10\", \"Topic10\", \"Topic10\", \"Topic10\", \"Topic10\", \"Topic10\", \"Topic10\", \"Topic10\", \"Topic10\", \"Topic10\", \"Topic10\", \"Topic10\", \"Topic10\", \"Topic10\", \"Topic10\", \"Topic10\", \"Topic10\", \"Topic10\", \"Topic10\", \"Topic10\", \"Topic10\", \"Topic10\", \"Topic10\", \"Topic10\", \"Topic10\", \"Topic10\", \"Topic10\", \"Topic10\", \"Topic10\", \"Topic10\", \"Topic10\", \"Topic10\", \"Topic10\", \"Topic10\", \"Topic10\", \"Topic10\", \"Topic10\", \"Topic10\", \"Topic10\", \"Topic11\", \"Topic11\", \"Topic11\", \"Topic11\", \"Topic11\", \"Topic11\", \"Topic11\", \"Topic11\", \"Topic11\", \"Topic11\", \"Topic11\", \"Topic11\", \"Topic11\", \"Topic11\", \"Topic11\", \"Topic11\", \"Topic11\", \"Topic11\", \"Topic11\", \"Topic11\", \"Topic11\", \"Topic11\", \"Topic11\", \"Topic11\", \"Topic11\", \"Topic11\", \"Topic11\", \"Topic11\", \"Topic11\", \"Topic11\", \"Topic11\", \"Topic11\", \"Topic11\", \"Topic11\", \"Topic11\", \"Topic11\", \"Topic11\", \"Topic11\", \"Topic11\", \"Topic11\", \"Topic11\", \"Topic12\", \"Topic12\", \"Topic12\", \"Topic12\", \"Topic12\", \"Topic12\", \"Topic12\", \"Topic12\", \"Topic12\", \"Topic12\", \"Topic12\", \"Topic12\", \"Topic12\", \"Topic12\", \"Topic12\", \"Topic12\", \"Topic12\", \"Topic12\", \"Topic12\", \"Topic12\", \"Topic12\", \"Topic12\", \"Topic12\", \"Topic12\", \"Topic12\", \"Topic12\", \"Topic12\", \"Topic12\", \"Topic12\", \"Topic12\", \"Topic12\", \"Topic12\", \"Topic12\", \"Topic12\", \"Topic12\", \"Topic12\", \"Topic12\", \"Topic12\", \"Topic12\", \"Topic12\", \"Topic12\", \"Topic12\", \"Topic13\", \"Topic13\", \"Topic13\", \"Topic13\", \"Topic13\", \"Topic13\", \"Topic13\", \"Topic13\", \"Topic13\", \"Topic13\", \"Topic13\", \"Topic13\", \"Topic13\", \"Topic13\", \"Topic13\", \"Topic13\", \"Topic13\", \"Topic13\", \"Topic13\", \"Topic13\", \"Topic13\", \"Topic13\", \"Topic13\", \"Topic13\", \"Topic13\", \"Topic13\", \"Topic13\", \"Topic13\", \"Topic13\", \"Topic13\", \"Topic13\", \"Topic13\", \"Topic13\", \"Topic13\", \"Topic13\", \"Topic13\", \"Topic13\", \"Topic13\", \"Topic13\", \"Topic13\", \"Topic14\", \"Topic14\", \"Topic14\", \"Topic14\", \"Topic14\", \"Topic14\", \"Topic14\", \"Topic14\", \"Topic14\", \"Topic14\", \"Topic14\", \"Topic14\", \"Topic14\", \"Topic14\", \"Topic14\", \"Topic14\", \"Topic14\", \"Topic14\", \"Topic14\", \"Topic14\", \"Topic14\", \"Topic14\", \"Topic14\", \"Topic14\", \"Topic14\", \"Topic14\", \"Topic14\", \"Topic14\", \"Topic14\", \"Topic14\", \"Topic14\", \"Topic14\", \"Topic14\", \"Topic14\", \"Topic14\", \"Topic14\", \"Topic14\", \"Topic14\", \"Topic14\", \"Topic14\", \"Topic14\", \"Topic14\", \"Topic14\", \"Topic14\", \"Topic14\", \"Topic14\", \"Topic15\", \"Topic15\", \"Topic15\", \"Topic15\", \"Topic15\", \"Topic15\", \"Topic15\", \"Topic15\", \"Topic15\", \"Topic15\", \"Topic15\", \"Topic15\", \"Topic15\", \"Topic15\", \"Topic15\", \"Topic15\", \"Topic15\", \"Topic15\", \"Topic15\", \"Topic15\", \"Topic15\", \"Topic15\", \"Topic15\", \"Topic15\", \"Topic15\", \"Topic15\", \"Topic15\", \"Topic15\", \"Topic15\", \"Topic15\", \"Topic15\", \"Topic15\", \"Topic15\", \"Topic15\", \"Topic15\", \"Topic15\", \"Topic15\", \"Topic15\", \"Topic15\", \"Topic15\", \"Topic15\", \"Topic15\", \"Topic15\", \"Topic15\", \"Topic15\", \"Topic15\", \"Topic15\", \"Topic15\", \"Topic16\", \"Topic16\", \"Topic16\", \"Topic16\", \"Topic16\", \"Topic16\", \"Topic16\", \"Topic16\", \"Topic16\", \"Topic16\", \"Topic16\", \"Topic16\", \"Topic16\", \"Topic16\", \"Topic16\", \"Topic16\", \"Topic16\", \"Topic16\", \"Topic16\", \"Topic16\", \"Topic16\", \"Topic16\", \"Topic16\", \"Topic16\", \"Topic16\", \"Topic16\", \"Topic16\", \"Topic16\", \"Topic16\", \"Topic16\", \"Topic16\", \"Topic16\", \"Topic16\", \"Topic16\", \"Topic16\", \"Topic16\", \"Topic16\", \"Topic16\", \"Topic16\", \"Topic16\", \"Topic16\", \"Topic16\", \"Topic16\", \"Topic16\", \"Topic16\", \"Topic17\", \"Topic17\", \"Topic17\", \"Topic17\", \"Topic17\", \"Topic17\", \"Topic17\", \"Topic17\", \"Topic17\", \"Topic17\", \"Topic17\", \"Topic17\", \"Topic17\", \"Topic17\", \"Topic17\", \"Topic17\", \"Topic17\", \"Topic17\", \"Topic17\", \"Topic17\", \"Topic17\", \"Topic17\", \"Topic17\", \"Topic17\", \"Topic17\", \"Topic17\", \"Topic17\", \"Topic17\", \"Topic17\", \"Topic17\", \"Topic17\", \"Topic17\", \"Topic17\", \"Topic17\", \"Topic17\", \"Topic17\", \"Topic17\", \"Topic17\", \"Topic17\", \"Topic17\", \"Topic17\", \"Topic17\", \"Topic18\", \"Topic18\", \"Topic18\", \"Topic18\", \"Topic18\", \"Topic18\", \"Topic18\", \"Topic18\", \"Topic18\", \"Topic18\", \"Topic18\", \"Topic18\", \"Topic18\", \"Topic18\", \"Topic18\", \"Topic18\", \"Topic18\", \"Topic18\", \"Topic18\", \"Topic18\", \"Topic18\", \"Topic18\", \"Topic18\", \"Topic18\", \"Topic18\", \"Topic18\", \"Topic18\", \"Topic18\", \"Topic18\", \"Topic18\", \"Topic18\", \"Topic18\", \"Topic18\", \"Topic18\", \"Topic18\", \"Topic18\", \"Topic18\", \"Topic18\", \"Topic18\", \"Topic18\", \"Topic18\", \"Topic18\", \"Topic18\", \"Topic18\", \"Topic18\", \"Topic18\", \"Topic19\", \"Topic19\", \"Topic19\", \"Topic19\", \"Topic19\", \"Topic19\", \"Topic19\", \"Topic19\", \"Topic19\", \"Topic19\", \"Topic19\", \"Topic19\", \"Topic19\", \"Topic19\", \"Topic19\", \"Topic19\", \"Topic19\", \"Topic19\", \"Topic19\", \"Topic19\", \"Topic19\", \"Topic19\", \"Topic19\", \"Topic19\", \"Topic19\", \"Topic19\", \"Topic19\", \"Topic19\", \"Topic19\", \"Topic19\", \"Topic19\", \"Topic19\", \"Topic19\", \"Topic19\", \"Topic19\", \"Topic19\", \"Topic19\", \"Topic19\", \"Topic19\", \"Topic19\", \"Topic19\", \"Topic19\", \"Topic19\", \"Topic19\", \"Topic19\", \"Topic19\", \"Topic19\", \"Topic19\", \"Topic19\"], \"logprob\": [30.0, 29.0, 28.0, 27.0, 26.0, 25.0, 24.0, 23.0, 22.0, 21.0, 20.0, 19.0, 18.0, 17.0, 16.0, 15.0, 14.0, 13.0, 12.0, 11.0, 10.0, 9.0, 8.0, 7.0, 6.0, 5.0, 4.0, 3.0, 2.0, 1.0, -2.2687, -2.3018, -2.3187, -3.9879, -4.4385, -5.1279, -5.1279, -5.2808, -5.4614, -5.4614, -5.4614, -5.4614, -5.4614, -4.0343, -5.2808, -5.2808, -4.9953, -5.4614, -5.682, -4.7834, -3.5807, -5.2113, -5.682, -5.682, -5.682, -4.3753, -4.1513, -4.8145, -5.9653, -5.9653, -4.8783, -3.9876, -4.3124, -3.7747, -4.5468, -5.0672, -4.9802, -4.9459, -4.5704, -4.6948, -4.5921, -4.7705, -4.7064, -4.9176, -4.8154, -5.1754, -5.1323, -1.9963, -3.1615, -3.5548, -4.4347, -4.7209, -4.838, -3.3792, -4.9706, -4.9706, -4.9706, -4.9706, -5.1235, -5.1235, -5.1235, -4.5283, -5.304, -4.6161, -4.7209, -4.7228, -3.3805, -4.6174, -4.9881, -4.7209, -4.4396, -4.8421, -5.304, -5.304, -4.2885, -5.5246, -4.838, -4.8189, -4.3412, -3.9984, -4.2686, -4.3149, -4.2662, -4.6534, -4.4875, -4.423, -4.7142, -4.5493, -4.6286, -4.6956, -4.6968, -4.7766, -4.1609, -4.2297, -4.6694, -4.7865, -5.072, -4.7865, -4.9191, -4.5646, -5.2873, -4.4094, -5.072, -5.4851, -4.7986, -4.3494, -5.1057, -2.8564, -5.2526, -5.2526, -4.413, -5.2888, -4.504, -5.346, -5.4731, -5.482, -5.4982, -5.499, -5.2526, -5.0763, -5.0996, -5.426, -4.5337, -4.8868, -4.2359, -4.9222, -4.1779, -4.314, -4.5428, -4.1991, -4.8238, -4.5405, -4.1136, -4.2384, -4.9105, -4.6952, -4.7432, -4.9404, -4.7932, -4.8238, -2.4063, -2.4528, -3.5151, -1.8355, -4.0479, -4.3949, -4.5764, -4.7982, -4.7982, -4.7982, -4.9308, -5.0837, -5.0837, -5.0837, -4.0547, -5.2643, -4.9308, -5.0837, -4.9308, -5.2643, -5.2643, -5.1004, -5.6287, -5.4848, -5.4848, -5.1507, -4.8717, -4.4802, -5.7682, -5.7682, -3.8127, -4.0402, -4.9637, -5.062, -4.4562, -4.1165, -4.9229, -4.9308, -4.8099, -4.902, -5.0673, -5.0837, -4.22, -4.22, -4.3735, -4.3735, -4.9094, -4.9094, -4.2478, -3.3919, -5.2429, -5.2429, -4.9321, -5.0623, -3.8832, -4.9467, -4.6832, -4.2234, -5.2429, -5.4634, -5.4634, -5.0623, -5.2429, -4.3096, -4.6721, -5.5857, -4.6761, -4.6761, -4.9467, -5.2248, -5.7468, -5.7468, -5.3376, -5.4634, -5.0149, -4.2508, -4.1969, -3.6288, -3.5181, -3.6053, -3.5419, -4.6626, -4.4372, -4.6597, -4.6242, -4.4898, -4.1729, -4.4413, -4.4791, -4.6838, -4.641, -4.7104, -1.9902, -2.1376, -2.333, -3.8126, -4.4083, -4.7249, -4.7249, -4.8575, -5.0105, -5.0105, -5.0105, -5.0105, -5.0105, -3.9756, -3.42, -5.191, -5.191, -4.7249, -4.7449, -4.7426, -5.4116, -3.4527, -5.191, -4.7287, -5.5584, -4.753, -5.6949, -5.6949, -5.6949, -5.4116, -4.4749, -3.2297, -4.8734, -4.6095, -4.4436, -4.6407, -4.8575, -4.192, -4.951, -5.0105, -2.2055, -2.3154, -2.5649, -2.7621, -3.1581, -2.1073, -3.3347, -4.4626, -4.817, -4.9699, -4.1636, -5.1505, -5.371, -4.9699, -5.1505, -4.8719, -5.6544, -4.5342, -4.5743, -5.6544, -4.7153, -5.8227, -5.1604, -5.0326, -5.6544, -5.6544, -5.5477, -6.0513, -6.0513, -4.4903, -5.1505, -5.5995, -4.124, -3.8878, -4.3591, -4.8186, -4.6742, -5.1587, -5.2383, -5.0851, -5.1979, -3.57, -3.57, -3.9519, -4.0944, -3.836, -4.71, -5.0435, -5.0435, -5.0435, -5.0435, -5.0435, -4.2793, -4.8725, -5.0435, -5.2641, -5.2641, -5.2641, -4.8629, -5.3029, -4.71, -4.3616, -5.0725, -5.0934, -4.1044, -5.2641, -5.3067, -3.958, -4.6748, -5.5474, -5.5474, -4.4004, -4.8629, -2.5473, -4.0528, -4.7202, -4.3696, -3.412, -4.2234, -4.6955, -4.5569, -4.6828, -4.4918, -4.6677, -4.3436, -4.9041, -4.847, -4.8551, -4.1537, -4.2403, -3.645, -4.8425, -4.8425, -4.8425, -3.8126, -5.0231, -5.0231, -2.6917, -4.4399, -3.7076, -3.9379, -4.568, -5.0349, -4.6896, -5.2436, -5.2436, -5.2756, -5.2806, -5.0231, -4.8714, -4.7052, -5.2436, -4.5098, -4.8425, -5.0704, -4.9107, -5.1047, -5.2436, -3.7412, -3.4632, -4.2552, -4.2291, -3.4319, -4.4335, -4.3017, -4.436, -3.9781, -4.1778, -4.3903, -4.4359, -4.1208, -4.3807, -4.6304, -4.3874, -4.7196, -3.9788, -4.2189, -4.5356, -4.6682, -3.6245, -4.8211, -5.0017, -5.0017, -2.1869, -3.6289, -4.4271, -4.4407, -4.5478, -5.0017, -5.0017, -4.1323, -5.2222, -5.0017, -5.008, -3.8326, -5.2222, -3.8809, -3.6946, -4.8412, -4.3778, -4.7155, -5.5056, -5.2222, -5.5503, -3.6166, -4.3716, -4.6178, -4.5074, -4.3209, -3.757, -4.22, -4.1757, -4.0774, -4.6169, -4.7565, -4.7354, -4.7922, -3.6519, -4.1425, -4.3421, -4.4592, -4.4592, -4.4592, -4.4592, -4.4592, -4.4592, -4.5918, -3.2403, -4.9252, -4.9252, -4.9252, -4.4645, -4.7447, -4.9252, -2.789, -2.8353, -5.1458, -5.1458, -4.2373, -4.9252, -4.9861, -4.3963, -5.0298, -4.9252, -4.9252, -4.7447, -3.6049, -3.6833, -3.5881, -4.3766, -3.9429, -4.3608, -4.7447, -4.3544, -4.7814, -4.6364, -4.7681, -4.7657, -3.8274, -4.3359, -4.7384, -4.1363, -4.2397, -4.3359, -4.4733, -4.4805, -4.919, -4.919, -2.405, -5.1396, -5.1396, -2.5853, -2.5361, -3.4208, -3.6052, -5.1396, -5.1396, -5.1396, -4.5129, -4.6253, -4.5375, -5.1971, -4.919, -5.1396, -5.1458, -4.6208, -5.1625, -5.4229, -4.1408, -3.7762, -4.2937, -4.611, -4.5452, -3.791, -4.5212, -4.5525, -4.5802, -4.6439, -4.5226, -4.8965, -2.0061, -2.0496, -2.0835, -4.3469, -4.9301, -3.3748, -3.187, -3.9072, -4.6027, -3.8712, -4.472, -5.1506, -5.1506, -5.1612, -4.1842, -3.6805, -4.5966, -4.1709, -5.434, -5.1506, -5.1506, -4.4174, -4.1147, -5.1855, -4.946, -4.7495, -5.4571, -5.434, -4.3574, -5.1659, -4.3375, -4.6399, -4.7027, -4.5929, -4.9301, -4.6863, -4.9348, -4.9991, -5.0232, -5.1321, -4.1886, -4.4104, -4.4104, -4.8765, -4.8765, -3.8695, -4.543, -4.4104, -4.8765, -4.543, -4.543, -4.898, -4.9231, -4.543, -4.8765, -4.8821, -5.0971, -5.0971, -4.1051, -4.2959, -4.7186, -4.1425, -4.9469, -5.3804, -4.7523, -5.1585, -5.4343, -3.7033, -4.9535, -3.8417, -4.3478, -4.5551, -4.7747, -4.6343, -4.0181, -3.8162, -4.4389, -3.8434, -4.4107, -4.6887, -4.5804, -4.7088, -4.5868, -4.7402, -4.6676, -4.6567, -4.108, -4.2128, -4.7959, -4.7959, -4.3298, -3.84, -3.131, -4.7959, -4.8572, -4.6153, -4.7959, -2.2964, -3.7331, -3.4955, -4.0462, -5.0165, -4.8309, -4.2626, -4.9946, -3.9807, -5.0165, -5.0246, -4.267, -5.6967, -5.6967, -5.6967, -5.6967, -5.6967, -5.6967, -5.6967, -5.0165, -4.8818, -5.2998, -4.2548, -5.4204, -3.9476, -5.0165, -4.4547, -3.9491, -4.8058, -4.1461, -4.5071, -4.2252, -4.6935, -4.4204, -4.7548, -4.7745, -4.7801, -4.4831, -4.6636, -4.6636, -4.1976, -4.1976, -4.3302, -4.4831, -4.6636, -4.6636, -3.1242, -4.8842, -4.6937, -4.3302, -4.8842, -4.8842, -4.6636, -4.4831, -4.4831, -4.3651, -5.1675, -5.1675, -5.1675, -5.1898, -4.8842, -4.5181, -5.1675, -5.1675, -4.4078, -4.718, -5.5644, -4.5393, -3.8743, -3.731, -3.7007, -4.268, -4.4247, -4.0465, -4.1285, -4.369, -4.2905, -4.5109, -4.4525, -4.5535, -4.5728, -4.6481, -4.4953, -4.4953, -4.4953, -4.4953, -4.6759, -4.6759, -3.1257, -4.0927, -4.9068, -4.6759, -4.6759, -3.8674, -3.4788, -4.4953, -4.504, -4.0927, -4.2406, -4.8964, -4.3424, -4.3773, -5.1798, -4.6759, -4.6759, -5.3813, -4.8964, -5.2536, -4.2543, -4.8964, -5.2173, -4.8624, -4.1422, -3.1678, -4.3061, -4.0052, -3.8596, -4.419, -4.547, -4.4396, -4.5847, -4.4326, -4.5702, -4.5858, -3.6253, -3.6991, -4.3147, -3.3984, -4.322, -4.8687, -4.8687, -4.6482, -3.675, -4.8687, -4.8687, -4.8687, -5.1521, -5.1521, -5.1521, -3.1887, -4.7473, -4.9855, -4.5135, -4.8881, -4.3147, -5.1521, -5.1521, -4.6482, -4.5839, -4.1821, -4.3774, -5.5489, -5.5489, -5.5489, -5.1521, -4.5719, -3.4967, -4.5375, -3.5346, -4.3204, -4.127, -4.2593, -4.5965, -4.1785, -4.3671, -4.6049, -4.5433, -4.673, -4.7043, -4.7485, -4.6216, -4.6216, -4.6216, -3.8483, -4.6374, -4.8421, -4.8421, -3.4318, -4.6216, -4.185, -4.8421, -4.8421, -4.892, -4.441, -4.944, -4.1819, -5.1255, -5.1355, -4.6216, -5.1529, -5.2418, -5.1255, -5.1255, -4.8421, -4.8671, -3.6554, -5.1255, -4.9395, -4.8421, -5.1983, -4.876, -4.4067, -4.5002, -4.2562, -3.8732, -4.0405, -3.8752, -4.1038, -4.6216, -4.3641, -4.2525, -4.2945, -4.6216, -4.2738, -4.4734, -4.6982, -4.7511, -4.7092, -4.8212], \"loglift\": [30.0, 29.0, 28.0, 27.0, 26.0, 25.0, 24.0, 23.0, 22.0, 21.0, 20.0, 19.0, 18.0, 17.0, 16.0, 15.0, 14.0, 13.0, 12.0, 11.0, 10.0, 9.0, 8.0, 7.0, 6.0, 5.0, 4.0, 3.0, 2.0, 1.0, 2.5158, 2.5155, 2.5154, 2.4809, 2.4574, 2.3958, 2.3958, 2.3762, 2.3495, 2.3495, 2.3495, 2.3495, 2.3495, 2.2742, 2.2399, 2.2392, 2.2081, 2.1921, 2.1295, 2.1068, 2.0227, 1.9886, 1.9742, 1.972, 1.972, 1.9659, 1.8972, 1.8414, 1.8396, 1.8389, 1.8264, 1.798, 1.4973, 1.2127, 1.3079, 1.589, 1.4837, 1.3978, 0.7087, 0.892, 0.637, 0.8323, 0.6084, 0.8995, 0.052, 1.3682, 0.3645, 2.6826, 2.6673, 2.6567, 2.6122, 2.5878, 2.5759, 2.5675, 2.5607, 2.5607, 2.5607, 2.5607, 2.541, 2.541, 2.541, 2.5158, 2.514, 2.5079, 2.4893, 2.4877, 2.4682, 2.4267, 2.4246, 2.4029, 2.3936, 2.3676, 2.3591, 2.3566, 2.3196, 2.288, 2.2811, 2.2178, 2.049, 1.8655, 1.9705, 1.9608, 1.8008, 1.857, 1.1876, 0.4444, 1.4877, 0.7298, 0.8682, 1.1168, 0.9243, 0.7572, 2.6519, 2.6478, 2.6137, 2.602, 2.5681, 2.4962, 2.4716, 2.4571, 2.356, 2.3416, 2.3209, 2.3123, 2.3035, 2.2916, 2.2849, 2.262, 2.2581, 2.2529, 2.2327, 2.2223, 2.1957, 2.1661, 2.1641, 2.1572, 2.1486, 2.1435, 2.1425, 2.1153, 2.0901, 2.0823, 2.0544, 2.0602, 1.8289, 1.9564, 1.6775, 1.6133, 1.646, 1.3877, 1.8204, 1.5571, 0.872, 0.9838, 1.6784, 1.1532, 1.1295, 1.6495, 0.8096, 0.0436, 2.7132, 2.7127, 2.6914, 2.6904, 2.669, 2.6471, 2.6325, 2.6109, 2.6109, 2.6109, 2.5959, 2.5762, 2.5762, 2.5762, 2.556, 2.5494, 2.3672, 2.3221, 2.2725, 2.2578, 2.2566, 2.1987, 2.1827, 2.1738, 2.1684, 2.1511, 2.0857, 2.0802, 2.0441, 2.0439, 2.0044, 1.9397, 1.9339, 1.9656, 1.6227, 0.8708, 1.6723, 1.4049, 0.7769, -0.0346, 0.7606, 1.8768, 2.6593, 2.6593, 2.6489, 2.6489, 2.5988, 2.5988, 2.5674, 2.5584, 2.5531, 2.5531, 2.458, 2.4481, 2.4467, 2.4444, 2.4203, 2.4171, 2.3981, 2.3355, 2.334, 2.3283, 2.2648, 2.2322, 2.2157, 2.2117, 2.2001, 2.2001, 2.077, 2.0623, 2.054, 2.0516, 2.0488, 2.044, 2.0153, 1.9379, 1.834, 1.686, 1.6419, 1.6161, 1.5382, 1.9266, 1.7194, 1.7471, 1.6635, 1.3829, 0.8145, 1.2338, 0.7501, 1.3777, 0.6382, 0.5118, 2.7837, 2.7825, 2.7806, 2.7447, 2.7082, 2.679, 2.679, 2.664, 2.6444, 2.6444, 2.6444, 2.6444, 2.6444, 2.63, 2.6258, 2.6177, 2.6177, 2.5748, 2.5512, 2.4567, 2.3976, 2.3842, 2.325, 2.299, 2.2518, 2.1343, 2.1112, 2.108, 2.108, 2.1071, 2.0695, 1.9925, 2.0119, 1.9509, 1.7955, 1.814, 1.9624, 1.0923, 1.9295, 2.0134, 2.7966, 2.7955, 2.7924, 2.7895, 2.7814, 2.7782, 2.7767, 2.7175, 2.682, 2.6629, 2.6435, 2.4835, 2.4177, 2.4161, 2.3522, 2.1498, 2.1434, 2.0485, 2.0209, 1.9905, 1.9849, 1.968, 1.9364, 1.9089, 1.8536, 1.8493, 1.8354, 1.7438, 1.7412, 1.7357, 1.7342, 1.6892, 1.2657, 1.0995, 1.1747, 1.1309, 0.8226, 1.3849, 1.179, 0.7876, 0.8697, 2.8956, 2.8956, 2.8765, 2.8673, 2.8193, 2.8108, 2.7646, 2.7646, 2.7646, 2.7646, 2.7646, 2.6821, 2.6487, 2.611, 2.5442, 2.5426, 2.5406, 2.5389, 2.5012, 2.4896, 2.4628, 2.4428, 2.4228, 2.4031, 2.3881, 2.343, 2.3088, 2.2852, 2.2587, 2.2539, 2.2502, 2.2454, 2.1507, 2.1793, 2.2375, 2.1362, 1.4584, 1.8716, 2.1338, 1.9032, 2.0174, 1.636, 1.9362, 1.1719, 2.1276, 1.6045, 0.6787, 2.88, 2.8734, 2.8635, 2.8097, 2.8097, 2.8097, 2.7886, 2.7831, 2.7831, 2.6979, 2.6747, 2.6686, 2.6652, 2.6263, 2.6155, 2.6049, 2.5595, 2.557, 2.5271, 2.5264, 2.4914, 2.4173, 2.4083, 2.4059, 2.3694, 2.3523, 2.3267, 2.2909, 2.2894, 2.2686, 2.2083, 1.766, 1.9708, 1.9282, 1.4384, 2.0189, 1.8928, 1.9777, 1.6429, 1.485, 1.6773, 1.7217, 1.194, 1.116, 1.4946, 0.3106, 0.1478, 2.9161, 2.8989, 2.8696, 2.8546, 2.8418, 2.835, 2.8082, 2.8082, 2.7987, 2.7964, 2.775, 2.6729, 2.6561, 2.6545, 2.652, 2.6346, 2.5829, 2.5153, 2.5132, 2.4657, 2.4273, 2.3856, 2.3842, 2.3562, 2.3305, 2.3142, 2.2971, 2.2935, 2.2604, 2.242, 2.2323, 2.1431, 1.9972, 1.7768, 1.1104, 1.3139, 1.0534, 0.6206, 1.6151, 1.6608, 1.2437, 0.9887, 2.9797, 2.9491, 2.9321, 2.9206, 2.9206, 2.9206, 2.9206, 2.9206, 2.9206, 2.906, 2.8717, 2.8609, 2.8609, 2.8609, 2.8103, 2.7543, 2.7097, 2.663, 2.6498, 2.6413, 2.6412, 2.6352, 2.5791, 2.5127, 2.4814, 2.479, 2.4601, 2.4592, 2.4377, 2.375, 2.3744, 1.6962, 2.0302, 1.1755, 1.4939, 2.0738, 0.6329, 1.9718, 1.1493, 1.8674, 1.6101, 2.9927, 2.9542, 2.9082, 2.8902, 2.8683, 2.8597, 2.8175, 2.8076, 2.7285, 2.7254, 2.6751, 2.6623, 2.6599, 2.6361, 2.6239, 2.616, 2.5514, 2.5102, 2.5054, 2.5026, 2.441, 2.4007, 2.2205, 2.1972, 2.1899, 2.1485, 2.1438, 2.1331, 2.1246, 2.0896, 2.0175, 1.7393, 1.7372, 1.7247, 1.6458, 0.907, 1.2884, 1.3429, 0.9049, 0.808, 0.3448, 0.9675, 3.0446, 3.0442, 3.0438, 2.9539, 2.8807, 2.8609, 2.8597, 2.8032, 2.802, 2.7368, 2.7317, 2.6602, 2.6561, 2.6462, 2.6437, 2.5492, 2.5176, 2.3868, 2.3722, 2.2514, 2.2456, 2.2387, 2.229, 2.1102, 2.081, 2.0685, 2.0597, 1.9618, 1.9394, 1.8698, 1.711, 1.7503, 1.573, 1.07, 1.3784, 0.5928, 1.1301, 1.2029, 0.9559, 0.8908, 2.9952, 2.9742, 2.9742, 2.9142, 2.9142, 2.8822, 2.8443, 2.7767, 2.7593, 2.7388, 2.7362, 2.7361, 2.7107, 2.6428, 2.6252, 2.6232, 2.5445, 2.5402, 2.5304, 2.5164, 2.4678, 2.4519, 2.4362, 2.411, 2.3565, 2.3558, 2.3558, 2.351, 2.3369, 2.2833, 2.2412, 2.1988, 2.2413, 2.1282, 1.657, 1.4629, 1.8216, 1.024, 1.4376, 1.9624, 1.5146, 1.9914, 1.3923, 1.8034, 0.9953, 0.0413, 3.0894, 3.0799, 3.0073, 3.0073, 2.9636, 2.9211, 2.9082, 2.8541, 2.7899, 2.7793, 2.7207, 2.574, 2.5646, 2.5126, 2.5008, 2.4928, 2.4692, 2.4444, 2.299, 2.1749, 2.1741, 2.1699, 2.1469, 2.1094, 2.107, 2.1069, 2.1066, 2.1059, 2.105, 2.1037, 2.0898, 2.0782, 2.0909, 2.0389, 2.0912, 1.9786, 1.8639, 1.6068, 1.33, 1.742, 1.1382, 1.3883, 0.4727, 1.4315, 0.567, 1.3401, 1.0841, 0.7538, 3.141, 3.1152, 3.1152, 3.0717, 3.0699, 3.0434, 3.0094, 2.9657, 2.962, 2.8987, 2.8971, 2.8014, 2.757, 2.7505, 2.7446, 2.7113, 2.698, 2.6934, 2.6473, 2.6225, 2.6178, 2.6161, 2.6004, 2.5021, 2.5011, 2.4711, 2.4687, 2.4037, 2.3741, 2.2352, 2.2115, 1.9496, 1.8901, 1.8149, 1.8876, 1.9436, 1.5569, 1.4583, 1.5805, 1.3846, 1.5506, 1.0443, 1.3727, 1.03, 0.837, 3.1415, 3.1415, 3.1415, 3.1415, 3.1153, 3.1153, 3.0225, 3.002, 2.8843, 2.8331, 2.8276, 2.8234, 2.809, 2.7855, 2.7778, 2.7253, 2.634, 2.6139, 2.5371, 2.5064, 2.4564, 2.4326, 2.4245, 2.4195, 2.3895, 2.3817, 2.3349, 2.2908, 2.2852, 2.2442, 2.2226, 1.6996, 1.9573, 1.8187, 1.3626, 1.7022, 1.7498, 1.3728, 1.6062, 0.8517, 1.4967, 1.1999, 3.2484, 3.2436, 3.1882, 3.0069, 2.96, 2.9253, 2.9216, 2.8615, 2.7765, 2.7743, 2.773, 2.7721, 2.645, 2.645, 2.6433, 2.6347, 2.5371, 2.519, 2.5082, 2.501, 2.494, 2.4901, 2.4874, 2.451, 2.4404, 2.4041, 2.3811, 2.2539, 2.252, 2.2488, 2.2378, 2.182, 1.8181, 2.0103, 1.1634, 1.7374, 1.4758, 1.5216, 1.8965, 0.9399, 1.2539, 1.7713, 1.2806, 1.1548, 0.7924, 1.2595, 3.1661, 3.1661, 3.1661, 3.0274, 2.9965, 2.9493, 2.9472, 2.9338, 2.8788, 2.8332, 2.7974, 2.7881, 2.7511, 2.7424, 2.6967, 2.695, 2.6683, 2.6609, 2.6575, 2.6439, 2.5488, 2.5165, 2.5094, 2.4385, 2.4126, 2.4115, 2.3862, 2.3559, 2.3438, 2.3121, 2.3094, 2.288, 2.2578, 2.1986, 1.9546, 1.8549, 1.7283, 1.7196, 2.1344, 1.757, 1.4226, 1.4864, 1.9646, 1.0105, 0.9786, 1.8461, 1.9405, 0.9536, 1.4725]}, \"token.table\": {\"Topic\": [3, 10, 12, 18, 10, 12, 18, 9, 18, 14, 1, 3, 4, 10, 15, 17, 18, 3, 16, 18, 6, 8, 12, 15, 1, 3, 4, 5, 7, 14, 17, 5, 6, 15, 18, 2, 3, 15, 3, 6, 10, 15, 17, 19, 1, 1, 1, 1, 5, 13, 17, 1, 1, 9, 16, 5, 9, 2, 5, 10, 15, 16, 5, 10, 4, 9, 14, 15, 1, 2, 5, 6, 15, 16, 1, 2, 7, 10, 11, 14, 16, 18, 19, 1, 2, 5, 3, 7, 14, 6, 3, 5, 9, 3, 9, 14, 18, 8, 14, 15, 19, 5, 9, 10, 15, 13, 14, 10, 13, 7, 14, 18, 3, 11, 5, 17, 19, 2, 8, 10, 15, 18, 2, 2, 4, 6, 7, 1, 2, 3, 4, 5, 6, 13, 15, 18, 11, 17, 19, 2, 13, 5, 12, 5, 5, 3, 15, 3, 14, 17, 19, 5, 7, 8, 18, 1, 2, 7, 8, 9, 10, 16, 18, 2, 4, 11, 1, 1, 9, 11, 17, 6, 11, 6, 16, 6, 5, 12, 11, 1, 4, 5, 7, 8, 9, 12, 14, 15, 17, 4, 2, 3, 7, 8, 9, 17, 5, 10, 19, 3, 5, 3, 5, 2, 4, 5, 8, 9, 10, 13, 2, 13, 19, 4, 18, 1, 13, 16, 5, 18, 3, 5, 6, 11, 14, 15, 1, 7, 15, 19, 10, 12, 15, 14, 16, 7, 9, 4, 9, 10, 19, 3, 15, 18, 3, 5, 10, 18, 14, 3, 6, 11, 12, 14, 3, 5, 9, 12, 5, 12, 12, 14, 16, 4, 1, 5, 5, 8, 13, 15, 8, 15, 16, 17, 10, 11, 18, 2, 4, 7, 16, 17, 2, 5, 10, 2, 6, 6, 8, 16, 17, 5, 11, 14, 6, 7, 13, 15, 16, 5, 9, 12, 3, 9, 18, 8, 9, 10, 12, 15, 18, 1, 4, 15, 4, 8, 11, 16, 2, 2, 1, 5, 7, 11, 13, 1, 5, 8, 16, 2, 5, 14, 16, 19, 9, 19, 1, 3, 4, 5, 8, 11, 13, 14, 3, 5, 6, 11, 17, 19, 10, 16, 18, 9, 18, 13, 15, 4, 5, 13, 16, 19, 5, 6, 13, 17, 5, 12, 13, 15, 17, 19, 18, 14, 18, 3, 5, 19, 16, 19, 7, 4, 9, 8, 2, 4, 5, 6, 12, 13, 17, 19, 2, 15, 19, 3, 7, 17, 19, 3, 17, 11, 11, 12, 19, 8, 17, 6, 5, 9, 10, 3, 13, 5, 17, 5, 12, 5, 5, 11, 19, 5, 5, 10, 17, 4, 5, 7, 17, 4, 14, 1, 9, 3, 8, 18, 1, 4, 6, 11, 13, 8, 17, 11, 1, 18, 8, 5, 12, 15, 3, 10, 14, 15, 17, 3, 4, 7, 8, 9, 10, 12, 17, 2, 9, 10, 1, 3, 14, 16, 3, 6, 8, 11, 16, 3, 10, 2, 4, 9, 13, 2, 19, 7, 13, 18, 10, 11, 16, 9, 11, 14, 17, 4, 1, 16, 19, 1, 16, 19, 8, 6, 7, 15, 5, 15, 16, 3, 11, 1, 7, 1, 3, 8, 10, 14, 3, 4, 18, 19, 19, 1, 4, 5, 7, 1, 4, 11, 9, 12, 2, 3, 5, 8, 10, 12, 14, 15, 8, 3, 4, 11, 17, 18, 1, 3, 8, 14, 18, 19, 1, 3, 11, 14, 17, 18, 1, 1, 3, 5, 6, 8, 9, 10, 12, 14, 18, 6, 15, 16, 19, 1, 2, 4, 7, 8, 11, 18, 11, 2, 3, 8, 16, 17, 3, 9, 17, 18, 5, 6, 18, 2, 5, 15, 17, 1, 12, 19, 8, 8, 10, 15, 16, 7, 9, 12, 14, 16, 19, 9, 6, 14, 18, 2, 4, 7, 9, 11, 13, 16, 18, 8, 15, 9, 14, 2, 4, 10, 12, 10, 6, 7, 16, 6, 6, 6, 14, 15, 10, 11, 2, 3, 8, 14, 16, 19, 10, 11, 15, 1, 3, 1, 9, 13, 16, 17, 5, 6, 8, 10, 15, 16, 17, 18, 6, 10, 15, 18, 15, 3, 16, 17, 1, 12, 15, 8, 9, 14, 17, 4, 5, 6, 7, 1, 2, 3, 5, 7, 8, 10, 14, 16, 17, 18, 19, 10, 18, 3, 8, 17, 6, 8, 9, 16, 18, 3, 5, 8, 18, 1, 3, 4, 11, 12, 16, 4, 5, 11, 15, 17, 1, 4, 5, 8, 10, 11, 13, 14, 16, 19, 3, 4, 5, 6, 9, 11, 14, 15, 16, 17, 5, 8, 9, 15, 3, 4, 1, 3, 4, 7, 9, 15, 3, 10, 13, 1, 13, 16, 17, 10, 6, 8, 14, 16, 18, 5, 12, 5, 12, 16, 3, 5, 10, 14, 6, 10, 14, 15, 19, 15, 17, 19, 2, 2, 3, 4, 6, 9, 10, 11, 17, 9, 10, 15, 2, 15, 6, 12, 1, 2, 4, 5, 7, 9, 10, 11, 14, 16, 17, 18, 1, 7, 9, 12, 13, 15, 3, 5, 8, 10, 19, 3, 6, 9, 12, 7, 17, 7, 7, 3, 8, 3, 6, 8, 11, 12, 16, 8, 11, 11, 12, 9, 14, 5, 9, 19, 8, 10, 3, 4, 10, 11, 13, 18, 2, 18, 3, 8, 11, 15, 2, 2, 11, 18, 5, 4, 6, 7, 9, 12, 14, 15, 14, 19, 11, 2, 7, 14, 16, 3, 5, 11, 14, 17, 5, 8, 2, 3, 5, 14, 3, 6, 1, 4, 8, 19, 2, 8, 9, 13, 14, 19, 2, 5, 1, 5, 8, 5, 12, 15, 12, 19, 5, 12, 13, 8, 9, 12, 18, 1, 10, 18, 1, 5, 12, 6, 8, 9, 9, 1, 3, 4, 8, 9, 10, 17, 1, 3, 4, 8, 16, 5, 9, 18, 19, 5, 17, 5, 15, 17, 4, 5, 12, 17, 15, 16, 1, 6, 4, 10, 1, 8, 14, 19, 5, 6, 8, 12, 15, 16, 17, 5, 15, 16, 3, 5, 6, 12, 1, 2, 3, 5, 6, 8, 16, 17, 1, 3, 10, 15, 1, 3, 5, 8, 9, 10, 14, 15, 8, 8, 10, 15, 9, 17, 1, 2, 3, 7, 8, 11, 12, 14, 19, 1, 10, 16, 19, 1, 3, 4, 7, 8, 3, 6, 1, 6, 8, 9, 11, 13, 15, 16, 18, 2, 4, 7, 1, 2, 3, 4, 5, 6, 9, 14, 17, 19, 4, 5, 6, 7, 13, 4, 9, 15, 18, 8, 9, 10, 11, 15, 16, 10, 3, 4, 5, 6, 8, 15, 8, 9, 10, 11, 15, 16, 19, 2, 5, 17, 2, 3, 4, 7, 12, 15, 16, 1, 5, 8, 10, 12, 14, 18, 1, 14, 11, 12, 14, 4, 6, 18, 5, 10, 12, 18, 8, 6, 13, 14, 19, 3, 4, 8, 9, 10, 11, 14, 18, 19, 4, 9, 12, 13, 15, 16, 19, 3, 14, 3, 9, 19, 1, 2, 3, 4, 5, 6, 9, 10, 12, 13, 14, 17, 8, 9, 10, 12, 14, 15, 16, 18, 9, 12, 4, 14, 16, 18, 8, 10, 15, 5, 8, 10, 18, 14, 3, 8, 13, 8, 1, 17, 1, 2, 3, 4, 10, 14, 16, 1, 8, 15, 17, 4, 12, 16, 2, 7, 10, 11, 13, 18, 2, 9, 2, 3, 4, 8, 9, 14, 15, 17, 17, 2, 3, 13, 18, 3, 8, 11, 17, 4, 6, 4, 3, 14, 18, 2, 5, 8, 12, 14, 8, 11, 4, 1, 13, 13, 17, 7, 9, 16, 18, 19, 7, 1, 3, 5, 10, 9, 16, 1, 2, 3, 4, 7, 9, 18, 3, 11, 12, 14, 15, 16, 18, 19, 5, 12, 14, 15, 5, 15, 17, 19, 2, 3, 7, 1, 14, 10, 19, 17, 18, 19, 17, 18, 2, 7, 2, 10, 16, 17, 18, 1, 2, 3, 4, 5, 6, 9, 10, 14, 19, 1, 3, 4, 10, 11, 14, 1, 3, 5, 14, 15, 18, 19, 3, 3, 5, 6, 10, 12, 16, 1, 3, 7, 14, 17, 18, 5, 12, 13, 19, 5, 7, 15, 6, 7, 10, 12, 15, 18, 1, 3, 8, 14, 15, 16, 17, 19, 1, 3, 12, 18, 3, 6, 8, 9, 10, 12, 13, 14, 15, 19, 10, 11, 12, 17, 1, 3, 16, 6, 10, 16, 3, 15, 16, 17, 18, 4, 5, 6, 19, 1, 11, 1, 4, 5, 8, 14, 16, 18, 8, 3, 7, 2, 10, 16, 9, 16, 19, 1, 4, 7, 9, 12, 18, 8, 18, 15, 16, 4, 16, 1, 3, 14, 9, 14, 8, 9, 10, 11, 18, 19, 3, 4, 8, 4, 2, 3, 7, 9, 11, 17, 19, 2, 6, 7, 9, 4, 14, 4, 9, 2, 2, 4, 5, 11, 12, 16, 17, 19, 5, 3, 3, 5, 9, 14, 1, 3, 9, 14, 14, 9, 12, 18, 3, 11, 13, 15, 5, 10, 3, 6, 7, 15, 8, 9, 15, 2, 12, 19, 7, 14, 5, 13, 1, 7, 8, 5, 10, 11, 3, 4, 14, 15, 1, 3, 7, 18, 19, 5, 8, 14, 8, 13, 18, 9, 9, 5, 12, 5, 12, 5, 15, 3, 3, 17, 1, 8, 12, 19, 3, 5, 18, 13, 13, 4, 10, 13, 4, 11, 11, 4, 4, 6, 4, 4, 6, 1, 12, 15, 1, 8, 13, 18, 19, 4, 7, 6, 8, 6, 12, 13, 3, 14, 17, 18, 1, 2, 4, 10, 12, 13, 2, 4, 7, 8, 9, 5, 10, 12, 9, 14, 3, 5, 18, 1, 5, 9, 12, 19, 3, 11, 1, 1, 13, 15, 13, 13, 13, 1, 5, 19, 9, 10, 18, 9, 7, 9, 8, 13, 1, 11, 12, 15, 18, 1, 3, 5, 19, 3, 6, 16, 8, 14, 17, 18, 15, 6, 16, 17, 19, 17, 19, 3, 5, 7, 8, 17, 8, 9, 15, 12, 14, 15, 18, 10, 14, 5, 11, 14, 1, 6, 17, 2, 19, 8, 15, 17, 4, 8, 9, 11, 14, 1, 3, 16, 18, 19, 6, 11, 14, 19, 3, 16, 3, 19, 1, 1, 3, 3, 4, 5, 6, 8, 11, 12, 13, 14, 15, 17, 19, 11, 11, 12, 13, 18, 19, 2, 4, 8, 8, 12, 1, 2, 10, 2, 3, 5, 7, 11, 13, 16, 17, 19, 16, 19, 3, 5, 16, 17, 11, 17, 5, 19, 2, 17, 2, 11, 18, 9, 10, 3, 5, 11, 17, 19, 14, 19, 11, 18, 19, 4, 11, 15, 16, 5, 12, 5, 12, 1, 4, 6, 1, 5, 7, 15, 17, 9, 19, 4, 6, 8, 3, 4, 3, 8, 12, 2, 14, 2, 4, 6, 11, 13, 16, 4, 7, 18, 5, 9, 11, 14, 17, 18, 1, 5, 9, 13, 15, 18, 19, 3, 17, 19, 3, 16, 10, 6, 15, 6, 5, 10, 19, 3, 5, 16, 9, 15, 9, 2, 9, 14, 15, 18, 3, 11, 12, 2, 4, 14, 7, 7, 14, 16, 1, 3, 5, 7, 9, 11, 12, 14, 17, 18, 4, 6, 11, 14, 16, 18, 19, 1, 13, 4, 4, 5, 11, 14, 15, 16, 1, 6, 10, 17, 7, 7, 7, 9, 6, 11, 16, 11, 16, 11, 14, 9, 18, 3, 7, 8, 9, 10, 11, 14, 18, 6, 3, 7, 12, 15, 3, 4, 6, 7, 9, 10, 11, 17, 18, 9, 4, 7, 19, 10, 15, 16, 5, 10, 11, 15, 19, 3, 5, 10, 18, 5, 12, 5, 12, 17, 19, 1, 2, 10, 14, 9, 16, 17, 4, 6, 14, 15, 16, 1, 3, 3, 5, 18, 19, 1, 4, 5, 7, 9, 14, 16, 17, 2, 3, 8, 1, 3, 18, 10, 14, 15, 16, 18, 1, 12, 13, 18, 12, 19, 12, 19, 2, 8, 14, 18, 10, 13, 1, 5, 2, 15, 17, 2, 17, 19, 2, 17, 18, 12, 5, 7, 5, 12, 17, 18, 19, 5, 11, 13, 15, 3, 17, 1, 9, 14, 15, 16, 18, 4, 9, 19, 9, 10, 16, 16, 18, 12, 13, 11, 11, 3, 8, 10, 10, 18, 3, 10, 10, 10, 2, 5, 6, 10, 12, 14, 17, 5, 8, 14, 15, 18, 19, 3, 6, 9, 10, 12, 13, 19, 17, 1, 2, 12, 14, 6, 14, 1, 11, 12, 16, 6, 12, 13, 11, 3, 12, 5, 6, 15, 16, 19, 14, 19, 1, 4, 10, 14, 15, 16, 17, 18, 3, 10, 17, 19, 3, 4, 5, 12, 5, 14, 16, 1, 2, 3, 4, 5, 8, 13, 14, 15, 19, 1, 18, 6, 14, 18, 6, 1, 3, 4, 5, 6, 7, 8, 9, 10, 14, 15, 15, 18, 19, 3, 7, 4, 9, 19, 1, 2, 4, 8, 12, 16, 17, 12, 8, 17, 9, 18, 4, 7, 6, 4, 4, 4, 1, 2, 7, 8, 10, 15, 16, 17, 19, 6, 15, 18, 4, 5, 7, 11, 16, 19, 2, 18, 3, 5, 6, 7, 8, 9, 12, 13, 14, 16, 19, 3, 5, 17, 16, 19, 1, 4, 5, 7, 11, 12, 13, 15, 16, 17, 19, 1, 2, 5, 8, 9, 13, 17, 3, 7, 8, 15, 1, 3, 12, 17, 19, 1, 4, 3, 5, 8], \"Freq\": [0.12503735778044658, 0.18755603667066986, 0.437630752231563, 0.18755603667066986, 0.22815211622460468, 0.532354937857411, 0.15210141081640313, 0.353401798664758, 0.5301026979971369, 0.9569845299817145, 0.19520395042033717, 0.04880098760508429, 0.48800987605084295, 0.04880098760508429, 0.04880098760508429, 0.09760197521016858, 0.04880098760508429, 0.14934236813012527, 0.5973694725205011, 0.14934236813012527, 0.2970469968089208, 0.05940939936178416, 0.11881879872356832, 0.4752751948942733, 0.05579340531841651, 0.39055383722891557, 0.11158681063683303, 0.16738021595524952, 0.05579340531841651, 0.11158681063683303, 0.05579340531841651, 0.17729738057520575, 0.17729738057520575, 0.3545947611504115, 0.17729738057520575, 0.17768376104307668, 0.35536752208615335, 0.35536752208615335, 0.04616186523086599, 0.3692949218469279, 0.04616186523086599, 0.04616186523086599, 0.13848559569259797, 0.3231330566160619, 0.9904193516817252, 0.9217055940795692, 0.8958125636270428, 0.9411363750706987, 0.11834743771211614, 0.4733897508484646, 0.35504231313634843, 0.9875197714397281, 0.9951258667976735, 0.6770069865861293, 0.19343056759603697, 0.15259487736005264, 0.7629743868002633, 0.928541202069425, 0.19401855297850323, 0.5820556589355097, 0.09700927648925162, 0.09700927648925162, 0.1531050398447078, 0.765525199223539, 0.15923803592818253, 0.15923803592818253, 0.5307934530939418, 0.10615869061878835, 0.17725364344490815, 0.04431341086122704, 0.17725364344490815, 0.04431341086122704, 0.3545072868898163, 0.17725364344490815, 0.11765847477853478, 0.07059508486712086, 0.04706338991141391, 0.14119016973424173, 0.11765847477853478, 0.09412677982282781, 0.04706338991141391, 0.16472186468994868, 0.16472186468994868, 0.08322579709267787, 0.7490321738341008, 0.08322579709267787, 0.43863186771462825, 0.43863186771462825, 0.08772637354292566, 0.9197072262457283, 0.6056290414722302, 0.15140726036805754, 0.15140726036805754, 0.09589935608576171, 0.09589935608576171, 0.6712954926003319, 0.09589935608576171, 0.5053405852313239, 0.16844686174377463, 0.22459581565836617, 0.05614895391459154, 0.1068112308345861, 0.3204336925037583, 0.1068112308345861, 0.4272449233383444, 0.713691640134158, 0.1784229100335395, 0.8516880069418991, 0.13447705372766827, 0.1754803438026387, 0.5264410314079161, 0.1754803438026387, 0.3822438711066727, 0.573365806660009, 0.1755719617897683, 0.1755719617897683, 0.5267158853693049, 0.805862608544907, 0.05036641303405669, 0.025183206517028343, 0.07554961955108502, 0.025183206517028343, 0.9773611659946193, 0.483718686116629, 0.0744182594025583, 0.37209129701279153, 0.03720912970127915, 0.1075546100992744, 0.2868122935980651, 0.07170307339951627, 0.1075546100992744, 0.07170307339951627, 0.07170307339951627, 0.14340614679903255, 0.1075546100992744, 0.03585153669975814, 0.6556998637304651, 0.13113997274609301, 0.13113997274609301, 0.7728167457391759, 0.1545633491478352, 0.3414699716407116, 0.6449988353213442, 0.9174981846397212, 0.8958218866397577, 0.1521068738691735, 0.608427495476694, 0.1316205668504093, 0.1316205668504093, 0.3948617005512279, 0.2632411337008186, 0.046011909447608815, 0.046011909447608815, 0.2760714566856529, 0.5981548228189146, 0.06016505844731277, 0.18049517534193832, 0.02005501948243759, 0.04011003896487518, 0.26071525327168865, 0.04011003896487518, 0.24066023378925108, 0.12033011689462554, 0.1324539382794201, 0.1324539382794201, 0.5298157531176804, 0.8958125636287019, 0.8958125636287019, 0.15026825015534095, 0.7513412507767048, 0.9032245778149937, 0.994978698785924, 0.8739159021590468, 0.8947478973255981, 0.8675776322947125, 0.893924782086836, 0.8362462823212358, 0.13937438038687264, 0.9428192502293267, 0.1423404991888245, 0.03558512479720612, 0.07117024959441225, 0.03558512479720612, 0.10675537439161836, 0.3558512479720612, 0.03558512479720612, 0.03558512479720612, 0.10675537439161836, 0.07117024959441225, 0.9135458836935119, 0.08861368584598393, 0.08861368584598393, 0.17722737169196787, 0.04430684292299197, 0.35445474338393573, 0.17722737169196787, 0.17770149715798028, 0.5331044914739408, 0.17770149715798028, 0.11762025324164078, 0.8233417726914855, 0.3967966948247165, 0.5290622597662887, 0.2847369173750645, 0.07118422934376613, 0.569473834750129, 0.46993344748644267, 0.06713334964092038, 0.3356667482046019, 0.13426669928184076, 0.15148857964562076, 0.15148857964562076, 0.605954318582483, 0.2651230577822987, 0.6628076444557468, 0.09209384471850748, 0.8288446024665674, 0.061395896479004994, 0.926553442084617, 0.9123611164392168, 0.3699157465256316, 0.2113804265860752, 0.0528451066465188, 0.15853531993955639, 0.1056902132930376, 0.1056902132930376, 0.11770457642332793, 0.11770457642332793, 0.3531137292699838, 0.3531137292699838, 0.17785960508811544, 0.35571921017623087, 0.35571921017623087, 0.7506295282245892, 0.15012590564491782, 0.2068603431640246, 0.7797043703874774, 0.10709203393904991, 0.7496442375733493, 0.053546016969524955, 0.053546016969524955, 0.131810354393098, 0.08787356959539865, 0.7469253415608885, 0.16406501399430998, 0.08203250699715499, 0.4921950419829299, 0.16406501399430998, 0.9359187360237935, 0.3325668434378612, 0.46559358081300567, 0.06651336868757224, 0.06651336868757224, 0.06651336868757224, 0.08149045053239976, 0.7741592800577977, 0.04074522526619988, 0.08149045053239976, 0.7065617635219857, 0.17664044088049644, 0.931288780374875, 0.11570064792325115, 0.809904535462758, 0.9918340622442313, 0.5342858966989237, 0.35619059779928247, 0.134092007854506, 0.067046003927253, 0.67046003927253, 0.067046003927253, 0.7141344927028533, 0.23804483090095113, 0.17508760060020565, 0.7878942027009254, 0.30271227882937146, 0.15135613941468573, 0.4540684182440572, 0.19786157198907203, 0.06595385732969067, 0.06595385732969067, 0.39572314397814407, 0.19786157198907203, 0.09765018324775335, 0.09765018324775335, 0.6835512827342733, 0.1074693199699935, 0.7522852397899544, 0.15045927630447511, 0.15045927630447511, 0.45137782891342537, 0.15045927630447511, 0.05531096686800811, 0.3318658012080487, 0.5531096686800812, 0.0954391903739253, 0.0954391903739253, 0.0954391903739253, 0.0954391903739253, 0.5726351422435518, 0.15246911823157297, 0.6098764729262919, 0.15246911823157297, 0.17681992431515323, 0.35363984863030645, 0.35363984863030645, 0.10133089025886811, 0.10133089025886811, 0.05066544512943406, 0.20266178051773623, 0.25332722564717025, 0.25332722564717025, 0.6139537865563186, 0.15348844663907965, 0.15348844663907965, 0.11706705411772331, 0.11706705411772331, 0.5853352705886166, 0.11706705411772331, 0.9179898637309278, 0.8127980081255207, 0.4741482955133509, 0.23707414775667546, 0.059268536939168864, 0.11853707387833773, 0.059268536939168864, 0.11717552495857625, 0.11717552495857625, 0.2343510499171525, 0.468702099834305, 0.23285128355663018, 0.23285128355663018, 0.23285128355663018, 0.14817808953603737, 0.14817808953603737, 0.17570772404306056, 0.7028308961722423, 0.30402081023736727, 0.15201040511868363, 0.050670135039561214, 0.07600520255934182, 0.10134027007912243, 0.20268054015824485, 0.025335067519780607, 0.050670135039561214, 0.17496382516648196, 0.10767004625629659, 0.4441389408072234, 0.06729377891018537, 0.1480463136024078, 0.040376267346111216, 0.30043485405708803, 0.6008697081141761, 0.9023793808010709, 0.35340179867902294, 0.5301026980185344, 0.8158171082764538, 0.1483303833229916, 0.03686061260978807, 0.22116367565872844, 0.5897698017566091, 0.07372122521957614, 0.03686061260978807, 0.10702533129003548, 0.32107599387010644, 0.42810132516014193, 0.10702533129003548, 0.15766667783924493, 0.11825000837943371, 0.31533335567848986, 0.07883333891962246, 0.1970833472990562, 0.03941666945981123, 0.9216869883378145, 0.7369959596450424, 0.21057027418429783, 0.6036004798366933, 0.15090011995917332, 0.15090011995917332, 0.8323907357169523, 0.10404884196461904, 0.986024234377885, 0.5377500641756934, 0.17925002139189777, 0.8933315254897336, 0.43467852175559923, 0.025569324809152895, 0.17898527366407027, 0.05113864961830579, 0.1278466240457645, 0.07670797442745869, 0.05113864961830579, 0.025569324809152895, 0.13283263083772154, 0.3984978925131646, 0.3984978925131646, 0.15025320373603318, 0.15025320373603318, 0.15025320373603318, 0.45075961120809954, 0.8452008026267711, 0.10565010032834639, 0.9313456007808839, 0.9313456007808839, 0.7584440356543972, 0.15168880713087945, 0.5323656950074879, 0.35491046333832527, 0.8348418000323142, 0.5321079342904652, 0.17736931143015508, 0.17736931143015508, 0.17852885071420904, 0.7141154028568362, 0.755802311933272, 0.1511604623866544, 0.8605647297965658, 0.06619728690742814, 0.9174981846397212, 0.7226123410168296, 0.11117112938720455, 0.11117112938720455, 0.8958218866397577, 0.2667549339221496, 0.5335098678442992, 0.1333774669610748, 0.17635227286148594, 0.17635227286148594, 0.3527045457229719, 0.17635227286148594, 0.12424454642561059, 0.8075895517664687, 0.1786095552826897, 0.7144382211307588, 0.10557686852178083, 0.10557686852178083, 0.7390380796524658, 0.5227923114015084, 0.12300995562388432, 0.03075248890597108, 0.03075248890597108, 0.24601991124776865, 0.7122348364891439, 0.17805870912228597, 0.9313456007965111, 0.5332036301857561, 0.3554690867905041, 0.9389992687476495, 0.5308201832340543, 0.1769400610780181, 0.1769400610780181, 0.5775881425761328, 0.09626469042935545, 0.09626469042935545, 0.09626469042935545, 0.09626469042935545, 0.1716021314842527, 0.06864085259370108, 0.10296127889055162, 0.13728170518740215, 0.06864085259370108, 0.03432042629685054, 0.3432042629685054, 0.03432042629685054, 0.17913475229972314, 0.17913475229972314, 0.5374042568991695, 0.1510513587003512, 0.5286797554512291, 0.22657703805052676, 0.0755256793501756, 0.4937358354656647, 0.07053369078080925, 0.21160107234242773, 0.07053369078080925, 0.1410673815616185, 0.5315634070829977, 0.2657817035414988, 0.5193117248584436, 0.1298279312146109, 0.04327597707153697, 0.2596558624292218, 0.7861251392442538, 0.09826564240553172, 0.21166421690216464, 0.21166421690216464, 0.4233284338043293, 0.23393245428999926, 0.5848311357249981, 0.11696622714499963, 0.1760868657523039, 0.08804343287615195, 0.1760868657523039, 0.4402171643807597, 0.924371901530293, 0.6108622993178601, 0.1773471191567981, 0.19705235461866455, 0.936329252108102, 0.6082086633488532, 0.3475478076279161, 0.893331525509423, 0.11714568523582544, 0.7028741114149527, 0.11714568523582544, 0.562911860800798, 0.1407279652001995, 0.21109194780029927, 0.13116046596173114, 0.7869627957703869, 0.45527687880588025, 0.45527687880588025, 0.23591480877458643, 0.7077444263237592, 0.23793536125869805, 0.5353545628320706, 0.17845152094402356, 0.04222466432569378, 0.2111233216284689, 0.04222466432569378, 0.6755946292111005, 0.8753273182282921, 0.28385354408510094, 0.2128901580638257, 0.14192677204255047, 0.35481693010637616, 0.13422567622509482, 0.671128381125474, 0.13422567622509482, 0.1775540134527543, 0.7102160538110172, 0.059007152742883054, 0.17702145822864915, 0.059007152742883054, 0.059007152742883054, 0.11801430548576611, 0.059007152742883054, 0.3540429164572983, 0.059007152742883054, 0.8933315254990648, 0.6430338934310039, 0.060663574851981504, 0.15772529461515192, 0.0485308598815852, 0.0970617197631704, 0.12276750775259761, 0.04910700310103904, 0.04910700310103904, 0.04910700310103904, 0.51562353256091, 0.19642801240415617, 0.4728581045084532, 0.07092871567626799, 0.14185743135253598, 0.07092871567626799, 0.1182145261271133, 0.07092871567626799, 0.895812563615821, 0.07605464283250059, 0.3549216665516694, 0.050703095221667056, 0.10140619044333411, 0.07605464283250059, 0.12675773805416765, 0.07605464283250059, 0.050703095221667056, 0.025351547610833528, 0.050703095221667056, 0.504909507737273, 0.05049095077372729, 0.20196380309490916, 0.20196380309490916, 0.031036549344040015, 0.09310964803212005, 0.06207309868808003, 0.031036549344040015, 0.06207309868808003, 0.5276213388486802, 0.2172558454082801, 0.9600220532451617, 0.6995303601992464, 0.05381002770763434, 0.05381002770763434, 0.10762005541526869, 0.05381002770763434, 0.07059534027695669, 0.28238136110782674, 0.49416738193869675, 0.07059534027695669, 0.926553442071887, 0.7495781285676764, 0.10708258979538234, 0.2126739978678837, 0.07089133262262791, 0.2126739978678837, 0.4253479957357674, 0.31258914210200145, 0.31258914210200145, 0.31258914210200145, 0.8933315255182689, 0.375107697304381, 0.4822813251056327, 0.053586813900625856, 0.053586813900625856, 0.1949784895661313, 0.4735191889463189, 0.05570813987603752, 0.08356220981405628, 0.1949784895661313, 0.8753273182262243, 0.9172708955481731, 0.13199220517947133, 0.6599610258973566, 0.13199220517947133, 0.29860368394258074, 0.08531533826930879, 0.042657669134654394, 0.08531533826930879, 0.25594601480792634, 0.042657669134654394, 0.08531533826930879, 0.042657669134654394, 0.5349462858637268, 0.35663085724248456, 0.1920393271579969, 0.7681573086319876, 0.06339592386612829, 0.3169796193306414, 0.5388653528620904, 0.031697961933064144, 0.9319641827796877, 0.5730901788187827, 0.24561007663662113, 0.08187002554554038, 0.9197072262457283, 0.988624602233307, 0.9900380614274914, 0.2363213664211414, 0.7089640992634242, 0.7125615326074554, 0.17814038315186384, 0.10550243228776747, 0.5275121614388374, 0.052751216143883735, 0.10550243228776747, 0.21100486457553494, 0.052751216143883735, 0.3550593845385149, 0.17752969226925744, 0.3550593845385149, 0.11769900153847224, 0.8238930107693057, 0.11989059869861564, 0.05994529934930782, 0.11989059869861564, 0.6893709425170399, 0.9032245778232155, 0.04977047186144668, 0.6719013701295302, 0.09954094372289336, 0.02488523593072334, 0.02488523593072334, 0.02488523593072334, 0.02488523593072334, 0.07465570779217003, 0.9718240788026079, 0.09140084923680367, 0.7616737436400305, 0.12186779898240488, 0.8730807231630151, 0.30062120766872585, 0.15031060383436293, 0.45093181150308875, 0.17789168481969458, 0.35578336963938917, 0.35578336963938917, 0.1184530881795163, 0.4738123527180652, 0.1184530881795163, 0.1184530881795163, 0.37187435614996917, 0.10624981604284832, 0.05312490802142416, 0.47812417219281744, 0.177237077293099, 0.11815805152873267, 0.1575440687049769, 0.01969300858812211, 0.01969300858812211, 0.059079025764366334, 0.07877203435248845, 0.01969300858812211, 0.09846504294061055, 0.01969300858812211, 0.1575440687049769, 0.03938601717624422, 0.30296669371974805, 0.6059333874394961, 0.2662437990045957, 0.5324875980091914, 0.1774958660030638, 0.8939247820699266, 0.24827287903610257, 0.12413643951805128, 0.3724093185541538, 0.24827287903610257, 0.24413112109835666, 0.0813770403661189, 0.1627540807322378, 0.40688520183059446, 0.12294827549740886, 0.08196551699827256, 0.286879309493954, 0.16393103399654513, 0.24589655099481772, 0.04098275849913628, 0.2657703000556531, 0.08859010001855104, 0.08859010001855104, 0.08859010001855104, 0.35436040007420416, 0.0860695137592432, 0.028689837919747732, 0.057379675839495464, 0.057379675839495464, 0.1721390275184864, 0.057379675839495464, 0.11475935167899093, 0.1721390275184864, 0.11475935167899093, 0.0860695137592432, 0.2013909689477523, 0.025173871118469037, 0.07552161335540711, 0.050347742236938074, 0.10069548447387615, 0.025173871118469037, 0.2013909689477523, 0.10069548447387615, 0.10069548447387615, 0.10069548447387615, 0.17781546745346752, 0.17781546745346752, 0.17781546745346752, 0.35563093490693504, 0.2681182936980421, 0.6702957342451051, 0.08138101611151356, 0.08138101611151356, 0.08138101611151356, 0.48828609666908135, 0.08138101611151356, 0.08138101611151356, 0.09761916082818019, 0.09761916082818019, 0.6833341257972614, 0.3952414038769637, 0.4517044615736728, 0.0564630576967091, 0.0564630576967091, 0.9208450431437545, 0.09594383872500085, 0.09594383872500085, 0.5756630323500052, 0.09594383872500085, 0.09594383872500085, 0.30358706393932733, 0.6889091066315504, 0.3362033234992903, 0.658958514058609, 0.8675776322711286, 0.3695478532527867, 0.10558510092936764, 0.05279255046468382, 0.42234040371747056, 0.19346379002166064, 0.09673189501083032, 0.09673189501083032, 0.3869275800433213, 0.19346379002166064, 0.530033428598971, 0.13250835714974274, 0.2650167142994855, 0.9285412020652327, 0.43924431573090994, 0.04880492397010111, 0.04880492397010111, 0.09760984794020222, 0.04880492397010111, 0.09760984794020222, 0.04880492397010111, 0.14641477191030333, 0.13410256617507232, 0.6705128308753616, 0.13410256617507232, 0.43000046726811203, 0.53750058408514, 0.0968374827869439, 0.8715373450824951, 0.12397640484522006, 0.1593982348009972, 0.03542182995577716, 0.03542182995577716, 0.14168731982310864, 0.1593982348009972, 0.01771091497788858, 0.08855457488944289, 0.03542182995577716, 0.10626548986733148, 0.01771091497788858, 0.08855457488944289, 0.33049193345300765, 0.041311491681625956, 0.08262298336325191, 0.041311491681625956, 0.4544264084978855, 0.041311491681625956, 0.12478279364814951, 0.18717419047222428, 0.24956558729629902, 0.12478279364814951, 0.31195698412037376, 0.3555036363703379, 0.5332554545555068, 0.1521707599819574, 0.760853799909787, 0.9707660478366471, 0.01922309005617123, 0.991572192775813, 0.8996685502844913, 0.2668675609827187, 0.5337351219654374, 0.9245702981657137, 0.03501148222422724, 0.07002296444845447, 0.6827239033724312, 0.12254018778479533, 0.0875287055605681, 0.26371770409596607, 0.6592942602399151, 0.8519839511772638, 0.13107445402727136, 0.3025235586771923, 0.6050471173543845, 0.1332109261989544, 0.6660546309947719, 0.1332109261989544, 0.7661442438127473, 0.15322884876254944, 0.1867865716556347, 0.06226219055187823, 0.12452438110375647, 0.1867865716556347, 0.06226219055187823, 0.3113109527593912, 0.7178752802307727, 0.17946882005769318, 0.15187428715581647, 0.15187428715581647, 0.15187428715581647, 0.5062476238527215, 0.9022681623575184, 0.8127980081267899, 0.8385698159886256, 0.1048212269985782, 0.8825905299361898, 0.03039143204047494, 0.03039143204047494, 0.09117429612142482, 0.09117429612142482, 0.6382200728499737, 0.06078286408094988, 0.03039143204047494, 0.2626778865103234, 0.6566947162758086, 0.873915902164945, 0.05246450856608649, 0.4721805770947784, 0.26232254283043244, 0.20985803426434596, 0.08092127051874522, 0.08092127051874522, 0.24276381155623566, 0.4046063525937261, 0.08092127051874522, 0.30497928503694016, 0.6099585700738803, 0.1415228786447429, 0.3538071966118572, 0.45994935559541444, 0.03538071966118572, 0.7070201065435494, 0.17675502663588735, 0.07032756236339112, 0.07032756236339112, 0.07032756236339112, 0.7032756236339113, 0.08219343378410048, 0.4109671689205024, 0.08219343378410048, 0.08219343378410048, 0.16438686756820095, 0.08219343378410048, 0.7708365881607303, 0.15416731763214608, 0.6126048592997099, 0.15315121482492747, 0.15315121482492747, 0.4248572042813498, 0.4248572042813498, 0.10621430107033746, 0.7435646693122134, 0.10622352418745906, 0.08926837879890259, 0.2678051363967078, 0.6248786515923181, 0.5343353296140465, 0.07633361851629235, 0.22900085554887706, 0.07633361851629235, 0.6832140658857485, 0.0976020094122498, 0.0976020094122498, 0.132943792173154, 0.398831376519462, 0.398831376519462, 0.09742524286118923, 0.29227572858356765, 0.4871262143059461, 0.8916229626848835, 0.3727114063215129, 0.13976677737056734, 0.13976677737056734, 0.04658892579018911, 0.13976677737056734, 0.09317785158037822, 0.04658892579018911, 0.11174843332634836, 0.614616383294916, 0.11174843332634836, 0.05587421666317418, 0.05587421666317418, 0.13290682379781688, 0.5316272951912675, 0.13290682379781688, 0.13290682379781688, 0.35158036493113565, 0.6250317598775745, 0.7061225236073758, 0.11768708726789597, 0.11768708726789597, 0.11813319555335874, 0.2362663911067175, 0.472532782213435, 0.11813319555335874, 0.10423883900586374, 0.8339107120469099, 0.17886034031204154, 0.7154413612481662, 0.6154621894208354, 0.3077310947104177, 0.5835218018858487, 0.09725363364764143, 0.09725363364764143, 0.09725363364764143, 0.24921783966702762, 0.09345668987513536, 0.062304459916756906, 0.09345668987513536, 0.2180656097086492, 0.18691337975027073, 0.09345668987513536, 0.562911860800798, 0.1407279652001995, 0.21109194780029927, 0.14229180346720233, 0.2134377052008035, 0.49802131213520817, 0.07114590173360116, 0.1392342763579871, 0.09282285090532473, 0.046411425452662365, 0.09282285090532473, 0.09282285090532473, 0.3712914036212989, 0.1392342763579871, 0.046411425452662365, 0.11472414293354598, 0.22944828586709196, 0.5353793336898812, 0.07648276195569732, 0.35465083305471884, 0.5910847217578648, 0.07389564179092589, 0.4803216716410183, 0.07389564179092589, 0.2586347462682406, 0.036947820895462946, 0.07389564179092589, 0.9800163353261313, 0.9800163353261313, 0.1067922087536999, 0.8543376700295991, 0.7111483596520893, 0.17778708991302233, 0.16645583079116993, 0.09987349847470196, 0.09987349847470196, 0.03329116615823399, 0.26632932926587194, 0.09987349847470196, 0.03329116615823399, 0.06658233231646798, 0.06658233231646798, 0.08117453789572088, 0.3246981515828835, 0.48704722737432526, 0.08117453789572088, 0.5080502872780365, 0.11290006383956366, 0.1693500957593455, 0.05645003191978183, 0.11290006383956366, 0.6635177874685692, 0.2654071149874277, 0.8958125636287019, 0.10884766666939984, 0.05442383333469992, 0.05442383333469992, 0.1360595833367498, 0.10884766666939984, 0.29933108334084957, 0.1360595833367498, 0.08163575000204988, 0.6874900708470917, 0.09821286726387024, 0.09821286726387024, 0.04856812456028216, 0.2185565605212697, 0.07285218684042324, 0.04856812456028216, 0.09713624912056432, 0.1214203114007054, 0.1457043736808465, 0.07285218684042324, 0.1457043736808465, 0.02428406228014108, 0.330098729011751, 0.08252468225293776, 0.08252468225293776, 0.08252468225293776, 0.330098729011751, 0.1773964562827778, 0.1773964562827778, 0.1773964562827778, 0.3547929125655556, 0.101730523734307, 0.07629789280073025, 0.48321998773795827, 0.12716315466788375, 0.12716315466788375, 0.0508652618671535, 0.940239176290956, 0.07650376446471632, 0.03825188223235816, 0.03825188223235816, 0.15300752892943265, 0.5355263512530142, 0.15300752892943265, 0.14556649953233747, 0.048522166510779154, 0.38817733208623323, 0.09704433302155831, 0.19408866604311661, 0.048522166510779154, 0.048522166510779154, 0.6279363414393543, 0.08970519163419347, 0.17941038326838693, 0.0684589385107712, 0.1026884077661568, 0.1369178770215424, 0.0342294692553856, 0.0342294692553856, 0.3765241618092416, 0.23960628478769921, 0.2280639161205007, 0.07602130537350023, 0.15204261074700046, 0.038010652686750114, 0.15204261074700046, 0.26607456880725083, 0.07602130537350023, 0.765416138015511, 0.1530832276031022, 0.15060548723095998, 0.15060548723095998, 0.6024219489238399, 0.17832021177631463, 0.5349606353289439, 0.17832021177631463, 0.18808898451267653, 0.43887429719624527, 0.12539265634178437, 0.18808898451267653, 0.9197518733381436, 0.2653168587630915, 0.13265842938154576, 0.13265842938154576, 0.3979752881446373, 0.147974993723196, 0.147974993723196, 0.098649995815464, 0.024662498953866, 0.098649995815464, 0.073987496861598, 0.049324997907732, 0.12331249476933001, 0.24662498953866002, 0.11836485927684236, 0.03945495309228079, 0.03945495309228079, 0.07890990618456158, 0.552369343291931, 0.11836485927684236, 0.07890990618456158, 0.682947425266997, 0.248344518278908, 0.0534448387477748, 0.8551174199643968, 0.0534448387477748, 0.0849489371132769, 0.1038264786940051, 0.0660713955325487, 0.0660713955325487, 0.028316312371092302, 0.018877541580728203, 0.056632624742184605, 0.15102033264582562, 0.0660713955325487, 0.009438770790364101, 0.12270402027473332, 0.2076529573880102, 0.4541693920029786, 0.07171095663204925, 0.09561460884273235, 0.11951826105341543, 0.04780730442136617, 0.06374307256182156, 0.023903652210683086, 0.11951826105341543, 0.10650754102075032, 0.7455527871452522, 0.4911886844201943, 0.24559434221009716, 0.1637295614733981, 0.08186478073669905, 0.535585297315559, 0.07651218533079414, 0.30604874132317655, 0.1251013033458821, 0.18765195501882317, 0.2502026066917642, 0.37530391003764635, 0.9359187360151586, 0.26723035845933124, 0.6012683065334953, 0.06680758961483281, 0.9383983122723603, 0.26494231595928214, 0.6623557898982053, 0.193792764748039, 0.1162756588488234, 0.2713098706472546, 0.1356549353236273, 0.07751710589921561, 0.019379276474803902, 0.15503421179843122, 0.1326555327048438, 0.1326555327048438, 0.1326555327048438, 0.5306221308193751, 0.17547818823777475, 0.17547818823777475, 0.5264345647133242, 0.1778717853965959, 0.1778717853965959, 0.26680767809489386, 0.13340383904744693, 0.13340383904744693, 0.044467946349148975, 0.04871231726872096, 0.9255340281056983, 0.22874142530902639, 0.19061785442418866, 0.15249428353935093, 0.03812357088483773, 0.03812357088483773, 0.03812357088483773, 0.03812357088483773, 0.2668649961938641, 0.9032245778100751, 0.9874681957906755, 0.8138554076318152, 0.08138554076318151, 0.08138554076318151, 0.9512113765539693, 0.14020194416179405, 0.7010097208089703, 0.14020194416179405, 0.9836990916792033, 0.8348418000227688, 0.8392352423746369, 0.175724404515521, 0.527173213546563, 0.175724404515521, 0.3139927889357975, 0.06279855778715951, 0.12559711557431902, 0.06279855778715951, 0.37679134672295705, 0.3523562236848482, 0.5637699578957571, 0.8983309640536682, 0.7976673536331454, 0.19941683840828636, 0.3983164984479628, 0.5974747476719442, 0.09585352854679935, 0.28756058564039805, 0.09585352854679935, 0.09585352854679935, 0.3834141141871974, 0.9534698817395545, 0.16150242283814525, 0.3230048456762905, 0.22610339197340334, 0.29070436110866144, 0.7093662847435267, 0.17734157118588167, 0.0626899760412118, 0.0313449880206059, 0.1567249401030295, 0.1880699281236354, 0.1567249401030295, 0.2821048921854531, 0.1253799520824236, 0.1319315437145144, 0.1319315437145144, 0.18470416120032015, 0.07915892622870864, 0.15831785245741728, 0.02638630874290288, 0.02638630874290288, 0.2374767786861259, 0.08856394587751132, 0.3542557835100453, 0.17712789175502264, 0.3542557835100453, 0.09590220090768838, 0.19180440181537675, 0.28770660272306514, 0.3836088036307535, 0.8887336899575048, 0.05554585562234405, 0.027772927811172025, 0.11730167854776354, 0.8211117498343448, 0.7797692233008086, 0.09747115291260107, 0.642986766807576, 0.1753600273111571, 0.1753600273111571, 0.7026477613306787, 0.17566194033266969, 0.992786711171415, 0.9181719719591723, 0.8127980081229873, 0.0679497934123741, 0.0679497934123741, 0.7814226242423021, 0.0679497934123741, 0.14908594801559355, 0.08131960800850559, 0.027106536002835194, 0.027106536002835194, 0.13553268001417595, 0.04065980400425279, 0.2981718960311871, 0.14908594801559355, 0.06776634000708798, 0.013553268001417597, 0.5769109235440982, 0.1648316924411709, 0.08241584622058545, 0.08241584622058545, 0.04120792311029273, 0.04120792311029273, 0.11788527609140097, 0.039295092030466994, 0.11788527609140097, 0.15718036812186797, 0.31436073624373595, 0.039295092030466994, 0.15718036812186797, 0.9395338268514166, 0.21168470141625687, 0.08467388056650275, 0.12701082084975412, 0.1693477611330055, 0.08467388056650275, 0.25402164169950825, 0.30271043024675026, 0.050451738374458384, 0.2522586918722919, 0.30271043024675026, 0.050451738374458384, 0.050451738374458384, 0.08181199695942534, 0.16362399391885069, 0.40905998479712674, 0.32724798783770137, 0.13164782353963086, 0.6582391176981544, 0.13164782353963086, 0.5350562425532509, 0.13376406063831273, 0.26752812127662545, 0.17640645524747353, 0.17640645524747353, 0.5292193657424206, 0.06442792770013585, 0.06442792770013585, 0.35435360235074714, 0.19328378310040753, 0.1610698192503396, 0.06442792770013585, 0.032213963850067924, 0.032213963850067924, 0.19290532082520154, 0.5787159624756046, 0.09645266041260077, 0.09645266041260077, 0.08364447000615138, 0.08364447000615138, 0.10455558750768923, 0.2300222925169163, 0.04182223500307569, 0.04182223500307569, 0.14637782251076492, 0.12546670500922708, 0.04182223500307569, 0.08364447000615138, 0.16346230288859923, 0.08173115144429961, 0.4903869086657977, 0.16346230288859923, 0.2948906598795415, 0.589781319759083, 0.0589781319759083, 0.5332441730799247, 0.17774805769330823, 0.17774805769330823, 0.1315354522073824, 0.0657677261036912, 0.1315354522073824, 0.19730317831107358, 0.4603740827258384, 0.0704143630984323, 0.2816574523937292, 0.0704143630984323, 0.4929005416890261, 0.803666134690339, 0.13394435578172315, 0.04858030215553253, 0.19432120862213012, 0.04858030215553253, 0.43722271939979274, 0.04858030215553253, 0.04858030215553253, 0.09716060431106506, 0.8933315255130955, 0.15012400922563582, 0.750620046128179, 0.8431635252830975, 0.1494247228222294, 0.747123614111147, 0.5645714245184579, 0.28228571225922894, 0.07057142806480723, 0.07654635583163699, 0.459278134989822, 0.07654635583163699, 0.229639067494911, 0.07654635583163699, 0.07654635583163699, 0.6665821268144206, 0.26663285072576826, 0.8889584516657539, 0.8918420458796257, 0.5314629955664033, 0.35430866371093556, 0.6421393831252676, 0.21404646104175587, 0.07134882034725196, 0.4724067308746681, 0.3543050481560011, 0.12444373903704796, 0.18666560855557193, 0.06222186951852398, 0.37333121711114386, 0.06222186951852398, 0.18666560855557193, 0.11949003598641902, 0.7169402159185142, 0.11949003598641902, 0.8392352423776052, 0.08439086925840847, 0.08439086925840847, 0.042195434629204234, 0.08439086925840847, 0.21097717314602116, 0.3375634770336339, 0.08439086925840847, 0.08920609331540437, 0.17841218663080874, 0.08920609331540437, 0.5352365598924262, 0.4439503318135426, 0.4439503318135426, 0.8632865047553636, 0.10791081309442045, 0.8127980081188539, 0.9285412020661818, 0.0302146486811488, 0.42300508153608324, 0.0302146486811488, 0.2719318381303392, 0.0604292973622976, 0.0906439460434464, 0.0906439460434464, 0.8825905299101587, 0.9061603837336639, 0.09676317869818668, 0.09676317869818668, 0.5805790721891201, 0.19352635739637336, 0.1327531753390621, 0.6637658766953105, 0.1327531753390621, 0.877941219429204, 0.877941219429204, 0.1511502621142034, 0.1511502621142034, 0.6046010484568136, 0.05960927513329487, 0.05960927513329487, 0.7749205767328333, 0.05960927513329487, 0.09339635080835139, 0.8872653326793383, 0.13234994613189419, 0.13234994613189419, 0.39704983839568253, 0.26469989226378837, 0.22720389964965396, 0.21773707049758506, 0.5490760908199971, 0.17659128672156477, 0.17659128672156477, 0.5297738601646943, 0.35044151855975963, 0.4672553580796795, 0.7959396539393132, 0.13265660898988554, 0.11801024056164822, 0.41303584196576876, 0.41303584196576876, 0.15247575707787953, 0.6099030283115181, 0.15247575707787953, 0.06270829300478878, 0.06270829300478878, 0.06270829300478878, 0.7524995160574655, 0.10543151608605959, 0.21086303217211919, 0.10543151608605959, 0.10543151608605959, 0.42172606434423837, 0.10556321471286492, 0.10556321471286492, 0.7389425029900545, 0.1783371470567782, 0.5350114411703346, 0.1783371470567782, 0.9059842592025978, 0.8922118905994517, 0.3035621687194023, 0.6071243374388046, 0.37689592839945907, 0.6167387919263876, 0.7070854442212597, 0.17677136105531494, 0.915788912680164, 0.3163508751214785, 0.632701750242957, 0.17758712603366517, 0.17758712603366517, 0.4439678150841629, 0.17758712603366517, 0.43966500972812284, 0.08793300194562456, 0.43966500972812284, 0.9942800941415798, 0.8957296763099672, 0.5382852185965109, 0.17942840619883696, 0.17942840619883696, 0.4593983495853676, 0.5168231432835385, 0.9365936108073533, 0.96003400357087, 0.5130723243944988, 0.410457859515599, 0.8392352423774521, 0.17905783558448948, 0.5371735067534684, 0.612594244836998, 0.1531485612092495, 0.1531485612092495, 0.1335155113382355, 0.1335155113382355, 0.40054653401470647, 0.1335155113382355, 0.1335155113382355, 0.35366983320930595, 0.5305047498139589, 0.1786900227688919, 0.7147600910755676, 0.8589574485126544, 0.0536848405320409, 0.0536848405320409, 0.2107320986767095, 0.140488065784473, 0.49170823024565546, 0.0702440328922365, 0.07718778402299847, 0.50172059614949, 0.07718778402299847, 0.03859389201149924, 0.07718778402299847, 0.2315633520689954, 0.07344866883313743, 0.07344866883313743, 0.33051900974911846, 0.11017300324970615, 0.36724334416568716, 0.06307552211944999, 0.6938307433139499, 0.18922656635834995, 0.7108008147597296, 0.1777002036899324, 0.30216985056917783, 0.6043397011383557, 0.050361641761529644, 0.08154584079428222, 0.4892750447656933, 0.08154584079428222, 0.08154584079428222, 0.16309168158856444, 0.6024042215960911, 0.30120211079804554, 0.9329135255899588, 0.16141274871808092, 0.753259494017711, 0.05380424957269364, 0.860674204453155, 0.9864366819693735, 0.9914504158152018, 0.4103810972705112, 0.49245731672461346, 0.8753273182417993, 0.7483219886213911, 0.1069031412316273, 0.1069031412316273, 0.9172708955533234, 0.31884428297671474, 0.5314071382945246, 0.804683389840836, 0.13411389830680598, 0.16318201758880496, 0.08159100879440248, 0.08159100879440248, 0.16318201758880496, 0.40795504397201243, 0.08109429914130546, 0.16218859828261092, 0.08109429914130546, 0.5676600939891382, 0.7055444338307746, 0.17638610845769365, 0.08819305422884682, 0.15094432774045694, 0.15094432774045694, 0.15094432774045694, 0.45283298322137083, 0.8889584516554072, 0.48931662897467143, 0.16310554299155713, 0.16310554299155713, 0.16310554299155713, 0.15010093946258155, 0.7505046973129077, 0.2635666324356774, 0.2635666324356774, 0.3953499486535161, 0.9026688409278855, 0.05641680255799284, 0.7661824151634418, 0.15323648303268836, 0.8536454618072966, 0.3735725415266878, 0.43583463178113574, 0.06226209025444796, 0.06226209025444796, 0.6677053196007335, 0.26708212784029345, 0.46874752095931943, 0.23437376047965972, 0.11718688023982986, 0.17736437412029968, 0.17736437412029968, 0.35472874824059936, 0.5349972420011955, 0.42799779360095636, 0.15253654115599533, 0.7626827057799767, 0.8783454800280185, 0.09732518629733844, 0.5839511177840306, 0.14598777944600766, 0.09732518629733844, 0.04866259314866922, 0.05264890475084016, 0.21059561900336063, 0.05264890475084016, 0.42119123800672126, 0.26324452375420077, 0.42400084813499517, 0.2826672320899968, 0.1413336160449984, 0.0706668080224992, 0.13030322658669863, 0.7818193595201918, 0.3826486771115465, 0.5739730156673197, 0.941136375068696, 0.5339266523413461, 0.3559511015608974, 0.0286422532022135, 0.042963379803320254, 0.01432112660110675, 0.18617464581438775, 0.057284506404427, 0.2577802788199215, 0.01432112660110675, 0.01432112660110675, 0.042963379803320254, 0.12889013940996075, 0.08592675960664051, 0.10024788620774726, 0.8739159021410441, 0.6943508421656327, 0.10161231836570235, 0.050806159182851175, 0.050806159182851175, 0.10161231836570235, 0.14376269061280617, 0.4312880718384185, 0.35940672653201544, 0.7136159769738796, 0.1784039942434699, 0.12032197574037969, 0.7219318544422781, 0.835913303620213, 0.19841247635058698, 0.09920623817529349, 0.06613749211686232, 0.03306874605843116, 0.06613749211686232, 0.03306874605843116, 0.06613749211686232, 0.19841247635058698, 0.19841247635058698, 0.29909541064668543, 0.5981908212933709, 0.2645972384884181, 0.6614930962210454, 0.6957680231982156, 0.1739420057995539, 0.6998385919268328, 0.1749596479817082, 0.17535407625440297, 0.7014163050176119, 0.7863878032159349, 0.09829847540199187, 0.6608742028576459, 0.08260927535720573, 0.24782782607161719, 0.7139162881162117, 0.17847907202905292, 0.11700505067291375, 0.2925126266822844, 0.17550757600937064, 0.11700505067291375, 0.2340101013458275, 0.6575759963789586, 0.2630303985515834, 0.9169977817673923, 0.702082434632491, 0.17552060865812275, 0.19269635961406378, 0.19269635961406378, 0.38539271922812757, 0.19269635961406378, 0.7064673157724672, 0.11774455262874454, 0.5302947905294252, 0.17676493017647507, 0.17938848747202826, 0.5381654624160848, 0.17938848747202826, 0.21198091730410668, 0.10599045865205334, 0.10599045865205334, 0.10599045865205334, 0.42396183460821335, 0.30227632915830127, 0.45341449373745185, 0.5384338359880498, 0.10768676719760997, 0.21537353439521995, 0.3060735340916544, 0.6121470681833088, 0.09722681116222708, 0.6805876781355895, 0.19445362232445415, 0.8322396398422942, 0.08322396398422942, 0.8674695280665363, 0.33207237545291834, 0.13282895018116733, 0.398486850543502, 0.06641447509058367, 0.06641447509058367, 0.7509762893549524, 0.10728232705070748, 0.10728232705070748, 0.09211233538482679, 0.4145055092317205, 0.23028083846206696, 0.13816850307724016, 0.04605616769241339, 0.09211233538482679, 0.14764395504974362, 0.35434549211938465, 0.17717274605969233, 0.05905758201989745, 0.014764395504974362, 0.22146593257461542, 0.014764395504974362, 0.15044085722429182, 0.4513225716728755, 0.30088171444858364, 0.2612999140884969, 0.6532497852212423, 0.894999662372862, 0.8587597835555194, 0.12267996907935991, 0.9390529578298638, 0.17612962846926317, 0.17612962846926317, 0.5283888854077895, 0.1746465811256922, 0.1746465811256922, 0.5239397433770766, 0.266974839836553, 0.6674370995913825, 0.9172708955554055, 0.09959089825889207, 0.2323787626040815, 0.464757525208163, 0.1659848304314868, 0.03319696608629736, 0.66736428710135, 0.11122738118355834, 0.1668410717753375, 0.1331873306675069, 0.2663746613350138, 0.5327493226700276, 0.9935843959293037, 0.9873946672100891, 0.7504413471461407, 0.15008826942922815, 0.36326615071895735, 0.024217743381263823, 0.12108871690631912, 0.07265323014379146, 0.09687097352505529, 0.024217743381263823, 0.16952420366884677, 0.024217743381263823, 0.048435486762527645, 0.048435486762527645, 0.14388152615746114, 0.047960508719153715, 0.14388152615746114, 0.19184203487661486, 0.09592101743830743, 0.23980254359576858, 0.09592101743830743, 0.17914925050493902, 0.7165970020197561, 0.9439164556451889, 0.5341930556983054, 0.0763132936711865, 0.0763132936711865, 0.0763132936711865, 0.0763132936711865, 0.0763132936711865, 0.17751274985526927, 0.08875637492763463, 0.2662691247829039, 0.44378187463817315, 0.9651049628742862, 0.9824097183567705, 0.8535959382642687, 0.06566122602032837, 0.0949983368356707, 0.2849950105070121, 0.5699900210140242, 0.3475633123568303, 0.5792721872613839, 0.6997744079634975, 0.1749436019908744, 0.17616621912218036, 0.7046648764887214, 0.1371435218981035, 0.06857176094905175, 0.06857176094905175, 0.34285880474525876, 0.10285764142357762, 0.1371435218981035, 0.034285880474525875, 0.034285880474525875, 0.91970722622511, 0.3512031945406135, 0.3512031945406135, 0.7984335071826713, 0.08871483413140792, 0.13718571598612095, 0.06859285799306047, 0.03429642899653024, 0.03429642899653024, 0.2743714319722419, 0.10288928698959071, 0.10288928698959071, 0.13718571598612095, 0.06859285799306047, 0.8916229626897848, 0.302646872905584, 0.151323436452792, 0.453970309358376, 0.1755075150749864, 0.1755075150749864, 0.5265225452249592, 0.3960302449943115, 0.1320100816647705, 0.352026884439388, 0.0440033605549235, 0.0440033605549235, 0.11760377584359724, 0.3528113275307917, 0.11760377584359724, 0.3528113275307917, 0.5305861192893914, 0.42446889543151306, 0.4752555931240969, 0.05280617701378854, 0.3696432390965198, 0.05280617701378854, 0.21294975067953625, 0.10647487533976813, 0.10647487533976813, 0.4258995013590725, 0.13174557078677762, 0.13174557078677762, 0.6587278539338881, 0.06600709537030308, 0.13201419074060616, 0.5940638583327278, 0.06600709537030308, 0.13201419074060616, 0.1515262623407871, 0.7576313117039355, 0.10526989473508258, 0.21053978947016516, 0.10526989473508258, 0.5263494736754128, 0.1074025032839752, 0.6444150197038512, 0.2148050065679504, 0.12371872176361685, 0.09278904132271264, 0.4948748870544674, 0.12371872176361685, 0.12371872176361685, 0.15205511023266083, 0.6082204409306433, 0.15205511023266083, 0.11751238847600491, 0.3525371654280147, 0.47004955390401965, 0.5921106152269191, 0.1973702050756397, 0.03947404101512794, 0.11842212304538383, 0.03947404101512794, 0.2380916214819489, 0.11904581074097445, 0.4761832429638978, 0.11904581074097445, 0.8177083685686425, 0.08177083685686425, 0.6053965649606395, 0.30269828248031977, 0.3370700835020062, 0.11235669450066872, 0.3370700835020062, 0.1685350417510031, 0.7674781280746888, 0.15349562561493776, 0.1770407238839547, 0.7081628955358188, 0.7209979414062945, 0.18024948535157362, 0.8783454800365252, 0.40720325307245, 0.15661663579709614, 0.40720325307245, 0.7414406326541795, 0.06740369387765267, 0.13480738775530535, 0.957846616694198, 0.5277188468374091, 0.35181256455827276, 0.10533707362700867, 0.10533707362700867, 0.10533707362700867, 0.21067414725401734, 0.4213482945080347, 0.3549027606056492, 0.11830092020188306, 0.3549027606056492, 0.11830092020188306, 0.6600418999168062, 0.26401675996672247, 0.07065717004543406, 0.14131434009086813, 0.35328585022717035, 0.28262868018173626, 0.07065717004543406, 0.07065717004543406, 0.17666935458022817, 0.17666935458022817, 0.5300080637406845, 0.3016516468342706, 0.1508258234171353, 0.4524774702514059, 0.5230711650966523, 0.34871411006443487, 0.11935319313818295, 0.8354723519672806, 0.9313456007808839, 0.9313456007808839, 0.15286550561982976, 0.611462022479319, 0.15286550561982976, 0.713736670968188, 0.178434167742047, 0.15934800471581587, 0.8286096245222424, 0.895932587961923, 0.8949996623772905, 0.03546035849154417, 0.03546035849154417, 0.1063810754746325, 0.212762150949265, 0.24822250944080917, 0.17730179245772085, 0.17730179245772085, 0.08859840017796898, 0.11813120023729198, 0.029532800059322996, 0.502057601008491, 0.11813120023729198, 0.08859840017796898, 0.406364989667677, 0.06251769071810415, 0.03125884535905207, 0.06251769071810415, 0.15629422679526037, 0.15629422679526037, 0.09377653607715622, 0.9032245778423047, 0.10639062885816312, 0.10639062885816312, 0.4255625154326525, 0.31917188657448936, 0.6671068852686827, 0.26684275410747305, 0.16125228947345976, 0.16125228947345976, 0.08062614473672988, 0.5643830131571093, 0.15249829480092666, 0.6099931792037067, 0.15249829480092666, 0.9313456008053429, 0.1771336133087372, 0.7085344532349488, 0.1420103198489362, 0.4260309595468086, 0.1420103198489362, 0.0710051599244681, 0.0710051599244681, 0.7519460754807843, 0.15038921509615685, 0.07369669832524665, 0.0982622644336622, 0.12282783054207776, 0.02456556610841555, 0.0491311322168311, 0.2702212271925711, 0.22109009497573995, 0.12282783054207776, 0.10556242214239848, 0.10556242214239848, 0.6333745328543909, 0.10556242214239848, 0.0975894051894539, 0.6831258363261773, 0.0975894051894539, 0.0975894051894539, 0.174630461982678, 0.349260923965356, 0.436576154956695, 0.15671757431107108, 0.14247052210097372, 0.014247052210097373, 0.04274115663029212, 0.12822346989087635, 0.028494104420194746, 0.08548231326058424, 0.1994587309413632, 0.15671757431107108, 0.028494104420194746, 0.8042638172497556, 0.13404396954162592, 0.6803300997886915, 0.09719001425552737, 0.09719001425552737, 0.9197072262502759, 0.081725173469836, 0.326900693879344, 0.027241724489945336, 0.081725173469836, 0.027241724489945336, 0.10896689795978134, 0.081725173469836, 0.05448344897989067, 0.027241724489945336, 0.05448344897989067, 0.081725173469836, 0.131888082940981, 0.395664248822943, 0.263776165881962, 0.17524065692669186, 0.7009626277067674, 0.8831356167804674, 0.30190224804285715, 0.6038044960857143, 0.09023446714423852, 0.12632825400193393, 0.09023446714423852, 0.16242204085962933, 0.27070340143271554, 0.23460961457502014, 0.018046893428847705, 0.9121800062508817, 0.7118609783733089, 0.17796524459332722, 0.768183422505284, 0.21338428402924559, 0.965994075963266, 0.02683316877675739, 0.9197072262582192, 0.9724026611799902, 0.9243719015331798, 0.9243719015334262, 0.11027973003581018, 0.1470396400477469, 0.202179505065652, 0.11027973003581018, 0.18379955005968363, 0.09189977502984181, 0.05513986501790509, 0.01837995500596836, 0.07351982002387344, 0.1512785539899566, 0.1512785539899566, 0.6051142159598264, 0.07510409199254553, 0.15020818398509106, 0.37552045996272765, 0.15020818398509106, 0.07510409199254553, 0.07510409199254553, 0.8113259052307011, 0.09014732280341123, 0.20635825562997434, 0.2579478195374679, 0.051589563907493585, 0.12897390976873396, 0.025794781953746793, 0.07738434586124038, 0.025794781953746793, 0.025794781953746793, 0.051589563907493585, 0.051589563907493585, 0.07738434586124038, 0.09603121541093049, 0.48015607705465246, 0.38412486164372195, 0.7443307412029733, 0.14886614824059466, 0.2660429668032913, 0.15962578008197478, 0.14898406140984313, 0.18090921742623808, 0.09577546804918487, 0.010641718672131652, 0.010641718672131652, 0.07449203070492157, 0.021283437344263304, 0.010641718672131652, 0.010641718672131652, 0.10233669552551235, 0.10233669552551235, 0.051168347762756174, 0.10233669552551235, 0.051168347762756174, 0.5116834776275617, 0.051168347762756174, 0.529550108835848, 0.132387527208962, 0.132387527208962, 0.132387527208962, 0.11735384865752574, 0.23470769731505148, 0.05867692432876287, 0.1760307729862886, 0.3520615459725772, 0.7170520907513508, 0.1792630226878377, 0.7061248405109944, 0.11768747341849908, 0.11768747341849908], \"Term\": [\"abandon\", \"abandon\", \"abandon\", \"abandon\", \"abandon marriage\", \"abandon marriage\", \"abandon marriage\", \"abandoned\", \"abandoned\", \"ability\", \"able\", \"able\", \"able\", \"able\", \"able\", \"able\", \"able\", \"absolutely\", \"absolutely\", \"absolutely\", \"abuse\", \"abuse\", \"abuse\", \"abuse\", \"access\", \"access\", \"access\", \"access\", \"access\", \"access\", \"access\", \"according\", \"according\", \"according\", \"according\", \"across\", \"across\", \"across\", \"act\", \"act\", \"act\", \"act\", \"act\", \"act\", \"action\", \"action helps\", \"action needed\", \"action still\", \"actions\", \"actions\", \"actions\", \"affirmative\", \"affirmative action\", \"afford\", \"afford\", \"age\", \"age\", \"ailments\", \"air\", \"air\", \"air\", \"air\", \"air pollution\", \"air pollution\", \"allow\", \"allow\", \"allow\", \"allow\", \"allows\", \"allows\", \"allows\", \"allows\", \"allows\", \"allows\", \"also\", \"also\", \"also\", \"also\", \"also\", \"also\", \"also\", \"also\", \"also\", \"alternative\", \"alternative\", \"alternative\", \"always\", \"always\", \"always\", \"amendment\", \"among\", \"among\", \"among\", \"animals\", \"animals\", \"animals\", \"animals\", \"another\", \"another\", \"another\", \"another\", \"anyone\", \"anyone\", \"anyone\", \"anyone\", \"area\", \"area\", \"areas\", \"areas\", \"associated\", \"associated\", \"associated\", \"asylum\", \"asylum\", \"attacks\", \"attacks\", \"attacks\", \"ban\", \"ban\", \"ban\", \"ban\", \"ban\", \"ban naturopathy\", \"banned\", \"banned\", \"banned\", \"banned\", \"based\", \"based\", \"based\", \"based\", \"based\", \"based\", \"based\", \"based\", \"based\", \"basic\", \"basic\", \"basic\", \"basis\", \"basis\", \"bay\", \"bay\", \"bay detection\", \"bay detention\", \"behavior\", \"behavior\", \"behind\", \"behind\", \"behind\", \"behind\", \"benefits\", \"benefits\", \"benefits\", \"benefits\", \"better\", \"better\", \"better\", \"better\", \"better\", \"better\", \"better\", \"better\", \"bodies\", \"bodies\", \"bodies\", \"broadcasting\", \"broadcasting license\", \"burden\", \"burden\", \"burn\", \"burning\", \"burning disrespectful\", \"burning flag\", \"burning form\", \"burning prohibited\", \"camp\", \"camp\", \"camps\", \"cannot\", \"cannot\", \"cannot\", \"cannot\", \"cannot\", \"cannot\", \"cannot\", \"cannot\", \"cannot\", \"cannot\", \"capable\", \"care\", \"care\", \"care\", \"care\", \"care\", \"care\", \"carry\", \"carry\", \"carry\", \"cars\", \"cars\", \"case\", \"case\", \"cases\", \"cases\", \"cases\", \"causes\", \"causes\", \"causes\", \"causes\", \"causing\", \"causing\", \"causing\", \"center\", \"center\", \"certain\", \"certain\", \"certain\", \"certain races\", \"chance\", \"change\", \"change\", \"change\", \"change\", \"change\", \"change\", \"changes\", \"changes\", \"changes\", \"changes\", \"charge\", \"charge\", \"charge\", \"chemicals\", \"chemicals\", \"children\", \"children\", \"choice\", \"choice\", \"choice\", \"choice\", \"choose\", \"choose\", \"choose\", \"cities\", \"cities\", \"cities\", \"cities\", \"city\", \"climate\", \"climate\", \"climate\", \"climate\", \"climate\", \"close\", \"close\", \"close\", \"close\", \"close guantanamo\", \"close guantanamo\", \"closed\", \"color\", \"color\", \"combat\", \"commission\", \"commission\", \"commit\", \"commit\", \"commit\", \"commit\", \"commitment\", \"commitment\", \"committed\", \"committed\", \"communities\", \"communities\", \"communities\", \"community\", \"community\", \"community\", \"community\", \"community\", \"companies\", \"companies\", \"companies\", \"compared\", \"compared\", \"concept\", \"concept\", \"concept\", \"concept\", \"conditions\", \"conditions\", \"conditions\", \"considered\", \"considered\", \"considered\", \"considered\", \"considered\", \"constitution\", \"constitution\", \"constitution\", \"consumers\", \"consumers\", \"consumers\", \"continue\", \"continue\", \"continue\", \"continue\", \"continue\", \"continue\", \"contribute\", \"contribute\", \"contribute\", \"control\", \"control\", \"control\", \"control\", \"conventional\", \"conventional medicine\", \"cost\", \"cost\", \"cost\", \"cost\", \"cost\", \"costly\", \"costly\", \"costly\", \"costly\", \"could\", \"could\", \"could\", \"could\", \"could\", \"could help\", \"could help\", \"countries\", \"countries\", \"countries\", \"countries\", \"countries\", \"countries\", \"countries\", \"countries\", \"country\", \"country\", \"country\", \"country\", \"country\", \"country\", \"couple\", \"couple\", \"couples\", \"creating\", \"creating\", \"crime\", \"crime\", \"crimes\", \"crimes\", \"crimes\", \"crimes\", \"crimes\", \"criminal\", \"criminal\", \"criminal\", \"criminal\", \"criminals\", \"criminals\", \"criminals\", \"criminals\", \"criminals\", \"criminals\", \"culture\", \"cure\", \"cure\", \"current\", \"current\", \"current\", \"dad\", \"dad\", \"dads\", \"dads stay\", \"dads stay\", \"damage\", \"dangerous\", \"dangerous\", \"dangerous\", \"dangerous\", \"dangerous\", \"dangerous\", \"dangerous\", \"dangerous\", \"death\", \"death\", \"death\", \"decades\", \"decades\", \"decades\", \"decades\", \"decisions\", \"decisions\", \"declaration\", \"declaration human\", \"democracy\", \"democracy\", \"deny\", \"deny\", \"deserve\", \"destroy\", \"destroy\", \"destroy\", \"destroys\", \"destroys\", \"detainees\", \"detainees\", \"detection\", \"detection\", \"detection camp\", \"detention\", \"detention\", \"detention\", \"detention camp\", \"develop\", \"develop\", \"develop\", \"developed\", \"developed\", \"developed\", \"developed\", \"different\", \"different\", \"digital\", \"digital\", \"discriminated\", \"discriminated\", \"discriminated\", \"discrimination\", \"discrimination\", \"discrimination\", \"discrimination\", \"discrimination\", \"disrespect\", \"disrespect\", \"disrespectful\", \"diversity\", \"diversity\", \"divorce\", \"domestic\", \"domestic\", \"domestic\", \"drugs\", \"drugs\", \"drugs\", \"drugs\", \"drugs\", \"due\", \"due\", \"due\", \"due\", \"due\", \"due\", \"due\", \"due\", \"duty\", \"duty\", \"duty\", \"economy\", \"economy\", \"economy\", \"economy\", \"education\", \"education\", \"education\", \"education\", \"education\", \"effect\", \"effect\", \"effective\", \"effective\", \"effective\", \"effective\", \"effects\", \"effects\", \"efficient\", \"efficient\", \"efficient\", \"else\", \"else\", \"else\", \"emotional\", \"emotional\", \"emotional\", \"emotional\", \"emotionally\", \"end\", \"end\", \"end\", \"end affirmative\", \"end racial\", \"end racial\", \"ended\", \"energy\", \"energy\", \"energy\", \"enforcement\", \"enforcement\", \"enforcement\", \"enjoy\", \"enjoy\", \"ensures\", \"ensures\", \"enter\", \"enter\", \"environment\", \"environment\", \"environment\", \"equal\", \"equal\", \"equal\", \"equal\", \"equal rights\", \"equality\", \"equality\", \"equality\", \"equality\", \"equally\", \"equally\", \"equally\", \"essential\", \"essential\", \"etc\", \"etc\", \"etc\", \"etc\", \"etc\", \"etc\", \"etc\", \"etc\", \"ethnicity\", \"eu\", \"eu\", \"eu\", \"eu\", \"eu\", \"europe\", \"europe\", \"europe\", \"europe\", \"europe\", \"europe\", \"european\", \"european\", \"european\", \"european\", \"european\", \"european\", \"european level\", \"even\", \"even\", \"even\", \"even\", \"even\", \"even\", \"even\", \"even\", \"even\", \"even\", \"every\", \"every\", \"every\", \"every\", \"everyone\", \"everyone\", \"everyone\", \"everyone\", \"everyone\", \"everyone\", \"everyone\", \"everyone right\", \"evidence\", \"evidence\", \"evidence\", \"evidence\", \"evidence\", \"example\", \"example\", \"example\", \"example\", \"expensive\", \"expression\", \"expression\", \"fact\", \"fact\", \"fact\", \"fact\", \"fair\", \"fair\", \"fair\", \"false\", \"families\", \"families\", \"families\", \"families\", \"family\", \"family\", \"family\", \"family\", \"family\", \"far\", \"fathers\", \"fear\", \"fear\", \"fear\", \"feel\", \"feel\", \"feel\", \"feel\", \"feel\", \"feel\", \"feel\", \"feel\", \"females\", \"females\", \"field\", \"field\", \"fight\", \"fight\", \"fight\", \"fight\", \"fight urbanization\", \"first\", \"first\", \"first\", \"first amendment\", \"flag\", \"flag burning\", \"flags\", \"flags\", \"focus\", \"focus\", \"food\", \"food\", \"food\", \"food\", \"food\", \"food\", \"forced\", \"forced\", \"forced\", \"foreign\", \"foreign\", \"form\", \"form\", \"form\", \"form\", \"forms\", \"free\", \"free\", \"free\", \"free\", \"free\", \"free\", \"free\", \"free\", \"free speech\", \"freedom\", \"freedom\", \"freedom\", \"freedom speech\", \"full\", \"full\", \"full\", \"fundamental\", \"fundamental\", \"fundamental\", \"future\", \"future\", \"future\", \"future\", \"gender\", \"gender\", \"gender\", \"gender\", \"get\", \"get\", \"get\", \"get\", \"get\", \"get\", \"get\", \"get\", \"get\", \"get\", \"get\", \"get\", \"get married\", \"get married\", \"getting\", \"getting\", \"getting\", \"girls\", \"give\", \"give\", \"give\", \"give\", \"gives\", \"gives\", \"gives\", \"gives\", \"go\", \"go\", \"go\", \"go\", \"go\", \"go\", \"going\", \"going\", \"going\", \"going\", \"going\", \"good\", \"good\", \"good\", \"good\", \"good\", \"good\", \"good\", \"good\", \"good\", \"good\", \"government\", \"government\", \"government\", \"government\", \"government\", \"government\", \"government\", \"government\", \"government\", \"government\", \"great\", \"great\", \"great\", \"great\", \"greater\", \"greater\", \"green\", \"green\", \"green\", \"green\", \"green\", \"green\", \"group\", \"group\", \"group\", \"groups\", \"groups\", \"groups\", \"groups\", \"grow\", \"growth\", \"growth\", \"growth\", \"growth\", \"growth\", \"guantanamo\", \"guantanamo\", \"guantanamo bay\", \"guantanamo bay\", \"hard\", \"harm\", \"harm\", \"harm\", \"harm\", \"harmful\", \"harmful\", \"harmful\", \"harmful\", \"harmful\", \"hate\", \"hate\", \"hate\", \"healing\", \"health\", \"health\", \"health\", \"health\", \"health\", \"health\", \"health\", \"health\", \"healthcare\", \"healthcare\", \"healthcare\", \"healthy\", \"healthy\", \"held\", \"held\", \"help\", \"help\", \"help\", \"help\", \"help\", \"help\", \"help\", \"help\", \"help\", \"help\", \"help\", \"help\", \"helps\", \"helps\", \"helps\", \"helps\", \"helps\", \"helps\", \"high\", \"high\", \"high\", \"high\", \"high\", \"highest\", \"highest\", \"hold\", \"hold\", \"home\", \"home\", \"home dads\", \"home moms\", \"hope\", \"hope\", \"housing\", \"human\", \"human\", \"human\", \"human\", \"human\", \"human right\", \"human right\", \"human rights\", \"human rights\", \"hurt\", \"hurt\", \"hurting\", \"hurting\", \"hurting\", \"hurts\", \"hurts\", \"idea\", \"idea\", \"idea\", \"idea\", \"idea\", \"idea\", \"ill\", \"ill\", \"illegal\", \"illegal\", \"illegal\", \"illegal\", \"illness\", \"illnesses\", \"immigration\", \"immigration\", \"immoral\", \"important\", \"important\", \"important\", \"important\", \"important\", \"important\", \"important\", \"improve\", \"improve\", \"including\", \"income\", \"income\", \"income\", \"income\", \"increase\", \"increase\", \"increase\", \"increase\", \"increase\", \"increasing\", \"increasing\", \"india\", \"india\", \"india\", \"india\", \"indian\", \"indian\", \"individual\", \"individual\", \"individual\", \"individual\", \"individuals\", \"individuals\", \"individuals\", \"individuals\", \"individuals\", \"individuals\", \"ineffective\", \"ineffective\", \"inequality\", \"inequality\", \"inequality\", \"information\", \"information\", \"information\", \"inhumane\", \"inhumane\", \"innocent\", \"innocent\", \"innocent\", \"institution\", \"institution\", \"institution\", \"institution\", \"institutions\", \"institutions\", \"institutions\", \"international\", \"international\", \"international\", \"involved\", \"involved\", \"involved\", \"jealousy\", \"job\", \"job\", \"job\", \"job\", \"job\", \"job\", \"job\", \"jobs\", \"jobs\", \"jobs\", \"jobs\", \"jobs\", \"justice\", \"justice\", \"justice\", \"justice\", \"keep\", \"keep\", \"keeps\", \"keeps\", \"keeps\", \"kept\", \"kept\", \"kept\", \"kept\", \"kids\", \"kids\", \"kinds\", \"kinds\", \"knowledge\", \"knowledge\", \"lack\", \"lack\", \"lack\", \"lack\", \"law\", \"law\", \"law\", \"law\", \"law\", \"law\", \"law\", \"law enforcement\", \"law enforcement\", \"law enforcement\", \"laws\", \"laws\", \"laws\", \"laws\", \"lead\", \"lead\", \"lead\", \"lead\", \"lead\", \"lead\", \"lead\", \"lead\", \"leads\", \"leads\", \"leads\", \"leads\", \"left\", \"left\", \"legal\", \"legal\", \"legal\", \"legal\", \"legal\", \"legal\", \"legalize\", \"legalize polygamy\", \"legalized\", \"legalized\", \"legalizing\", \"legalizing\", \"less\", \"less\", \"less\", \"less\", \"less\", \"less\", \"less\", \"less\", \"less\", \"let\", \"let\", \"let\", \"let\", \"level\", \"level\", \"level\", \"level\", \"level\", \"levels\", \"levels\", \"license\", \"life\", \"life\", \"life\", \"life\", \"life\", \"life\", \"life\", \"life\", \"lifestyle\", \"lifestyle\", \"lifestyle\", \"like\", \"like\", \"like\", \"like\", \"like\", \"like\", \"like\", \"like\", \"like\", \"like\", \"likely\", \"likely\", \"likely\", \"likely\", \"likely\", \"limit\", \"limit\", \"limit\", \"limit\", \"live\", \"live\", \"live\", \"live\", \"live\", \"live\", \"live together\", \"lives\", \"lives\", \"lives\", \"lives\", \"lives\", \"lives\", \"living\", \"living\", \"living\", \"living\", \"living\", \"living\", \"living\", \"local\", \"local\", \"local\", \"long\", \"long\", \"long\", \"long\", \"long\", \"long\", \"long\", \"longer\", \"longer\", \"longer\", \"longer\", \"longer\", \"longer\", \"longer\", \"longer needed\", \"longer needed\", \"loss\", \"loss\", \"loss\", \"lost\", \"lost\", \"lost\", \"lot\", \"lot\", \"lot\", \"lot\", \"love\", \"lower\", \"lower\", \"lower\", \"lower\", \"make\", \"make\", \"make\", \"make\", \"make\", \"make\", \"make\", \"make\", \"make\", \"makes\", \"makes\", \"makes\", \"makes\", \"makes\", \"makes\", \"makes\", \"making\", \"making\", \"man\", \"man\", \"man\", \"many\", \"many\", \"many\", \"many\", \"many\", \"many\", \"many\", \"many\", \"many\", \"many\", \"many\", \"many\", \"marriage\", \"marriage\", \"marriage\", \"marriage\", \"marriage\", \"marriage\", \"marriage\", \"marriage\", \"marriage important\", \"marriage important\", \"marriage outdated\", \"marriage outdated\", \"marriage outdated\", \"marriage outdated\", \"marriages\", \"marriages\", \"marriages\", \"married\", \"married\", \"married\", \"married\", \"marry\", \"mass\", \"mass\", \"mass\", \"mass migration\", \"matter\", \"matter\", \"may\", \"may\", \"may\", \"may\", \"may\", \"may\", \"may\", \"mean\", \"mean\", \"mean\", \"mean\", \"meaningful\", \"meaningful\", \"meaningful\", \"means\", \"means\", \"means\", \"means\", \"means\", \"means\", \"media\", \"media\", \"medical\", \"medical\", \"medical\", \"medical\", \"medical\", \"medical\", \"medical\", \"medical\", \"medical treatment\", \"medicine\", \"member\", \"member\", \"member\", \"member states\", \"members\", \"members\", \"members\", \"men\", \"men women\", \"men would\", \"mental\", \"mental\", \"mental\", \"might\", \"might\", \"might\", \"might\", \"might\", \"migration\", \"migration\", \"military\", \"minorities\", \"minorities\", \"minority\", \"minority\", \"modern\", \"modern\", \"modern\", \"modern\", \"modern\", \"moms\", \"money\", \"money\", \"money\", \"money\", \"mothers\", \"mothers\", \"much\", \"much\", \"much\", \"much\", \"much\", \"much\", \"much\", \"must\", \"must\", \"must\", \"must\", \"must\", \"must\", \"must\", \"must\", \"nation\", \"nation\", \"nation\", \"nation\", \"national\", \"national\", \"national\", \"national\", \"natural\", \"natural\", \"natural\", \"naturally\", \"naturally\", \"nature\", \"nature\", \"naturopathic\", \"naturopathic\", \"naturopathic\", \"naturopathic medicine\", \"naturopathic medicine\", \"naturopathy\", \"naturopathy banned\", \"naturopathy dangerous\", \"necessary\", \"necessary\", \"necessary\", \"necessary\", \"need\", \"need\", \"need\", \"need\", \"need\", \"need\", \"need\", \"need\", \"need\", \"need\", \"needed\", \"needed\", \"needed\", \"needed\", \"needed\", \"needed\", \"needs\", \"needs\", \"needs\", \"needs\", \"needs\", \"needs\", \"needs\", \"negative\", \"new\", \"new\", \"new\", \"new\", \"new\", \"new\", \"non\", \"non\", \"non\", \"non\", \"non\", \"non\", \"nothing\", \"nothing\", \"nothing\", \"nothing\", \"nuclear\", \"nuclear\", \"nuclear\", \"number\", \"number\", \"number\", \"obtain\", \"obtain\", \"obtain\", \"often\", \"often\", \"often\", \"often\", \"often\", \"often\", \"often\", \"often\", \"old\", \"old\", \"old\", \"old\", \"one\", \"one\", \"one\", \"one\", \"one\", \"one\", \"one\", \"one\", \"one\", \"one\", \"open\", \"open\", \"open\", \"open\", \"opportunities\", \"opportunities\", \"opportunities\", \"opportunity\", \"opportunity\", \"opportunity\", \"order\", \"order\", \"order\", \"order\", \"order\", \"others\", \"others\", \"others\", \"others\", \"otherwise\", \"otherwise\", \"outdated\", \"outdated\", \"outdated\", \"outdated\", \"outdated\", \"outdated\", \"outdated\", \"outdated institution\", \"overcrowding\", \"overcrowding\", \"paper\", \"parent\", \"parent\", \"parents\", \"parents\", \"parents\", \"part\", \"part\", \"part\", \"part\", \"part\", \"part\", \"particular\", \"particular\", \"parties\", \"partner\", \"pass\", \"pass\", \"past\", \"past\", \"past\", \"patients\", \"patients\", \"pay\", \"pay\", \"pay\", \"pay\", \"pay\", \"pay\", \"peace\", \"peace\", \"peace\", \"perform\", \"person\", \"person\", \"person\", \"person\", \"person\", \"person\", \"person\", \"personal\", \"personal\", \"personal\", \"personal\", \"physical\", \"physical\", \"physically\", \"physically\", \"piece\", \"piece paper\", \"place\", \"place\", \"place\", \"place\", \"place\", \"place\", \"place\", \"place keep\", \"placebo\", \"places\", \"places\", \"places\", \"places\", \"play\", \"play\", \"play\", \"playing\", \"playing field\", \"point\", \"point\", \"point\", \"police\", \"police\", \"police\", \"police\", \"pollution\", \"pollution\", \"polygamous\", \"polygamous\", \"polygamous\", \"polygamous\", \"polygamy\", \"polygamy\", \"polygamy\", \"possible\", \"possible\", \"possible\", \"potential\", \"potential\", \"potentially\", \"potentially\", \"poverty\", \"poverty\", \"poverty\", \"practical\", \"practical\", \"practical\", \"practice\", \"practice\", \"practice\", \"practice\", \"practices\", \"practices\", \"practices\", \"practices\", \"practices\", \"prevent\", \"prevent\", \"prevent\", \"preventing\", \"preventing\", \"preventing\", \"print\", \"print media\", \"prison\", \"prison\", \"prisoners\", \"prisoners\", \"prisons\", \"prisons\", \"problem\", \"problems\", \"problems\", \"process\", \"process\", \"process\", \"process\", \"products\", \"products\", \"products\", \"profiling\", \"profiling proven\", \"progress\", \"progress\", \"progress\", \"prohibit\", \"prohibit\", \"prohibit flag\", \"prohibit women\", \"prohibited\", \"prohibited\", \"prohibited combat\", \"prohibiting\", \"prohibiting\", \"promote\", \"promote\", \"promote\", \"promotes\", \"promotes\", \"promotes\", \"promotes\", \"promotes\", \"promoting\", \"promoting\", \"proper\", \"proper\", \"protected\", \"protected\", \"protected\", \"protest\", \"protest\", \"protest\", \"protest\", \"proven\", \"proven\", \"proven\", \"proven\", \"proven\", \"proven\", \"provide\", \"provide\", \"provide\", \"provide\", \"provide\", \"provides\", \"provides\", \"provides\", \"providing\", \"providing\", \"public\", \"public\", \"public\", \"purpose\", \"purpose\", \"purpose\", \"purpose\", \"purpose\", \"pushbacks\", \"pushbacks\", \"qualified\", \"race\", \"race\", \"race\", \"races\", \"racial\", \"racial profiling\", \"racism\", \"racism\", \"racist\", \"raise\", \"raise\", \"raise\", \"raise children\", \"raising\", \"raising\", \"rates\", \"rates\", \"rather\", \"rather\", \"rather\", \"rather\", \"rather\", \"real\", \"real\", \"real\", \"real\", \"reason\", \"reason\", \"reason\", \"recent\", \"recent\", \"recent\", \"recent\", \"reduces\", \"refugees\", \"refugees\", \"refugees\", \"refugees\", \"regardless\", \"regardless\", \"region\", \"region\", \"region\", \"relationship\", \"relationship\", \"relationships\", \"relationships\", \"religion\", \"religious\", \"religious\", \"religious\", \"religious\", \"rely\", \"rely\", \"remain\", \"remain\", \"remain\", \"remains\", \"remains\", \"remains\", \"remedies\", \"remedies\", \"required\", \"required\", \"requires\", \"research\", \"research\", \"research\", \"research\", \"research\", \"resources\", \"resources\", \"resources\", \"resources\", \"resources\", \"respect\", \"respect\", \"respect\", \"respect\", \"responsible\", \"responsible\", \"results\", \"results\", \"reverse\", \"rich\", \"rich\", \"right\", \"right\", \"right\", \"right\", \"right\", \"right\", \"right\", \"right\", \"right\", \"right\", \"right\", \"right\", \"right seek\", \"rights\", \"rights\", \"rights\", \"rights\", \"rights\", \"risk\", \"risk\", \"risk\", \"risks\", \"risks\", \"roles\", \"roles\", \"rural\", \"safe\", \"safe\", \"safe\", \"safe\", \"safe\", \"safe\", \"safe\", \"safe\", \"safe\", \"safe place\", \"safe place\", \"safety\", \"safety\", \"said\", \"said\", \"says\", \"says\", \"school\", \"school\", \"science\", \"science\", \"scientific\", \"scientific\", \"scientific\", \"secure\", \"secure\", \"security\", \"security\", \"security\", \"security\", \"security\", \"see\", \"see\", \"seek\", \"self\", \"self\", \"sense\", \"sense\", \"sense\", \"sense\", \"serves\", \"serves\", \"serves purpose\", \"serves purpose\", \"service\", \"service\", \"service\", \"set\", \"set\", \"set\", \"set\", \"set\", \"several\", \"several\", \"sex\", \"sex\", \"sex\", \"shown\", \"shown\", \"shows\", \"shows\", \"shows\", \"side\", \"side\", \"side effects\", \"single\", \"single\", \"single\", \"single\", \"single\", \"situations\", \"situations\", \"situations\", \"social\", \"social\", \"social\", \"social\", \"social\", \"social\", \"society\", \"society\", \"society\", \"society\", \"society\", \"society\", \"society\", \"something\", \"something\", \"something\", \"sometimes\", \"sometimes\", \"spaces\", \"speech\", \"speech\", \"speech protected\", \"speed\", \"speed\", \"speed\", \"spending\", \"spending\", \"spending\", \"spouse\", \"spouse\", \"stable\", \"state\", \"state\", \"state\", \"state\", \"state\", \"states\", \"states\", \"states\", \"status\", \"status\", \"status\", \"stay\", \"stay home\", \"stay together\", \"stay together\", \"still\", \"still\", \"still\", \"still\", \"still\", \"still\", \"still\", \"still\", \"still\", \"still\", \"stop\", \"stop\", \"stop\", \"stop\", \"stop\", \"stop\", \"stop\", \"stopped\", \"stopped\", \"strength\", \"strong\", \"strong\", \"strong\", \"strong\", \"strong\", \"strong\", \"studies\", \"studies\", \"studies\", \"studies\", \"subsidize\", \"subsidize stay\", \"subsidized\", \"subsidized\", \"subsidizing\", \"subsidizing\", \"subsidizing\", \"subsidizing stay\", \"subsidizing stay\", \"subsidy\", \"subsidy\", \"success\", \"success\", \"support\", \"support\", \"support\", \"support\", \"support\", \"support\", \"support\", \"support\", \"surveillance\", \"sustainable\", \"sustainable\", \"symbol\", \"symbol\", \"take\", \"take\", \"take\", \"take\", \"take\", \"take\", \"take\", \"take\", \"take\", \"take care\", \"taken\", \"taken\", \"taken\", \"takes\", \"takes\", \"takes\", \"tax\", \"tax\", \"tax\", \"tax\", \"tax\", \"terrorism\", \"terrorism\", \"terrorism\", \"terrorism\", \"terrorist\", \"terrorist\", \"terrorists\", \"terrorists\", \"terrorists\", \"terrorists\", \"thing\", \"thing\", \"thing\", \"thing\", \"things\", \"things\", \"things\", \"think\", \"think\", \"think\", \"think\", \"think\", \"third\", \"third\", \"threat\", \"threat\", \"threat\", \"threat\", \"thus\", \"thus\", \"thus\", \"time\", \"time\", \"time\", \"time\", \"time\", \"times\", \"times\", \"times\", \"today\", \"today\", \"today\", \"together\", \"together\", \"together\", \"together\", \"together\", \"tool\", \"tool\", \"tool\", \"tool\", \"torture\", \"torture\", \"towards\", \"towards\", \"traditional\", \"traditional\", \"traditional\", \"traditional\", \"traditional medicine\", \"traditional medicine\", \"transport\", \"transport\", \"treat\", \"treat\", \"treating\", \"treatment\", \"treatment\", \"treatment\", \"treatments\", \"treatments\", \"treatments\", \"trial\", \"trust\", \"trust\", \"try\", \"try\", \"try\", \"try\", \"try\", \"trying\", \"trying\", \"trying\", \"trying\", \"turn\", \"turn\", \"two\", \"two\", \"two\", \"two\", \"two\", \"two\", \"type\", \"type\", \"type\", \"types\", \"types\", \"types\", \"unconstitutional\", \"unconstitutional\", \"unfairly\", \"unfairly\", \"universal\", \"universal declaration\", \"unpaid\", \"unpaid\", \"unpaid\", \"urban\", \"urban\", \"urbanization\", \"urbanization\", \"urbanization leads\", \"urbanization provides\", \"us\", \"us\", \"us\", \"us\", \"us\", \"us\", \"us\", \"use\", \"use\", \"use\", \"use\", \"use\", \"use\", \"used\", \"used\", \"used\", \"used\", \"used\", \"used\", \"used\", \"useful\", \"vaccination\", \"vaccination\", \"vaccination\", \"vaccination\", \"value\", \"value\", \"values\", \"values\", \"values\", \"values\", \"violates\", \"violates\", \"violates\", \"violation\", \"violations\", \"violations\", \"violence\", \"violence\", \"violence\", \"violence\", \"violence\", \"violent\", \"violent\", \"want\", \"want\", \"want\", \"want\", \"want\", \"want\", \"want\", \"want\", \"wants\", \"wants\", \"wants\", \"wants\", \"war\", \"war\", \"war\", \"war\", \"waste\", \"waste\", \"waste\", \"way\", \"way\", \"way\", \"way\", \"way\", \"way\", \"way\", \"way\", \"way\", \"way\", \"ways\", \"ways\", \"weaker\", \"weaker\", \"weaker\", \"weaker men\", \"well\", \"well\", \"well\", \"well\", \"well\", \"well\", \"well\", \"well\", \"well\", \"well\", \"well\", \"whatever\", \"whatever\", \"whatever\", \"wife\", \"wife\", \"wish\", \"within\", \"within\", \"without\", \"without\", \"without\", \"without\", \"without\", \"without\", \"without\", \"without trial\", \"wives\", \"wives\", \"woman\", \"woman\", \"women\", \"women\", \"women capable\", \"women combat\", \"women physically\", \"women prohibited\", \"work\", \"work\", \"work\", \"work\", \"work\", \"work\", \"work\", \"work\", \"work\", \"workforce\", \"workforce\", \"workforce\", \"working\", \"working\", \"working\", \"working\", \"working\", \"working\", \"works\", \"works\", \"world\", \"world\", \"world\", \"world\", \"world\", \"world\", \"world\", \"world\", \"world\", \"world\", \"world\", \"worst\", \"worst\", \"worst\", \"worth\", \"worth\", \"would\", \"would\", \"would\", \"would\", \"would\", \"would\", \"would\", \"would\", \"would\", \"would\", \"would\", \"wrong\", \"wrong\", \"wrong\", \"wrong\", \"wrong\", \"wrong\", \"wrong\", \"year\", \"year\", \"year\", \"year\", \"years\", \"years\", \"years\", \"years\", \"years\", \"yes\", \"yes\", \"young\", \"young\", \"young\"]}, \"R\": 30, \"lambda.step\": 0.01, \"plot.opts\": {\"xlab\": \"PC1\", \"ylab\": \"PC2\"}, \"topic.order\": [17, 12, 8, 6, 1, 3, 15, 19, 2, 13, 5, 10, 18, 7, 16, 14, 4, 11, 9]};\n",
       "\n",
       "function LDAvis_load_lib(url, callback){\n",
       "  var s = document.createElement('script');\n",
       "  s.src = url;\n",
       "  s.async = true;\n",
       "  s.onreadystatechange = s.onload = callback;\n",
       "  s.onerror = function(){console.warn(\"failed to load library \" + url);};\n",
       "  document.getElementsByTagName(\"head\")[0].appendChild(s);\n",
       "}\n",
       "\n",
       "if(typeof(LDAvis) !== \"undefined\"){\n",
       "   // already loaded: just create the visualization\n",
       "   !function(LDAvis){\n",
       "       new LDAvis(\"#\" + \"ldavis_el265219265388174089987104407\", ldavis_el265219265388174089987104407_data);\n",
       "   }(LDAvis);\n",
       "}else if(typeof define === \"function\" && define.amd){\n",
       "   // require.js is available: use it to load d3/LDAvis\n",
       "   require.config({paths: {d3: \"https://d3js.org/d3.v5\"}});\n",
       "   require([\"d3\"], function(d3){\n",
       "      window.d3 = d3;\n",
       "      LDAvis_load_lib(\"https://cdn.jsdelivr.net/gh/bmabey/pyLDAvis@3.4.0/pyLDAvis/js/ldavis.v3.0.0.js\", function(){\n",
       "        new LDAvis(\"#\" + \"ldavis_el265219265388174089987104407\", ldavis_el265219265388174089987104407_data);\n",
       "      });\n",
       "    });\n",
       "}else{\n",
       "    // require.js not available: dynamically load d3 & LDAvis\n",
       "    LDAvis_load_lib(\"https://d3js.org/d3.v5.js\", function(){\n",
       "         LDAvis_load_lib(\"https://cdn.jsdelivr.net/gh/bmabey/pyLDAvis@3.4.0/pyLDAvis/js/ldavis.v3.0.0.js\", function(){\n",
       "                 new LDAvis(\"#\" + \"ldavis_el265219265388174089987104407\", ldavis_el265219265388174089987104407_data);\n",
       "            })\n",
       "         });\n",
       "}\n",
       "</script>"
      ],
      "text/plain": [
       "PreparedData(topic_coordinates=              x         y  topics  cluster      Freq\n",
       "topic                                               \n",
       "16    -0.097721 -0.013168       1        1  8.017294\n",
       "11    -0.120415  0.007731       2        1  6.791000\n",
       "7      0.031173 -0.002323       3        1  6.636596\n",
       "5     -0.193973  0.036312       4        1  6.560764\n",
       "0      0.092779  0.164950       5        1  6.559431\n",
       "2      0.002223  0.156303       6        1  6.133496\n",
       "14    -0.286488 -0.101846       7        1  6.043073\n",
       "18     0.126567 -0.153992       8        1  5.296482\n",
       "1     -0.027345 -0.169196       9        1  5.201324\n",
       "12     0.084600 -0.100328      10        1  5.068215\n",
       "4      0.012339  0.036947      11        1  4.831351\n",
       "9      0.131192  0.144436      12        1  4.717831\n",
       "17    -0.092465  0.173592      13        1  4.713327\n",
       "6      0.055258 -0.085765      14        1  4.576413\n",
       "15     0.101894 -0.070611      15        1  4.159253\n",
       "13     0.022271 -0.054955      16        1  3.751783\n",
       "3      0.003361  0.081962      17        1  3.742319\n",
       "10     0.084088 -0.123045      18        1  3.640840\n",
       "8      0.070662  0.072995      19        1  3.559207, topic_info=            Term        Freq       Total Category  logprob  loglift\n",
       "874        women  149.000000  149.000000  Default  30.0000  30.0000\n",
       "520  naturopathy  127.000000  127.000000  Default  29.0000  29.0000\n",
       "293         flag  116.000000  116.000000  Default  28.0000  28.0000\n",
       "11        action  115.000000  115.000000  Default  27.0000  27.0000\n",
       "82       burning  100.000000  100.000000  Default  26.0000  26.0000\n",
       "..           ...         ...         ...      ...      ...      ...\n",
       "692       rights    5.591642   59.047959  Topic19  -4.4734   0.9786\n",
       "261        every    4.465888   19.805529  Topic19  -4.6982   1.8461\n",
       "712     security    4.235756   17.093279  Topic19  -4.7511   1.9405\n",
       "539          one    4.417113   47.821452  Topic19  -4.7092   0.9536\n",
       "526        needs    3.949282   25.448471  Topic19  -4.8212   1.4725\n",
       "\n",
       "[878 rows x 6 columns], token_table=      Topic      Freq              Term\n",
       "term                                   \n",
       "0         3  0.125037           abandon\n",
       "0        10  0.187556           abandon\n",
       "0        12  0.437631           abandon\n",
       "0        18  0.187556           abandon\n",
       "1        10  0.228152  abandon marriage\n",
       "...     ...       ...               ...\n",
       "892       1  0.717052               yes\n",
       "892       4  0.179263               yes\n",
       "893       3  0.706125             young\n",
       "893       5  0.117687             young\n",
       "893       8  0.117687             young\n",
       "\n",
       "[2178 rows x 3 columns], R=30, lambda_step=0.01, plot_opts={'xlab': 'PC1', 'ylab': 'PC2'}, topic_order=[17, 12, 8, 6, 1, 3, 15, 19, 2, 13, 5, 10, 18, 7, 16, 14, 4, 11, 9])"
      ]
     },
     "execution_count": 43,
     "metadata": {},
     "output_type": "execute_result"
    }
   ],
   "source": [
    "pyLDAvis.lda_model.prepare(lda,tf,vectorizer)"
   ]
  },
  {
   "cell_type": "code",
   "execution_count": 44,
   "metadata": {},
   "outputs": [
    {
     "data": {
      "text/plain": [
       "array([[0.0075188 , 0.0075188 , 0.0075188 , ..., 0.86466165, 0.0075188 ,\n",
       "        0.0075188 ],\n",
       "       [0.0075188 , 0.0075188 , 0.0075188 , ..., 0.72180451, 0.0075188 ,\n",
       "        0.0075188 ],\n",
       "       [0.0037594 , 0.15912601, 0.0037594 , ..., 0.0037594 , 0.0037594 ,\n",
       "        0.0037594 ],\n",
       "       ...,\n",
       "       [0.00219298, 0.00219298, 0.00219298, ..., 0.00219298, 0.00219298,\n",
       "        0.14093461],\n",
       "       [0.0075188 , 0.0075188 , 0.0075188 , ..., 0.0075188 , 0.0075188 ,\n",
       "        0.0075188 ],\n",
       "       [0.21198654, 0.00877193, 0.00877193, ..., 0.00877193, 0.00877193,\n",
       "        0.00877193]])"
      ]
     },
     "execution_count": 44,
     "metadata": {},
     "output_type": "execute_result"
    }
   ],
   "source": [
    "# extracting the document topic vectors to use as classification features\n",
    "doc_topics = lda.transform(tf)\n",
    "doc_topics"
   ]
  },
  {
   "cell_type": "code",
   "execution_count": 45,
   "metadata": {},
   "outputs": [],
   "source": [
    "%store -r doc2vec_final"
   ]
  },
  {
   "cell_type": "code",
   "execution_count": 46,
   "metadata": {},
   "outputs": [],
   "source": [
    "%store -r tagged_docs"
   ]
  },
  {
   "cell_type": "code",
   "execution_count": 47,
   "metadata": {},
   "outputs": [],
   "source": [
    "# we transform the doc2vec object in a numpy array of vectors\n",
    "doc2vec_vec = []\n",
    "for i in range(len(tagged_docs)):\n",
    "    doc2vec_vec.append(doc2vec_final[i])"
   ]
  },
  {
   "cell_type": "code",
   "execution_count": 50,
   "metadata": {},
   "outputs": [
    {
     "data": {
      "text/plain": [
       "1576"
      ]
     },
     "execution_count": 50,
     "metadata": {},
     "output_type": "execute_result"
    }
   ],
   "source": [
    "# we can now concatenate the topic probability vectors and the doc2vec vectors for each document\n",
    "\n",
    "doc_topic_vec = np.array([np.concatenate([vec1, vec2]) for vec1, vec2 in zip(doc_topics, doc2vec_vec)])\n",
    "len(doc_topic_vec)"
   ]
  },
  {
   "cell_type": "code",
   "execution_count": 52,
   "metadata": {},
   "outputs": [
    {
     "name": "stdout",
     "output_type": "stream",
     "text": [
      "[[ 0.0075188   0.0075188   0.0075188  ... -0.00119576 -0.00475505\n",
      "   0.00225294]\n",
      " [ 0.0075188   0.0075188   0.0075188  ... -0.00372379 -0.00125304\n",
      "  -0.00277493]\n",
      " [ 0.0037594   0.15912601  0.0037594  ... -0.00434601  0.00148076\n",
      "  -0.00333795]\n",
      " ...\n",
      " [ 0.00219298  0.00219298  0.00219298 ... -0.02795893 -0.08207933\n",
      "   0.03142953]\n",
      " [ 0.0075188   0.0075188   0.0075188  ... -0.02316896 -0.08807217\n",
      "   0.03245522]\n",
      " [ 0.21198654  0.00877193  0.00877193 ... -0.02547694 -0.08931737\n",
      "   0.03672359]]\n"
     ]
    }
   ],
   "source": [
    "print(doc_topic_vec)"
   ]
  },
  {
   "cell_type": "code",
   "execution_count": 56,
   "metadata": {},
   "outputs": [],
   "source": [
    "X_test=doc_topic_vec"
   ]
  },
  {
   "cell_type": "code",
   "execution_count": 57,
   "metadata": {},
   "outputs": [],
   "source": [
    "y_test=test_set.general_label"
   ]
  },
  {
   "cell_type": "code",
   "execution_count": null,
   "metadata": {},
   "outputs": [],
   "source": []
  }
 ],
 "metadata": {
  "kernelspec": {
   "display_name": "base",
   "language": "python",
   "name": "python3"
  },
  "language_info": {
   "codemirror_mode": {
    "name": "ipython",
    "version": 3
   },
   "file_extension": ".py",
   "mimetype": "text/x-python",
   "name": "python",
   "nbconvert_exporter": "python",
   "pygments_lexer": "ipython3",
   "version": "3.11.5"
  }
 },
 "nbformat": 4,
 "nbformat_minor": 2
}
